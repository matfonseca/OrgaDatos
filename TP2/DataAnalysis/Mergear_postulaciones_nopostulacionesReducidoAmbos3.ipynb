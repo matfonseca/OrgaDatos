{
 "cells": [
  {
   "cell_type": "code",
   "execution_count": 1,
   "metadata": {},
   "outputs": [],
   "source": [
    "import numpy as np\n",
    "import pandas as pd\n",
    "import seaborn as sb\n",
    "import matplotlib.pyplot as plt\n",
    "%matplotlib inline"
   ]
  },
  {
   "cell_type": "code",
   "execution_count": 3,
   "metadata": {},
   "outputs": [
    {
     "name": "stdout",
     "output_type": "stream",
     "text": [
      "/home/olix/Documentos/datos/tp2master/OrgaDatos/TP2/Algorithms\n"
     ]
    }
   ],
   "source": [
    "cd Algorithms"
   ]
  },
  {
   "cell_type": "code",
   "execution_count": 4,
   "metadata": {},
   "outputs": [],
   "source": [
    "postulations = pd.read_csv('avisos_postulantes.csv')"
   ]
  },
  {
   "cell_type": "code",
   "execution_count": 5,
   "metadata": {},
   "outputs": [
    {
     "data": {
      "text/plain": [
       "Gran Buenos Aires    5789864\n",
       "Capital Federal       440106\n",
       "GBA Oeste               1560\n",
       "Name: nombre_zona, dtype: int64"
      ]
     },
     "execution_count": 5,
     "metadata": {},
     "output_type": "execute_result"
    }
   ],
   "source": [
    "postulations['nombre_zona'].value_counts()"
   ]
  },
  {
   "cell_type": "code",
   "execution_count": 5,
   "metadata": {},
   "outputs": [],
   "source": [
    "postulations.drop(columns=['nombre_area','titulo','idpais','fechapostulacion'],inplace = True)\n"
   ]
  },
  {
   "cell_type": "code",
   "execution_count": 6,
   "metadata": {},
   "outputs": [],
   "source": [
    "postulations['se_postulo'] = 1"
   ]
  },
  {
   "cell_type": "code",
   "execution_count": 7,
   "metadata": {},
   "outputs": [],
   "source": [
    "postulations.drop(columns = ['nombre'],inplace = True)"
   ]
  },
  {
   "cell_type": "code",
   "execution_count": 8,
   "metadata": {},
   "outputs": [
    {
     "data": {
      "text/html": [
       "<div>\n",
       "<style scoped>\n",
       "    .dataframe tbody tr th:only-of-type {\n",
       "        vertical-align: middle;\n",
       "    }\n",
       "\n",
       "    .dataframe tbody tr th {\n",
       "        vertical-align: top;\n",
       "    }\n",
       "\n",
       "    .dataframe thead th {\n",
       "        text-align: right;\n",
       "    }\n",
       "</style>\n",
       "<table border=\"1\" class=\"dataframe\">\n",
       "  <thead>\n",
       "    <tr style=\"text-align: right;\">\n",
       "      <th></th>\n",
       "      <th>idpostulante</th>\n",
       "      <th>estado</th>\n",
       "      <th>nombre_sort</th>\n",
       "      <th>fechanacimiento</th>\n",
       "      <th>sexo</th>\n",
       "      <th>idaviso</th>\n",
       "      <th>nombre_zona</th>\n",
       "      <th>tipo_de_trabajo</th>\n",
       "      <th>nivel_laboral</th>\n",
       "      <th>se_postulo</th>\n",
       "    </tr>\n",
       "  </thead>\n",
       "  <tbody>\n",
       "    <tr>\n",
       "      <th>0</th>\n",
       "      <td>4rP6q15</td>\n",
       "      <td>En Curso</td>\n",
       "      <td>6.0</td>\n",
       "      <td>NaN</td>\n",
       "      <td>NO_DECLARA</td>\n",
       "      <td>1112145679</td>\n",
       "      <td>Gran Buenos Aires</td>\n",
       "      <td>Full-time</td>\n",
       "      <td>Senior / Semi-Senior</td>\n",
       "      <td>1</td>\n",
       "    </tr>\n",
       "    <tr>\n",
       "      <th>1</th>\n",
       "      <td>4rP6q15</td>\n",
       "      <td>En Curso</td>\n",
       "      <td>6.0</td>\n",
       "      <td>NaN</td>\n",
       "      <td>NO_DECLARA</td>\n",
       "      <td>1112145679</td>\n",
       "      <td>Gran Buenos Aires</td>\n",
       "      <td>Full-time</td>\n",
       "      <td>Senior / Semi-Senior</td>\n",
       "      <td>1</td>\n",
       "    </tr>\n",
       "    <tr>\n",
       "      <th>2</th>\n",
       "      <td>RzMvGDo</td>\n",
       "      <td>Graduado</td>\n",
       "      <td>6.0</td>\n",
       "      <td>1986-08-21</td>\n",
       "      <td>MASC</td>\n",
       "      <td>1112145679</td>\n",
       "      <td>Gran Buenos Aires</td>\n",
       "      <td>Full-time</td>\n",
       "      <td>Senior / Semi-Senior</td>\n",
       "      <td>1</td>\n",
       "    </tr>\n",
       "    <tr>\n",
       "      <th>3</th>\n",
       "      <td>RzMvGDo</td>\n",
       "      <td>Graduado</td>\n",
       "      <td>6.0</td>\n",
       "      <td>1986-08-21</td>\n",
       "      <td>MASC</td>\n",
       "      <td>1112145679</td>\n",
       "      <td>Gran Buenos Aires</td>\n",
       "      <td>Full-time</td>\n",
       "      <td>Senior / Semi-Senior</td>\n",
       "      <td>1</td>\n",
       "    </tr>\n",
       "    <tr>\n",
       "      <th>4</th>\n",
       "      <td>owav2La</td>\n",
       "      <td>En Curso</td>\n",
       "      <td>6.0</td>\n",
       "      <td>1998-03-14</td>\n",
       "      <td>FEM</td>\n",
       "      <td>1112145679</td>\n",
       "      <td>Gran Buenos Aires</td>\n",
       "      <td>Full-time</td>\n",
       "      <td>Senior / Semi-Senior</td>\n",
       "      <td>1</td>\n",
       "    </tr>\n",
       "  </tbody>\n",
       "</table>\n",
       "</div>"
      ],
      "text/plain": [
       "  idpostulante    estado  nombre_sort fechanacimiento        sexo     idaviso  \\\n",
       "0      4rP6q15  En Curso          6.0             NaN  NO_DECLARA  1112145679   \n",
       "1      4rP6q15  En Curso          6.0             NaN  NO_DECLARA  1112145679   \n",
       "2      RzMvGDo  Graduado          6.0      1986-08-21        MASC  1112145679   \n",
       "3      RzMvGDo  Graduado          6.0      1986-08-21        MASC  1112145679   \n",
       "4      owav2La  En Curso          6.0      1998-03-14         FEM  1112145679   \n",
       "\n",
       "         nombre_zona tipo_de_trabajo         nivel_laboral  se_postulo  \n",
       "0  Gran Buenos Aires       Full-time  Senior / Semi-Senior           1  \n",
       "1  Gran Buenos Aires       Full-time  Senior / Semi-Senior           1  \n",
       "2  Gran Buenos Aires       Full-time  Senior / Semi-Senior           1  \n",
       "3  Gran Buenos Aires       Full-time  Senior / Semi-Senior           1  \n",
       "4  Gran Buenos Aires       Full-time  Senior / Semi-Senior           1  "
      ]
     },
     "execution_count": 8,
     "metadata": {},
     "output_type": "execute_result"
    }
   ],
   "source": [
    "postulations.head()"
   ]
  },
  {
   "cell_type": "code",
   "execution_count": 10,
   "metadata": {},
   "outputs": [],
   "source": [
    "postulations = postulations.sample(3000000)"
   ]
  },
  {
   "cell_type": "code",
   "execution_count": 15,
   "metadata": {},
   "outputs": [],
   "source": [
    "postulations = postulations.reset_index()"
   ]
  },
  {
   "cell_type": "code",
   "execution_count": 17,
   "metadata": {},
   "outputs": [],
   "source": [
    "notpostulations = pd.read_csv('avisos_no_postulantesReducido3M.csv')"
   ]
  },
  {
   "cell_type": "code",
   "execution_count": 12,
   "metadata": {},
   "outputs": [
    {
     "data": {
      "text/html": [
       "<div>\n",
       "<style scoped>\n",
       "    .dataframe tbody tr th:only-of-type {\n",
       "        vertical-align: middle;\n",
       "    }\n",
       "\n",
       "    .dataframe tbody tr th {\n",
       "        vertical-align: top;\n",
       "    }\n",
       "\n",
       "    .dataframe thead th {\n",
       "        text-align: right;\n",
       "    }\n",
       "</style>\n",
       "<table border=\"1\" class=\"dataframe\">\n",
       "  <thead>\n",
       "    <tr style=\"text-align: right;\">\n",
       "      <th></th>\n",
       "      <th>idaviso</th>\n",
       "      <th>idpostulante</th>\n",
       "      <th>estado</th>\n",
       "      <th>nombre_sort</th>\n",
       "      <th>fechanacimiento</th>\n",
       "      <th>sexo</th>\n",
       "      <th>nombre_zona</th>\n",
       "      <th>tipo_de_trabajo</th>\n",
       "      <th>nivel_laboral</th>\n",
       "      <th>se_postulo</th>\n",
       "    </tr>\n",
       "  </thead>\n",
       "  <tbody>\n",
       "    <tr>\n",
       "      <th>0</th>\n",
       "      <td>1112292866</td>\n",
       "      <td>NQWeYM</td>\n",
       "      <td>Graduado</td>\n",
       "      <td>0.0</td>\n",
       "      <td>1976-11-07</td>\n",
       "      <td>FEM</td>\n",
       "      <td>Gran Buenos Aires</td>\n",
       "      <td>Full-time</td>\n",
       "      <td>Senior / Semi-Senior</td>\n",
       "      <td>0</td>\n",
       "    </tr>\n",
       "    <tr>\n",
       "      <th>1</th>\n",
       "      <td>1112292866</td>\n",
       "      <td>wVwvP2L</td>\n",
       "      <td>Graduado</td>\n",
       "      <td>2.0</td>\n",
       "      <td>1987-01-26</td>\n",
       "      <td>MASC</td>\n",
       "      <td>Gran Buenos Aires</td>\n",
       "      <td>Full-time</td>\n",
       "      <td>Senior / Semi-Senior</td>\n",
       "      <td>0</td>\n",
       "    </tr>\n",
       "    <tr>\n",
       "      <th>2</th>\n",
       "      <td>1112292866</td>\n",
       "      <td>bOV4ooV</td>\n",
       "      <td>Graduado</td>\n",
       "      <td>2.0</td>\n",
       "      <td>1996-05-30</td>\n",
       "      <td>FEM</td>\n",
       "      <td>Gran Buenos Aires</td>\n",
       "      <td>Full-time</td>\n",
       "      <td>Senior / Semi-Senior</td>\n",
       "      <td>0</td>\n",
       "    </tr>\n",
       "    <tr>\n",
       "      <th>3</th>\n",
       "      <td>1112292866</td>\n",
       "      <td>3Nz1mOw</td>\n",
       "      <td>Graduado</td>\n",
       "      <td>1.0</td>\n",
       "      <td>1982-12-06</td>\n",
       "      <td>MASC</td>\n",
       "      <td>Gran Buenos Aires</td>\n",
       "      <td>Full-time</td>\n",
       "      <td>Senior / Semi-Senior</td>\n",
       "      <td>0</td>\n",
       "    </tr>\n",
       "    <tr>\n",
       "      <th>4</th>\n",
       "      <td>1112292866</td>\n",
       "      <td>NBVLLM</td>\n",
       "      <td>Graduado</td>\n",
       "      <td>3.0</td>\n",
       "      <td>1987-07-12</td>\n",
       "      <td>FEM</td>\n",
       "      <td>Gran Buenos Aires</td>\n",
       "      <td>Full-time</td>\n",
       "      <td>Senior / Semi-Senior</td>\n",
       "      <td>0</td>\n",
       "    </tr>\n",
       "  </tbody>\n",
       "</table>\n",
       "</div>"
      ],
      "text/plain": [
       "      idaviso idpostulante    estado  nombre_sort fechanacimiento  sexo  \\\n",
       "0  1112292866       NQWeYM  Graduado          0.0      1976-11-07   FEM   \n",
       "1  1112292866      wVwvP2L  Graduado          2.0      1987-01-26  MASC   \n",
       "2  1112292866      bOV4ooV  Graduado          2.0      1996-05-30   FEM   \n",
       "3  1112292866      3Nz1mOw  Graduado          1.0      1982-12-06  MASC   \n",
       "4  1112292866       NBVLLM  Graduado          3.0      1987-07-12   FEM   \n",
       "\n",
       "         nombre_zona tipo_de_trabajo         nivel_laboral  se_postulo  \n",
       "0  Gran Buenos Aires       Full-time  Senior / Semi-Senior           0  \n",
       "1  Gran Buenos Aires       Full-time  Senior / Semi-Senior           0  \n",
       "2  Gran Buenos Aires       Full-time  Senior / Semi-Senior           0  \n",
       "3  Gran Buenos Aires       Full-time  Senior / Semi-Senior           0  \n",
       "4  Gran Buenos Aires       Full-time  Senior / Semi-Senior           0  "
      ]
     },
     "execution_count": 12,
     "metadata": {},
     "output_type": "execute_result"
    }
   ],
   "source": [
    "notpostulations.head()"
   ]
  },
  {
   "cell_type": "code",
   "execution_count": 18,
   "metadata": {},
   "outputs": [],
   "source": [
    "#Concateno las postulaciones con las NO postulaciones\n",
    "\n",
    "frames = [postulations,notpostulations]\n",
    "total = pd.concat(frames, ignore_index = True)"
   ]
  },
  {
   "cell_type": "code",
   "execution_count": 19,
   "metadata": {},
   "outputs": [],
   "source": [
    "total.drop_duplicates(subset=['idpostulante','idaviso'], keep = 'first',inplace = True)\n",
    "total.reset_index(inplace = True,drop = True)"
   ]
  },
  {
   "cell_type": "code",
   "execution_count": 23,
   "metadata": {},
   "outputs": [],
   "source": [
    "total.drop(['index'],axis =1,inplace = True)"
   ]
  },
  {
   "cell_type": "code",
   "execution_count": 24,
   "metadata": {},
   "outputs": [
    {
     "data": {
      "text/plain": [
       "estado             5819667\n",
       "fechanacimiento    5842262\n",
       "idaviso            5952937\n",
       "idpostulante       5952937\n",
       "nivel_laboral      5952937\n",
       "nombre_sort        5819667\n",
       "nombre_zona        5952937\n",
       "se_postulo         5952937\n",
       "sexo               5952937\n",
       "tipo_de_trabajo    5952937\n",
       "dtype: int64"
      ]
     },
     "execution_count": 24,
     "metadata": {},
     "output_type": "execute_result"
    }
   ],
   "source": [
    "total.count()"
   ]
  },
  {
   "cell_type": "code",
   "execution_count": 25,
   "metadata": {},
   "outputs": [],
   "source": [
    "total.to_csv(\"postulaciones_nopostulacionesReducidoAmbos3M.csv\", index = False)"
   ]
  },
  {
   "cell_type": "code",
   "execution_count": null,
   "metadata": {},
   "outputs": [],
   "source": []
  }
 ],
 "metadata": {
  "kernelspec": {
   "display_name": "Python 3",
   "language": "python",
   "name": "python3"
  },
  "language_info": {
   "codemirror_mode": {
    "name": "ipython",
    "version": 3
   },
   "file_extension": ".py",
   "mimetype": "text/x-python",
   "name": "python",
   "nbconvert_exporter": "python",
   "pygments_lexer": "ipython3",
   "version": "3.5.2"
  }
 },
 "nbformat": 4,
 "nbformat_minor": 2
}
