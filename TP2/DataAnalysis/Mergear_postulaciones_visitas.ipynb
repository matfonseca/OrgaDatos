{
 "cells": [
  {
   "cell_type": "code",
   "execution_count": 1,
   "metadata": {},
   "outputs": [],
   "source": [
    "import pandas as pd\n",
    "import numpy as np\n",
    "import matplotlib.pyplot as plt\n",
    "\n",
    "%matplotlib inline"
   ]
  },
  {
   "cell_type": "code",
   "execution_count": 15,
   "metadata": {},
   "outputs": [],
   "source": [
    "views1 = pd.read_csv('../Data/datos_navent_fiuba/fiuba_3_vistas.csv')"
   ]
  },
  {
   "cell_type": "code",
   "execution_count": 16,
   "metadata": {},
   "outputs": [],
   "source": [
    "views2 = pd.read_csv('../Data/Hasta15Abril/fiuba_3_vistas.csv')"
   ]
  },
  {
   "cell_type": "code",
   "execution_count": 17,
   "metadata": {},
   "outputs": [],
   "source": [
    "#Concateno los dos de visitas\n",
    "frames_views = [views1,views2]\n",
    "views = pd.concat(frames_views, ignore_index = True)\n",
    "#data_postulant_education.drop_duplicates(inplace = True, keep = 'first',subset = 'idpostulante')\n",
    "views.reset_index(drop=True, inplace = True)"
   ]
  },
  {
   "cell_type": "code",
   "execution_count": 19,
   "metadata": {},
   "outputs": [],
   "source": [
    "views['idaviso'] = views['idAviso']\n",
    "views.drop(columns = ['timestamp','idAviso'],inplace = True)\n",
    "views['cantVistas'] = 1\n",
    "views = views.groupby(['idaviso','idpostulante'],as_index = False)['cantVistas'].sum()"
   ]
  },
  {
   "cell_type": "code",
   "execution_count": 12,
   "metadata": {},
   "outputs": [
    {
     "data": {
      "text/html": [
       "<div>\n",
       "<style scoped>\n",
       "    .dataframe tbody tr th:only-of-type {\n",
       "        vertical-align: middle;\n",
       "    }\n",
       "\n",
       "    .dataframe tbody tr th {\n",
       "        vertical-align: top;\n",
       "    }\n",
       "\n",
       "    .dataframe thead th {\n",
       "        text-align: right;\n",
       "    }\n",
       "</style>\n",
       "<table border=\"1\" class=\"dataframe\">\n",
       "  <thead>\n",
       "    <tr style=\"text-align: right;\">\n",
       "      <th></th>\n",
       "      <th>idaviso</th>\n",
       "      <th>idpostulante</th>\n",
       "      <th>cantVistas</th>\n",
       "    </tr>\n",
       "  </thead>\n",
       "  <tbody>\n",
       "    <tr>\n",
       "      <th>1220981</th>\n",
       "      <td>1112375370</td>\n",
       "      <td>NQW6AV</td>\n",
       "      <td>6</td>\n",
       "    </tr>\n",
       "    <tr>\n",
       "      <th>1109008</th>\n",
       "      <td>1112366749</td>\n",
       "      <td>969609P</td>\n",
       "      <td>2</td>\n",
       "    </tr>\n",
       "    <tr>\n",
       "      <th>2793408</th>\n",
       "      <td>1112440798</td>\n",
       "      <td>pze0GLb</td>\n",
       "      <td>6</td>\n",
       "    </tr>\n",
       "    <tr>\n",
       "      <th>2917017</th>\n",
       "      <td>1112444056</td>\n",
       "      <td>ZpLBZE</td>\n",
       "      <td>1</td>\n",
       "    </tr>\n",
       "    <tr>\n",
       "      <th>207453</th>\n",
       "      <td>1112033906</td>\n",
       "      <td>86Xo9O</td>\n",
       "      <td>6</td>\n",
       "    </tr>\n",
       "  </tbody>\n",
       "</table>\n",
       "</div>"
      ],
      "text/plain": [
       "            idaviso idpostulante  cantVistas\n",
       "1220981  1112375370       NQW6AV           6\n",
       "1109008  1112366749      969609P           2\n",
       "2793408  1112440798      pze0GLb           6\n",
       "2917017  1112444056       ZpLBZE           1\n",
       "207453   1112033906       86Xo9O           6"
      ]
     },
     "execution_count": 12,
     "metadata": {},
     "output_type": "execute_result"
    }
   ],
   "source": [
    "views.sample(5)"
   ]
  },
  {
   "cell_type": "code",
   "execution_count": 33,
   "metadata": {},
   "outputs": [],
   "source": [
    "views.to_csv('vistas.csv', index = False)"
   ]
  },
  {
   "cell_type": "code",
   "execution_count": 13,
   "metadata": {},
   "outputs": [],
   "source": [
    "ad_views = views.groupby('idaviso',as_index = False)['cantVistas'].sum()"
   ]
  },
  {
   "cell_type": "code",
   "execution_count": 15,
   "metadata": {},
   "outputs": [],
   "source": [
    "postulants_ads = pd.read_csv('DataAnalysis/avisos_postulantes.csv')"
   ]
  },
  {
   "cell_type": "code",
   "execution_count": 27,
   "metadata": {},
   "outputs": [],
   "source": [
    "merge = views.merge(postulants_ads, how = 'right', on = ['idpostulante','idaviso'])"
   ]
  },
  {
   "cell_type": "code",
   "execution_count": 30,
   "metadata": {},
   "outputs": [],
   "source": [
    "#Para postulaste tiene que ver el anuncio al menos 1 vez\n",
    "merge['cantVistas']=merge['cantVistas'].fillna(1)"
   ]
  },
  {
   "cell_type": "code",
   "execution_count": 31,
   "metadata": {},
   "outputs": [
    {
     "data": {
      "text/plain": [
       "idaviso             6231530\n",
       "idpostulante        6231530\n",
       "cantVistas          6231530\n",
       "nombre              6035167\n",
       "estado              6035167\n",
       "nombre_sort         6035167\n",
       "fechanacimiento     6133161\n",
       "sexo                6231530\n",
       "fechapostulacion    6231530\n",
       "idpais              6231530\n",
       "titulo              6231530\n",
       "nombre_zona         6231530\n",
       "tipo_de_trabajo     6231530\n",
       "nivel_laboral       6231530\n",
       "nombre_area         6231530\n",
       "dtype: int64"
      ]
     },
     "execution_count": 31,
     "metadata": {},
     "output_type": "execute_result"
    }
   ],
   "source": [
    "merge.count()"
   ]
  },
  {
   "cell_type": "code",
   "execution_count": 32,
   "metadata": {},
   "outputs": [],
   "source": [
    "merge.to_csv('avisos_postulantes_vistas.csv',index=False)"
   ]
  },
  {
   "cell_type": "code",
   "execution_count": null,
   "metadata": {},
   "outputs": [],
   "source": []
  }
 ],
 "metadata": {
  "kernelspec": {
   "display_name": "Python 3",
   "language": "python",
   "name": "python3"
  },
  "language_info": {
   "codemirror_mode": {
    "name": "ipython",
    "version": 3
   },
   "file_extension": ".py",
   "mimetype": "text/x-python",
   "name": "python",
   "nbconvert_exporter": "python",
   "pygments_lexer": "ipython3",
   "version": "3.5.2"
  }
 },
 "nbformat": 4,
 "nbformat_minor": 2
}
