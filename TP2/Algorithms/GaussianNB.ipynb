{
 "cells": [
  {
   "cell_type": "code",
   "execution_count": 1,
   "metadata": {},
   "outputs": [],
   "source": [
    "import numpy as np\n",
    "import pandas as pd\n",
    "import seaborn as sb\n",
    "import matplotlib.pyplot as plt\n",
    "%matplotlib inline\n",
    "from sklearn.naive_bayes import GaussianNB"
   ]
  },
  {
   "cell_type": "code",
   "execution_count": 2,
   "metadata": {},
   "outputs": [],
   "source": [
    "total_train = pd.read_csv('../MapDataAnalysis/MappedData6MmoreFeatures.csv')"
   ]
  },
  {
   "cell_type": "code",
   "execution_count": 3,
   "metadata": {},
   "outputs": [
    {
     "data": {
      "text/html": [
       "<div>\n",
       "<style scoped>\n",
       "    .dataframe tbody tr th:only-of-type {\n",
       "        vertical-align: middle;\n",
       "    }\n",
       "\n",
       "    .dataframe tbody tr th {\n",
       "        vertical-align: top;\n",
       "    }\n",
       "\n",
       "    .dataframe thead th {\n",
       "        text-align: right;\n",
       "    }\n",
       "</style>\n",
       "<table border=\"1\" class=\"dataframe\">\n",
       "  <thead>\n",
       "    <tr style=\"text-align: right;\">\n",
       "      <th></th>\n",
       "      <th>Unnamed: 0</th>\n",
       "      <th>cantPostulaciones</th>\n",
       "      <th>cantVistas</th>\n",
       "      <th>idaviso</th>\n",
       "      <th>idpostulante</th>\n",
       "      <th>nombre_area</th>\n",
       "      <th>nombre_sort</th>\n",
       "      <th>postulantes</th>\n",
       "      <th>se_postulo</th>\n",
       "      <th>titulo</th>\n",
       "      <th>edadPostulante</th>\n",
       "      <th>estadoEncoded</th>\n",
       "      <th>tipoDeTrabajoEncoded</th>\n",
       "      <th>nivelLaboralEncoded</th>\n",
       "      <th>sexoEncoded</th>\n",
       "      <th>zonaEncoded</th>\n",
       "    </tr>\n",
       "  </thead>\n",
       "  <tbody>\n",
       "    <tr>\n",
       "      <th>0</th>\n",
       "      <td>0</td>\n",
       "      <td>3.0</td>\n",
       "      <td>1.0</td>\n",
       "      <td>1112336099</td>\n",
       "      <td>bOVRXkd</td>\n",
       "      <td>Recursos Humanos</td>\n",
       "      <td>1.0</td>\n",
       "      <td>570.0</td>\n",
       "      <td>1</td>\n",
       "      <td>Analista de Recursos Humanos - Corrientes</td>\n",
       "      <td>28.0</td>\n",
       "      <td>1</td>\n",
       "      <td>0</td>\n",
       "      <td>1</td>\n",
       "      <td>0</td>\n",
       "      <td>0</td>\n",
       "    </tr>\n",
       "    <tr>\n",
       "      <th>1</th>\n",
       "      <td>1</td>\n",
       "      <td>111.0</td>\n",
       "      <td>1.0</td>\n",
       "      <td>1112315601</td>\n",
       "      <td>8MPrk9x</td>\n",
       "      <td>Ventas</td>\n",
       "      <td>1.0</td>\n",
       "      <td>1659.0</td>\n",
       "      <td>1</td>\n",
       "      <td>Musimundo Jose C Paz incormpora Vendedores.</td>\n",
       "      <td>28.0</td>\n",
       "      <td>1</td>\n",
       "      <td>0</td>\n",
       "      <td>0</td>\n",
       "      <td>1</td>\n",
       "      <td>0</td>\n",
       "    </tr>\n",
       "    <tr>\n",
       "      <th>2</th>\n",
       "      <td>2</td>\n",
       "      <td>59.0</td>\n",
       "      <td>1.0</td>\n",
       "      <td>1112407637</td>\n",
       "      <td>ZDlWBER</td>\n",
       "      <td>Comercial</td>\n",
       "      <td>3.0</td>\n",
       "      <td>1876.0</td>\n",
       "      <td>1</td>\n",
       "      <td>Oficiales Fuerza de Venta - Para Importante Ba...</td>\n",
       "      <td>24.0</td>\n",
       "      <td>0</td>\n",
       "      <td>0</td>\n",
       "      <td>0</td>\n",
       "      <td>1</td>\n",
       "      <td>0</td>\n",
       "    </tr>\n",
       "    <tr>\n",
       "      <th>3</th>\n",
       "      <td>3</td>\n",
       "      <td>242.0</td>\n",
       "      <td>1.0</td>\n",
       "      <td>1112369130</td>\n",
       "      <td>96z3K3a</td>\n",
       "      <td>Ingeniería Oficina Técnica / Proyecto</td>\n",
       "      <td>3.0</td>\n",
       "      <td>126.0</td>\n",
       "      <td>1</td>\n",
       "      <td>Ingeniero de Diseño de Máquinas</td>\n",
       "      <td>25.0</td>\n",
       "      <td>1</td>\n",
       "      <td>0</td>\n",
       "      <td>0</td>\n",
       "      <td>1</td>\n",
       "      <td>0</td>\n",
       "    </tr>\n",
       "    <tr>\n",
       "      <th>4</th>\n",
       "      <td>4</td>\n",
       "      <td>17.0</td>\n",
       "      <td>1.0</td>\n",
       "      <td>1112414416</td>\n",
       "      <td>8MZ2dkW</td>\n",
       "      <td>Comercial</td>\n",
       "      <td>3.0</td>\n",
       "      <td>147.0</td>\n",
       "      <td>1</td>\n",
       "      <td>Coordinador Comercial para  importante sanatorio</td>\n",
       "      <td>33.0</td>\n",
       "      <td>1</td>\n",
       "      <td>0</td>\n",
       "      <td>3</td>\n",
       "      <td>1</td>\n",
       "      <td>0</td>\n",
       "    </tr>\n",
       "  </tbody>\n",
       "</table>\n",
       "</div>"
      ],
      "text/plain": [
       "   Unnamed: 0  cantPostulaciones  cantVistas     idaviso idpostulante  \\\n",
       "0           0                3.0         1.0  1112336099      bOVRXkd   \n",
       "1           1              111.0         1.0  1112315601      8MPrk9x   \n",
       "2           2               59.0         1.0  1112407637      ZDlWBER   \n",
       "3           3              242.0         1.0  1112369130      96z3K3a   \n",
       "4           4               17.0         1.0  1112414416      8MZ2dkW   \n",
       "\n",
       "                             nombre_area  nombre_sort  postulantes  \\\n",
       "0                       Recursos Humanos          1.0        570.0   \n",
       "1                                 Ventas          1.0       1659.0   \n",
       "2                              Comercial          3.0       1876.0   \n",
       "3  Ingeniería Oficina Técnica / Proyecto          3.0        126.0   \n",
       "4                              Comercial          3.0        147.0   \n",
       "\n",
       "   se_postulo                                             titulo  \\\n",
       "0           1          Analista de Recursos Humanos - Corrientes   \n",
       "1           1        Musimundo Jose C Paz incormpora Vendedores.   \n",
       "2           1  Oficiales Fuerza de Venta - Para Importante Ba...   \n",
       "3           1                    Ingeniero de Diseño de Máquinas   \n",
       "4           1   Coordinador Comercial para  importante sanatorio   \n",
       "\n",
       "   edadPostulante  estadoEncoded  tipoDeTrabajoEncoded  nivelLaboralEncoded  \\\n",
       "0            28.0              1                     0                    1   \n",
       "1            28.0              1                     0                    0   \n",
       "2            24.0              0                     0                    0   \n",
       "3            25.0              1                     0                    0   \n",
       "4            33.0              1                     0                    3   \n",
       "\n",
       "   sexoEncoded  zonaEncoded  \n",
       "0            0            0  \n",
       "1            1            0  \n",
       "2            1            0  \n",
       "3            1            0  \n",
       "4            1            0  "
      ]
     },
     "execution_count": 3,
     "metadata": {},
     "output_type": "execute_result"
    }
   ],
   "source": [
    "total_train.head()"
   ]
  },
  {
   "cell_type": "code",
   "execution_count": 4,
   "metadata": {},
   "outputs": [],
   "source": [
    "total_train = total_train.drop(columns = ['idaviso','idpostulante','Unnamed: 0', 'titulo','estadoEncoded','sexoEncoded','zonaEncoded','nombre_area','nivelLaboralEncoded','tipoDeTrabajoEncoded','nombre_sort'], axis=1)"
   ]
  },
  {
   "cell_type": "code",
   "execution_count": 5,
   "metadata": {},
   "outputs": [
    {
     "data": {
      "text/html": [
       "<div>\n",
       "<style scoped>\n",
       "    .dataframe tbody tr th:only-of-type {\n",
       "        vertical-align: middle;\n",
       "    }\n",
       "\n",
       "    .dataframe tbody tr th {\n",
       "        vertical-align: top;\n",
       "    }\n",
       "\n",
       "    .dataframe thead th {\n",
       "        text-align: right;\n",
       "    }\n",
       "</style>\n",
       "<table border=\"1\" class=\"dataframe\">\n",
       "  <thead>\n",
       "    <tr style=\"text-align: right;\">\n",
       "      <th></th>\n",
       "      <th>cantPostulaciones</th>\n",
       "      <th>cantVistas</th>\n",
       "      <th>postulantes</th>\n",
       "      <th>se_postulo</th>\n",
       "      <th>edadPostulante</th>\n",
       "    </tr>\n",
       "  </thead>\n",
       "  <tbody>\n",
       "    <tr>\n",
       "      <th>0</th>\n",
       "      <td>3.0</td>\n",
       "      <td>1.0</td>\n",
       "      <td>570.0</td>\n",
       "      <td>1</td>\n",
       "      <td>28.0</td>\n",
       "    </tr>\n",
       "    <tr>\n",
       "      <th>1</th>\n",
       "      <td>111.0</td>\n",
       "      <td>1.0</td>\n",
       "      <td>1659.0</td>\n",
       "      <td>1</td>\n",
       "      <td>28.0</td>\n",
       "    </tr>\n",
       "    <tr>\n",
       "      <th>2</th>\n",
       "      <td>59.0</td>\n",
       "      <td>1.0</td>\n",
       "      <td>1876.0</td>\n",
       "      <td>1</td>\n",
       "      <td>24.0</td>\n",
       "    </tr>\n",
       "    <tr>\n",
       "      <th>3</th>\n",
       "      <td>242.0</td>\n",
       "      <td>1.0</td>\n",
       "      <td>126.0</td>\n",
       "      <td>1</td>\n",
       "      <td>25.0</td>\n",
       "    </tr>\n",
       "    <tr>\n",
       "      <th>4</th>\n",
       "      <td>17.0</td>\n",
       "      <td>1.0</td>\n",
       "      <td>147.0</td>\n",
       "      <td>1</td>\n",
       "      <td>33.0</td>\n",
       "    </tr>\n",
       "  </tbody>\n",
       "</table>\n",
       "</div>"
      ],
      "text/plain": [
       "   cantPostulaciones  cantVistas  postulantes  se_postulo  edadPostulante\n",
       "0                3.0         1.0        570.0           1            28.0\n",
       "1              111.0         1.0       1659.0           1            28.0\n",
       "2               59.0         1.0       1876.0           1            24.0\n",
       "3              242.0         1.0        126.0           1            25.0\n",
       "4               17.0         1.0        147.0           1            33.0"
      ]
     },
     "execution_count": 5,
     "metadata": {},
     "output_type": "execute_result"
    }
   ],
   "source": [
    "total_train.head()"
   ]
  },
  {
   "cell_type": "code",
   "execution_count": 159,
   "metadata": {},
   "outputs": [
    {
     "data": {
      "text/html": [
       "<div>\n",
       "<style scoped>\n",
       "    .dataframe tbody tr th:only-of-type {\n",
       "        vertical-align: middle;\n",
       "    }\n",
       "\n",
       "    .dataframe tbody tr th {\n",
       "        vertical-align: top;\n",
       "    }\n",
       "\n",
       "    .dataframe thead th {\n",
       "        text-align: right;\n",
       "    }\n",
       "</style>\n",
       "<table border=\"1\" class=\"dataframe\">\n",
       "  <thead>\n",
       "    <tr style=\"text-align: right;\">\n",
       "      <th></th>\n",
       "      <th>nombre_sort</th>\n",
       "      <th>se_postulo</th>\n",
       "      <th>tipoDeTrabajoEncoded</th>\n",
       "      <th>edadEncoded</th>\n",
       "    </tr>\n",
       "  </thead>\n",
       "  <tbody>\n",
       "    <tr>\n",
       "      <th>2408290</th>\n",
       "      <td>1.0</td>\n",
       "      <td>0</td>\n",
       "      <td>0</td>\n",
       "      <td>1.0</td>\n",
       "    </tr>\n",
       "    <tr>\n",
       "      <th>1849720</th>\n",
       "      <td>3.0</td>\n",
       "      <td>1</td>\n",
       "      <td>1</td>\n",
       "      <td>1.0</td>\n",
       "    </tr>\n",
       "    <tr>\n",
       "      <th>3673705</th>\n",
       "      <td>2.0</td>\n",
       "      <td>0</td>\n",
       "      <td>0</td>\n",
       "      <td>1.0</td>\n",
       "    </tr>\n",
       "    <tr>\n",
       "      <th>3663411</th>\n",
       "      <td>3.0</td>\n",
       "      <td>0</td>\n",
       "      <td>0</td>\n",
       "      <td>1.0</td>\n",
       "    </tr>\n",
       "    <tr>\n",
       "      <th>2903528</th>\n",
       "      <td>3.0</td>\n",
       "      <td>0</td>\n",
       "      <td>0</td>\n",
       "      <td>3.0</td>\n",
       "    </tr>\n",
       "  </tbody>\n",
       "</table>\n",
       "</div>"
      ],
      "text/plain": [
       "         nombre_sort  se_postulo  tipoDeTrabajoEncoded  edadEncoded\n",
       "2408290          1.0           0                     0          1.0\n",
       "1849720          3.0           1                     1          1.0\n",
       "3673705          2.0           0                     0          1.0\n",
       "3663411          3.0           0                     0          1.0\n",
       "2903528          3.0           0                     0          3.0"
      ]
     },
     "execution_count": 159,
     "metadata": {},
     "output_type": "execute_result"
    }
   ],
   "source": [
    "from sklearn import preprocessing\n",
    "le = preprocessing.LabelEncoder()\n",
    "for column in total_train.columns:\n",
    "    if total_train[column].dtype == type(object):\n",
    "        total_train[column] = le.fit_transform(total_train[column].astype(str))\n",
    "\n",
    "total_train.sample(5)"
   ]
  },
  {
   "cell_type": "code",
   "execution_count": 6,
   "metadata": {},
   "outputs": [],
   "source": [
    "#Normalizamos los valores\n",
    "from sklearn.preprocessing import MinMaxScaler\n",
    "\n",
    "scaler = MinMaxScaler() \n",
    "scaled_values = scaler.fit_transform(total_train) \n",
    "total_train.loc[:,:] = scaled_values"
   ]
  },
  {
   "cell_type": "code",
   "execution_count": 7,
   "metadata": {},
   "outputs": [
    {
     "data": {
      "text/plain": [
       "cantPostulaciones    5957566\n",
       "cantVistas           5957566\n",
       "postulantes          5957566\n",
       "se_postulo           5957566\n",
       "edadPostulante       5957566\n",
       "dtype: int64"
      ]
     },
     "execution_count": 7,
     "metadata": {},
     "output_type": "execute_result"
    }
   ],
   "source": [
    "total_train.count()"
   ]
  },
  {
   "cell_type": "code",
   "execution_count": 8,
   "metadata": {},
   "outputs": [
    {
     "data": {
      "text/html": [
       "<div>\n",
       "<style scoped>\n",
       "    .dataframe tbody tr th:only-of-type {\n",
       "        vertical-align: middle;\n",
       "    }\n",
       "\n",
       "    .dataframe tbody tr th {\n",
       "        vertical-align: top;\n",
       "    }\n",
       "\n",
       "    .dataframe thead th {\n",
       "        text-align: right;\n",
       "    }\n",
       "</style>\n",
       "<table border=\"1\" class=\"dataframe\">\n",
       "  <thead>\n",
       "    <tr style=\"text-align: right;\">\n",
       "      <th></th>\n",
       "      <th>cantPostulaciones</th>\n",
       "      <th>cantVistas</th>\n",
       "      <th>postulantes</th>\n",
       "      <th>se_postulo</th>\n",
       "      <th>edadPostulante</th>\n",
       "    </tr>\n",
       "  </thead>\n",
       "  <tbody>\n",
       "    <tr>\n",
       "      <th>0</th>\n",
       "      <td>0.000568</td>\n",
       "      <td>0.000154</td>\n",
       "      <td>0.023302</td>\n",
       "      <td>1.0</td>\n",
       "      <td>0.077253</td>\n",
       "    </tr>\n",
       "    <tr>\n",
       "      <th>1</th>\n",
       "      <td>0.031259</td>\n",
       "      <td>0.000154</td>\n",
       "      <td>0.067898</td>\n",
       "      <td>1.0</td>\n",
       "      <td>0.077253</td>\n",
       "    </tr>\n",
       "    <tr>\n",
       "      <th>2</th>\n",
       "      <td>0.016482</td>\n",
       "      <td>0.000154</td>\n",
       "      <td>0.076784</td>\n",
       "      <td>1.0</td>\n",
       "      <td>0.060086</td>\n",
       "    </tr>\n",
       "    <tr>\n",
       "      <th>3</th>\n",
       "      <td>0.068485</td>\n",
       "      <td>0.000154</td>\n",
       "      <td>0.005119</td>\n",
       "      <td>1.0</td>\n",
       "      <td>0.064378</td>\n",
       "    </tr>\n",
       "    <tr>\n",
       "      <th>4</th>\n",
       "      <td>0.004547</td>\n",
       "      <td>0.000154</td>\n",
       "      <td>0.005979</td>\n",
       "      <td>1.0</td>\n",
       "      <td>0.098712</td>\n",
       "    </tr>\n",
       "  </tbody>\n",
       "</table>\n",
       "</div>"
      ],
      "text/plain": [
       "   cantPostulaciones  cantVistas  postulantes  se_postulo  edadPostulante\n",
       "0           0.000568    0.000154     0.023302         1.0        0.077253\n",
       "1           0.031259    0.000154     0.067898         1.0        0.077253\n",
       "2           0.016482    0.000154     0.076784         1.0        0.060086\n",
       "3           0.068485    0.000154     0.005119         1.0        0.064378\n",
       "4           0.004547    0.000154     0.005979         1.0        0.098712"
      ]
     },
     "execution_count": 8,
     "metadata": {},
     "output_type": "execute_result"
    }
   ],
   "source": [
    "total_train.head()"
   ]
  },
  {
   "cell_type": "code",
   "execution_count": 9,
   "metadata": {},
   "outputs": [],
   "source": [
    "from sklearn.model_selection import train_test_split\n",
    "\n",
    "X_train, X_test, y_train, y_test = train_test_split(total_train.drop(['se_postulo'], axis=1).values, total_train['se_postulo'], test_size=0.20, random_state=75)"
   ]
  },
  {
   "cell_type": "code",
   "execution_count": 10,
   "metadata": {},
   "outputs": [],
   "source": [
    "clf = GaussianNB()"
   ]
  },
  {
   "cell_type": "code",
   "execution_count": 11,
   "metadata": {},
   "outputs": [
    {
     "data": {
      "text/plain": [
       "GaussianNB(priors=None)"
      ]
     },
     "execution_count": 11,
     "metadata": {},
     "output_type": "execute_result"
    }
   ],
   "source": [
    "clf.fit(X_train, y_train) "
   ]
  },
  {
   "cell_type": "code",
   "execution_count": 94,
   "metadata": {},
   "outputs": [
    {
     "data": {
      "text/plain": [
       "['GaussianNBFinal.pkl']"
      ]
     },
     "execution_count": 94,
     "metadata": {},
     "output_type": "execute_result"
    }
   ],
   "source": [
    "#Para guardar el modelo en un archivo\n",
    "from sklearn.externals import joblib\n",
    "joblib.dump(clf, 'GaussianNBFinal.pkl') "
   ]
  },
  {
   "cell_type": "code",
   "execution_count": 2,
   "metadata": {},
   "outputs": [],
   "source": [
    "#Para cargar el modelo\n",
    "from sklearn.externals import joblib\n",
    "clf = joblib.load('GaussianNBFinal.pkl') "
   ]
  },
  {
   "cell_type": "code",
   "execution_count": 12,
   "metadata": {},
   "outputs": [
    {
     "data": {
      "text/plain": [
       "array([1., 1., 0., ..., 1., 0., 0.])"
      ]
     },
     "execution_count": 12,
     "metadata": {},
     "output_type": "execute_result"
    }
   ],
   "source": [
    "clf.predict(X_test)"
   ]
  },
  {
   "cell_type": "code",
   "execution_count": 13,
   "metadata": {},
   "outputs": [
    {
     "data": {
      "text/plain": [
       "0.9912858766241941"
      ]
     },
     "execution_count": 13,
     "metadata": {},
     "output_type": "execute_result"
    }
   ],
   "source": [
    "#Pruebo el score para ver si realiza overfitting\n",
    "clf.score(X_test,y_test)"
   ]
  },
  {
   "cell_type": "code",
   "execution_count": 76,
   "metadata": {},
   "outputs": [],
   "source": [
    "test = pd.read_csv('../MapDataAnalysis/MappedTestmoreFeatures.csv')"
   ]
  },
  {
   "cell_type": "code",
   "execution_count": 77,
   "metadata": {},
   "outputs": [
    {
     "data": {
      "text/html": [
       "<div>\n",
       "<style scoped>\n",
       "    .dataframe tbody tr th:only-of-type {\n",
       "        vertical-align: middle;\n",
       "    }\n",
       "\n",
       "    .dataframe tbody tr th {\n",
       "        vertical-align: top;\n",
       "    }\n",
       "\n",
       "    .dataframe thead th {\n",
       "        text-align: right;\n",
       "    }\n",
       "</style>\n",
       "<table border=\"1\" class=\"dataframe\">\n",
       "  <thead>\n",
       "    <tr style=\"text-align: right;\">\n",
       "      <th></th>\n",
       "      <th>idaviso</th>\n",
       "      <th>idpostulante</th>\n",
       "      <th>id</th>\n",
       "      <th>nombre_sort</th>\n",
       "      <th>titulo</th>\n",
       "      <th>nombre_area</th>\n",
       "      <th>postulantes</th>\n",
       "      <th>cantPostulaciones</th>\n",
       "      <th>cantVistas</th>\n",
       "      <th>edadPostulante</th>\n",
       "      <th>estadoEncoded</th>\n",
       "      <th>tipoDeTrabajoEncoded</th>\n",
       "      <th>nivelLaboralEncoded</th>\n",
       "      <th>sexoEncoded</th>\n",
       "      <th>zonaEncoded</th>\n",
       "    </tr>\n",
       "  </thead>\n",
       "  <tbody>\n",
       "    <tr>\n",
       "      <th>0</th>\n",
       "      <td>17903700</td>\n",
       "      <td>RzrDJlZ</td>\n",
       "      <td>595</td>\n",
       "      <td>3.0</td>\n",
       "      <td>Enfermeras</td>\n",
       "      <td>Medicina</td>\n",
       "      <td>5</td>\n",
       "      <td>13</td>\n",
       "      <td>2.0</td>\n",
       "      <td>35.0</td>\n",
       "      <td>1</td>\n",
       "      <td>0</td>\n",
       "      <td>0</td>\n",
       "      <td>1</td>\n",
       "      <td>0.0</td>\n",
       "    </tr>\n",
       "    <tr>\n",
       "      <th>1</th>\n",
       "      <td>17903700</td>\n",
       "      <td>Yj5q3xX</td>\n",
       "      <td>594</td>\n",
       "      <td>3.0</td>\n",
       "      <td>Enfermeras</td>\n",
       "      <td>Medicina</td>\n",
       "      <td>5</td>\n",
       "      <td>4</td>\n",
       "      <td>8.0</td>\n",
       "      <td>38.0</td>\n",
       "      <td>1</td>\n",
       "      <td>0</td>\n",
       "      <td>0</td>\n",
       "      <td>0</td>\n",
       "      <td>0.0</td>\n",
       "    </tr>\n",
       "    <tr>\n",
       "      <th>2</th>\n",
       "      <td>1000139175</td>\n",
       "      <td>LNKrDLr</td>\n",
       "      <td>609</td>\n",
       "      <td>3.0</td>\n",
       "      <td>Vendedores/as concesionaria Renault lider</td>\n",
       "      <td>Ventas</td>\n",
       "      <td>6</td>\n",
       "      <td>2</td>\n",
       "      <td>4.0</td>\n",
       "      <td>35.0</td>\n",
       "      <td>1</td>\n",
       "      <td>0</td>\n",
       "      <td>0</td>\n",
       "      <td>1</td>\n",
       "      <td>0.0</td>\n",
       "    </tr>\n",
       "    <tr>\n",
       "      <th>3</th>\n",
       "      <td>1000139175</td>\n",
       "      <td>exv4B8</td>\n",
       "      <td>610</td>\n",
       "      <td>1.0</td>\n",
       "      <td>Vendedores/as concesionaria Renault lider</td>\n",
       "      <td>Ventas</td>\n",
       "      <td>6</td>\n",
       "      <td>17</td>\n",
       "      <td>4.0</td>\n",
       "      <td>32.0</td>\n",
       "      <td>1</td>\n",
       "      <td>0</td>\n",
       "      <td>0</td>\n",
       "      <td>0</td>\n",
       "      <td>0.0</td>\n",
       "    </tr>\n",
       "    <tr>\n",
       "      <th>4</th>\n",
       "      <td>1000468151</td>\n",
       "      <td>jkMko3r</td>\n",
       "      <td>637</td>\n",
       "      <td>1.0</td>\n",
       "      <td>Vendedor Viajante Resistencia</td>\n",
       "      <td>Ventas</td>\n",
       "      <td>4</td>\n",
       "      <td>2</td>\n",
       "      <td>2.0</td>\n",
       "      <td>46.0</td>\n",
       "      <td>1</td>\n",
       "      <td>0</td>\n",
       "      <td>0</td>\n",
       "      <td>0</td>\n",
       "      <td>0.0</td>\n",
       "    </tr>\n",
       "  </tbody>\n",
       "</table>\n",
       "</div>"
      ],
      "text/plain": [
       "      idaviso idpostulante   id  nombre_sort  \\\n",
       "0    17903700      RzrDJlZ  595          3.0   \n",
       "1    17903700      Yj5q3xX  594          3.0   \n",
       "2  1000139175      LNKrDLr  609          3.0   \n",
       "3  1000139175       exv4B8  610          1.0   \n",
       "4  1000468151      jkMko3r  637          1.0   \n",
       "\n",
       "                                      titulo nombre_area  postulantes  \\\n",
       "0                                 Enfermeras    Medicina            5   \n",
       "1                                 Enfermeras    Medicina            5   \n",
       "2  Vendedores/as concesionaria Renault lider      Ventas            6   \n",
       "3  Vendedores/as concesionaria Renault lider      Ventas            6   \n",
       "4             Vendedor Viajante Resistencia       Ventas            4   \n",
       "\n",
       "   cantPostulaciones  cantVistas  edadPostulante  estadoEncoded  \\\n",
       "0                 13         2.0            35.0              1   \n",
       "1                  4         8.0            38.0              1   \n",
       "2                  2         4.0            35.0              1   \n",
       "3                 17         4.0            32.0              1   \n",
       "4                  2         2.0            46.0              1   \n",
       "\n",
       "   tipoDeTrabajoEncoded  nivelLaboralEncoded  sexoEncoded  zonaEncoded  \n",
       "0                     0                    0            1          0.0  \n",
       "1                     0                    0            0          0.0  \n",
       "2                     0                    0            1          0.0  \n",
       "3                     0                    0            0          0.0  \n",
       "4                     0                    0            0          0.0  "
      ]
     },
     "execution_count": 77,
     "metadata": {},
     "output_type": "execute_result"
    }
   ],
   "source": [
    "test.head()"
   ]
  },
  {
   "cell_type": "code",
   "execution_count": 171,
   "metadata": {},
   "outputs": [],
   "source": [
    "le = preprocessing.LabelEncoder()\n",
    "for column in test.columns:\n",
    "    if test[column].dtype == type(object):\n",
    "        test[column] = le.fit_transform(test[column].astype(str))"
   ]
  },
  {
   "cell_type": "code",
   "execution_count": 78,
   "metadata": {},
   "outputs": [],
   "source": [
    "test = test.drop(['titulo','estadoEncoded','sexoEncoded','zonaEncoded','nombre_area','nivelLaboralEncoded','tipoDeTrabajoEncoded','nombre_sort'],axis=1)"
   ]
  },
  {
   "cell_type": "code",
   "execution_count": 79,
   "metadata": {},
   "outputs": [],
   "source": [
    "#Normalizamos los valores\n",
    "from sklearn.preprocessing import MinMaxScaler\n",
    "\n",
    "scaler = MinMaxScaler() \n",
    "scaled_values = scaler.fit_transform(test.drop(columns = ['id','idaviso','idpostulante'])) \n",
    "test.loc[:,3:] = scaled_values"
   ]
  },
  {
   "cell_type": "code",
   "execution_count": 80,
   "metadata": {},
   "outputs": [
    {
     "data": {
      "text/html": [
       "<div>\n",
       "<style scoped>\n",
       "    .dataframe tbody tr th:only-of-type {\n",
       "        vertical-align: middle;\n",
       "    }\n",
       "\n",
       "    .dataframe tbody tr th {\n",
       "        vertical-align: top;\n",
       "    }\n",
       "\n",
       "    .dataframe thead th {\n",
       "        text-align: right;\n",
       "    }\n",
       "</style>\n",
       "<table border=\"1\" class=\"dataframe\">\n",
       "  <thead>\n",
       "    <tr style=\"text-align: right;\">\n",
       "      <th></th>\n",
       "      <th>idaviso</th>\n",
       "      <th>idpostulante</th>\n",
       "      <th>id</th>\n",
       "      <th>postulantes</th>\n",
       "      <th>cantPostulaciones</th>\n",
       "      <th>cantVistas</th>\n",
       "      <th>edadPostulante</th>\n",
       "    </tr>\n",
       "  </thead>\n",
       "  <tbody>\n",
       "    <tr>\n",
       "      <th>0</th>\n",
       "      <td>17903700</td>\n",
       "      <td>RzrDJlZ</td>\n",
       "      <td>595</td>\n",
       "      <td>0.007018</td>\n",
       "      <td>0.046512</td>\n",
       "      <td>0.015385</td>\n",
       "      <td>0.268817</td>\n",
       "    </tr>\n",
       "    <tr>\n",
       "      <th>1</th>\n",
       "      <td>17903700</td>\n",
       "      <td>Yj5q3xX</td>\n",
       "      <td>594</td>\n",
       "      <td>0.007018</td>\n",
       "      <td>0.011628</td>\n",
       "      <td>0.061538</td>\n",
       "      <td>0.301075</td>\n",
       "    </tr>\n",
       "    <tr>\n",
       "      <th>2</th>\n",
       "      <td>1000139175</td>\n",
       "      <td>LNKrDLr</td>\n",
       "      <td>609</td>\n",
       "      <td>0.008772</td>\n",
       "      <td>0.003876</td>\n",
       "      <td>0.030769</td>\n",
       "      <td>0.268817</td>\n",
       "    </tr>\n",
       "    <tr>\n",
       "      <th>3</th>\n",
       "      <td>1000139175</td>\n",
       "      <td>exv4B8</td>\n",
       "      <td>610</td>\n",
       "      <td>0.008772</td>\n",
       "      <td>0.062016</td>\n",
       "      <td>0.030769</td>\n",
       "      <td>0.236559</td>\n",
       "    </tr>\n",
       "    <tr>\n",
       "      <th>4</th>\n",
       "      <td>1000468151</td>\n",
       "      <td>jkMko3r</td>\n",
       "      <td>637</td>\n",
       "      <td>0.005263</td>\n",
       "      <td>0.003876</td>\n",
       "      <td>0.015385</td>\n",
       "      <td>0.387097</td>\n",
       "    </tr>\n",
       "  </tbody>\n",
       "</table>\n",
       "</div>"
      ],
      "text/plain": [
       "      idaviso idpostulante   id  postulantes  cantPostulaciones  cantVistas  \\\n",
       "0    17903700      RzrDJlZ  595     0.007018           0.046512    0.015385   \n",
       "1    17903700      Yj5q3xX  594     0.007018           0.011628    0.061538   \n",
       "2  1000139175      LNKrDLr  609     0.008772           0.003876    0.030769   \n",
       "3  1000139175       exv4B8  610     0.008772           0.062016    0.030769   \n",
       "4  1000468151      jkMko3r  637     0.005263           0.003876    0.015385   \n",
       "\n",
       "   edadPostulante  \n",
       "0        0.268817  \n",
       "1        0.301075  \n",
       "2        0.268817  \n",
       "3        0.236559  \n",
       "4        0.387097  "
      ]
     },
     "execution_count": 80,
     "metadata": {},
     "output_type": "execute_result"
    }
   ],
   "source": [
    "test.head()"
   ]
  },
  {
   "cell_type": "code",
   "execution_count": 81,
   "metadata": {},
   "outputs": [],
   "source": [
    "result = clf.predict_proba(test.drop(['id','idaviso','idpostulante'],axis = 1))"
   ]
  },
  {
   "cell_type": "code",
   "execution_count": 82,
   "metadata": {},
   "outputs": [],
   "source": [
    "    result2 = []\n",
    "    for elem in result:\n",
    "        result2.append(elem[1])"
   ]
  },
  {
   "cell_type": "code",
   "execution_count": 83,
   "metadata": {},
   "outputs": [],
   "source": [
    "test['sepostulo'] = result2"
   ]
  },
  {
   "cell_type": "code",
   "execution_count": 84,
   "metadata": {},
   "outputs": [],
   "source": [
    "postulations_known = pd.read_csv('../test/postulationsDesp15Abril.csv')"
   ]
  },
  {
   "cell_type": "code",
   "execution_count": 85,
   "metadata": {},
   "outputs": [
    {
     "data": {
      "text/html": [
       "<div>\n",
       "<style scoped>\n",
       "    .dataframe tbody tr th:only-of-type {\n",
       "        vertical-align: middle;\n",
       "    }\n",
       "\n",
       "    .dataframe tbody tr th {\n",
       "        vertical-align: top;\n",
       "    }\n",
       "\n",
       "    .dataframe thead th {\n",
       "        text-align: right;\n",
       "    }\n",
       "</style>\n",
       "<table border=\"1\" class=\"dataframe\">\n",
       "  <thead>\n",
       "    <tr style=\"text-align: right;\">\n",
       "      <th></th>\n",
       "      <th>idaviso</th>\n",
       "      <th>idpostulante</th>\n",
       "      <th>fechapostulacion</th>\n",
       "      <th>Mayor15Abril</th>\n",
       "    </tr>\n",
       "  </thead>\n",
       "  <tbody>\n",
       "    <tr>\n",
       "      <th>0</th>\n",
       "      <td>1112461697</td>\n",
       "      <td>Ez8J</td>\n",
       "      <td>2018-04-17 08:00:04</td>\n",
       "      <td>True</td>\n",
       "    </tr>\n",
       "    <tr>\n",
       "      <th>1</th>\n",
       "      <td>1112463023</td>\n",
       "      <td>Y0Gmvr</td>\n",
       "      <td>2018-04-16 14:19:30</td>\n",
       "      <td>True</td>\n",
       "    </tr>\n",
       "    <tr>\n",
       "      <th>2</th>\n",
       "      <td>1112213212</td>\n",
       "      <td>a6AG60</td>\n",
       "      <td>2018-04-17 09:22:09</td>\n",
       "      <td>True</td>\n",
       "    </tr>\n",
       "    <tr>\n",
       "      <th>3</th>\n",
       "      <td>1112223876</td>\n",
       "      <td>a6AG60</td>\n",
       "      <td>2018-04-17 09:22:39</td>\n",
       "      <td>True</td>\n",
       "    </tr>\n",
       "    <tr>\n",
       "      <th>4</th>\n",
       "      <td>1112423240</td>\n",
       "      <td>a6AG60</td>\n",
       "      <td>2018-04-17 09:23:26</td>\n",
       "      <td>True</td>\n",
       "    </tr>\n",
       "  </tbody>\n",
       "</table>\n",
       "</div>"
      ],
      "text/plain": [
       "      idaviso idpostulante     fechapostulacion  Mayor15Abril\n",
       "0  1112461697         Ez8J  2018-04-17 08:00:04          True\n",
       "1  1112463023       Y0Gmvr  2018-04-16 14:19:30          True\n",
       "2  1112213212       a6AG60  2018-04-17 09:22:09          True\n",
       "3  1112223876       a6AG60  2018-04-17 09:22:39          True\n",
       "4  1112423240       a6AG60  2018-04-17 09:23:26          True"
      ]
     },
     "execution_count": 85,
     "metadata": {},
     "output_type": "execute_result"
    }
   ],
   "source": [
    "postulations_known.head()"
   ]
  },
  {
   "cell_type": "code",
   "execution_count": 86,
   "metadata": {},
   "outputs": [],
   "source": [
    "postulations_known['sepostulo'] = 1.0"
   ]
  },
  {
   "cell_type": "code",
   "execution_count": 87,
   "metadata": {},
   "outputs": [],
   "source": [
    "test = test.merge(postulations_known, how='left', on=['idaviso','idpostulante'])"
   ]
  },
  {
   "cell_type": "code",
   "execution_count": 88,
   "metadata": {},
   "outputs": [
    {
     "data": {
      "text/html": [
       "<div>\n",
       "<style scoped>\n",
       "    .dataframe tbody tr th:only-of-type {\n",
       "        vertical-align: middle;\n",
       "    }\n",
       "\n",
       "    .dataframe tbody tr th {\n",
       "        vertical-align: top;\n",
       "    }\n",
       "\n",
       "    .dataframe thead th {\n",
       "        text-align: right;\n",
       "    }\n",
       "</style>\n",
       "<table border=\"1\" class=\"dataframe\">\n",
       "  <thead>\n",
       "    <tr style=\"text-align: right;\">\n",
       "      <th></th>\n",
       "      <th>idaviso</th>\n",
       "      <th>idpostulante</th>\n",
       "      <th>id</th>\n",
       "      <th>postulantes</th>\n",
       "      <th>cantPostulaciones</th>\n",
       "      <th>cantVistas</th>\n",
       "      <th>edadPostulante</th>\n",
       "      <th>sepostulo_x</th>\n",
       "      <th>fechapostulacion</th>\n",
       "      <th>Mayor15Abril</th>\n",
       "      <th>sepostulo_y</th>\n",
       "    </tr>\n",
       "  </thead>\n",
       "  <tbody>\n",
       "    <tr>\n",
       "      <th>0</th>\n",
       "      <td>17903700</td>\n",
       "      <td>RzrDJlZ</td>\n",
       "      <td>595</td>\n",
       "      <td>0.007018</td>\n",
       "      <td>0.046512</td>\n",
       "      <td>0.015385</td>\n",
       "      <td>0.268817</td>\n",
       "      <td>1.0</td>\n",
       "      <td>NaN</td>\n",
       "      <td>NaN</td>\n",
       "      <td>NaN</td>\n",
       "    </tr>\n",
       "    <tr>\n",
       "      <th>1</th>\n",
       "      <td>17903700</td>\n",
       "      <td>Yj5q3xX</td>\n",
       "      <td>594</td>\n",
       "      <td>0.007018</td>\n",
       "      <td>0.011628</td>\n",
       "      <td>0.061538</td>\n",
       "      <td>0.301075</td>\n",
       "      <td>1.0</td>\n",
       "      <td>2018-04-16 10:14:08</td>\n",
       "      <td>True</td>\n",
       "      <td>1.0</td>\n",
       "    </tr>\n",
       "    <tr>\n",
       "      <th>2</th>\n",
       "      <td>1000139175</td>\n",
       "      <td>LNKrDLr</td>\n",
       "      <td>609</td>\n",
       "      <td>0.008772</td>\n",
       "      <td>0.003876</td>\n",
       "      <td>0.030769</td>\n",
       "      <td>0.268817</td>\n",
       "      <td>1.0</td>\n",
       "      <td>2018-04-16 09:32:39</td>\n",
       "      <td>True</td>\n",
       "      <td>1.0</td>\n",
       "    </tr>\n",
       "    <tr>\n",
       "      <th>3</th>\n",
       "      <td>1000139175</td>\n",
       "      <td>exv4B8</td>\n",
       "      <td>610</td>\n",
       "      <td>0.008772</td>\n",
       "      <td>0.062016</td>\n",
       "      <td>0.030769</td>\n",
       "      <td>0.236559</td>\n",
       "      <td>1.0</td>\n",
       "      <td>2018-04-16 09:36:57</td>\n",
       "      <td>True</td>\n",
       "      <td>1.0</td>\n",
       "    </tr>\n",
       "    <tr>\n",
       "      <th>4</th>\n",
       "      <td>1000468151</td>\n",
       "      <td>jkMko3r</td>\n",
       "      <td>637</td>\n",
       "      <td>0.005263</td>\n",
       "      <td>0.003876</td>\n",
       "      <td>0.015385</td>\n",
       "      <td>0.387097</td>\n",
       "      <td>1.0</td>\n",
       "      <td>2018-04-16 06:32:53</td>\n",
       "      <td>True</td>\n",
       "      <td>1.0</td>\n",
       "    </tr>\n",
       "  </tbody>\n",
       "</table>\n",
       "</div>"
      ],
      "text/plain": [
       "      idaviso idpostulante   id  postulantes  cantPostulaciones  cantVistas  \\\n",
       "0    17903700      RzrDJlZ  595     0.007018           0.046512    0.015385   \n",
       "1    17903700      Yj5q3xX  594     0.007018           0.011628    0.061538   \n",
       "2  1000139175      LNKrDLr  609     0.008772           0.003876    0.030769   \n",
       "3  1000139175       exv4B8  610     0.008772           0.062016    0.030769   \n",
       "4  1000468151      jkMko3r  637     0.005263           0.003876    0.015385   \n",
       "\n",
       "   edadPostulante  sepostulo_x     fechapostulacion Mayor15Abril  sepostulo_y  \n",
       "0        0.268817          1.0                  NaN          NaN          NaN  \n",
       "1        0.301075          1.0  2018-04-16 10:14:08         True          1.0  \n",
       "2        0.268817          1.0  2018-04-16 09:32:39         True          1.0  \n",
       "3        0.236559          1.0  2018-04-16 09:36:57         True          1.0  \n",
       "4        0.387097          1.0  2018-04-16 06:32:53         True          1.0  "
      ]
     },
     "execution_count": 88,
     "metadata": {},
     "output_type": "execute_result"
    }
   ],
   "source": [
    "test.head()"
   ]
  },
  {
   "cell_type": "code",
   "execution_count": 89,
   "metadata": {},
   "outputs": [],
   "source": [
    "test = test.drop(['Mayor15Abril','fechapostulacion'], axis=1)\n"
   ]
  },
  {
   "cell_type": "code",
   "execution_count": 90,
   "metadata": {},
   "outputs": [],
   "source": [
    "test[\"sepostulo\"] = test.apply(lambda row: row[\"sepostulo_x\"] if (np.isnan(row[\"sepostulo_y\"])) else row[\"sepostulo_y\"],axis=1)"
   ]
  },
  {
   "cell_type": "code",
   "execution_count": 91,
   "metadata": {},
   "outputs": [
    {
     "data": {
      "text/html": [
       "<div>\n",
       "<style scoped>\n",
       "    .dataframe tbody tr th:only-of-type {\n",
       "        vertical-align: middle;\n",
       "    }\n",
       "\n",
       "    .dataframe tbody tr th {\n",
       "        vertical-align: top;\n",
       "    }\n",
       "\n",
       "    .dataframe thead th {\n",
       "        text-align: right;\n",
       "    }\n",
       "</style>\n",
       "<table border=\"1\" class=\"dataframe\">\n",
       "  <thead>\n",
       "    <tr style=\"text-align: right;\">\n",
       "      <th></th>\n",
       "      <th>idaviso</th>\n",
       "      <th>idpostulante</th>\n",
       "      <th>id</th>\n",
       "      <th>postulantes</th>\n",
       "      <th>cantPostulaciones</th>\n",
       "      <th>cantVistas</th>\n",
       "      <th>edadPostulante</th>\n",
       "      <th>sepostulo_x</th>\n",
       "      <th>sepostulo_y</th>\n",
       "      <th>sepostulo</th>\n",
       "    </tr>\n",
       "  </thead>\n",
       "  <tbody>\n",
       "    <tr>\n",
       "      <th>0</th>\n",
       "      <td>17903700</td>\n",
       "      <td>RzrDJlZ</td>\n",
       "      <td>595</td>\n",
       "      <td>0.007018</td>\n",
       "      <td>0.046512</td>\n",
       "      <td>0.015385</td>\n",
       "      <td>0.268817</td>\n",
       "      <td>1.0</td>\n",
       "      <td>NaN</td>\n",
       "      <td>1.0</td>\n",
       "    </tr>\n",
       "    <tr>\n",
       "      <th>1</th>\n",
       "      <td>17903700</td>\n",
       "      <td>Yj5q3xX</td>\n",
       "      <td>594</td>\n",
       "      <td>0.007018</td>\n",
       "      <td>0.011628</td>\n",
       "      <td>0.061538</td>\n",
       "      <td>0.301075</td>\n",
       "      <td>1.0</td>\n",
       "      <td>1.0</td>\n",
       "      <td>1.0</td>\n",
       "    </tr>\n",
       "    <tr>\n",
       "      <th>2</th>\n",
       "      <td>1000139175</td>\n",
       "      <td>LNKrDLr</td>\n",
       "      <td>609</td>\n",
       "      <td>0.008772</td>\n",
       "      <td>0.003876</td>\n",
       "      <td>0.030769</td>\n",
       "      <td>0.268817</td>\n",
       "      <td>1.0</td>\n",
       "      <td>1.0</td>\n",
       "      <td>1.0</td>\n",
       "    </tr>\n",
       "    <tr>\n",
       "      <th>3</th>\n",
       "      <td>1000139175</td>\n",
       "      <td>exv4B8</td>\n",
       "      <td>610</td>\n",
       "      <td>0.008772</td>\n",
       "      <td>0.062016</td>\n",
       "      <td>0.030769</td>\n",
       "      <td>0.236559</td>\n",
       "      <td>1.0</td>\n",
       "      <td>1.0</td>\n",
       "      <td>1.0</td>\n",
       "    </tr>\n",
       "    <tr>\n",
       "      <th>4</th>\n",
       "      <td>1000468151</td>\n",
       "      <td>jkMko3r</td>\n",
       "      <td>637</td>\n",
       "      <td>0.005263</td>\n",
       "      <td>0.003876</td>\n",
       "      <td>0.015385</td>\n",
       "      <td>0.387097</td>\n",
       "      <td>1.0</td>\n",
       "      <td>1.0</td>\n",
       "      <td>1.0</td>\n",
       "    </tr>\n",
       "  </tbody>\n",
       "</table>\n",
       "</div>"
      ],
      "text/plain": [
       "      idaviso idpostulante   id  postulantes  cantPostulaciones  cantVistas  \\\n",
       "0    17903700      RzrDJlZ  595     0.007018           0.046512    0.015385   \n",
       "1    17903700      Yj5q3xX  594     0.007018           0.011628    0.061538   \n",
       "2  1000139175      LNKrDLr  609     0.008772           0.003876    0.030769   \n",
       "3  1000139175       exv4B8  610     0.008772           0.062016    0.030769   \n",
       "4  1000468151      jkMko3r  637     0.005263           0.003876    0.015385   \n",
       "\n",
       "   edadPostulante  sepostulo_x  sepostulo_y  sepostulo  \n",
       "0        0.268817          1.0          NaN        1.0  \n",
       "1        0.301075          1.0          1.0        1.0  \n",
       "2        0.268817          1.0          1.0        1.0  \n",
       "3        0.236559          1.0          1.0        1.0  \n",
       "4        0.387097          1.0          1.0        1.0  "
      ]
     },
     "execution_count": 91,
     "metadata": {},
     "output_type": "execute_result"
    }
   ],
   "source": [
    "test.head()"
   ]
  },
  {
   "cell_type": "code",
   "execution_count": 92,
   "metadata": {},
   "outputs": [
    {
     "data": {
      "text/plain": [
       "False    100000\n",
       "Name: sepostulo, dtype: int64"
      ]
     },
     "execution_count": 92,
     "metadata": {},
     "output_type": "execute_result"
    }
   ],
   "source": [
    "test['sepostulo'].isnull().value_counts()"
   ]
  },
  {
   "cell_type": "code",
   "execution_count": 93,
   "metadata": {},
   "outputs": [],
   "source": [
    "test = test.sort_values(by='id')"
   ]
  },
  {
   "cell_type": "code",
   "execution_count": 95,
   "metadata": {},
   "outputs": [
    {
     "data": {
      "text/plain": [
       "0.5189406755765587"
      ]
     },
     "execution_count": 95,
     "metadata": {},
     "output_type": "execute_result"
    }
   ],
   "source": [
    "test['sepostulo'].mean()"
   ]
  },
  {
   "cell_type": "code",
   "execution_count": 96,
   "metadata": {},
   "outputs": [
    {
     "data": {
      "text/plain": [
       "idaviso              100000\n",
       "idpostulante         100000\n",
       "id                   100000\n",
       "postulantes          100000\n",
       "cantPostulaciones    100000\n",
       "cantVistas           100000\n",
       "edadPostulante       100000\n",
       "sepostulo_x          100000\n",
       "sepostulo_y           34462\n",
       "sepostulo            100000\n",
       "dtype: int64"
      ]
     },
     "execution_count": 96,
     "metadata": {},
     "output_type": "execute_result"
    }
   ],
   "source": [
    "test.count()"
   ]
  },
  {
   "cell_type": "code",
   "execution_count": 97,
   "metadata": {},
   "outputs": [],
   "source": [
    "test = test[['id','sepostulo']]"
   ]
  },
  {
   "cell_type": "code",
   "execution_count": 98,
   "metadata": {},
   "outputs": [
    {
     "data": {
      "text/html": [
       "<div>\n",
       "<style scoped>\n",
       "    .dataframe tbody tr th:only-of-type {\n",
       "        vertical-align: middle;\n",
       "    }\n",
       "\n",
       "    .dataframe tbody tr th {\n",
       "        vertical-align: top;\n",
       "    }\n",
       "\n",
       "    .dataframe thead th {\n",
       "        text-align: right;\n",
       "    }\n",
       "</style>\n",
       "<table border=\"1\" class=\"dataframe\">\n",
       "  <thead>\n",
       "    <tr style=\"text-align: right;\">\n",
       "      <th></th>\n",
       "      <th>id</th>\n",
       "      <th>sepostulo</th>\n",
       "    </tr>\n",
       "  </thead>\n",
       "  <tbody>\n",
       "    <tr>\n",
       "      <th>34161</th>\n",
       "      <td>0</td>\n",
       "      <td>2.125542e-07</td>\n",
       "    </tr>\n",
       "    <tr>\n",
       "      <th>34162</th>\n",
       "      <td>1</td>\n",
       "      <td>6.797200e-05</td>\n",
       "    </tr>\n",
       "    <tr>\n",
       "      <th>34163</th>\n",
       "      <td>2</td>\n",
       "      <td>7.271760e-06</td>\n",
       "    </tr>\n",
       "    <tr>\n",
       "      <th>34164</th>\n",
       "      <td>3</td>\n",
       "      <td>2.741398e-19</td>\n",
       "    </tr>\n",
       "    <tr>\n",
       "      <th>34165</th>\n",
       "      <td>4</td>\n",
       "      <td>4.576979e-05</td>\n",
       "    </tr>\n",
       "  </tbody>\n",
       "</table>\n",
       "</div>"
      ],
      "text/plain": [
       "       id     sepostulo\n",
       "34161   0  2.125542e-07\n",
       "34162   1  6.797200e-05\n",
       "34163   2  7.271760e-06\n",
       "34164   3  2.741398e-19\n",
       "34165   4  4.576979e-05"
      ]
     },
     "execution_count": 98,
     "metadata": {},
     "output_type": "execute_result"
    }
   ],
   "source": [
    "test.head()"
   ]
  },
  {
   "cell_type": "code",
   "execution_count": 99,
   "metadata": {},
   "outputs": [],
   "source": [
    "test.to_csv('../GaussianNB6MmoreFeatures.csv', index=False)"
   ]
  },
  {
   "cell_type": "code",
   "execution_count": null,
   "metadata": {},
   "outputs": [],
   "source": []
  }
 ],
 "metadata": {
  "kernelspec": {
   "display_name": "Python 3",
   "language": "python",
   "name": "python3"
  },
  "language_info": {
   "codemirror_mode": {
    "name": "ipython",
    "version": 3
   },
   "file_extension": ".py",
   "mimetype": "text/x-python",
   "name": "python",
   "nbconvert_exporter": "python",
   "pygments_lexer": "ipython3",
   "version": "3.5.2"
  }
 },
 "nbformat": 4,
 "nbformat_minor": 2
}
