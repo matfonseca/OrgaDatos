{
 "cells": [
  {
   "cell_type": "code",
   "execution_count": 1,
   "metadata": {},
   "outputs": [],
   "source": [
    "import numpy as np\n",
    "import pandas as pd\n",
    "import seaborn as sb\n",
    "import matplotlib.pyplot as plt\n",
    "%matplotlib inline"
   ]
  },
  {
   "cell_type": "code",
   "execution_count": 2,
   "metadata": {},
   "outputs": [],
   "source": [
    "postulations = pd.read_csv('avisos_postulantes_vistas.csv')"
   ]
  },
  {
   "cell_type": "code",
   "execution_count": 3,
   "metadata": {},
   "outputs": [],
   "source": [
    "postulations.drop(columns=['nombre_area','titulo','idpais','fechapostulacion'],inplace = True)"
   ]
  },
  {
   "cell_type": "code",
   "execution_count": 4,
   "metadata": {},
   "outputs": [],
   "source": [
    "postulations['se_postulo'] = 1"
   ]
  },
  {
   "cell_type": "code",
   "execution_count": 5,
   "metadata": {},
   "outputs": [],
   "source": [
    "postulations.drop(columns = ['nombre'],inplace = True)"
   ]
  },
  {
   "cell_type": "code",
   "execution_count": 6,
   "metadata": {},
   "outputs": [
    {
     "data": {
      "text/plain": [
       "idaviso            6231530\n",
       "idpostulante       6231530\n",
       "cantVistas         6231530\n",
       "estado             6035167\n",
       "nombre_sort        6035167\n",
       "fechanacimiento    6133161\n",
       "sexo               6231530\n",
       "nombre_zona        6231530\n",
       "tipo_de_trabajo    6231530\n",
       "nivel_laboral      6231530\n",
       "se_postulo         6231530\n",
       "dtype: int64"
      ]
     },
     "execution_count": 6,
     "metadata": {},
     "output_type": "execute_result"
    }
   ],
   "source": [
    "postulations.count()"
   ]
  },
  {
   "cell_type": "code",
   "execution_count": 9,
   "metadata": {},
   "outputs": [],
   "source": [
    "postulations = postulations.sample(3100098)"
   ]
  },
  {
   "cell_type": "code",
   "execution_count": 7,
   "metadata": {},
   "outputs": [],
   "source": [
    "notpostulations = pd.read_csv('nopostulaciones_vistas.csv')"
   ]
  },
  {
   "cell_type": "code",
   "execution_count": 8,
   "metadata": {},
   "outputs": [
    {
     "data": {
      "text/plain": [
       "idaviso            3100098\n",
       "idpostulante       3100098\n",
       "cantVistas         3100098\n",
       "estado             3058276\n",
       "nombre_sort        3058276\n",
       "fechanacimiento    3034005\n",
       "sexo               3100098\n",
       "nombre_zona        3100098\n",
       "tipo_de_trabajo    3100098\n",
       "nivel_laboral      3100098\n",
       "se_postulo         3100098\n",
       "dtype: int64"
      ]
     },
     "execution_count": 8,
     "metadata": {},
     "output_type": "execute_result"
    }
   ],
   "source": [
    "notpostulations.count()"
   ]
  },
  {
   "cell_type": "code",
   "execution_count": 10,
   "metadata": {},
   "outputs": [],
   "source": [
    "#Concateno las postulaciones con las NO postulaciones\n",
    "\n",
    "frames = [postulations,notpostulations]\n",
    "total = pd.concat(frames, ignore_index = True)"
   ]
  },
  {
   "cell_type": "code",
   "execution_count": 11,
   "metadata": {},
   "outputs": [],
   "source": [
    "total.drop_duplicates(subset=['idpostulante','idaviso'], keep = 'first',inplace = True)\n",
    "total.reset_index(inplace = True,drop = True)"
   ]
  },
  {
   "cell_type": "code",
   "execution_count": 12,
   "metadata": {},
   "outputs": [],
   "source": [
    "total.to_csv(\"postulaciones_nopostulaciones_Reducido3M.csv\", index = False)"
   ]
  },
  {
   "cell_type": "code",
   "execution_count": 13,
   "metadata": {},
   "outputs": [
    {
     "data": {
      "text/plain": [
       "idaviso            6050075\n",
       "idpostulante       6050075\n",
       "cantVistas         6050075\n",
       "estado             5913437\n",
       "nombre_sort        5913437\n",
       "fechanacimiento    5938024\n",
       "sexo               6050075\n",
       "nombre_zona        6050075\n",
       "tipo_de_trabajo    6050075\n",
       "nivel_laboral      6050075\n",
       "se_postulo         6050075\n",
       "dtype: int64"
      ]
     },
     "execution_count": 13,
     "metadata": {},
     "output_type": "execute_result"
    }
   ],
   "source": [
    "total.count()"
   ]
  },
  {
   "cell_type": "code",
   "execution_count": null,
   "metadata": {},
   "outputs": [],
   "source": []
  }
 ],
 "metadata": {
  "kernelspec": {
   "display_name": "Python 3",
   "language": "python",
   "name": "python3"
  },
  "language_info": {
   "codemirror_mode": {
    "name": "ipython",
    "version": 3
   },
   "file_extension": ".py",
   "mimetype": "text/x-python",
   "name": "python",
   "nbconvert_exporter": "python",
   "pygments_lexer": "ipython3",
   "version": "3.5.2"
  }
 },
 "nbformat": 4,
 "nbformat_minor": 2
}
