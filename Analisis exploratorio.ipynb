{
 "cells": [
  {
   "cell_type": "markdown",
   "metadata": {},
   "source": [
    "TP Nº 1 - ANALISIS DEL SET DE DATOS DE NAVENT"
   ]
  },
  {
   "cell_type": "code",
   "execution_count": 1,
   "metadata": {},
   "outputs": [],
   "source": [
    "import pandas as pd\n",
    "import numpy as np\n",
    "import matplotlib.pyplot as plt\n",
    "\n",
    "%matplotlib inline"
   ]
  },
  {
   "cell_type": "code",
   "execution_count": 2,
   "metadata": {},
   "outputs": [],
   "source": [
    "def education_cleaning(df):\n",
    "    education_dic= {'Secundario': 1, 'Universitario':3,'Terciario/Técnico':2, 'Otro':0, 'Posgrado':4, 'Master': 5, 'Doctorado': 6}\n",
    "    df['nombre_sort'] = df['nombre'].map(education_dic)\n",
    "    df = df.sort_values(by='nombre_sort', ascending=False)\n",
    "    df = df.drop_duplicates(subset='idpostulante',keep='first')\n",
    "    return df"
   ]
  },
  {
   "cell_type": "code",
   "execution_count": 3,
   "metadata": {},
   "outputs": [
    {
     "data": {
      "text/html": [
       "<div>\n",
       "<style scoped>\n",
       "    .dataframe tbody tr th:only-of-type {\n",
       "        vertical-align: middle;\n",
       "    }\n",
       "\n",
       "    .dataframe tbody tr th {\n",
       "        vertical-align: top;\n",
       "    }\n",
       "\n",
       "    .dataframe thead th {\n",
       "        text-align: right;\n",
       "    }\n",
       "</style>\n",
       "<table border=\"1\" class=\"dataframe\">\n",
       "  <thead>\n",
       "    <tr style=\"text-align: right;\">\n",
       "      <th></th>\n",
       "      <th>idpostulante</th>\n",
       "      <th>nombre</th>\n",
       "      <th>estado</th>\n",
       "    </tr>\n",
       "  </thead>\n",
       "  <tbody>\n",
       "    <tr>\n",
       "      <th>0</th>\n",
       "      <td>NdJl</td>\n",
       "      <td>Posgrado</td>\n",
       "      <td>En Curso</td>\n",
       "    </tr>\n",
       "    <tr>\n",
       "      <th>1</th>\n",
       "      <td>8BkL</td>\n",
       "      <td>Universitario</td>\n",
       "      <td>En Curso</td>\n",
       "    </tr>\n",
       "    <tr>\n",
       "      <th>2</th>\n",
       "      <td>1d2B</td>\n",
       "      <td>Universitario</td>\n",
       "      <td>En Curso</td>\n",
       "    </tr>\n",
       "    <tr>\n",
       "      <th>3</th>\n",
       "      <td>NPBx</td>\n",
       "      <td>Universitario</td>\n",
       "      <td>En Curso</td>\n",
       "    </tr>\n",
       "    <tr>\n",
       "      <th>4</th>\n",
       "      <td>NPBx</td>\n",
       "      <td>Master</td>\n",
       "      <td>En Curso</td>\n",
       "    </tr>\n",
       "  </tbody>\n",
       "</table>\n",
       "</div>"
      ],
      "text/plain": [
       "  idpostulante         nombre    estado\n",
       "0         NdJl       Posgrado  En Curso\n",
       "1         8BkL  Universitario  En Curso\n",
       "2         1d2B  Universitario  En Curso\n",
       "3         NPBx  Universitario  En Curso\n",
       "4         NPBx         Master  En Curso"
      ]
     },
     "execution_count": 3,
     "metadata": {},
     "output_type": "execute_result"
    }
   ],
   "source": [
    "data_postulant_education= pd.read_csv('datos_navent_fiuba/fiuba_1_postulantes_educacion.csv')\n",
    "data_postulant_education.head()"
   ]
  },
  {
   "cell_type": "code",
   "execution_count": 4,
   "metadata": {},
   "outputs": [
    {
     "data": {
      "text/html": [
       "<div>\n",
       "<style scoped>\n",
       "    .dataframe tbody tr th:only-of-type {\n",
       "        vertical-align: middle;\n",
       "    }\n",
       "\n",
       "    .dataframe tbody tr th {\n",
       "        vertical-align: top;\n",
       "    }\n",
       "\n",
       "    .dataframe thead th {\n",
       "        text-align: right;\n",
       "    }\n",
       "</style>\n",
       "<table border=\"1\" class=\"dataframe\">\n",
       "  <thead>\n",
       "    <tr style=\"text-align: right;\">\n",
       "      <th></th>\n",
       "      <th>idaviso</th>\n",
       "      <th>idpostulante</th>\n",
       "      <th>fechapostulacion</th>\n",
       "    </tr>\n",
       "  </thead>\n",
       "  <tbody>\n",
       "    <tr>\n",
       "      <th>0</th>\n",
       "      <td>1112257047</td>\n",
       "      <td>NM5M</td>\n",
       "      <td>2018-01-15 16:22:34</td>\n",
       "    </tr>\n",
       "    <tr>\n",
       "      <th>1</th>\n",
       "      <td>1111920714</td>\n",
       "      <td>NM5M</td>\n",
       "      <td>2018-02-06 09:04:50</td>\n",
       "    </tr>\n",
       "    <tr>\n",
       "      <th>2</th>\n",
       "      <td>1112346945</td>\n",
       "      <td>NM5M</td>\n",
       "      <td>2018-02-22 09:04:47</td>\n",
       "    </tr>\n",
       "    <tr>\n",
       "      <th>3</th>\n",
       "      <td>1112345547</td>\n",
       "      <td>NM5M</td>\n",
       "      <td>2018-02-22 09:04:59</td>\n",
       "    </tr>\n",
       "    <tr>\n",
       "      <th>4</th>\n",
       "      <td>1112237522</td>\n",
       "      <td>5awk</td>\n",
       "      <td>2018-01-25 18:55:03</td>\n",
       "    </tr>\n",
       "  </tbody>\n",
       "</table>\n",
       "</div>"
      ],
      "text/plain": [
       "      idaviso idpostulante     fechapostulacion\n",
       "0  1112257047         NM5M  2018-01-15 16:22:34\n",
       "1  1111920714         NM5M  2018-02-06 09:04:50\n",
       "2  1112346945         NM5M  2018-02-22 09:04:47\n",
       "3  1112345547         NM5M  2018-02-22 09:04:59\n",
       "4  1112237522         5awk  2018-01-25 18:55:03"
      ]
     },
     "execution_count": 4,
     "metadata": {},
     "output_type": "execute_result"
    }
   ],
   "source": [
    "data_postulation= pd.read_csv('datos_navent_fiuba/fiuba_4_postulaciones.csv')\n",
    "data_postulation.head()"
   ]
  },
  {
   "cell_type": "code",
   "execution_count": 5,
   "metadata": {},
   "outputs": [
    {
     "data": {
      "text/html": [
       "<div>\n",
       "<style scoped>\n",
       "    .dataframe tbody tr th:only-of-type {\n",
       "        vertical-align: middle;\n",
       "    }\n",
       "\n",
       "    .dataframe tbody tr th {\n",
       "        vertical-align: top;\n",
       "    }\n",
       "\n",
       "    .dataframe thead th {\n",
       "        text-align: right;\n",
       "    }\n",
       "</style>\n",
       "<table border=\"1\" class=\"dataframe\">\n",
       "  <thead>\n",
       "    <tr style=\"text-align: right;\">\n",
       "      <th></th>\n",
       "      <th>idpostulante</th>\n",
       "      <th>fechanacimiento</th>\n",
       "      <th>sexo</th>\n",
       "    </tr>\n",
       "  </thead>\n",
       "  <tbody>\n",
       "    <tr>\n",
       "      <th>0</th>\n",
       "      <td>NM5M</td>\n",
       "      <td>1970-12-03</td>\n",
       "      <td>FEM</td>\n",
       "    </tr>\n",
       "    <tr>\n",
       "      <th>1</th>\n",
       "      <td>5awk</td>\n",
       "      <td>1962-12-04</td>\n",
       "      <td>FEM</td>\n",
       "    </tr>\n",
       "    <tr>\n",
       "      <th>2</th>\n",
       "      <td>ZaO5</td>\n",
       "      <td>1978-08-10</td>\n",
       "      <td>FEM</td>\n",
       "    </tr>\n",
       "    <tr>\n",
       "      <th>3</th>\n",
       "      <td>NdJl</td>\n",
       "      <td>1969-05-09</td>\n",
       "      <td>MASC</td>\n",
       "    </tr>\n",
       "    <tr>\n",
       "      <th>4</th>\n",
       "      <td>eo2p</td>\n",
       "      <td>1981-02-16</td>\n",
       "      <td>MASC</td>\n",
       "    </tr>\n",
       "  </tbody>\n",
       "</table>\n",
       "</div>"
      ],
      "text/plain": [
       "  idpostulante fechanacimiento  sexo\n",
       "0         NM5M      1970-12-03   FEM\n",
       "1         5awk      1962-12-04   FEM\n",
       "2         ZaO5      1978-08-10   FEM\n",
       "3         NdJl      1969-05-09  MASC\n",
       "4         eo2p      1981-02-16  MASC"
      ]
     },
     "execution_count": 5,
     "metadata": {},
     "output_type": "execute_result"
    }
   ],
   "source": [
    "data_postulant_sex_age= pd.read_csv('datos_navent_fiuba/fiuba_2_postulantes_genero_y_edad.csv')\n",
    "data_postulant_sex_age.head()"
   ]
  },
  {
   "cell_type": "code",
   "execution_count": 6,
   "metadata": {},
   "outputs": [
    {
     "data": {
      "text/html": [
       "<div>\n",
       "<style scoped>\n",
       "    .dataframe tbody tr th:only-of-type {\n",
       "        vertical-align: middle;\n",
       "    }\n",
       "\n",
       "    .dataframe tbody tr th {\n",
       "        vertical-align: top;\n",
       "    }\n",
       "\n",
       "    .dataframe thead th {\n",
       "        text-align: right;\n",
       "    }\n",
       "</style>\n",
       "<table border=\"1\" class=\"dataframe\">\n",
       "  <thead>\n",
       "    <tr style=\"text-align: right;\">\n",
       "      <th></th>\n",
       "      <th>idAviso</th>\n",
       "      <th>timestamp</th>\n",
       "      <th>idpostulante</th>\n",
       "    </tr>\n",
       "  </thead>\n",
       "  <tbody>\n",
       "    <tr>\n",
       "      <th>0</th>\n",
       "      <td>1111780242</td>\n",
       "      <td>2018-02-23T13:38:13.187-0500</td>\n",
       "      <td>YjVJQ6Z</td>\n",
       "    </tr>\n",
       "    <tr>\n",
       "      <th>1</th>\n",
       "      <td>1112263876</td>\n",
       "      <td>2018-02-23T13:38:14.296-0500</td>\n",
       "      <td>BmVpYoR</td>\n",
       "    </tr>\n",
       "    <tr>\n",
       "      <th>2</th>\n",
       "      <td>1112327963</td>\n",
       "      <td>2018-02-23T13:38:14.329-0500</td>\n",
       "      <td>wVkBzZd</td>\n",
       "    </tr>\n",
       "    <tr>\n",
       "      <th>3</th>\n",
       "      <td>1112318643</td>\n",
       "      <td>2018-02-23T13:38:17.921-0500</td>\n",
       "      <td>OqmP9pv</td>\n",
       "    </tr>\n",
       "    <tr>\n",
       "      <th>4</th>\n",
       "      <td>1111903673</td>\n",
       "      <td>2018-02-23T13:38:18.973-0500</td>\n",
       "      <td>DrpbXDP</td>\n",
       "    </tr>\n",
       "  </tbody>\n",
       "</table>\n",
       "</div>"
      ],
      "text/plain": [
       "      idAviso                     timestamp idpostulante\n",
       "0  1111780242  2018-02-23T13:38:13.187-0500      YjVJQ6Z\n",
       "1  1112263876  2018-02-23T13:38:14.296-0500      BmVpYoR\n",
       "2  1112327963  2018-02-23T13:38:14.329-0500      wVkBzZd\n",
       "3  1112318643  2018-02-23T13:38:17.921-0500      OqmP9pv\n",
       "4  1111903673  2018-02-23T13:38:18.973-0500      DrpbXDP"
      ]
     },
     "execution_count": 6,
     "metadata": {},
     "output_type": "execute_result"
    }
   ],
   "source": [
    "data_views =  pd.read_csv('datos_navent_fiuba/fiuba_3_vistas.csv')\n",
    "data_views.head()"
   ]
  },
  {
   "cell_type": "code",
   "execution_count": 7,
   "metadata": {},
   "outputs": [
    {
     "data": {
      "text/html": [
       "<div>\n",
       "<style scoped>\n",
       "    .dataframe tbody tr th:only-of-type {\n",
       "        vertical-align: middle;\n",
       "    }\n",
       "\n",
       "    .dataframe tbody tr th {\n",
       "        vertical-align: top;\n",
       "    }\n",
       "\n",
       "    .dataframe thead th {\n",
       "        text-align: right;\n",
       "    }\n",
       "</style>\n",
       "<table border=\"1\" class=\"dataframe\">\n",
       "  <thead>\n",
       "    <tr style=\"text-align: right;\">\n",
       "      <th></th>\n",
       "      <th>idaviso</th>\n",
       "    </tr>\n",
       "  </thead>\n",
       "  <tbody>\n",
       "    <tr>\n",
       "      <th>0</th>\n",
       "      <td>1112355872</td>\n",
       "    </tr>\n",
       "    <tr>\n",
       "      <th>1</th>\n",
       "      <td>1112335374</td>\n",
       "    </tr>\n",
       "    <tr>\n",
       "      <th>2</th>\n",
       "      <td>1112374842</td>\n",
       "    </tr>\n",
       "    <tr>\n",
       "      <th>3</th>\n",
       "      <td>1111984070</td>\n",
       "    </tr>\n",
       "    <tr>\n",
       "      <th>4</th>\n",
       "      <td>1111822480</td>\n",
       "    </tr>\n",
       "  </tbody>\n",
       "</table>\n",
       "</div>"
      ],
      "text/plain": [
       "      idaviso\n",
       "0  1112355872\n",
       "1  1112335374\n",
       "2  1112374842\n",
       "3  1111984070\n",
       "4  1111822480"
      ]
     },
     "execution_count": 7,
     "metadata": {},
     "output_type": "execute_result"
    }
   ],
   "source": [
    "data_ads_online = pd.read_csv('datos_navent_fiuba/fiuba_5_avisos_online.csv')\n",
    "data_ads_online.head()"
   ]
  },
  {
   "cell_type": "code",
   "execution_count": 8,
   "metadata": {},
   "outputs": [
    {
     "data": {
      "text/html": [
       "<div>\n",
       "<style scoped>\n",
       "    .dataframe tbody tr th:only-of-type {\n",
       "        vertical-align: middle;\n",
       "    }\n",
       "\n",
       "    .dataframe tbody tr th {\n",
       "        vertical-align: top;\n",
       "    }\n",
       "\n",
       "    .dataframe thead th {\n",
       "        text-align: right;\n",
       "    }\n",
       "</style>\n",
       "<table border=\"1\" class=\"dataframe\">\n",
       "  <thead>\n",
       "    <tr style=\"text-align: right;\">\n",
       "      <th></th>\n",
       "      <th>idaviso</th>\n",
       "      <th>idpais</th>\n",
       "      <th>titulo</th>\n",
       "      <th>descripcion</th>\n",
       "      <th>nombre_zona</th>\n",
       "      <th>ciudad</th>\n",
       "      <th>mapacalle</th>\n",
       "      <th>tipo_de_trabajo</th>\n",
       "      <th>nivel_laboral</th>\n",
       "      <th>nombre_area</th>\n",
       "      <th>denominacion_empresa</th>\n",
       "    </tr>\n",
       "  </thead>\n",
       "  <tbody>\n",
       "    <tr>\n",
       "      <th>0</th>\n",
       "      <td>8725750</td>\n",
       "      <td>1</td>\n",
       "      <td>VENDEDOR/A PROVINCIA DE SANTA FE</td>\n",
       "      <td>&lt;p&gt;&lt;strong&gt;&lt;strong&gt;Empresa:&lt;/strong&gt;&lt;/strong&gt; ...</td>\n",
       "      <td>Gran Buenos Aires</td>\n",
       "      <td>NaN</td>\n",
       "      <td>NaN</td>\n",
       "      <td>Full-time</td>\n",
       "      <td>Senior / Semi-Senior</td>\n",
       "      <td>Comercial</td>\n",
       "      <td>VENTOR</td>\n",
       "    </tr>\n",
       "    <tr>\n",
       "      <th>1</th>\n",
       "      <td>17903700</td>\n",
       "      <td>1</td>\n",
       "      <td>Enfermeras</td>\n",
       "      <td>&lt;p&gt;Solicitamos para importante cadena de farma...</td>\n",
       "      <td>Gran Buenos Aires</td>\n",
       "      <td>NaN</td>\n",
       "      <td>NaN</td>\n",
       "      <td>Full-time</td>\n",
       "      <td>Senior / Semi-Senior</td>\n",
       "      <td>Salud</td>\n",
       "      <td>Farmacias Central Oeste</td>\n",
       "    </tr>\n",
       "    <tr>\n",
       "      <th>2</th>\n",
       "      <td>1000150677</td>\n",
       "      <td>1</td>\n",
       "      <td>Chofer de taxi</td>\n",
       "      <td>&lt;p&gt;TE GUSTA MANEJAR? QUERES GANAR PLATA HACIEN...</td>\n",
       "      <td>Capital Federal</td>\n",
       "      <td>NaN</td>\n",
       "      <td>Empedrado 2336</td>\n",
       "      <td>Full-time</td>\n",
       "      <td>Senior / Semi-Senior</td>\n",
       "      <td>Transporte</td>\n",
       "      <td>FAMITAX SRL</td>\n",
       "    </tr>\n",
       "    <tr>\n",
       "      <th>3</th>\n",
       "      <td>1000610287</td>\n",
       "      <td>1</td>\n",
       "      <td>CHOFER DE CAMIONETA BAHIA BLANCA - PUNTA ALTA</td>\n",
       "      <td>&lt;p&gt;&lt;strong&gt;Somos una empresa multinacional que...</td>\n",
       "      <td>Gran Buenos Aires</td>\n",
       "      <td>NaN</td>\n",
       "      <td>NaN</td>\n",
       "      <td>Full-time</td>\n",
       "      <td>Senior / Semi-Senior</td>\n",
       "      <td>Transporte</td>\n",
       "      <td>Wurth Argentina S.A</td>\n",
       "    </tr>\n",
       "    <tr>\n",
       "      <th>4</th>\n",
       "      <td>1000872556</td>\n",
       "      <td>1</td>\n",
       "      <td>Operarios de Planta - Rubro Electrodomésticos</td>\n",
       "      <td>&lt;p&gt;&lt;strong&gt;OPERARIOS DE PLANTA&lt;/strong&gt;&lt;/p&gt;&lt;p&gt;...</td>\n",
       "      <td>Gran Buenos Aires</td>\n",
       "      <td>NaN</td>\n",
       "      <td>NaN</td>\n",
       "      <td>Full-time</td>\n",
       "      <td>Senior / Semi-Senior</td>\n",
       "      <td>Producción</td>\n",
       "      <td>ELECTRO OUTLET SRL</td>\n",
       "    </tr>\n",
       "  </tbody>\n",
       "</table>\n",
       "</div>"
      ],
      "text/plain": [
       "      idaviso  idpais                                         titulo  \\\n",
       "0     8725750       1               VENDEDOR/A PROVINCIA DE SANTA FE   \n",
       "1    17903700       1                                     Enfermeras   \n",
       "2  1000150677       1                                 Chofer de taxi   \n",
       "3  1000610287       1  CHOFER DE CAMIONETA BAHIA BLANCA - PUNTA ALTA   \n",
       "4  1000872556       1  Operarios de Planta - Rubro Electrodomésticos   \n",
       "\n",
       "                                         descripcion        nombre_zona  \\\n",
       "0  <p><strong><strong>Empresa:</strong></strong> ...  Gran Buenos Aires   \n",
       "1  <p>Solicitamos para importante cadena de farma...  Gran Buenos Aires   \n",
       "2  <p>TE GUSTA MANEJAR? QUERES GANAR PLATA HACIEN...    Capital Federal   \n",
       "3  <p><strong>Somos una empresa multinacional que...  Gran Buenos Aires   \n",
       "4  <p><strong>OPERARIOS DE PLANTA</strong></p><p>...  Gran Buenos Aires   \n",
       "\n",
       "  ciudad       mapacalle tipo_de_trabajo         nivel_laboral nombre_area  \\\n",
       "0    NaN             NaN       Full-time  Senior / Semi-Senior   Comercial   \n",
       "1    NaN             NaN       Full-time  Senior / Semi-Senior       Salud   \n",
       "2    NaN  Empedrado 2336       Full-time  Senior / Semi-Senior  Transporte   \n",
       "3    NaN             NaN       Full-time  Senior / Semi-Senior  Transporte   \n",
       "4    NaN             NaN       Full-time  Senior / Semi-Senior  Producción   \n",
       "\n",
       "      denominacion_empresa  \n",
       "0                   VENTOR  \n",
       "1  Farmacias Central Oeste  \n",
       "2              FAMITAX SRL  \n",
       "3      Wurth Argentina S.A  \n",
       "4       ELECTRO OUTLET SRL  "
      ]
     },
     "execution_count": 8,
     "metadata": {},
     "output_type": "execute_result"
    }
   ],
   "source": [
    "data_ads_details= pd.read_csv('datos_navent_fiuba/fiuba_6_avisos_detalle.csv')\n",
    "data_ads_details.head()"
   ]
  },
  {
   "cell_type": "markdown",
   "metadata": {},
   "source": [
    "ANALISIS DEL AREA CON MAS PUBLICACIONES"
   ]
  },
  {
   "cell_type": "code",
   "execution_count": 9,
   "metadata": {},
   "outputs": [],
   "source": [
    "publication_area = data_ads_details[\"nombre_area\"].value_counts()"
   ]
  },
  {
   "cell_type": "code",
   "execution_count": 10,
   "metadata": {},
   "outputs": [
    {
     "data": {
      "text/plain": [
       "Ventas                   1659\n",
       "Comercial                 983\n",
       "Administración            901\n",
       "Producción                821\n",
       "Programación              576\n",
       "Contabilidad              416\n",
       "Tecnologia / Sistemas     388\n",
       "Atención al Cliente       347\n",
       "Mantenimiento             324\n",
       "Recursos Humanos          235\n",
       "Name: nombre_area, dtype: int64"
      ]
     },
     "execution_count": 10,
     "metadata": {},
     "output_type": "execute_result"
    }
   ],
   "source": [
    "top10_publication_area = publication_area[:10]\n",
    "top10_publication_area "
   ]
  },
  {
   "cell_type": "code",
   "execution_count": 11,
   "metadata": {},
   "outputs": [
    {
     "data": {
      "image/png": "[encoded data removed]",
      "text/plain": [
       "<Figure size 576x432 with 1 Axes>"
      ]
     },
     "metadata": {},
     "output_type": "display_data"
    }
   ],
   "source": [
    "f = plt.figure()\n",
    "\n",
    "plt.title ('TOP 10 AREA DE PUBLICACIONES',color='black')\n",
    "\n",
    "ax = top10_publication_area.plot(kind='bar', stacked=True, figsize=(8,6) ,alpha=0.75, ax=f.gca(), color='red')\n",
    "\n",
    "\n",
    "ax.set_ylabel('Cant de publicaciones')\n",
    "ax.set_xlabel(\"Area\")\n",
    "plt.show()"
   ]
  },
  {
   "cell_type": "markdown",
   "metadata": {},
   "source": [
    "ANALISIS DEL NIVEL EDUCATIVO DE LOS POSTULANTES"
   ]
  },
  {
   "cell_type": "code",
   "execution_count": 12,
   "metadata": {},
   "outputs": [],
   "source": [
    "postulant_education = data_postulant_education[\"nombre\"].value_counts()"
   ]
  },
  {
   "cell_type": "code",
   "execution_count": 13,
   "metadata": {},
   "outputs": [
    {
     "data": {
      "image/png": "[encoded data removed]",
      "text/plain": [
       "<Figure size 720x432 with 1 Axes>"
      ]
     },
     "metadata": {},
     "output_type": "display_data"
    }
   ],
   "source": [
    "f = plt.figure()\n",
    "\n",
    "plt.title ('NIVEL DE EDUCACIONES DE LOS POSTULANTES',color='black')\n",
    "\n",
    "ax = postulant_education.plot(kind='bar', stacked=True, figsize=(10,6) ,alpha=0.75, ax=f.gca(), color='red', logy= True )\n",
    "\n",
    "\n",
    "ax.set_ylabel('Cant de publicaciones')\n",
    "ax.set_xlabel(\"Nivel de educacion\")\n",
    "plt.show()"
   ]
  },
  {
   "cell_type": "markdown",
   "metadata": {},
   "source": [
    "ANALISIS LA EDAD DE LOS POSTULANTES"
   ]
  },
  {
   "cell_type": "code",
   "execution_count": 14,
   "metadata": {},
   "outputs": [
    {
     "data": {
      "text/plain": [
       "False    196138\n",
       "True       4750\n",
       "Name: fechanacimiento, dtype: int64"
      ]
     },
     "execution_count": 14,
     "metadata": {},
     "output_type": "execute_result"
    }
   ],
   "source": [
    "data_postulant_sex_age[\"fechanacimiento\"].isnull().value_counts()"
   ]
  },
  {
   "cell_type": "code",
   "execution_count": 15,
   "metadata": {},
   "outputs": [],
   "source": [
    "dates_without_nulls = data_postulant_sex_age[\"fechanacimiento\"].dropna(how = \"any\")\n",
    "\n"
   ]
  },
  {
   "cell_type": "code",
   "execution_count": 16,
   "metadata": {},
   "outputs": [],
   "source": [
    "dates_without_nulls  = dates_without_nulls.map(lambda x:str(x))\n",
    "dates_without_nulls  = dates_without_nulls.map(lambda x: int(x[0:4]))\n",
    "dates_without_nulls = dates_without_nulls[(dates_without_nulls > 1948) & (dates_without_nulls < 2000)]\n",
    "\n"
   ]
  },
  {
   "cell_type": "code",
   "execution_count": 17,
   "metadata": {
    "scrolled": true
   },
   "outputs": [
    {
     "data": {
      "image/png": "[encoded data removed]",
      "text/plain": [
       "<Figure size 864x576 with 1 Axes>"
      ]
     },
     "metadata": {},
     "output_type": "display_data"
    }
   ],
   "source": [
    "dates = dates_without_nulls.value_counts()\n",
    "\n",
    "\n",
    "my_colors = [(x/100.0, x/200.0, 0.5) for x in range(len(dates))]\n",
    "\n",
    "\n",
    "plt.title ('EDAD DE LOS POSTULANTES',color='black')\n",
    "\n",
    "ax = dates.sort_index().plot(kind='bar',rot=90,figsize=(12,8),color=my_colors )\n",
    "\n",
    "\n",
    "ax.set_ylabel('Cantidad de postulantes')\n",
    "ax.set_xlabel(\"Año de naciemineto\")\n",
    "plt.show()"
   ]
  },
  {
   "cell_type": "markdown",
   "metadata": {},
   "source": [
    "ANALISIS DE LA CANTIDAD HORAS LABORALES"
   ]
  },
  {
   "cell_type": "code",
   "execution_count": 18,
   "metadata": {},
   "outputs": [
    {
     "data": {
      "text/plain": [
       "Full-time          12339\n",
       "Part-time            863\n",
       "Teletrabajo          110\n",
       "Pasantia              63\n",
       "Por Horas             63\n",
       "Temporario            42\n",
       "Por Contrato          37\n",
       "Fines de Semana       14\n",
       "Primer empleo          3\n",
       "Name: tipo_de_trabajo, dtype: int64"
      ]
     },
     "execution_count": 18,
     "metadata": {},
     "output_type": "execute_result"
    }
   ],
   "source": [
    "data_ads_details['tipo_de_trabajo'].value_counts()"
   ]
  },
  {
   "cell_type": "code",
   "execution_count": 19,
   "metadata": {},
   "outputs": [],
   "source": [
    "data_education = education_cleaning(data_postulant_education)\n"
   ]
  },
  {
   "cell_type": "code",
   "execution_count": 20,
   "metadata": {},
   "outputs": [
    {
     "data": {
      "text/html": [
       "<div>\n",
       "<style scoped>\n",
       "    .dataframe tbody tr th:only-of-type {\n",
       "        vertical-align: middle;\n",
       "    }\n",
       "\n",
       "    .dataframe tbody tr th {\n",
       "        vertical-align: top;\n",
       "    }\n",
       "\n",
       "    .dataframe thead th {\n",
       "        text-align: right;\n",
       "    }\n",
       "</style>\n",
       "<table border=\"1\" class=\"dataframe\">\n",
       "  <thead>\n",
       "    <tr style=\"text-align: right;\">\n",
       "      <th></th>\n",
       "      <th>idpostulante</th>\n",
       "      <th>nombre</th>\n",
       "      <th>estado</th>\n",
       "      <th>nombre_sort</th>\n",
       "    </tr>\n",
       "  </thead>\n",
       "  <tbody>\n",
       "    <tr>\n",
       "      <th>147758</th>\n",
       "      <td>owEKObe</td>\n",
       "      <td>Universitario</td>\n",
       "      <td>En Curso</td>\n",
       "      <td>3</td>\n",
       "    </tr>\n",
       "    <tr>\n",
       "      <th>147378</th>\n",
       "      <td>96WNLzw</td>\n",
       "      <td>Universitario</td>\n",
       "      <td>En Curso</td>\n",
       "      <td>3</td>\n",
       "    </tr>\n",
       "    <tr>\n",
       "      <th>147863</th>\n",
       "      <td>wVOLkkQ</td>\n",
       "      <td>Universitario</td>\n",
       "      <td>En Curso</td>\n",
       "      <td>3</td>\n",
       "    </tr>\n",
       "    <tr>\n",
       "      <th>147328</th>\n",
       "      <td>rmeGk8A</td>\n",
       "      <td>Universitario</td>\n",
       "      <td>En Curso</td>\n",
       "      <td>3</td>\n",
       "    </tr>\n",
       "    <tr>\n",
       "      <th>147859</th>\n",
       "      <td>wVOLkYe</td>\n",
       "      <td>Universitario</td>\n",
       "      <td>En Curso</td>\n",
       "      <td>3</td>\n",
       "    </tr>\n",
       "  </tbody>\n",
       "</table>\n",
       "</div>"
      ],
      "text/plain": [
       "       idpostulante         nombre    estado  nombre_sort\n",
       "147758      owEKObe  Universitario  En Curso            3\n",
       "147378      96WNLzw  Universitario  En Curso            3\n",
       "147863      wVOLkkQ  Universitario  En Curso            3\n",
       "147328      rmeGk8A  Universitario  En Curso            3\n",
       "147859      wVOLkYe  Universitario  En Curso            3"
      ]
     },
     "execution_count": 20,
     "metadata": {},
     "output_type": "execute_result"
    }
   ],
   "source": [
    "#filtramos por alumnos universitarios y siguen en curso  \n",
    "univ_not_finished = data_education[(data_education['nombre']=='Universitario') & (data_education['estado']=='En Curso')]\n",
    "univ_not_finished.head()"
   ]
  },
  {
   "cell_type": "code",
   "execution_count": 21,
   "metadata": {},
   "outputs": [
    {
     "data": {
      "text/html": [
       "<div>\n",
       "<style scoped>\n",
       "    .dataframe tbody tr th:only-of-type {\n",
       "        vertical-align: middle;\n",
       "    }\n",
       "\n",
       "    .dataframe tbody tr th {\n",
       "        vertical-align: top;\n",
       "    }\n",
       "\n",
       "    .dataframe thead th {\n",
       "        text-align: right;\n",
       "    }\n",
       "</style>\n",
       "<table border=\"1\" class=\"dataframe\">\n",
       "  <thead>\n",
       "    <tr style=\"text-align: right;\">\n",
       "      <th></th>\n",
       "      <th>idpostulante</th>\n",
       "      <th>fechanacimiento</th>\n",
       "      <th>sexo</th>\n",
       "    </tr>\n",
       "  </thead>\n",
       "  <tbody>\n",
       "    <tr>\n",
       "      <th>2272</th>\n",
       "      <td>NzqmoV</td>\n",
       "      <td>1995-01-16</td>\n",
       "      <td>FEM</td>\n",
       "    </tr>\n",
       "    <tr>\n",
       "      <th>6821</th>\n",
       "      <td>65lY6R</td>\n",
       "      <td>1993-09-13</td>\n",
       "      <td>FEM</td>\n",
       "    </tr>\n",
       "    <tr>\n",
       "      <th>7988</th>\n",
       "      <td>ZrzORR</td>\n",
       "      <td>1998-05-02</td>\n",
       "      <td>FEM</td>\n",
       "    </tr>\n",
       "    <tr>\n",
       "      <th>9855</th>\n",
       "      <td>8V5rEj</td>\n",
       "      <td>1993-02-24</td>\n",
       "      <td>FEM</td>\n",
       "    </tr>\n",
       "    <tr>\n",
       "      <th>11127</th>\n",
       "      <td>epMXVj</td>\n",
       "      <td>1994-05-18</td>\n",
       "      <td>MASC</td>\n",
       "    </tr>\n",
       "  </tbody>\n",
       "</table>\n",
       "</div>"
      ],
      "text/plain": [
       "      idpostulante fechanacimiento  sexo\n",
       "2272        NzqmoV      1995-01-16   FEM\n",
       "6821        65lY6R      1993-09-13   FEM\n",
       "7988        ZrzORR      1998-05-02   FEM\n",
       "9855        8V5rEj      1993-02-24   FEM\n",
       "11127       epMXVj      1994-05-18  MASC"
      ]
     },
     "execution_count": 21,
     "metadata": {},
     "output_type": "execute_result"
    }
   ],
   "source": [
    "#filtramos por postulantes en el rango de edades de 18 a 16\n",
    "data_postulant_sex_age['fechanacimiento'] = pd.to_datetime(data_postulant_sex_age['fechanacimiento'], format = '%Y-%m-%d',errors = 'coerce')\n",
    "data_age1826 = data_postulant_sex_age[(data_postulant_sex_age['fechanacimiento'].dt.year > 1992) & (data_postulant_sex_age['fechanacimiento'].dt.year < 2000)]\n",
    "data_age1826.head()"
   ]
  },
  {
   "cell_type": "code",
   "execution_count": 22,
   "metadata": {
    "scrolled": true
   },
   "outputs": [
    {
     "data": {
      "text/html": [
       "<div>\n",
       "<style scoped>\n",
       "    .dataframe tbody tr th:only-of-type {\n",
       "        vertical-align: middle;\n",
       "    }\n",
       "\n",
       "    .dataframe tbody tr th {\n",
       "        vertical-align: top;\n",
       "    }\n",
       "\n",
       "    .dataframe thead th {\n",
       "        text-align: right;\n",
       "    }\n",
       "</style>\n",
       "<table border=\"1\" class=\"dataframe\">\n",
       "  <thead>\n",
       "    <tr style=\"text-align: right;\">\n",
       "      <th></th>\n",
       "      <th>idpostulante</th>\n",
       "      <th>nombre</th>\n",
       "      <th>estado</th>\n",
       "      <th>nombre_sort</th>\n",
       "      <th>fechanacimiento</th>\n",
       "      <th>sexo</th>\n",
       "    </tr>\n",
       "  </thead>\n",
       "  <tbody>\n",
       "    <tr>\n",
       "      <th>0</th>\n",
       "      <td>96WNLzw</td>\n",
       "      <td>Universitario</td>\n",
       "      <td>En Curso</td>\n",
       "      <td>3</td>\n",
       "      <td>1995-07-03</td>\n",
       "      <td>FEM</td>\n",
       "    </tr>\n",
       "    <tr>\n",
       "      <th>1</th>\n",
       "      <td>rmeGk8A</td>\n",
       "      <td>Universitario</td>\n",
       "      <td>En Curso</td>\n",
       "      <td>3</td>\n",
       "      <td>1994-12-21</td>\n",
       "      <td>FEM</td>\n",
       "    </tr>\n",
       "    <tr>\n",
       "      <th>2</th>\n",
       "      <td>jk6OplG</td>\n",
       "      <td>Universitario</td>\n",
       "      <td>En Curso</td>\n",
       "      <td>3</td>\n",
       "      <td>1997-01-11</td>\n",
       "      <td>FEM</td>\n",
       "    </tr>\n",
       "    <tr>\n",
       "      <th>3</th>\n",
       "      <td>0zN2mbr</td>\n",
       "      <td>Universitario</td>\n",
       "      <td>En Curso</td>\n",
       "      <td>3</td>\n",
       "      <td>1996-06-08</td>\n",
       "      <td>MASC</td>\n",
       "    </tr>\n",
       "    <tr>\n",
       "      <th>4</th>\n",
       "      <td>PmqkPD0</td>\n",
       "      <td>Universitario</td>\n",
       "      <td>En Curso</td>\n",
       "      <td>3</td>\n",
       "      <td>1993-07-09</td>\n",
       "      <td>FEM</td>\n",
       "    </tr>\n",
       "  </tbody>\n",
       "</table>\n",
       "</div>"
      ],
      "text/plain": [
       "  idpostulante         nombre    estado  nombre_sort fechanacimiento  sexo\n",
       "0      96WNLzw  Universitario  En Curso            3      1995-07-03   FEM\n",
       "1      rmeGk8A  Universitario  En Curso            3      1994-12-21   FEM\n",
       "2      jk6OplG  Universitario  En Curso            3      1997-01-11   FEM\n",
       "3      0zN2mbr  Universitario  En Curso            3      1996-06-08  MASC\n",
       "4      PmqkPD0  Universitario  En Curso            3      1993-07-09   FEM"
      ]
     },
     "execution_count": 22,
     "metadata": {},
     "output_type": "execute_result"
    }
   ],
   "source": [
    "#merge entre ambas tablas anteriores\n",
    "univ_age = pd.merge(univ_not_finished,data_age1826, on='idpostulante')\n",
    "univ_age.head()"
   ]
  },
  {
   "cell_type": "code",
   "execution_count": 23,
   "metadata": {},
   "outputs": [
    {
     "data": {
      "text/html": [
       "<div>\n",
       "<style scoped>\n",
       "    .dataframe tbody tr th:only-of-type {\n",
       "        vertical-align: middle;\n",
       "    }\n",
       "\n",
       "    .dataframe tbody tr th {\n",
       "        vertical-align: top;\n",
       "    }\n",
       "\n",
       "    .dataframe thead th {\n",
       "        text-align: right;\n",
       "    }\n",
       "</style>\n",
       "<table border=\"1\" class=\"dataframe\">\n",
       "  <thead>\n",
       "    <tr style=\"text-align: right;\">\n",
       "      <th></th>\n",
       "      <th>idaviso</th>\n",
       "      <th>tipo_de_trabajo</th>\n",
       "    </tr>\n",
       "  </thead>\n",
       "  <tbody>\n",
       "    <tr>\n",
       "      <th>0</th>\n",
       "      <td>8725750</td>\n",
       "      <td>Full-time</td>\n",
       "    </tr>\n",
       "    <tr>\n",
       "      <th>1</th>\n",
       "      <td>17903700</td>\n",
       "      <td>Full-time</td>\n",
       "    </tr>\n",
       "    <tr>\n",
       "      <th>2</th>\n",
       "      <td>1000150677</td>\n",
       "      <td>Full-time</td>\n",
       "    </tr>\n",
       "    <tr>\n",
       "      <th>3</th>\n",
       "      <td>1000610287</td>\n",
       "      <td>Full-time</td>\n",
       "    </tr>\n",
       "    <tr>\n",
       "      <th>4</th>\n",
       "      <td>1000872556</td>\n",
       "      <td>Full-time</td>\n",
       "    </tr>\n",
       "  </tbody>\n",
       "</table>\n",
       "</div>"
      ],
      "text/plain": [
       "      idaviso tipo_de_trabajo\n",
       "0     8725750       Full-time\n",
       "1    17903700       Full-time\n",
       "2  1000150677       Full-time\n",
       "3  1000610287       Full-time\n",
       "4  1000872556       Full-time"
      ]
     },
     "execution_count": 23,
     "metadata": {},
     "output_type": "execute_result"
    }
   ],
   "source": [
    "#DataFrame que relaciona con los idavisos y tipo de trabajo\n",
    "data_details = data_ads_details[['idaviso','tipo_de_trabajo']]\n",
    "data_details.head()"
   ]
  },
  {
   "cell_type": "code",
   "execution_count": 24,
   "metadata": {},
   "outputs": [
    {
     "data": {
      "text/html": [
       "<div>\n",
       "<style scoped>\n",
       "    .dataframe tbody tr th:only-of-type {\n",
       "        vertical-align: middle;\n",
       "    }\n",
       "\n",
       "    .dataframe tbody tr th {\n",
       "        vertical-align: top;\n",
       "    }\n",
       "\n",
       "    .dataframe thead th {\n",
       "        text-align: right;\n",
       "    }\n",
       "</style>\n",
       "<table border=\"1\" class=\"dataframe\">\n",
       "  <thead>\n",
       "    <tr style=\"text-align: right;\">\n",
       "      <th></th>\n",
       "      <th>idaviso</th>\n",
       "      <th>tipo_de_trabajo</th>\n",
       "      <th>idpostulante</th>\n",
       "      <th>fechapostulacion</th>\n",
       "    </tr>\n",
       "  </thead>\n",
       "  <tbody>\n",
       "    <tr>\n",
       "      <th>0</th>\n",
       "      <td>8725750</td>\n",
       "      <td>Full-time</td>\n",
       "      <td>4rWEjrA</td>\n",
       "      <td>2018-01-16 21:58:40</td>\n",
       "    </tr>\n",
       "    <tr>\n",
       "      <th>1</th>\n",
       "      <td>8725750</td>\n",
       "      <td>Full-time</td>\n",
       "      <td>qewD0aR</td>\n",
       "      <td>2018-02-06 15:51:54</td>\n",
       "    </tr>\n",
       "    <tr>\n",
       "      <th>2</th>\n",
       "      <td>8725750</td>\n",
       "      <td>Full-time</td>\n",
       "      <td>3N2dBdq</td>\n",
       "      <td>2018-02-08 10:49:43</td>\n",
       "    </tr>\n",
       "    <tr>\n",
       "      <th>3</th>\n",
       "      <td>8725750</td>\n",
       "      <td>Full-time</td>\n",
       "      <td>0zkx2dY</td>\n",
       "      <td>2018-02-07 06:32:25</td>\n",
       "    </tr>\n",
       "    <tr>\n",
       "      <th>4</th>\n",
       "      <td>8725750</td>\n",
       "      <td>Full-time</td>\n",
       "      <td>ZDrdPVR</td>\n",
       "      <td>2018-01-15 09:23:40</td>\n",
       "    </tr>\n",
       "  </tbody>\n",
       "</table>\n",
       "</div>"
      ],
      "text/plain": [
       "   idaviso tipo_de_trabajo idpostulante     fechapostulacion\n",
       "0  8725750       Full-time      4rWEjrA  2018-01-16 21:58:40\n",
       "1  8725750       Full-time      qewD0aR  2018-02-06 15:51:54\n",
       "2  8725750       Full-time      3N2dBdq  2018-02-08 10:49:43\n",
       "3  8725750       Full-time      0zkx2dY  2018-02-07 06:32:25\n",
       "4  8725750       Full-time      ZDrdPVR  2018-01-15 09:23:40"
      ]
     },
     "execution_count": 24,
     "metadata": {},
     "output_type": "execute_result"
    }
   ],
   "source": [
    "#merge entre las tablas anteriores\n",
    "avisos_merge = pd.merge(data_details,data_postulation, on= 'idaviso')\n",
    "avisos_merge.head()"
   ]
  },
  {
   "cell_type": "code",
   "execution_count": 25,
   "metadata": {},
   "outputs": [
    {
     "data": {
      "text/html": [
       "<div>\n",
       "<style scoped>\n",
       "    .dataframe tbody tr th:only-of-type {\n",
       "        vertical-align: middle;\n",
       "    }\n",
       "\n",
       "    .dataframe tbody tr th {\n",
       "        vertical-align: top;\n",
       "    }\n",
       "\n",
       "    .dataframe thead th {\n",
       "        text-align: right;\n",
       "    }\n",
       "</style>\n",
       "<table border=\"1\" class=\"dataframe\">\n",
       "  <thead>\n",
       "    <tr style=\"text-align: right;\">\n",
       "      <th></th>\n",
       "      <th>idpostulante</th>\n",
       "      <th>nombre</th>\n",
       "      <th>estado</th>\n",
       "      <th>nombre_sort</th>\n",
       "      <th>fechanacimiento</th>\n",
       "      <th>sexo</th>\n",
       "      <th>idaviso</th>\n",
       "      <th>tipo_de_trabajo</th>\n",
       "      <th>fechapostulacion</th>\n",
       "    </tr>\n",
       "  </thead>\n",
       "  <tbody>\n",
       "    <tr>\n",
       "      <th>0</th>\n",
       "      <td>96WNLzw</td>\n",
       "      <td>Universitario</td>\n",
       "      <td>En Curso</td>\n",
       "      <td>3</td>\n",
       "      <td>1995-07-03</td>\n",
       "      <td>FEM</td>\n",
       "      <td>1112219093</td>\n",
       "      <td>Full-time</td>\n",
       "      <td>2018-01-27 21:11:48</td>\n",
       "    </tr>\n",
       "    <tr>\n",
       "      <th>1</th>\n",
       "      <td>96WNLzw</td>\n",
       "      <td>Universitario</td>\n",
       "      <td>En Curso</td>\n",
       "      <td>3</td>\n",
       "      <td>1995-07-03</td>\n",
       "      <td>FEM</td>\n",
       "      <td>1112278949</td>\n",
       "      <td>Full-time</td>\n",
       "      <td>2018-01-27 21:22:45</td>\n",
       "    </tr>\n",
       "    <tr>\n",
       "      <th>2</th>\n",
       "      <td>96WNLzw</td>\n",
       "      <td>Universitario</td>\n",
       "      <td>En Curso</td>\n",
       "      <td>3</td>\n",
       "      <td>1995-07-03</td>\n",
       "      <td>FEM</td>\n",
       "      <td>1112282187</td>\n",
       "      <td>Full-time</td>\n",
       "      <td>2018-01-27 21:21:25</td>\n",
       "    </tr>\n",
       "    <tr>\n",
       "      <th>3</th>\n",
       "      <td>96WNLzw</td>\n",
       "      <td>Universitario</td>\n",
       "      <td>En Curso</td>\n",
       "      <td>3</td>\n",
       "      <td>1995-07-03</td>\n",
       "      <td>FEM</td>\n",
       "      <td>1112285561</td>\n",
       "      <td>Full-time</td>\n",
       "      <td>2018-01-27 21:15:45</td>\n",
       "    </tr>\n",
       "    <tr>\n",
       "      <th>4</th>\n",
       "      <td>96WNLzw</td>\n",
       "      <td>Universitario</td>\n",
       "      <td>En Curso</td>\n",
       "      <td>3</td>\n",
       "      <td>1995-07-03</td>\n",
       "      <td>FEM</td>\n",
       "      <td>1112349298</td>\n",
       "      <td>Full-time</td>\n",
       "      <td>2018-02-22 18:47:01</td>\n",
       "    </tr>\n",
       "    <tr>\n",
       "      <th>5</th>\n",
       "      <td>96WNLzw</td>\n",
       "      <td>Universitario</td>\n",
       "      <td>En Curso</td>\n",
       "      <td>3</td>\n",
       "      <td>1995-07-03</td>\n",
       "      <td>FEM</td>\n",
       "      <td>1112353853</td>\n",
       "      <td>Full-time</td>\n",
       "      <td>2018-02-22 18:44:39</td>\n",
       "    </tr>\n",
       "    <tr>\n",
       "      <th>6</th>\n",
       "      <td>96WNLzw</td>\n",
       "      <td>Universitario</td>\n",
       "      <td>En Curso</td>\n",
       "      <td>3</td>\n",
       "      <td>1995-07-03</td>\n",
       "      <td>FEM</td>\n",
       "      <td>1112291379</td>\n",
       "      <td>Full-time</td>\n",
       "      <td>2018-01-27 21:06:59</td>\n",
       "    </tr>\n",
       "    <tr>\n",
       "      <th>7</th>\n",
       "      <td>96WNLzw</td>\n",
       "      <td>Universitario</td>\n",
       "      <td>En Curso</td>\n",
       "      <td>3</td>\n",
       "      <td>1995-07-03</td>\n",
       "      <td>FEM</td>\n",
       "      <td>1112293102</td>\n",
       "      <td>Full-time</td>\n",
       "      <td>2018-01-27 21:41:57</td>\n",
       "    </tr>\n",
       "    <tr>\n",
       "      <th>8</th>\n",
       "      <td>96WNLzw</td>\n",
       "      <td>Universitario</td>\n",
       "      <td>En Curso</td>\n",
       "      <td>3</td>\n",
       "      <td>1995-07-03</td>\n",
       "      <td>FEM</td>\n",
       "      <td>1112299184</td>\n",
       "      <td>Full-time</td>\n",
       "      <td>2018-01-31 09:28:39</td>\n",
       "    </tr>\n",
       "    <tr>\n",
       "      <th>9</th>\n",
       "      <td>96WNLzw</td>\n",
       "      <td>Universitario</td>\n",
       "      <td>En Curso</td>\n",
       "      <td>3</td>\n",
       "      <td>1995-07-03</td>\n",
       "      <td>FEM</td>\n",
       "      <td>1112356439</td>\n",
       "      <td>Full-time</td>\n",
       "      <td>2018-02-22 18:41:25</td>\n",
       "    </tr>\n",
       "    <tr>\n",
       "      <th>10</th>\n",
       "      <td>96WNLzw</td>\n",
       "      <td>Universitario</td>\n",
       "      <td>En Curso</td>\n",
       "      <td>3</td>\n",
       "      <td>1995-07-03</td>\n",
       "      <td>FEM</td>\n",
       "      <td>1111985266</td>\n",
       "      <td>Full-time</td>\n",
       "      <td>2018-01-31 13:09:09</td>\n",
       "    </tr>\n",
       "    <tr>\n",
       "      <th>11</th>\n",
       "      <td>96WNLzw</td>\n",
       "      <td>Universitario</td>\n",
       "      <td>En Curso</td>\n",
       "      <td>3</td>\n",
       "      <td>1995-07-03</td>\n",
       "      <td>FEM</td>\n",
       "      <td>1112302146</td>\n",
       "      <td>Full-time</td>\n",
       "      <td>2018-02-27 22:17:32</td>\n",
       "    </tr>\n",
       "    <tr>\n",
       "      <th>12</th>\n",
       "      <td>96WNLzw</td>\n",
       "      <td>Universitario</td>\n",
       "      <td>En Curso</td>\n",
       "      <td>3</td>\n",
       "      <td>1995-07-03</td>\n",
       "      <td>FEM</td>\n",
       "      <td>1112308422</td>\n",
       "      <td>Full-time</td>\n",
       "      <td>2018-02-06 14:53:58</td>\n",
       "    </tr>\n",
       "    <tr>\n",
       "      <th>13</th>\n",
       "      <td>96WNLzw</td>\n",
       "      <td>Universitario</td>\n",
       "      <td>En Curso</td>\n",
       "      <td>3</td>\n",
       "      <td>1995-07-03</td>\n",
       "      <td>FEM</td>\n",
       "      <td>1112308552</td>\n",
       "      <td>Full-time</td>\n",
       "      <td>2018-02-06 14:53:26</td>\n",
       "    </tr>\n",
       "    <tr>\n",
       "      <th>14</th>\n",
       "      <td>96WNLzw</td>\n",
       "      <td>Universitario</td>\n",
       "      <td>En Curso</td>\n",
       "      <td>3</td>\n",
       "      <td>1995-07-03</td>\n",
       "      <td>FEM</td>\n",
       "      <td>1112121581</td>\n",
       "      <td>Full-time</td>\n",
       "      <td>2018-01-27 21:14:08</td>\n",
       "    </tr>\n",
       "    <tr>\n",
       "      <th>15</th>\n",
       "      <td>96WNLzw</td>\n",
       "      <td>Universitario</td>\n",
       "      <td>En Curso</td>\n",
       "      <td>3</td>\n",
       "      <td>1995-07-03</td>\n",
       "      <td>FEM</td>\n",
       "      <td>1112253329</td>\n",
       "      <td>Full-time</td>\n",
       "      <td>2018-01-27 21:18:22</td>\n",
       "    </tr>\n",
       "    <tr>\n",
       "      <th>16</th>\n",
       "      <td>96WNLzw</td>\n",
       "      <td>Universitario</td>\n",
       "      <td>En Curso</td>\n",
       "      <td>3</td>\n",
       "      <td>1995-07-03</td>\n",
       "      <td>FEM</td>\n",
       "      <td>1112318597</td>\n",
       "      <td>Full-time</td>\n",
       "      <td>2018-02-09 18:55:51</td>\n",
       "    </tr>\n",
       "    <tr>\n",
       "      <th>17</th>\n",
       "      <td>96WNLzw</td>\n",
       "      <td>Universitario</td>\n",
       "      <td>En Curso</td>\n",
       "      <td>3</td>\n",
       "      <td>1995-07-03</td>\n",
       "      <td>FEM</td>\n",
       "      <td>1112319699</td>\n",
       "      <td>Full-time</td>\n",
       "      <td>2018-02-09 23:40:22</td>\n",
       "    </tr>\n",
       "    <tr>\n",
       "      <th>18</th>\n",
       "      <td>96WNLzw</td>\n",
       "      <td>Universitario</td>\n",
       "      <td>En Curso</td>\n",
       "      <td>3</td>\n",
       "      <td>1995-07-03</td>\n",
       "      <td>FEM</td>\n",
       "      <td>1112001724</td>\n",
       "      <td>Full-time</td>\n",
       "      <td>2018-01-27 21:16:57</td>\n",
       "    </tr>\n",
       "    <tr>\n",
       "      <th>19</th>\n",
       "      <td>96WNLzw</td>\n",
       "      <td>Universitario</td>\n",
       "      <td>En Curso</td>\n",
       "      <td>3</td>\n",
       "      <td>1995-07-03</td>\n",
       "      <td>FEM</td>\n",
       "      <td>1112199970</td>\n",
       "      <td>Full-time</td>\n",
       "      <td>2018-01-23 08:57:52</td>\n",
       "    </tr>\n",
       "  </tbody>\n",
       "</table>\n",
       "</div>"
      ],
      "text/plain": [
       "   idpostulante         nombre    estado  nombre_sort fechanacimiento sexo  \\\n",
       "0       96WNLzw  Universitario  En Curso            3      1995-07-03  FEM   \n",
       "1       96WNLzw  Universitario  En Curso            3      1995-07-03  FEM   \n",
       "2       96WNLzw  Universitario  En Curso            3      1995-07-03  FEM   \n",
       "3       96WNLzw  Universitario  En Curso            3      1995-07-03  FEM   \n",
       "4       96WNLzw  Universitario  En Curso            3      1995-07-03  FEM   \n",
       "5       96WNLzw  Universitario  En Curso            3      1995-07-03  FEM   \n",
       "6       96WNLzw  Universitario  En Curso            3      1995-07-03  FEM   \n",
       "7       96WNLzw  Universitario  En Curso            3      1995-07-03  FEM   \n",
       "8       96WNLzw  Universitario  En Curso            3      1995-07-03  FEM   \n",
       "9       96WNLzw  Universitario  En Curso            3      1995-07-03  FEM   \n",
       "10      96WNLzw  Universitario  En Curso            3      1995-07-03  FEM   \n",
       "11      96WNLzw  Universitario  En Curso            3      1995-07-03  FEM   \n",
       "12      96WNLzw  Universitario  En Curso            3      1995-07-03  FEM   \n",
       "13      96WNLzw  Universitario  En Curso            3      1995-07-03  FEM   \n",
       "14      96WNLzw  Universitario  En Curso            3      1995-07-03  FEM   \n",
       "15      96WNLzw  Universitario  En Curso            3      1995-07-03  FEM   \n",
       "16      96WNLzw  Universitario  En Curso            3      1995-07-03  FEM   \n",
       "17      96WNLzw  Universitario  En Curso            3      1995-07-03  FEM   \n",
       "18      96WNLzw  Universitario  En Curso            3      1995-07-03  FEM   \n",
       "19      96WNLzw  Universitario  En Curso            3      1995-07-03  FEM   \n",
       "\n",
       "       idaviso tipo_de_trabajo     fechapostulacion  \n",
       "0   1112219093       Full-time  2018-01-27 21:11:48  \n",
       "1   1112278949       Full-time  2018-01-27 21:22:45  \n",
       "2   1112282187       Full-time  2018-01-27 21:21:25  \n",
       "3   1112285561       Full-time  2018-01-27 21:15:45  \n",
       "4   1112349298       Full-time  2018-02-22 18:47:01  \n",
       "5   1112353853       Full-time  2018-02-22 18:44:39  \n",
       "6   1112291379       Full-time  2018-01-27 21:06:59  \n",
       "7   1112293102       Full-time  2018-01-27 21:41:57  \n",
       "8   1112299184       Full-time  2018-01-31 09:28:39  \n",
       "9   1112356439       Full-time  2018-02-22 18:41:25  \n",
       "10  1111985266       Full-time  2018-01-31 13:09:09  \n",
       "11  1112302146       Full-time  2018-02-27 22:17:32  \n",
       "12  1112308422       Full-time  2018-02-06 14:53:58  \n",
       "13  1112308552       Full-time  2018-02-06 14:53:26  \n",
       "14  1112121581       Full-time  2018-01-27 21:14:08  \n",
       "15  1112253329       Full-time  2018-01-27 21:18:22  \n",
       "16  1112318597       Full-time  2018-02-09 18:55:51  \n",
       "17  1112319699       Full-time  2018-02-09 23:40:22  \n",
       "18  1112001724       Full-time  2018-01-27 21:16:57  \n",
       "19  1112199970       Full-time  2018-01-23 08:57:52  "
      ]
     },
     "execution_count": 25,
     "metadata": {},
     "output_type": "execute_result"
    }
   ],
   "source": [
    "#merge para obtener los postulantes universitarios en curso y el tipo de trabajo a postularse\n",
    "final_merge = pd.merge(univ_age, avisos_merge, on='idpostulante')\n",
    "final_merge.head(20)"
   ]
  },
  {
   "cell_type": "code",
   "execution_count": 26,
   "metadata": {},
   "outputs": [
    {
     "data": {
      "text/plain": [
       "Full-time          295050\n",
       "Part-time           86211\n",
       "Pasantia             6624\n",
       "Temporario           1138\n",
       "Por Horas            1061\n",
       "Teletrabajo           490\n",
       "Por Contrato          364\n",
       "Fines de Semana       186\n",
       "Primer empleo          29\n",
       "Name: tipo_de_trabajo, dtype: int64"
      ]
     },
     "execution_count": 26,
     "metadata": {},
     "output_type": "execute_result"
    }
   ],
   "source": [
    "final_merge['tipo_de_trabajo'].value_counts()"
   ]
  },
  {
   "cell_type": "code",
   "execution_count": 27,
   "metadata": {},
   "outputs": [
    {
     "data": {
      "text/plain": [
       "Full-time          295050\n",
       "Part-time           86211\n",
       "Pasantia             6624\n",
       "Temporario           1138\n",
       "Por Horas            1061\n",
       "Teletrabajo           490\n",
       "Por Contrato          364\n",
       "Fines de Semana       186\n",
       "Primer empleo          29\n",
       "Name: tipo_de_trabajo, dtype: int64"
      ]
     },
     "execution_count": 27,
     "metadata": {},
     "output_type": "execute_result"
    }
   ],
   "source": [
    "work_by_shift_times = final_merge['tipo_de_trabajo'].value_counts()\n",
    "work_by_shift_times"
   ]
  },
  {
   "cell_type": "code",
   "execution_count": 28,
   "metadata": {},
   "outputs": [
    {
     "data": {
      "image/png": "[encoded data removed]",
      "text/plain": [
       "<Figure size 576x432 with 1 Axes>"
      ]
     },
     "metadata": {},
     "output_type": "display_data"
    }
   ],
   "source": [
    "#Grafico obtenido \n",
    "final_merge_plot = plt.figure()\n",
    "\n",
    "plt.title ('Cantidad de postulaciones por tipo de trabajo en personas universitarias en curso entre 18 y 26 anios',color='black', size = 20)\n",
    "\n",
    "ax = work_by_shift_times.plot(kind='bar', stacked=True, figsize=(8,6) ,alpha=0.75, color='red', logy=True)\n",
    "\n",
    "\n",
    "ax.set_ylabel('Cant de postulaciones')\n",
    "ax.set_xlabel(\"Tipos de trabajo\")\n",
    "plt.show()"
   ]
  },
  {
   "cell_type": "markdown",
   "metadata": {},
   "source": [
    "ANALISIS DE POSTULACION RELACIONANDO RANGO DE EDAD Y NIVEL LABORAL "
   ]
  },
  {
   "cell_type": "code",
   "execution_count": 29,
   "metadata": {},
   "outputs": [
    {
     "data": {
      "text/plain": [
       "Senior / Semi-Senior                    9407\n",
       "Junior                                  2216\n",
       "Otro                                     921\n",
       "Jefe / Supervisor / Responsable          809\n",
       "Gerencia / Alta Gerencia / Dirección     181\n",
       "Name: nivel_laboral, dtype: int64"
      ]
     },
     "execution_count": 29,
     "metadata": {},
     "output_type": "execute_result"
    }
   ],
   "source": [
    "data_ads_details['nivel_laboral'].value_counts()"
   ]
  },
  {
   "cell_type": "code",
   "execution_count": 30,
   "metadata": {},
   "outputs": [
    {
     "data": {
      "text/plain": [
       "count                    13534\n",
       "unique                       5\n",
       "top       Senior / Semi-Senior\n",
       "freq                      9407\n",
       "Name: nivel_laboral, dtype: object"
      ]
     },
     "execution_count": 30,
     "metadata": {},
     "output_type": "execute_result"
    }
   ],
   "source": [
    "data_ads_details['nivel_laboral'].describe()"
   ]
  },
  {
   "cell_type": "code",
   "execution_count": 31,
   "metadata": {},
   "outputs": [
    {
     "data": {
      "text/plain": [
       "False    13534\n",
       "Name: nivel_laboral, dtype: int64"
      ]
     },
     "execution_count": 31,
     "metadata": {},
     "output_type": "execute_result"
    }
   ],
   "source": [
    "data_ads_details['nivel_laboral'].isnull().value_counts()"
   ]
  },
  {
   "cell_type": "code",
   "execution_count": 32,
   "metadata": {},
   "outputs": [
    {
     "data": {
      "text/html": [
       "<div>\n",
       "<style scoped>\n",
       "    .dataframe tbody tr th:only-of-type {\n",
       "        vertical-align: middle;\n",
       "    }\n",
       "\n",
       "    .dataframe tbody tr th {\n",
       "        vertical-align: top;\n",
       "    }\n",
       "\n",
       "    .dataframe thead th {\n",
       "        text-align: right;\n",
       "    }\n",
       "</style>\n",
       "<table border=\"1\" class=\"dataframe\">\n",
       "  <thead>\n",
       "    <tr style=\"text-align: right;\">\n",
       "      <th></th>\n",
       "      <th>idpostulante</th>\n",
       "      <th>fechanacimiento</th>\n",
       "      <th>sexo</th>\n",
       "    </tr>\n",
       "  </thead>\n",
       "  <tbody>\n",
       "    <tr>\n",
       "      <th>0</th>\n",
       "      <td>NM5M</td>\n",
       "      <td>1970-12-03</td>\n",
       "      <td>FEM</td>\n",
       "    </tr>\n",
       "    <tr>\n",
       "      <th>1</th>\n",
       "      <td>5awk</td>\n",
       "      <td>1962-12-04</td>\n",
       "      <td>FEM</td>\n",
       "    </tr>\n",
       "    <tr>\n",
       "      <th>3</th>\n",
       "      <td>NdJl</td>\n",
       "      <td>1969-05-09</td>\n",
       "      <td>MASC</td>\n",
       "    </tr>\n",
       "    <tr>\n",
       "      <th>5</th>\n",
       "      <td>Ez8J</td>\n",
       "      <td>1968-12-18</td>\n",
       "      <td>MASC</td>\n",
       "    </tr>\n",
       "    <tr>\n",
       "      <th>6</th>\n",
       "      <td>aOQq</td>\n",
       "      <td>1966-07-16</td>\n",
       "      <td>MASC</td>\n",
       "    </tr>\n",
       "  </tbody>\n",
       "</table>\n",
       "</div>"
      ],
      "text/plain": [
       "  idpostulante fechanacimiento  sexo\n",
       "0         NM5M      1970-12-03   FEM\n",
       "1         5awk      1962-12-04   FEM\n",
       "3         NdJl      1969-05-09  MASC\n",
       "5         Ez8J      1968-12-18  MASC\n",
       "6         aOQq      1966-07-16  MASC"
      ]
     },
     "execution_count": 32,
     "metadata": {},
     "output_type": "execute_result"
    }
   ],
   "source": [
    "#me quedo con los postulantes de edaddes entre 44 y 69\n",
    "data_postulant_sex_age['fechanacimiento'] = pd.to_datetime(data_postulant_sex_age['fechanacimiento'], format = '%Y-%m-%d-%h',errors = 'coerce')\n",
    "data_age4069 = data_postulant_sex_age[(data_postulant_sex_age['fechanacimiento'].dt.year > 1949) & (data_postulant_sex_age['fechanacimiento'].dt.year < 1974)]\n",
    "data_age4069.head()"
   ]
  },
  {
   "cell_type": "code",
   "execution_count": 33,
   "metadata": {},
   "outputs": [
    {
     "data": {
      "text/html": [
       "<div>\n",
       "<style scoped>\n",
       "    .dataframe tbody tr th:only-of-type {\n",
       "        vertical-align: middle;\n",
       "    }\n",
       "\n",
       "    .dataframe tbody tr th {\n",
       "        vertical-align: top;\n",
       "    }\n",
       "\n",
       "    .dataframe thead th {\n",
       "        text-align: right;\n",
       "    }\n",
       "</style>\n",
       "<table border=\"1\" class=\"dataframe\">\n",
       "  <thead>\n",
       "    <tr style=\"text-align: right;\">\n",
       "      <th></th>\n",
       "      <th>idaviso</th>\n",
       "      <th>idpostulante</th>\n",
       "      <th>fechanacimiento</th>\n",
       "    </tr>\n",
       "  </thead>\n",
       "  <tbody>\n",
       "    <tr>\n",
       "      <th>0</th>\n",
       "      <td>1112257047</td>\n",
       "      <td>NM5M</td>\n",
       "      <td>1970-12-03</td>\n",
       "    </tr>\n",
       "    <tr>\n",
       "      <th>1</th>\n",
       "      <td>1111920714</td>\n",
       "      <td>NM5M</td>\n",
       "      <td>1970-12-03</td>\n",
       "    </tr>\n",
       "    <tr>\n",
       "      <th>2</th>\n",
       "      <td>1112346945</td>\n",
       "      <td>NM5M</td>\n",
       "      <td>1970-12-03</td>\n",
       "    </tr>\n",
       "    <tr>\n",
       "      <th>3</th>\n",
       "      <td>1112345547</td>\n",
       "      <td>NM5M</td>\n",
       "      <td>1970-12-03</td>\n",
       "    </tr>\n",
       "    <tr>\n",
       "      <th>4</th>\n",
       "      <td>1112237522</td>\n",
       "      <td>5awk</td>\n",
       "      <td>1962-12-04</td>\n",
       "    </tr>\n",
       "  </tbody>\n",
       "</table>\n",
       "</div>"
      ],
      "text/plain": [
       "      idaviso idpostulante fechanacimiento\n",
       "0  1112257047         NM5M      1970-12-03\n",
       "1  1111920714         NM5M      1970-12-03\n",
       "2  1112346945         NM5M      1970-12-03\n",
       "3  1112345547         NM5M      1970-12-03\n",
       "4  1112237522         5awk      1962-12-04"
      ]
     },
     "execution_count": 33,
     "metadata": {},
     "output_type": "execute_result"
    }
   ],
   "source": [
    "postulations_from44_to69 = pd.merge(data_postulation,data_age4069, on='idpostulante')\n",
    "\n",
    "\n",
    "postulations_from44_to69 = postulations_from44_to69[['idaviso','idpostulante','fechanacimiento']]\n",
    "postulations_from44_to69.head()"
   ]
  },
  {
   "cell_type": "code",
   "execution_count": 34,
   "metadata": {},
   "outputs": [
    {
     "data": {
      "text/html": [
       "<div>\n",
       "<style scoped>\n",
       "    .dataframe tbody tr th:only-of-type {\n",
       "        vertical-align: middle;\n",
       "    }\n",
       "\n",
       "    .dataframe tbody tr th {\n",
       "        vertical-align: top;\n",
       "    }\n",
       "\n",
       "    .dataframe thead th {\n",
       "        text-align: right;\n",
       "    }\n",
       "</style>\n",
       "<table border=\"1\" class=\"dataframe\">\n",
       "  <thead>\n",
       "    <tr style=\"text-align: right;\">\n",
       "      <th></th>\n",
       "      <th>idaviso</th>\n",
       "      <th>nivel_laboral</th>\n",
       "    </tr>\n",
       "  </thead>\n",
       "  <tbody>\n",
       "    <tr>\n",
       "      <th>0</th>\n",
       "      <td>8725750</td>\n",
       "      <td>Senior / Semi-Senior</td>\n",
       "    </tr>\n",
       "    <tr>\n",
       "      <th>1</th>\n",
       "      <td>17903700</td>\n",
       "      <td>Senior / Semi-Senior</td>\n",
       "    </tr>\n",
       "    <tr>\n",
       "      <th>2</th>\n",
       "      <td>1000150677</td>\n",
       "      <td>Senior / Semi-Senior</td>\n",
       "    </tr>\n",
       "    <tr>\n",
       "      <th>3</th>\n",
       "      <td>1000610287</td>\n",
       "      <td>Senior / Semi-Senior</td>\n",
       "    </tr>\n",
       "    <tr>\n",
       "      <th>4</th>\n",
       "      <td>1000872556</td>\n",
       "      <td>Senior / Semi-Senior</td>\n",
       "    </tr>\n",
       "  </tbody>\n",
       "</table>\n",
       "</div>"
      ],
      "text/plain": [
       "      idaviso         nivel_laboral\n",
       "0     8725750  Senior / Semi-Senior\n",
       "1    17903700  Senior / Semi-Senior\n",
       "2  1000150677  Senior / Semi-Senior\n",
       "3  1000610287  Senior / Semi-Senior\n",
       "4  1000872556  Senior / Semi-Senior"
      ]
     },
     "execution_count": 34,
     "metadata": {},
     "output_type": "execute_result"
    }
   ],
   "source": [
    "data_details1 = data_ads_details[['idaviso','nivel_laboral']]\n",
    "data_details1.head()"
   ]
  },
  {
   "cell_type": "code",
   "execution_count": 35,
   "metadata": {},
   "outputs": [
    {
     "data": {
      "text/html": [
       "<div>\n",
       "<style scoped>\n",
       "    .dataframe tbody tr th:only-of-type {\n",
       "        vertical-align: middle;\n",
       "    }\n",
       "\n",
       "    .dataframe tbody tr th {\n",
       "        vertical-align: top;\n",
       "    }\n",
       "\n",
       "    .dataframe thead th {\n",
       "        text-align: right;\n",
       "    }\n",
       "</style>\n",
       "<table border=\"1\" class=\"dataframe\">\n",
       "  <thead>\n",
       "    <tr style=\"text-align: right;\">\n",
       "      <th></th>\n",
       "      <th>idaviso</th>\n",
       "      <th>idpostulante</th>\n",
       "      <th>fechanacimiento</th>\n",
       "      <th>nivel_laboral</th>\n",
       "    </tr>\n",
       "  </thead>\n",
       "  <tbody>\n",
       "    <tr>\n",
       "      <th>0</th>\n",
       "      <td>1112257047</td>\n",
       "      <td>NM5M</td>\n",
       "      <td>1970-12-03</td>\n",
       "      <td>Otro</td>\n",
       "    </tr>\n",
       "    <tr>\n",
       "      <th>1</th>\n",
       "      <td>1112257047</td>\n",
       "      <td>YjQdLPJ</td>\n",
       "      <td>1966-12-27</td>\n",
       "      <td>Otro</td>\n",
       "    </tr>\n",
       "    <tr>\n",
       "      <th>2</th>\n",
       "      <td>1112257047</td>\n",
       "      <td>ZDrdPkE</td>\n",
       "      <td>1950-07-09</td>\n",
       "      <td>Otro</td>\n",
       "    </tr>\n",
       "    <tr>\n",
       "      <th>3</th>\n",
       "      <td>1112257047</td>\n",
       "      <td>ow21KBe</td>\n",
       "      <td>1969-11-18</td>\n",
       "      <td>Otro</td>\n",
       "    </tr>\n",
       "    <tr>\n",
       "      <th>4</th>\n",
       "      <td>1112257047</td>\n",
       "      <td>lDLl8Bj</td>\n",
       "      <td>1962-11-07</td>\n",
       "      <td>Otro</td>\n",
       "    </tr>\n",
       "  </tbody>\n",
       "</table>\n",
       "</div>"
      ],
      "text/plain": [
       "      idaviso idpostulante fechanacimiento nivel_laboral\n",
       "0  1112257047         NM5M      1970-12-03          Otro\n",
       "1  1112257047      YjQdLPJ      1966-12-27          Otro\n",
       "2  1112257047      ZDrdPkE      1950-07-09          Otro\n",
       "3  1112257047      ow21KBe      1969-11-18          Otro\n",
       "4  1112257047      lDLl8Bj      1962-11-07          Otro"
      ]
     },
     "execution_count": 35,
     "metadata": {},
     "output_type": "execute_result"
    }
   ],
   "source": [
    "final_merge1 = pd.merge(postulations_from44_to69,data_details1, on='idaviso')\n",
    "final_merge1.head()"
   ]
  },
  {
   "cell_type": "code",
   "execution_count": 36,
   "metadata": {},
   "outputs": [
    {
     "data": {
      "text/plain": [
       "0    Otro\n",
       "1    Otro\n",
       "2    Otro\n",
       "3    Otro\n",
       "4    Otro\n",
       "Name: nivel_laboral, dtype: object"
      ]
     },
     "execution_count": 36,
     "metadata": {},
     "output_type": "execute_result"
    }
   ],
   "source": [
    "#cuenta de la edad  de los postulantes\n",
    "final_merge1['anios'] = final_merge1['fechanacimiento'].map(lambda x: 2018 - x.year)\n",
    "final_merge1['nivel_laboral'].head()"
   ]
  },
  {
   "cell_type": "code",
   "execution_count": 37,
   "metadata": {},
   "outputs": [],
   "source": [
    "\n",
    "work_level = final_merge1['nivel_laboral'].value_counts()"
   ]
  },
  {
   "cell_type": "code",
   "execution_count": 38,
   "metadata": {},
   "outputs": [
    {
     "data": {
      "image/png": "[encoded data removed]",
      "text/plain": [
       "<Figure size 576x432 with 1 Axes>"
      ]
     },
     "metadata": {},
     "output_type": "display_data"
    }
   ],
   "source": [
    "#Grafico obtenido \n",
    "#Grafico obtenido HEATMAP\n",
    "\n",
    "fi = plt.figure()\n",
    "\n",
    "plt.title ('Cantidad de postulaciones en cada nivel laboral entre 44 y 69 anios',color='black', size = 20)\n",
    "\n",
    "ap = work_level.plot(kind='bar', stacked=True, figsize=(8,6) ,alpha=0.75, color='pink', logy=True)\n",
    "\n",
    "\n",
    "ap.set_ylabel('Cant de postulaciones')\n",
    "ap.set_xlabel(\"Nivel laboral\")\n",
    "plt.show()\n"
   ]
  },
  {
   "cell_type": "code",
   "execution_count": 39,
   "metadata": {},
   "outputs": [
    {
     "data": {
      "text/html": [
       "<div>\n",
       "<style scoped>\n",
       "    .dataframe tbody tr th:only-of-type {\n",
       "        vertical-align: middle;\n",
       "    }\n",
       "\n",
       "    .dataframe tbody tr th {\n",
       "        vertical-align: top;\n",
       "    }\n",
       "\n",
       "    .dataframe thead th {\n",
       "        text-align: right;\n",
       "    }\n",
       "</style>\n",
       "<table border=\"1\" class=\"dataframe\">\n",
       "  <thead>\n",
       "    <tr style=\"text-align: right;\">\n",
       "      <th></th>\n",
       "      <th>idpostulante</th>\n",
       "      <th>fechanacimiento</th>\n",
       "      <th>sexo</th>\n",
       "    </tr>\n",
       "  </thead>\n",
       "  <tbody>\n",
       "    <tr>\n",
       "      <th>2</th>\n",
       "      <td>ZaO5</td>\n",
       "      <td>1978-08-10</td>\n",
       "      <td>FEM</td>\n",
       "    </tr>\n",
       "    <tr>\n",
       "      <th>4</th>\n",
       "      <td>eo2p</td>\n",
       "      <td>1981-02-16</td>\n",
       "      <td>MASC</td>\n",
       "    </tr>\n",
       "    <tr>\n",
       "      <th>7</th>\n",
       "      <td>8BkL</td>\n",
       "      <td>1976-07-21</td>\n",
       "      <td>FEM</td>\n",
       "    </tr>\n",
       "    <tr>\n",
       "      <th>8</th>\n",
       "      <td>1d2B</td>\n",
       "      <td>1976-02-28</td>\n",
       "      <td>MASC</td>\n",
       "    </tr>\n",
       "    <tr>\n",
       "      <th>9</th>\n",
       "      <td>NPBx</td>\n",
       "      <td>1981-03-09</td>\n",
       "      <td>MASC</td>\n",
       "    </tr>\n",
       "  </tbody>\n",
       "</table>\n",
       "</div>"
      ],
      "text/plain": [
       "  idpostulante fechanacimiento  sexo\n",
       "2         ZaO5      1978-08-10   FEM\n",
       "4         eo2p      1981-02-16  MASC\n",
       "7         8BkL      1976-07-21   FEM\n",
       "8         1d2B      1976-02-28  MASC\n",
       "9         NPBx      1981-03-09  MASC"
      ]
     },
     "execution_count": 39,
     "metadata": {},
     "output_type": "execute_result"
    }
   ],
   "source": [
    "#me quedo con los postulantes con edades de 18 a 44\n",
    "data_age1844 = data_postulant_sex_age[(data_postulant_sex_age['fechanacimiento'].dt.year >= 1974) & (data_postulant_sex_age['fechanacimiento'].dt.year < 2000)]\n",
    "data_age1844.head()"
   ]
  },
  {
   "cell_type": "code",
   "execution_count": 40,
   "metadata": {},
   "outputs": [
    {
     "data": {
      "text/html": [
       "<div>\n",
       "<style scoped>\n",
       "    .dataframe tbody tr th:only-of-type {\n",
       "        vertical-align: middle;\n",
       "    }\n",
       "\n",
       "    .dataframe tbody tr th {\n",
       "        vertical-align: top;\n",
       "    }\n",
       "\n",
       "    .dataframe thead th {\n",
       "        text-align: right;\n",
       "    }\n",
       "</style>\n",
       "<table border=\"1\" class=\"dataframe\">\n",
       "  <thead>\n",
       "    <tr style=\"text-align: right;\">\n",
       "      <th></th>\n",
       "      <th>idaviso</th>\n",
       "      <th>idpostulante</th>\n",
       "      <th>fechanacimiento</th>\n",
       "    </tr>\n",
       "  </thead>\n",
       "  <tbody>\n",
       "    <tr>\n",
       "      <th>0</th>\n",
       "      <td>1112286523</td>\n",
       "      <td>ZaO5</td>\n",
       "      <td>1978-08-10</td>\n",
       "    </tr>\n",
       "    <tr>\n",
       "      <th>1</th>\n",
       "      <td>1112272060</td>\n",
       "      <td>ZaO5</td>\n",
       "      <td>1978-08-10</td>\n",
       "    </tr>\n",
       "    <tr>\n",
       "      <th>2</th>\n",
       "      <td>1112288401</td>\n",
       "      <td>ZaO5</td>\n",
       "      <td>1978-08-10</td>\n",
       "    </tr>\n",
       "    <tr>\n",
       "      <th>3</th>\n",
       "      <td>1112300563</td>\n",
       "      <td>ZaO5</td>\n",
       "      <td>1978-08-10</td>\n",
       "    </tr>\n",
       "    <tr>\n",
       "      <th>4</th>\n",
       "      <td>1112293018</td>\n",
       "      <td>ZaO5</td>\n",
       "      <td>1978-08-10</td>\n",
       "    </tr>\n",
       "  </tbody>\n",
       "</table>\n",
       "</div>"
      ],
      "text/plain": [
       "      idaviso idpostulante fechanacimiento\n",
       "0  1112286523         ZaO5      1978-08-10\n",
       "1  1112272060         ZaO5      1978-08-10\n",
       "2  1112288401         ZaO5      1978-08-10\n",
       "3  1112300563         ZaO5      1978-08-10\n",
       "4  1112293018         ZaO5      1978-08-10"
      ]
     },
     "execution_count": 40,
     "metadata": {},
     "output_type": "execute_result"
    }
   ],
   "source": [
    "postulations_from18_to44 = pd.merge(data_postulation,data_age1844, on='idpostulante')\n",
    "\n",
    "\n",
    "postulations_from18_to44 = postulations_from18_to44[['idaviso','idpostulante','fechanacimiento']]\n",
    "postulations_from18_to44.head()"
   ]
  },
  {
   "cell_type": "code",
   "execution_count": 41,
   "metadata": {},
   "outputs": [
    {
     "data": {
      "text/html": [
       "<div>\n",
       "<style scoped>\n",
       "    .dataframe tbody tr th:only-of-type {\n",
       "        vertical-align: middle;\n",
       "    }\n",
       "\n",
       "    .dataframe tbody tr th {\n",
       "        vertical-align: top;\n",
       "    }\n",
       "\n",
       "    .dataframe thead th {\n",
       "        text-align: right;\n",
       "    }\n",
       "</style>\n",
       "<table border=\"1\" class=\"dataframe\">\n",
       "  <thead>\n",
       "    <tr style=\"text-align: right;\">\n",
       "      <th></th>\n",
       "      <th>idaviso</th>\n",
       "      <th>nivel_laboral</th>\n",
       "    </tr>\n",
       "  </thead>\n",
       "  <tbody>\n",
       "    <tr>\n",
       "      <th>0</th>\n",
       "      <td>8725750</td>\n",
       "      <td>Senior / Semi-Senior</td>\n",
       "    </tr>\n",
       "    <tr>\n",
       "      <th>1</th>\n",
       "      <td>17903700</td>\n",
       "      <td>Senior / Semi-Senior</td>\n",
       "    </tr>\n",
       "    <tr>\n",
       "      <th>2</th>\n",
       "      <td>1000150677</td>\n",
       "      <td>Senior / Semi-Senior</td>\n",
       "    </tr>\n",
       "    <tr>\n",
       "      <th>3</th>\n",
       "      <td>1000610287</td>\n",
       "      <td>Senior / Semi-Senior</td>\n",
       "    </tr>\n",
       "    <tr>\n",
       "      <th>4</th>\n",
       "      <td>1000872556</td>\n",
       "      <td>Senior / Semi-Senior</td>\n",
       "    </tr>\n",
       "  </tbody>\n",
       "</table>\n",
       "</div>"
      ],
      "text/plain": [
       "      idaviso         nivel_laboral\n",
       "0     8725750  Senior / Semi-Senior\n",
       "1    17903700  Senior / Semi-Senior\n",
       "2  1000150677  Senior / Semi-Senior\n",
       "3  1000610287  Senior / Semi-Senior\n",
       "4  1000872556  Senior / Semi-Senior"
      ]
     },
     "execution_count": 41,
     "metadata": {},
     "output_type": "execute_result"
    }
   ],
   "source": [
    "data_details2 = data_ads_details[['idaviso','nivel_laboral']]\n",
    "data_details2.head()"
   ]
  },
  {
   "cell_type": "code",
   "execution_count": 42,
   "metadata": {},
   "outputs": [
    {
     "data": {
      "text/html": [
       "<div>\n",
       "<style scoped>\n",
       "    .dataframe tbody tr th:only-of-type {\n",
       "        vertical-align: middle;\n",
       "    }\n",
       "\n",
       "    .dataframe tbody tr th {\n",
       "        vertical-align: top;\n",
       "    }\n",
       "\n",
       "    .dataframe thead th {\n",
       "        text-align: right;\n",
       "    }\n",
       "</style>\n",
       "<table border=\"1\" class=\"dataframe\">\n",
       "  <thead>\n",
       "    <tr style=\"text-align: right;\">\n",
       "      <th></th>\n",
       "      <th>idaviso</th>\n",
       "      <th>idpostulante</th>\n",
       "      <th>fechanacimiento</th>\n",
       "      <th>nivel_laboral</th>\n",
       "    </tr>\n",
       "  </thead>\n",
       "  <tbody>\n",
       "    <tr>\n",
       "      <th>0</th>\n",
       "      <td>1112286523</td>\n",
       "      <td>ZaO5</td>\n",
       "      <td>1978-08-10</td>\n",
       "      <td>Senior / Semi-Senior</td>\n",
       "    </tr>\n",
       "    <tr>\n",
       "      <th>1</th>\n",
       "      <td>1112286523</td>\n",
       "      <td>5kD2Pk</td>\n",
       "      <td>1983-07-29</td>\n",
       "      <td>Senior / Semi-Senior</td>\n",
       "    </tr>\n",
       "    <tr>\n",
       "      <th>2</th>\n",
       "      <td>1112286523</td>\n",
       "      <td>8Mv18l</td>\n",
       "      <td>1974-12-17</td>\n",
       "      <td>Senior / Semi-Senior</td>\n",
       "    </tr>\n",
       "    <tr>\n",
       "      <th>3</th>\n",
       "      <td>1112286523</td>\n",
       "      <td>aOoA2m</td>\n",
       "      <td>1979-01-21</td>\n",
       "      <td>Senior / Semi-Senior</td>\n",
       "    </tr>\n",
       "    <tr>\n",
       "      <th>4</th>\n",
       "      <td>1112286523</td>\n",
       "      <td>6Zwkj3</td>\n",
       "      <td>1975-02-05</td>\n",
       "      <td>Senior / Semi-Senior</td>\n",
       "    </tr>\n",
       "  </tbody>\n",
       "</table>\n",
       "</div>"
      ],
      "text/plain": [
       "      idaviso idpostulante fechanacimiento         nivel_laboral\n",
       "0  1112286523         ZaO5      1978-08-10  Senior / Semi-Senior\n",
       "1  1112286523       5kD2Pk      1983-07-29  Senior / Semi-Senior\n",
       "2  1112286523       8Mv18l      1974-12-17  Senior / Semi-Senior\n",
       "3  1112286523       aOoA2m      1979-01-21  Senior / Semi-Senior\n",
       "4  1112286523       6Zwkj3      1975-02-05  Senior / Semi-Senior"
      ]
     },
     "execution_count": 42,
     "metadata": {},
     "output_type": "execute_result"
    }
   ],
   "source": [
    "final_merge2 = pd.merge(postulations_from18_to44,data_details2, on='idaviso')\n",
    "final_merge2.head()"
   ]
  },
  {
   "cell_type": "code",
   "execution_count": 43,
   "metadata": {},
   "outputs": [
    {
     "data": {
      "text/plain": [
       "0    Senior / Semi-Senior\n",
       "1    Senior / Semi-Senior\n",
       "2    Senior / Semi-Senior\n",
       "3    Senior / Semi-Senior\n",
       "4    Senior / Semi-Senior\n",
       "Name: nivel_laboral, dtype: object"
      ]
     },
     "execution_count": 43,
     "metadata": {},
     "output_type": "execute_result"
    }
   ],
   "source": [
    "#calculo edad de los postulantes\n",
    "final_merge2['anios'] = final_merge2['fechanacimiento'].map(lambda x: 2018 - x.year)\n",
    "final_merge2['nivel_laboral'].head()"
   ]
  },
  {
   "cell_type": "code",
   "execution_count": 44,
   "metadata": {},
   "outputs": [],
   "source": [
    "work_level2=final_merge2['nivel_laboral'].value_counts()"
   ]
  },
  {
   "cell_type": "code",
   "execution_count": 56,
   "metadata": {},
   "outputs": [
    {
     "data": {
      "image/png": "[encoded data removed]",
      "text/plain": [
       "<Figure size 576x432 with 1 Axes>"
      ]
     },
     "metadata": {},
     "output_type": "display_data"
    },
    {
     "data": {
      "text/plain": [
       "<Figure size 432x288 with 0 Axes>"
      ]
     },
     "metadata": {},
     "output_type": "display_data"
    }
   ],
   "source": [
    "#Grafico obtenido HEATMAP\n",
    "\n",
    "fig = plt.figure()\n",
    "\n",
    "plt.title ('Cantidad de postulaciones en cada nivel laboral entre 18 y 44 anios',color='black', size = 20)\n",
    "\n",
    "ap1 = work_level2.plot(kind='bar', stacked=True, figsize=(8,6) ,alpha=0.75, color='pink', logy=True)\n",
    "\n",
    "\n",
    "ap1.set_ylabel('Cant de postulaciones')\n",
    "ap1.set_xlabel(\"Nivel laboral\")\n",
    "plt.show()\n",
    "plt.savefig('Cantidad de postulacion en cada nivel laboral 18 44.png',bbox_inches='tight')"
   ]
  },
  {
   "cell_type": "markdown",
   "metadata": {},
   "source": [
    "HORARIO DE MAS VISITAS"
   ]
  },
  {
   "cell_type": "code",
   "execution_count": 46,
   "metadata": {},
   "outputs": [
    {
     "data": {
      "text/html": [
       "<div>\n",
       "<style scoped>\n",
       "    .dataframe tbody tr th:only-of-type {\n",
       "        vertical-align: middle;\n",
       "    }\n",
       "\n",
       "    .dataframe tbody tr th {\n",
       "        vertical-align: top;\n",
       "    }\n",
       "\n",
       "    .dataframe thead th {\n",
       "        text-align: right;\n",
       "    }\n",
       "</style>\n",
       "<table border=\"1\" class=\"dataframe\">\n",
       "  <thead>\n",
       "    <tr style=\"text-align: right;\">\n",
       "      <th></th>\n",
       "      <th>idAviso</th>\n",
       "      <th>timestamp</th>\n",
       "      <th>idpostulante</th>\n",
       "    </tr>\n",
       "  </thead>\n",
       "  <tbody>\n",
       "    <tr>\n",
       "      <th>0</th>\n",
       "      <td>1111780242</td>\n",
       "      <td>2018-02-23T13:38:13.187-0500</td>\n",
       "      <td>YjVJQ6Z</td>\n",
       "    </tr>\n",
       "    <tr>\n",
       "      <th>1</th>\n",
       "      <td>1112263876</td>\n",
       "      <td>2018-02-23T13:38:14.296-0500</td>\n",
       "      <td>BmVpYoR</td>\n",
       "    </tr>\n",
       "    <tr>\n",
       "      <th>2</th>\n",
       "      <td>1112327963</td>\n",
       "      <td>2018-02-23T13:38:14.329-0500</td>\n",
       "      <td>wVkBzZd</td>\n",
       "    </tr>\n",
       "    <tr>\n",
       "      <th>3</th>\n",
       "      <td>1112318643</td>\n",
       "      <td>2018-02-23T13:38:17.921-0500</td>\n",
       "      <td>OqmP9pv</td>\n",
       "    </tr>\n",
       "    <tr>\n",
       "      <th>4</th>\n",
       "      <td>1111903673</td>\n",
       "      <td>2018-02-23T13:38:18.973-0500</td>\n",
       "      <td>DrpbXDP</td>\n",
       "    </tr>\n",
       "  </tbody>\n",
       "</table>\n",
       "</div>"
      ],
      "text/plain": [
       "      idAviso                     timestamp idpostulante\n",
       "0  1111780242  2018-02-23T13:38:13.187-0500      YjVJQ6Z\n",
       "1  1112263876  2018-02-23T13:38:14.296-0500      BmVpYoR\n",
       "2  1112327963  2018-02-23T13:38:14.329-0500      wVkBzZd\n",
       "3  1112318643  2018-02-23T13:38:17.921-0500      OqmP9pv\n",
       "4  1111903673  2018-02-23T13:38:18.973-0500      DrpbXDP"
      ]
     },
     "execution_count": 46,
     "metadata": {},
     "output_type": "execute_result"
    }
   ],
   "source": [
    "data_views.head()\n"
   ]
  },
  {
   "cell_type": "code",
   "execution_count": 47,
   "metadata": {},
   "outputs": [
    {
     "data": {
      "text/plain": [
       "0    2018-02-23T13:38:13.187-0500\n",
       "1    2018-02-23T13:38:14.296-0500\n",
       "2    2018-02-23T13:38:14.329-0500\n",
       "3    2018-02-23T13:38:17.921-0500\n",
       "4    2018-02-23T13:38:18.973-0500\n",
       "Name: timestamp, dtype: object"
      ]
     },
     "execution_count": 47,
     "metadata": {},
     "output_type": "execute_result"
    }
   ],
   "source": [
    "data_views['timestamp'].head()"
   ]
  },
  {
   "cell_type": "code",
   "execution_count": 48,
   "metadata": {},
   "outputs": [
    {
     "data": {
      "text/html": [
       "<div>\n",
       "<style scoped>\n",
       "    .dataframe tbody tr th:only-of-type {\n",
       "        vertical-align: middle;\n",
       "    }\n",
       "\n",
       "    .dataframe tbody tr th {\n",
       "        vertical-align: top;\n",
       "    }\n",
       "\n",
       "    .dataframe thead th {\n",
       "        text-align: right;\n",
       "    }\n",
       "</style>\n",
       "<table border=\"1\" class=\"dataframe\">\n",
       "  <thead>\n",
       "    <tr style=\"text-align: right;\">\n",
       "      <th></th>\n",
       "      <th>idAviso</th>\n",
       "      <th>timestamp</th>\n",
       "      <th>idpostulante</th>\n",
       "    </tr>\n",
       "  </thead>\n",
       "  <tbody>\n",
       "    <tr>\n",
       "      <th>0</th>\n",
       "      <td>1111780242</td>\n",
       "      <td>2018-02-23 18:38:13.187</td>\n",
       "      <td>YjVJQ6Z</td>\n",
       "    </tr>\n",
       "    <tr>\n",
       "      <th>1</th>\n",
       "      <td>1112263876</td>\n",
       "      <td>2018-02-23 18:38:14.296</td>\n",
       "      <td>BmVpYoR</td>\n",
       "    </tr>\n",
       "    <tr>\n",
       "      <th>2</th>\n",
       "      <td>1112327963</td>\n",
       "      <td>2018-02-23 18:38:14.329</td>\n",
       "      <td>wVkBzZd</td>\n",
       "    </tr>\n",
       "    <tr>\n",
       "      <th>3</th>\n",
       "      <td>1112318643</td>\n",
       "      <td>2018-02-23 18:38:17.921</td>\n",
       "      <td>OqmP9pv</td>\n",
       "    </tr>\n",
       "    <tr>\n",
       "      <th>4</th>\n",
       "      <td>1111903673</td>\n",
       "      <td>2018-02-23 18:38:18.973</td>\n",
       "      <td>DrpbXDP</td>\n",
       "    </tr>\n",
       "  </tbody>\n",
       "</table>\n",
       "</div>"
      ],
      "text/plain": [
       "      idAviso               timestamp idpostulante\n",
       "0  1111780242 2018-02-23 18:38:13.187      YjVJQ6Z\n",
       "1  1112263876 2018-02-23 18:38:14.296      BmVpYoR\n",
       "2  1112327963 2018-02-23 18:38:14.329      wVkBzZd\n",
       "3  1112318643 2018-02-23 18:38:17.921      OqmP9pv\n",
       "4  1111903673 2018-02-23 18:38:18.973      DrpbXDP"
      ]
     },
     "execution_count": 48,
     "metadata": {},
     "output_type": "execute_result"
    }
   ],
   "source": [
    "data_views['timestamp'] = pd.to_datetime(data_views['timestamp'], format = \"%Y-%m-%dT%H:%M:%S\",errors = 'coerce')\n",
    "data_views.head()"
   ]
  },
  {
   "cell_type": "code",
   "execution_count": 49,
   "metadata": {},
   "outputs": [
    {
     "data": {
      "text/plain": [
       "0     45966\n",
       "1     44273\n",
       "2     41101\n",
       "3     35716\n",
       "4     22249\n",
       "5     11966\n",
       "6      7487\n",
       "7      4550\n",
       "8      4445\n",
       "9      5957\n",
       "10    18679\n",
       "11    36364\n",
       "12    50213\n",
       "13    60972\n",
       "14    66168\n",
       "15    63737\n",
       "16    56415\n",
       "17    54704\n",
       "18    56568\n",
       "19    59214\n",
       "20    58042\n",
       "21    53928\n",
       "22    51527\n",
       "23    51656\n",
       "Name: timestamp, dtype: int64"
      ]
     },
     "execution_count": 49,
     "metadata": {},
     "output_type": "execute_result"
    }
   ],
   "source": [
    "#ordeno horarios de las visitas de los  avisos \n",
    "data_hours = data_views['timestamp'].dt.hour\n",
    "hours_of_a_day = data_hours.value_counts().sort_index()\n",
    "hours_of_a_day.head(24)"
   ]
  },
  {
   "cell_type": "code",
   "execution_count": 57,
   "metadata": {},
   "outputs": [
    {
     "data": {
      "image/png": "[encoded data removed]",
      "text/plain": [
       "<Figure size 1008x288 with 1 Axes>"
      ]
     },
     "metadata": {},
     "output_type": "display_data"
    }
   ],
   "source": [
    "hours_of_a_day.plot(figsize=(14,4),title='CANTIDAD DE VISITAS POR HORA', color = 'orange');\n",
    "ax=plt.gca()\n",
    "ax.set_ylabel('Cantidad de vistas')\n",
    "ax.set_xlabel('Hora del dia')\n",
    "#plt.show()\n",
    "plt.savefig('Horarios de visitas.png',bbox_inches='tight')"
   ]
  },
  {
   "cell_type": "markdown",
   "metadata": {},
   "source": [
    "EN EL HORARIO DE MAS VISITAS CUAl ES EL AVISO CON MAS POSTULACIONES (rango de 12 a 20) (AVISO POSTULANTE FECHA DE POSTULACION )"
   ]
  },
  {
   "cell_type": "code",
   "execution_count": 51,
   "metadata": {
    "scrolled": true
   },
   "outputs": [
    {
     "data": {
      "text/html": [
       "<div>\n",
       "<style scoped>\n",
       "    .dataframe tbody tr th:only-of-type {\n",
       "        vertical-align: middle;\n",
       "    }\n",
       "\n",
       "    .dataframe tbody tr th {\n",
       "        vertical-align: top;\n",
       "    }\n",
       "\n",
       "    .dataframe thead th {\n",
       "        text-align: right;\n",
       "    }\n",
       "</style>\n",
       "<table border=\"1\" class=\"dataframe\">\n",
       "  <thead>\n",
       "    <tr style=\"text-align: right;\">\n",
       "      <th></th>\n",
       "      <th>idaviso</th>\n",
       "      <th>idpostulante</th>\n",
       "      <th>fechapostulacion</th>\n",
       "    </tr>\n",
       "  </thead>\n",
       "  <tbody>\n",
       "    <tr>\n",
       "      <th>0</th>\n",
       "      <td>1112257047</td>\n",
       "      <td>NM5M</td>\n",
       "      <td>2018-01-15 16:22:34</td>\n",
       "    </tr>\n",
       "    <tr>\n",
       "      <th>4</th>\n",
       "      <td>1112237522</td>\n",
       "      <td>5awk</td>\n",
       "      <td>2018-01-25 18:55:03</td>\n",
       "    </tr>\n",
       "    <tr>\n",
       "      <th>5</th>\n",
       "      <td>1112277633</td>\n",
       "      <td>5awk</td>\n",
       "      <td>2018-01-29 13:34:44</td>\n",
       "    </tr>\n",
       "    <tr>\n",
       "      <th>12</th>\n",
       "      <td>1112315188</td>\n",
       "      <td>5awk</td>\n",
       "      <td>2018-02-28 15:54:28</td>\n",
       "    </tr>\n",
       "    <tr>\n",
       "      <th>13</th>\n",
       "      <td>1112346738</td>\n",
       "      <td>5awk</td>\n",
       "      <td>2018-02-28 15:54:47</td>\n",
       "    </tr>\n",
       "  </tbody>\n",
       "</table>\n",
       "</div>"
      ],
      "text/plain": [
       "       idaviso idpostulante    fechapostulacion\n",
       "0   1112257047         NM5M 2018-01-15 16:22:34\n",
       "4   1112237522         5awk 2018-01-25 18:55:03\n",
       "5   1112277633         5awk 2018-01-29 13:34:44\n",
       "12  1112315188         5awk 2018-02-28 15:54:28\n",
       "13  1112346738         5awk 2018-02-28 15:54:47"
      ]
     },
     "execution_count": 51,
     "metadata": {},
     "output_type": "execute_result"
    }
   ],
   "source": [
    "#me quedo con las postulaciones en el rango de horarios de 12 a 20\n",
    "data_postulation['fechapostulacion'] = pd.to_datetime(data_postulation['fechapostulacion'], format = '%Y-%m-%d %H:%M:%S',errors = 'coerce')\n",
    "data_postulation1220 = data_postulation[(data_postulation['fechapostulacion'].dt.hour > 12) & (data_postulation['fechapostulacion'].dt.hour < 20)]\n",
    "data_postulation1220.head()"
   ]
  },
  {
   "cell_type": "code",
   "execution_count": 52,
   "metadata": {},
   "outputs": [
    {
     "data": {
      "text/plain": [
       "1112345900    3539\n",
       "1112334791    3324\n",
       "1112319451    3024\n",
       "1112033906    2852\n",
       "1112204682    2848\n",
       "1112262494    2618\n",
       "1112296264    2553\n",
       "1112094756    2493\n",
       "1112316288    2480\n",
       "1112298966    2374\n",
       "1112349037    2353\n",
       "1112334788    2317\n",
       "1112260584    2249\n",
       "1112305277    2189\n",
       "1112280937    2155\n",
       "1112347329    2058\n",
       "1112303105    2032\n",
       "1112307266    2011\n",
       "1112344973    1948\n",
       "1112293625    1948\n",
       "Name: idaviso, dtype: int64"
      ]
     },
     "execution_count": 52,
     "metadata": {},
     "output_type": "execute_result"
    }
   ],
   "source": [
    "#avisos con mas postulaciones en el rango de horario 12 a 20\n",
    "data_postulation1220['idaviso'].value_counts().head(20)"
   ]
  },
  {
   "cell_type": "markdown",
   "metadata": {},
   "source": [
    "AREA CON MAS VISITAS EN EL RANGO DE HORARIO 12 A 20"
   ]
  },
  {
   "cell_type": "code",
   "execution_count": 53,
   "metadata": {},
   "outputs": [
    {
     "data": {
      "text/plain": [
       "Ventas                                   53556\n",
       "Administración                           48841\n",
       "Producción                               27862\n",
       "Comercial                                25296\n",
       "Atención al Cliente                      21392\n",
       "Recepcionista                            20559\n",
       "Call Center                              14590\n",
       "Telemarketing                            10815\n",
       "Tesorería                                 9850\n",
       "Mantenimiento y Limpieza                  9472\n",
       "Contabilidad                              8638\n",
       "Recursos Humanos                          7912\n",
       "Secretaria                                5894\n",
       "Almacén / Depósito / Expedición           5796\n",
       "Gastronomia                               5612\n",
       "Farmacéutica                              5558\n",
       "Camareros                                 5046\n",
       "Legal                                     5038\n",
       "Administración de Personal                4716\n",
       "Créditos y Cobranzas                      4312\n",
       "Logística                                 4146\n",
       "Otros                                     3737\n",
       "Salud                                     3712\n",
       "Compras                                   3694\n",
       "Marketing                                 3421\n",
       "Mantenimiento                             3348\n",
       "Soporte Técnico                           3163\n",
       "Finanzas                                  3057\n",
       "Oficios y Profesiones                     2936\n",
       "Transporte                                2899\n",
       "                                         ...  \n",
       "Estética y Cuidado Personal                 79\n",
       "Diseño Multimedia                           71\n",
       "Creatividad                                 67\n",
       "Ingeniería en Petróleo y Petroquímica       60\n",
       "Independientes                              59\n",
       "Ingeniería en Minas                         58\n",
       "Seguridad Industrial                        56\n",
       "Internet                                    56\n",
       "Ingeniería de Ventas                        55\n",
       "Bioquímica                                  50\n",
       "Investigación y Desarrollo                  48\n",
       "Farmacia hospitalaria                       33\n",
       "Emergentología                              30\n",
       "Negocios Internacionales                    30\n",
       "Instrumentación                             27\n",
       "Administración de Base de Datos             26\n",
       "Medio Ambiente                              24\n",
       "Comercio Exterior                           22\n",
       "Idiomas                                     19\n",
       "Multimedia                                  17\n",
       "Veterinaria                                 15\n",
       "Finanzas Internacionales                    12\n",
       "Traduccion                                  11\n",
       "Diseño 3D                                   10\n",
       "Dirección                                    5\n",
       "Ingeniería Geológica                         5\n",
       "Tecnico de Seguros                           3\n",
       "Comunicaciones Externas                      2\n",
       "Trabajo Social                               2\n",
       "Data Warehousing                             2\n",
       "Name: nombre_area, Length: 158, dtype: int64"
      ]
     },
     "execution_count": 53,
     "metadata": {},
     "output_type": "execute_result"
    }
   ],
   "source": [
    "#me quedo con las visitas en el rango horario de 12 a 20 y calcuo el area mas visitada\n",
    "data_views1220 = data_views[(data_views['timestamp'].dt.hour > 12) & (data_views['timestamp'].dt.hour < 20)]\n",
    "data_views1220.columns = ['idaviso','timestamp','idpostulante']\n",
    "data_views1220 = pd.merge(data_views1220,data_ads_details,on='idaviso')\n",
    "data_views1220['nombre_area'].value_counts()"
   ]
  },
  {
   "cell_type": "markdown",
   "metadata": {},
   "source": [
    "TRABAJO CON MAS VISTAS EN EL HORARIO DE 12 A 20"
   ]
  },
  {
   "cell_type": "code",
   "execution_count": 54,
   "metadata": {},
   "outputs": [
    {
     "data": {
      "text/plain": [
       "Recepcionista Administrativa                                              2151\n",
       "Administrativo General Para Importante Obra social                        1776\n",
       "Representantes de Atención al Cliente Part Time Mañana y Tarde            1683\n",
       "Recepcionista/Asistente Administrativa                                    1615\n",
       "Cajero de Sucursal - Contrato a Plazo Fijo                                1506\n",
       "Administrativo Recupero SUR                                               1484\n",
       "Administrativo RRHH Eventual                                              1440\n",
       "Empleado Administrativo/Contable                                          1408\n",
       "Operador Telefónico Atención al Cliente - Turno mañana (hasta 15hrs)      1354\n",
       "Empleado Administrativo part time                                         1321\n",
       "Representante de Atención al Cliente                                      1312\n",
       "cajeras y repositores                                                     1229\n",
       "Recepcionista para Agencia Marítima  (EVENTUAL)                           1224\n",
       "Cajero/a - Part Time                                                      1205\n",
       "Limpieza (Puesto efectivo)                                                1200\n",
       "Asesores de Atención al Público - Part time                               1146\n",
       "Secretaria para centro medico                                             1138\n",
       "Programa Jóvenes Emprendedores 2018                                       1133\n",
       "Vendedor de local de indumentaria infantil (Para trabajar en Shopping)    1118\n",
       "Operador telefónico /  Retención y Fidelización de clientes               1115\n",
       "Referente de Comunicaciones Internas y Cultura                            1099\n",
       "Recepcionista                                                             1091\n",
       "Operadores para Centro de Atención Telefónica                             1073\n",
       "Representante de Ventas Telefónicas                                       1054\n",
       "CAJERAS Y VENDEDORAS                                                      1049\n",
       "Gestor/a de cobranzas PART-TIME                                           1037\n",
       "Operarios/as de limpieza                                                  1028\n",
       "Vendedor de salon para empresa deco y de ropa de cama                      992\n",
       "Vendedores de Salón - CABA                                                 986\n",
       "Secretaria                                                                 985\n",
       "                                                                          ... \n",
       "Cajera Local de Indumentaria - Unicenter                                     1\n",
       "Representante de Servicios al Cliente Z/Centro                               1\n",
       "Operarios/as de control de calidad Pueblo Esther                             1\n",
       "Abogado/a Derecho Tributario                                                 1\n",
       "CADETES (SOLO CON MOTO PROPIA)                                               1\n",
       "Analista de Politicas de Riesgo- Eventual                                    1\n",
       "Operario de depósito para ortopedía                                          1\n",
       "Desarrollador Sr - Zona Benavidez                                            1\n",
       "Responsable de Recursos Humanos para Empresa del rubro financiero            1\n",
       "Ingeniero de procesos                                                        1\n",
       "Reclutador de personal (Eventual)                                            1\n",
       "Abogado/a para el área de Derecho Laboral                                    1\n",
       "Analista de Siniestros - Importante Cía de Seguros                           1\n",
       "Pasante en Custemer Experience                                               1\n",
       "Oficial Banca Individuos Pool Zona Sur                                       1\n",
       "Inspector o supervisor de montaje de equipos para refinería en Campana       1\n",
       "Comercial Rosario Part Time                                                  1\n",
       "HR BUSINESS PARTNER (Salto / Villa Mercedes)                                 1\n",
       "RECURSOS HUMANOS - EMPRESA TEXTIL                                            1\n",
       "Buscamos vendedores para iCase                                               1\n",
       "Administrativo de archivo para RRHH eventual                                 1\n",
       "Vendedores de Salón (0 KM y Usados) - Paternal (CABA)                        1\n",
       "VENDEDOR - ASISTENTE DE CUENTAS PARA GRAFICA DIGITAL                         1\n",
       "ENCARGADO/SUPERVISOR OPERATIVO DE LIMPIEZA                                   1\n",
       "Ingeniero de Confiabilidad Eléctrica (Comodoro Rivadavia)                    1\n",
       "Técnico Mecánico / electromecánico mantenimiento equipos CAT - Salta         1\n",
       "Administrativo de producción y stock.                                        1\n",
       "Jefe de Control de Gestión                                                   1\n",
       "Asistente para Capacitación                                                  1\n",
       "Responsable de Servicios y Contratos - Interior Misiones                     1\n",
       "Name: titulo, Length: 5771, dtype: int64"
      ]
     },
     "execution_count": 54,
     "metadata": {},
     "output_type": "execute_result"
    }
   ],
   "source": [
    "#titulo de trabajo con mas vistas entre las 12 y 20\n",
    "data_views1220['titulo'].value_counts()"
   ]
  }
 ],
 "metadata": {
  "kernelspec": {
   "display_name": "Python 3",
   "language": "python",
   "name": "python3"
  },
  "language_info": {
   "codemirror_mode": {
    "name": "ipython",
    "version": 3
   },
   "file_extension": ".py",
   "mimetype": "text/x-python",
   "name": "python",
   "nbconvert_exporter": "python",
   "pygments_lexer": "ipython3",
   "version": "3.6.5"
  }
 },
 "nbformat": 4,
 "nbformat_minor": 2
}
