{
 "cells": [
  {
   "cell_type": "code",
   "execution_count": 1,
   "metadata": {},
   "outputs": [],
   "source": [
    "import pandas as pd\n",
    "import numpy as np\n",
    "import matplotlib.pyplot as plt\n",
    "\n",
    "%matplotlib inline\n",
    "\n",
    "from sklearn import tree\n",
    "from sklearn.metrics import accuracy_score\n",
    "from sklearn.model_selection import KFold\n",
    "from sklearn.model_selection import cross_val_score"
   ]
  },
  {
   "cell_type": "code",
   "execution_count": 2,
   "metadata": {},
   "outputs": [],
   "source": [
    "#Funcion que limpia los datos, quedandose con el nivel de educacion mas alto de casa id de los postulantes.\n",
    "def education_cleaning(df):\n",
    "    education_dic= {'Secundario': 1, 'Universitario':3,'Terciario/Técnico':2, 'Otro':0, 'Posgrado':4, 'Master': 5, 'Doctorado': 6}\n",
    "    df['nombre_sort'] = df['nombre'].map(education_dic)\n",
    "    df = df.sort_values(by='nombre_sort', ascending=False)\n",
    "    df = df.drop_duplicates(subset='idpostulante',keep='first')\n",
    "    return df"
   ]
  },
  {
   "cell_type": "code",
   "execution_count": 3,
   "metadata": {},
   "outputs": [],
   "source": [
    "def datetime(date,format_string):\n",
    "    return pd.to_datetime(date,format= format_string,errors='coerce')"
   ]
  },
  {
   "cell_type": "code",
   "execution_count": 2,
   "metadata": {},
   "outputs": [],
   "source": [
    "merge_postulants_ads = pd.read_csv('avisos_postulantes.csv')"
   ]
  },
  {
   "cell_type": "code",
   "execution_count": 3,
   "metadata": {},
   "outputs": [
    {
     "data": {
      "text/html": [
       "<div>\n",
       "<style scoped>\n",
       "    .dataframe tbody tr th:only-of-type {\n",
       "        vertical-align: middle;\n",
       "    }\n",
       "\n",
       "    .dataframe tbody tr th {\n",
       "        vertical-align: top;\n",
       "    }\n",
       "\n",
       "    .dataframe thead th {\n",
       "        text-align: right;\n",
       "    }\n",
       "</style>\n",
       "<table border=\"1\" class=\"dataframe\">\n",
       "  <thead>\n",
       "    <tr style=\"text-align: right;\">\n",
       "      <th></th>\n",
       "      <th>idpostulante</th>\n",
       "      <th>nombre</th>\n",
       "      <th>estado</th>\n",
       "      <th>nombre_sort</th>\n",
       "      <th>fechanacimiento</th>\n",
       "      <th>sexo</th>\n",
       "      <th>idaviso</th>\n",
       "      <th>fechapostulacion</th>\n",
       "      <th>idpais</th>\n",
       "      <th>titulo</th>\n",
       "      <th>nombre_zona</th>\n",
       "      <th>tipo_de_trabajo</th>\n",
       "      <th>nivel_laboral</th>\n",
       "      <th>nombre_area</th>\n",
       "    </tr>\n",
       "  </thead>\n",
       "  <tbody>\n",
       "    <tr>\n",
       "      <th>0</th>\n",
       "      <td>4rP6q15</td>\n",
       "      <td>Doctorado</td>\n",
       "      <td>En Curso</td>\n",
       "      <td>6.0</td>\n",
       "      <td>NaN</td>\n",
       "      <td>NO_DECLARA</td>\n",
       "      <td>1112145679</td>\n",
       "      <td>2018-01-19 11:34:00</td>\n",
       "      <td>1</td>\n",
       "      <td>Telecobrador - Importante Banco</td>\n",
       "      <td>Gran Buenos Aires</td>\n",
       "      <td>Full-time</td>\n",
       "      <td>Senior / Semi-Senior</td>\n",
       "      <td>Call Center</td>\n",
       "    </tr>\n",
       "    <tr>\n",
       "      <th>1</th>\n",
       "      <td>4rP6q15</td>\n",
       "      <td>Doctorado</td>\n",
       "      <td>En Curso</td>\n",
       "      <td>6.0</td>\n",
       "      <td>NaN</td>\n",
       "      <td>NO_DECLARA</td>\n",
       "      <td>1112145679</td>\n",
       "      <td>2018-01-19 11:34:00</td>\n",
       "      <td>1</td>\n",
       "      <td>Telecobranzas - Importante banco</td>\n",
       "      <td>Gran Buenos Aires</td>\n",
       "      <td>Full-time</td>\n",
       "      <td>Senior / Semi-Senior</td>\n",
       "      <td>Call Center</td>\n",
       "    </tr>\n",
       "    <tr>\n",
       "      <th>2</th>\n",
       "      <td>RzMvGDo</td>\n",
       "      <td>Doctorado</td>\n",
       "      <td>Graduado</td>\n",
       "      <td>6.0</td>\n",
       "      <td>1986-08-21</td>\n",
       "      <td>MASC</td>\n",
       "      <td>1112145679</td>\n",
       "      <td>2018-04-11 07:19:00</td>\n",
       "      <td>1</td>\n",
       "      <td>Telecobrador - Importante Banco</td>\n",
       "      <td>Gran Buenos Aires</td>\n",
       "      <td>Full-time</td>\n",
       "      <td>Senior / Semi-Senior</td>\n",
       "      <td>Call Center</td>\n",
       "    </tr>\n",
       "    <tr>\n",
       "      <th>3</th>\n",
       "      <td>RzMvGDo</td>\n",
       "      <td>Doctorado</td>\n",
       "      <td>Graduado</td>\n",
       "      <td>6.0</td>\n",
       "      <td>1986-08-21</td>\n",
       "      <td>MASC</td>\n",
       "      <td>1112145679</td>\n",
       "      <td>2018-04-11 07:19:00</td>\n",
       "      <td>1</td>\n",
       "      <td>Telecobranzas - Importante banco</td>\n",
       "      <td>Gran Buenos Aires</td>\n",
       "      <td>Full-time</td>\n",
       "      <td>Senior / Semi-Senior</td>\n",
       "      <td>Call Center</td>\n",
       "    </tr>\n",
       "    <tr>\n",
       "      <th>4</th>\n",
       "      <td>owav2La</td>\n",
       "      <td>Doctorado</td>\n",
       "      <td>En Curso</td>\n",
       "      <td>6.0</td>\n",
       "      <td>1998-03-14</td>\n",
       "      <td>FEM</td>\n",
       "      <td>1112145679</td>\n",
       "      <td>2018-02-20 01:54:39</td>\n",
       "      <td>1</td>\n",
       "      <td>Telecobrador - Importante Banco</td>\n",
       "      <td>Gran Buenos Aires</td>\n",
       "      <td>Full-time</td>\n",
       "      <td>Senior / Semi-Senior</td>\n",
       "      <td>Call Center</td>\n",
       "    </tr>\n",
       "  </tbody>\n",
       "</table>\n",
       "</div>"
      ],
      "text/plain": [
       "  idpostulante     nombre    estado  nombre_sort fechanacimiento        sexo  \\\n",
       "0      4rP6q15  Doctorado  En Curso          6.0             NaN  NO_DECLARA   \n",
       "1      4rP6q15  Doctorado  En Curso          6.0             NaN  NO_DECLARA   \n",
       "2      RzMvGDo  Doctorado  Graduado          6.0      1986-08-21        MASC   \n",
       "3      RzMvGDo  Doctorado  Graduado          6.0      1986-08-21        MASC   \n",
       "4      owav2La  Doctorado  En Curso          6.0      1998-03-14         FEM   \n",
       "\n",
       "      idaviso     fechapostulacion  idpais                            titulo  \\\n",
       "0  1112145679  2018-01-19 11:34:00       1   Telecobrador - Importante Banco   \n",
       "1  1112145679  2018-01-19 11:34:00       1  Telecobranzas - Importante banco   \n",
       "2  1112145679  2018-04-11 07:19:00       1   Telecobrador - Importante Banco   \n",
       "3  1112145679  2018-04-11 07:19:00       1  Telecobranzas - Importante banco   \n",
       "4  1112145679  2018-02-20 01:54:39       1   Telecobrador - Importante Banco   \n",
       "\n",
       "         nombre_zona tipo_de_trabajo         nivel_laboral  nombre_area  \n",
       "0  Gran Buenos Aires       Full-time  Senior / Semi-Senior  Call Center  \n",
       "1  Gran Buenos Aires       Full-time  Senior / Semi-Senior  Call Center  \n",
       "2  Gran Buenos Aires       Full-time  Senior / Semi-Senior  Call Center  \n",
       "3  Gran Buenos Aires       Full-time  Senior / Semi-Senior  Call Center  \n",
       "4  Gran Buenos Aires       Full-time  Senior / Semi-Senior  Call Center  "
      ]
     },
     "execution_count": 3,
     "metadata": {},
     "output_type": "execute_result"
    }
   ],
   "source": [
    "merge_postulants_ads.head()"
   ]
  },
  {
   "cell_type": "code",
   "execution_count": 4,
   "metadata": {},
   "outputs": [],
   "source": [
    "merge_postulants_ads['se_postulo'] = 1"
   ]
  },
  {
   "cell_type": "code",
   "execution_count": 5,
   "metadata": {},
   "outputs": [],
   "source": [
    "merge_postulants_ads_NOTS = pd.read_csv('avisos_no_postulantes.csv')"
   ]
  },
  {
   "cell_type": "code",
   "execution_count": 6,
   "metadata": {},
   "outputs": [],
   "source": [
    "#Concateno las postulaciones con las NO postulaciones\n",
    "\n",
    "frames = [merge_postulants_ads,merge_postulants_ads_NOTS]\n",
    "total = pd.concat(frames, ignore_index = True)\n"
   ]
  },
  {
   "cell_type": "code",
   "execution_count": 7,
   "metadata": {},
   "outputs": [],
   "source": [
    "total.drop_duplicates(subset=['idpostulante','idaviso'], keep = 'first',inplace = True)\n",
    "total.reset_index(inplace = True,drop = True)"
   ]
  },
  {
   "cell_type": "code",
   "execution_count": 9,
   "metadata": {},
   "outputs": [],
   "source": [
    "total.to_csv(\"postulaciones_nopostulaciones.csv\", index = False)"
   ]
  },
  {
   "cell_type": "code",
   "execution_count": null,
   "metadata": {},
   "outputs": [],
   "source": [
    "#Aca empezaria a ver que datos voy a usar para la parte de machine learning y entonces saco\n",
    "#los datos que no voy a usar y mapeo los datos segun sea necesario.SERIA MEJOR QUE ESTE EN OTRO NOTEBOOK"
   ]
  }
 ],
 "metadata": {
  "kernelspec": {
   "display_name": "Python 3",
   "language": "python",
   "name": "python3"
  },
  "language_info": {
   "codemirror_mode": {
    "name": "ipython",
    "version": 3
   },
   "file_extension": ".py",
   "mimetype": "text/x-python",
   "name": "python",
   "nbconvert_exporter": "python",
   "pygments_lexer": "ipython3",
   "version": "3.5.2"
  }
 },
 "nbformat": 4,
 "nbformat_minor": 2
}
