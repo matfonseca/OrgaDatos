{
 "cells": [
  {
   "cell_type": "markdown",
   "metadata": {},
   "source": [
    "# Random Forest"
   ]
  },
  {
   "cell_type": "code",
   "execution_count": 1,
   "metadata": {},
   "outputs": [],
   "source": [
    "import pandas as pd\n",
    "import numpy as np\n",
    "import matplotlib.pyplot as plt\n",
    "from sklearn.model_selection import train_test_split\n",
    "from sklearn.ensemble import RandomForestClassifier\n",
    "\n",
    "%matplotlib inline"
   ]
  },
  {
   "cell_type": "code",
   "execution_count": 9,
   "metadata": {},
   "outputs": [],
   "source": [
    "columns = {'se_postulo':np.int8,\n",
    "'estado_Abandonado':np.int8,\n",
    "'estado_En Curso':np.int8,\n",
    "'estado_Graduado':np.int8,\n",
    "'nombre_Doctorado':np.int8,\n",
    "'nombre_Master':np.int8,\n",
    "'nombre_Otro':np.int8,\n",
    "'nombre_Posgrado':np.int8,\n",
    "'nombre_Secundario':np.int8,\n",
    "'nombre_Terciario/Técnico':np.int8,\n",
    "'nombre_Universitario':np.int8,\n",
    "'tipo_de_trabajo_Fines de Semana':np.int8,\n",
    "'tipo_de_trabajo_Full-time':np.int8,\n",
    "'tipo_de_trabajo_Part-time':np.int8,\n",
    "'tipo_de_trabajo_Pasantia':np.int8,\n",
    "'tipo_de_trabajo_Por Contrato':np.int8,\n",
    "'tipo_de_trabajo_Por Horas':np.int8,\n",
    "'tipo_de_trabajo_Primer empleo':np.int8,\n",
    "'tipo_de_trabajo_Teletrabajo':np.int8,\n",
    "'tipo_de_trabajo_Temporario':np.int8,\n",
    "'tipo_de_trabajo_Voluntario':np.int8,\n",
    "'nivel_laboral_Gerencia / Alta Gerencia / Dirección':np.int8,\n",
    "'nivel_laboral_Jefe / Supervisor / Responsable':np.int8,\n",
    "'nivel_laboral_Junior':np.int8,\n",
    "'nivel_laboral_Otro':np.int8,\n",
    "'nivel_laboral_Senior / Semi-Senior':np.int8,\n",
    "'sexo_0.0':np.int8,\n",
    "'sexo_FEM':np.int8,\n",
    "'sexo_MASC':np.int8,\n",
    "'sexo_NO_DECLARA':np.int8,\n",
    "'fechanacimiento_1775.0':np.int8,\n",
    "'fechanacimiento_1902.0':np.int8,\n",
    "'fechanacimiento_1917.0':np.int8,\n",
    "'fechanacimiento_1921.0':np.int8,\n",
    "'fechanacimiento_1939.0':np.int8,\n",
    "'fechanacimiento_1940.0':np.int8,\n",
    "'fechanacimiento_1941.0':np.int8,\n",
    "'fechanacimiento_1942.0':np.int8,\n",
    "'fechanacimiento_1943.0':np.int8,\n",
    "'fechanacimiento_1944.0':np.int8,\n",
    "'fechanacimiento_1945.0':np.int8,\n",
    "'fechanacimiento_1946.0':np.int8,\n",
    "'fechanacimiento_1947.0':np.int8,\n",
    "'fechanacimiento_1948.0':np.int8,\n",
    "'fechanacimiento_1949.0':np.int8,\n",
    "'fechanacimiento_1950.0':np.int8,\n",
    "'fechanacimiento_1951.0':np.int8,\n",
    "'fechanacimiento_1952.0':np.int8,\n",
    "'fechanacimiento_1953.0':np.int8,\n",
    "'fechanacimiento_1954.0':np.int8,\n",
    "'fechanacimiento_1955.0':np.int8,\n",
    "'fechanacimiento_1956.0':np.int8,\n",
    "'fechanacimiento_1957.0':np.int8,\n",
    "'fechanacimiento_1958.0':np.int8,\n",
    "'fechanacimiento_1959.0':np.int8,\n",
    "'fechanacimiento_1960.0':np.int8,\n",
    "'fechanacimiento_1961.0':np.int8,\n",
    "'fechanacimiento_1962.0':np.int8,\n",
    "'fechanacimiento_1963.0':np.int8,\n",
    "'fechanacimiento_1964.0':np.int8,\n",
    "'fechanacimiento_1965.0':np.int8,\n",
    "'fechanacimiento_1966.0':np.int8,\n",
    "'fechanacimiento_1967.0':np.int8,\n",
    "'fechanacimiento_1968.0':np.int8,\n",
    "'fechanacimiento_1969.0':np.int8,\n",
    "'fechanacimiento_1970.0':np.int8,\n",
    "'fechanacimiento_1971.0':np.int8,\n",
    "'fechanacimiento_1972.0':np.int8,\n",
    "'fechanacimiento_1973.0':np.int8,\n",
    "'fechanacimiento_1974.0':np.int8,\n",
    "'fechanacimiento_1975.0':np.int8,\n",
    "'fechanacimiento_1976.0':np.int8,\n",
    "'fechanacimiento_1977.0':np.int8,\n",
    "'fechanacimiento_1978.0':np.int8,\n",
    "'fechanacimiento_1979.0':np.int8,\n",
    "'fechanacimiento_1980.0':np.int8,\n",
    "'fechanacimiento_1981.0':np.int8,\n",
    "'fechanacimiento_1982.0':np.int8,\n",
    "'fechanacimiento_1983.0':np.int8,\n",
    "'fechanacimiento_1984.0':np.int8,\n",
    "'fechanacimiento_1985.0':np.int8,\n",
    "'fechanacimiento_1986.0':np.int8,\n",
    "'fechanacimiento_1987.0':np.int8,\n",
    "'fechanacimiento_1988.0':np.int8,\n",
    "'fechanacimiento_1989.0':np.int8,\n",
    "'fechanacimiento_1990.0':np.int8,\n",
    "'fechanacimiento_1991.0':np.int8,\n",
    "'fechanacimiento_1992.0':np.int8,\n",
    "'fechanacimiento_1993.0':np.int8,\n",
    "'fechanacimiento_1994.0':np.int8,\n",
    "'fechanacimiento_1995.0':np.int8,\n",
    "'fechanacimiento_1996.0':np.int8,\n",
    "'fechanacimiento_1997.0':np.int8,\n",
    "'fechanacimiento_1998.0':np.int8,\n",
    "'fechanacimiento_1999.0':np.int8,\n",
    "'fechanacimiento_2000.0':np.int8,\n",
    "'fechanacimiento_2005.0':np.int8,\n",
    "'fechanacimiento_2006.0':np.int8,\n",
    "'fechanacimiento_2007.0':np.int8,\n",
    "'fechanacimiento_2008.0':np.int8,\n",
    "'nombre_zona_Buenos Aires (fuera de GBA)':np.int8,\n",
    "'nombre_zona_Capital Federal':np.int8,\n",
    "'nombre_zona_GBA Oeste':np.int8,\n",
    "'nombre_zona_Gran Buenos Aires':np.int8}\n",
    "postulants = pd.read_csv('../MapDataAnalysis/DataMappedRandomForest2v2.csv',dtype=columns)"
   ]
  },
  {
   "cell_type": "code",
   "execution_count": 71,
   "metadata": {},
   "outputs": [
    {
     "data": {
      "text/html": [
       "<div>\n",
       "<style scoped>\n",
       "    .dataframe tbody tr th:only-of-type {\n",
       "        vertical-align: middle;\n",
       "    }\n",
       "\n",
       "    .dataframe tbody tr th {\n",
       "        vertical-align: top;\n",
       "    }\n",
       "\n",
       "    .dataframe thead th {\n",
       "        text-align: right;\n",
       "    }\n",
       "</style>\n",
       "<table border=\"1\" class=\"dataframe\">\n",
       "  <thead>\n",
       "    <tr style=\"text-align: right;\">\n",
       "      <th></th>\n",
       "      <th>se_postulo</th>\n",
       "      <th>estado_Abandonado</th>\n",
       "      <th>estado_En Curso</th>\n",
       "      <th>estado_Graduado</th>\n",
       "      <th>nombre_Doctorado</th>\n",
       "      <th>nombre_Master</th>\n",
       "      <th>nombre_Otro</th>\n",
       "      <th>nombre_Posgrado</th>\n",
       "      <th>nombre_Secundario</th>\n",
       "      <th>nombre_Terciario/Técnico</th>\n",
       "      <th>...</th>\n",
       "      <th>fechanacimiento_1999.0</th>\n",
       "      <th>fechanacimiento_2000.0</th>\n",
       "      <th>fechanacimiento_2005.0</th>\n",
       "      <th>fechanacimiento_2006.0</th>\n",
       "      <th>fechanacimiento_2007.0</th>\n",
       "      <th>fechanacimiento_2008.0</th>\n",
       "      <th>nombre_zona_Buenos Aires (fuera de GBA)</th>\n",
       "      <th>nombre_zona_Capital Federal</th>\n",
       "      <th>nombre_zona_GBA Oeste</th>\n",
       "      <th>nombre_zona_Gran Buenos Aires</th>\n",
       "    </tr>\n",
       "  </thead>\n",
       "  <tbody>\n",
       "    <tr>\n",
       "      <th>0</th>\n",
       "      <td>1</td>\n",
       "      <td>0</td>\n",
       "      <td>1</td>\n",
       "      <td>0</td>\n",
       "      <td>1</td>\n",
       "      <td>0</td>\n",
       "      <td>0</td>\n",
       "      <td>0</td>\n",
       "      <td>0</td>\n",
       "      <td>0</td>\n",
       "      <td>...</td>\n",
       "      <td>0</td>\n",
       "      <td>0</td>\n",
       "      <td>0</td>\n",
       "      <td>0</td>\n",
       "      <td>0</td>\n",
       "      <td>0</td>\n",
       "      <td>0</td>\n",
       "      <td>0</td>\n",
       "      <td>0</td>\n",
       "      <td>1</td>\n",
       "    </tr>\n",
       "    <tr>\n",
       "      <th>1</th>\n",
       "      <td>1</td>\n",
       "      <td>0</td>\n",
       "      <td>0</td>\n",
       "      <td>1</td>\n",
       "      <td>1</td>\n",
       "      <td>0</td>\n",
       "      <td>0</td>\n",
       "      <td>0</td>\n",
       "      <td>0</td>\n",
       "      <td>0</td>\n",
       "      <td>...</td>\n",
       "      <td>0</td>\n",
       "      <td>0</td>\n",
       "      <td>0</td>\n",
       "      <td>0</td>\n",
       "      <td>0</td>\n",
       "      <td>0</td>\n",
       "      <td>0</td>\n",
       "      <td>0</td>\n",
       "      <td>0</td>\n",
       "      <td>1</td>\n",
       "    </tr>\n",
       "    <tr>\n",
       "      <th>2</th>\n",
       "      <td>1</td>\n",
       "      <td>0</td>\n",
       "      <td>1</td>\n",
       "      <td>0</td>\n",
       "      <td>1</td>\n",
       "      <td>0</td>\n",
       "      <td>0</td>\n",
       "      <td>0</td>\n",
       "      <td>0</td>\n",
       "      <td>0</td>\n",
       "      <td>...</td>\n",
       "      <td>0</td>\n",
       "      <td>0</td>\n",
       "      <td>0</td>\n",
       "      <td>0</td>\n",
       "      <td>0</td>\n",
       "      <td>0</td>\n",
       "      <td>0</td>\n",
       "      <td>0</td>\n",
       "      <td>0</td>\n",
       "      <td>1</td>\n",
       "    </tr>\n",
       "    <tr>\n",
       "      <th>3</th>\n",
       "      <td>1</td>\n",
       "      <td>0</td>\n",
       "      <td>0</td>\n",
       "      <td>1</td>\n",
       "      <td>1</td>\n",
       "      <td>0</td>\n",
       "      <td>0</td>\n",
       "      <td>0</td>\n",
       "      <td>0</td>\n",
       "      <td>0</td>\n",
       "      <td>...</td>\n",
       "      <td>0</td>\n",
       "      <td>0</td>\n",
       "      <td>0</td>\n",
       "      <td>0</td>\n",
       "      <td>0</td>\n",
       "      <td>0</td>\n",
       "      <td>0</td>\n",
       "      <td>0</td>\n",
       "      <td>0</td>\n",
       "      <td>1</td>\n",
       "    </tr>\n",
       "    <tr>\n",
       "      <th>4</th>\n",
       "      <td>1</td>\n",
       "      <td>0</td>\n",
       "      <td>0</td>\n",
       "      <td>1</td>\n",
       "      <td>1</td>\n",
       "      <td>0</td>\n",
       "      <td>0</td>\n",
       "      <td>0</td>\n",
       "      <td>0</td>\n",
       "      <td>0</td>\n",
       "      <td>...</td>\n",
       "      <td>0</td>\n",
       "      <td>0</td>\n",
       "      <td>0</td>\n",
       "      <td>0</td>\n",
       "      <td>0</td>\n",
       "      <td>0</td>\n",
       "      <td>0</td>\n",
       "      <td>0</td>\n",
       "      <td>0</td>\n",
       "      <td>1</td>\n",
       "    </tr>\n",
       "  </tbody>\n",
       "</table>\n",
       "<p>5 rows × 104 columns</p>\n",
       "</div>"
      ],
      "text/plain": [
       "   se_postulo  estado_Abandonado  estado_En Curso  estado_Graduado  \\\n",
       "0           1                  0                1                0   \n",
       "1           1                  0                0                1   \n",
       "2           1                  0                1                0   \n",
       "3           1                  0                0                1   \n",
       "4           1                  0                0                1   \n",
       "\n",
       "   nombre_Doctorado  nombre_Master  nombre_Otro  nombre_Posgrado  \\\n",
       "0                 1              0            0                0   \n",
       "1                 1              0            0                0   \n",
       "2                 1              0            0                0   \n",
       "3                 1              0            0                0   \n",
       "4                 1              0            0                0   \n",
       "\n",
       "   nombre_Secundario  nombre_Terciario/Técnico              ...                \\\n",
       "0                  0                         0              ...                 \n",
       "1                  0                         0              ...                 \n",
       "2                  0                         0              ...                 \n",
       "3                  0                         0              ...                 \n",
       "4                  0                         0              ...                 \n",
       "\n",
       "   fechanacimiento_1999.0  fechanacimiento_2000.0  fechanacimiento_2005.0  \\\n",
       "0                       0                       0                       0   \n",
       "1                       0                       0                       0   \n",
       "2                       0                       0                       0   \n",
       "3                       0                       0                       0   \n",
       "4                       0                       0                       0   \n",
       "\n",
       "   fechanacimiento_2006.0  fechanacimiento_2007.0  fechanacimiento_2008.0  \\\n",
       "0                       0                       0                       0   \n",
       "1                       0                       0                       0   \n",
       "2                       0                       0                       0   \n",
       "3                       0                       0                       0   \n",
       "4                       0                       0                       0   \n",
       "\n",
       "   nombre_zona_Buenos Aires (fuera de GBA)  nombre_zona_Capital Federal  \\\n",
       "0                                        0                            0   \n",
       "1                                        0                            0   \n",
       "2                                        0                            0   \n",
       "3                                        0                            0   \n",
       "4                                        0                            0   \n",
       "\n",
       "   nombre_zona_GBA Oeste  nombre_zona_Gran Buenos Aires  \n",
       "0                      0                              1  \n",
       "1                      0                              1  \n",
       "2                      0                              1  \n",
       "3                      0                              1  \n",
       "4                      0                              1  \n",
       "\n",
       "[5 rows x 104 columns]"
      ]
     },
     "execution_count": 71,
     "metadata": {},
     "output_type": "execute_result"
    }
   ],
   "source": [
    "postulants.head()"
   ]
  },
  {
   "cell_type": "code",
   "execution_count": 3,
   "metadata": {},
   "outputs": [],
   "source": [
    "postulants[\"fechanacimiento_1915.0\"]=0\n",
    "postulants[\"fechanacimiento_1916.0\"]=0\n",
    "postulants[\"fechanacimiento_1937.0\"]=0\n",
    "postulants[\"fechanacimiento_1938.0\"]=0\n",
    "postulants[\"fechanacimiento_2001.0\"]=0\n",
    "postulants[\"fechanacimiento_2002.0\"]=0\n",
    "postulants[\"fechanacimiento_2003.0\"]=0\n",
    "postulants[\"fechanacimiento_2004.0\"]=0\n",
    "postulants[\"nombre_zona_Catamarca\"]=0\n",
    "postulants[\"nombre_zona_Ciudad de Mendoza\"]=0\n",
    "postulants[\"nombre_zona_Cordoba\"]=0\n",
    "postulants[\"nombre_zona_Corrientes\"]=0\n",
    "postulants[\"nombre_zona_La Plata\"]=0\n",
    "postulants[\"nombre_zona_Mendoza\"]=0\n",
    "postulants[\"nombre_zona_Neuquen\"]=0\n",
    "postulants[\"nombre_zona_Rosario\"]=0\n",
    "postulants[\"nombre_zona_San Juan\"]=0\n",
    "postulants[\"nombre_zona_Santa Cruz\"]=0\n",
    "postulants[\"nombre_zona_Santa Fe\"]=0\n",
    "postulants[\"nombre_zona_Tucuman\"]=0\n",
    "\n"
   ]
  },
  {
   "cell_type": "code",
   "execution_count": 10,
   "metadata": {},
   "outputs": [],
   "source": [
    "X_train, X_test, y_train, y_test = train_test_split(postulants.iloc[:,1:], postulants.iloc[:,1], test_size=0.33)"
   ]
  },
  {
   "cell_type": "code",
   "execution_count": 66,
   "metadata": {},
   "outputs": [],
   "source": [
    "# Create a random forest Classifier. By convention, clf means 'Classifier'\n",
    "\n",
    "clf = RandomForestClassifier(n_jobs=-1,n_estimators=30)"
   ]
  },
  {
   "cell_type": "code",
   "execution_count": 67,
   "metadata": {
    "scrolled": false
   },
   "outputs": [
    {
     "data": {
      "text/plain": [
       "RandomForestClassifier(bootstrap=True, class_weight=None, criterion='gini',\n",
       "            max_depth=None, max_features='auto', max_leaf_nodes=None,\n",
       "            min_impurity_decrease=0.0, min_impurity_split=None,\n",
       "            min_samples_leaf=1, min_samples_split=2,\n",
       "            min_weight_fraction_leaf=0.0, n_estimators=30, n_jobs=-1,\n",
       "            oob_score=False, random_state=None, verbose=0,\n",
       "            warm_start=False)"
      ]
     },
     "execution_count": 67,
     "metadata": {},
     "output_type": "execute_result"
    }
   ],
   "source": [
    "clf.fit(X_train,y_train)"
   ]
  },
  {
   "cell_type": "code",
   "execution_count": 68,
   "metadata": {},
   "outputs": [
    {
     "data": {
      "text/plain": [
       "array([1, 0, 0, ..., 0, 0, 0], dtype=int8)"
      ]
     },
     "execution_count": 68,
     "metadata": {},
     "output_type": "execute_result"
    }
   ],
   "source": [
    "clf.predict(X_test)"
   ]
  },
  {
   "cell_type": "code",
   "execution_count": 69,
   "metadata": {},
   "outputs": [
    {
     "data": {
      "text/plain": [
       "1.0"
      ]
     },
     "execution_count": 69,
     "metadata": {},
     "output_type": "execute_result"
    }
   ],
   "source": [
    "#Pruebo el score para ver si realiza overfitting\n",
    "clf.score(X_test,y_test)"
   ]
  },
  {
   "cell_type": "code",
   "execution_count": 65,
   "metadata": {},
   "outputs": [
    {
     "data": {
      "text/plain": [
       "0    99996\n",
       "1        4\n",
       "Name: nombre_zona_Tucuman, dtype: int64"
      ]
     },
     "execution_count": 65,
     "metadata": {},
     "output_type": "execute_result"
    }
   ],
   "source": [
    "test[\"nombre_zona_Tucuman\"].value_counts()"
   ]
  },
  {
   "cell_type": "code",
   "execution_count": 64,
   "metadata": {},
   "outputs": [
    {
     "data": {
      "text/plain": [
       "0    99996\n",
       "1        4\n",
       "Name: nombre_zona_Santa Fe, dtype: int64"
      ]
     },
     "execution_count": 64,
     "metadata": {},
     "output_type": "execute_result"
    }
   ],
   "source": [
    "test[\"nombre_zona_Santa Fe\"].value_counts()"
   ]
  },
  {
   "cell_type": "code",
   "execution_count": 63,
   "metadata": {},
   "outputs": [
    {
     "data": {
      "text/plain": [
       "0    99996\n",
       "1        4\n",
       "Name: nombre_zona_Santa Cruz, dtype: int64"
      ]
     },
     "execution_count": 63,
     "metadata": {},
     "output_type": "execute_result"
    }
   ],
   "source": [
    "test[\"nombre_zona_Santa Cruz\"].value_counts()"
   ]
  },
  {
   "cell_type": "code",
   "execution_count": 62,
   "metadata": {},
   "outputs": [
    {
     "data": {
      "text/plain": [
       "0    99996\n",
       "1        4\n",
       "Name: nombre_zona_San Juan, dtype: int64"
      ]
     },
     "execution_count": 62,
     "metadata": {},
     "output_type": "execute_result"
    }
   ],
   "source": [
    "test[\"nombre_zona_San Juan\"].value_counts()"
   ]
  },
  {
   "cell_type": "code",
   "execution_count": 61,
   "metadata": {},
   "outputs": [
    {
     "data": {
      "text/plain": [
       "0    99993\n",
       "1        7\n",
       "Name: nombre_zona_Rosario, dtype: int64"
      ]
     },
     "execution_count": 61,
     "metadata": {},
     "output_type": "execute_result"
    }
   ],
   "source": [
    "test[\"nombre_zona_Rosario\"].value_counts()"
   ]
  },
  {
   "cell_type": "code",
   "execution_count": 60,
   "metadata": {},
   "outputs": [
    {
     "data": {
      "text/plain": [
       "0    99997\n",
       "1        3\n",
       "Name: nombre_zona_Neuquen, dtype: int64"
      ]
     },
     "execution_count": 60,
     "metadata": {},
     "output_type": "execute_result"
    }
   ],
   "source": [
    "test[\"nombre_zona_Neuquen\"].value_counts()"
   ]
  },
  {
   "cell_type": "code",
   "execution_count": 59,
   "metadata": {},
   "outputs": [
    {
     "data": {
      "text/plain": [
       "0    99991\n",
       "1        9\n",
       "Name: nombre_zona_Mendoza, dtype: int64"
      ]
     },
     "execution_count": 59,
     "metadata": {},
     "output_type": "execute_result"
    }
   ],
   "source": [
    "test[\"nombre_zona_Mendoza\"].value_counts()"
   ]
  },
  {
   "cell_type": "code",
   "execution_count": 58,
   "metadata": {},
   "outputs": [
    {
     "data": {
      "text/plain": [
       "0    99987\n",
       "1       13\n",
       "Name: nombre_zona_La Plata, dtype: int64"
      ]
     },
     "execution_count": 58,
     "metadata": {},
     "output_type": "execute_result"
    }
   ],
   "source": [
    "test[\"nombre_zona_La Plata\"].value_counts()"
   ]
  },
  {
   "cell_type": "code",
   "execution_count": 57,
   "metadata": {},
   "outputs": [
    {
     "data": {
      "text/plain": [
       "0    99991\n",
       "1        9\n",
       "Name: nombre_zona_Corrientes, dtype: int64"
      ]
     },
     "execution_count": 57,
     "metadata": {},
     "output_type": "execute_result"
    }
   ],
   "source": [
    "test[\"nombre_zona_Corrientes\"].value_counts()"
   ]
  },
  {
   "cell_type": "code",
   "execution_count": 56,
   "metadata": {},
   "outputs": [
    {
     "data": {
      "text/plain": [
       "0    99881\n",
       "1      119\n",
       "Name: nombre_zona_Cordoba, dtype: int64"
      ]
     },
     "execution_count": 56,
     "metadata": {},
     "output_type": "execute_result"
    }
   ],
   "source": [
    "test[\"nombre_zona_Cordoba\"].value_counts()"
   ]
  },
  {
   "cell_type": "code",
   "execution_count": 55,
   "metadata": {},
   "outputs": [
    {
     "data": {
      "text/plain": [
       "0    99989\n",
       "1       11\n",
       "Name: nombre_zona_Ciudad de Mendoza, dtype: int64"
      ]
     },
     "execution_count": 55,
     "metadata": {},
     "output_type": "execute_result"
    }
   ],
   "source": [
    "test[\"nombre_zona_Ciudad de Mendoza\"].value_counts()"
   ]
  },
  {
   "cell_type": "code",
   "execution_count": 42,
   "metadata": {},
   "outputs": [],
   "source": [
    "#Ahora buscamos predecir los datos de la competencia\n",
    "test = pd.read_csv('../MapDataAnalysis/TestMappedRandomForest2v2.csv')"
   ]
  },
  {
   "cell_type": "code",
   "execution_count": 54,
   "metadata": {},
   "outputs": [
    {
     "data": {
      "text/plain": [
       "0    99997\n",
       "1        3\n",
       "Name: nombre_zona_Catamarca, dtype: int64"
      ]
     },
     "execution_count": 54,
     "metadata": {},
     "output_type": "execute_result"
    }
   ],
   "source": [
    "test[\"nombre_zona_Catamarca\"].value_counts()"
   ]
  },
  {
   "cell_type": "code",
   "execution_count": 43,
   "metadata": {},
   "outputs": [
    {
     "data": {
      "text/plain": [
       "0    99998\n",
       "1        2\n",
       "Name: fechanacimiento_1915.0, dtype: int64"
      ]
     },
     "execution_count": 43,
     "metadata": {},
     "output_type": "execute_result"
    }
   ],
   "source": [
    "test[\"fechanacimiento_1915.0\"].value_counts()"
   ]
  },
  {
   "cell_type": "code",
   "execution_count": 44,
   "metadata": {},
   "outputs": [
    {
     "data": {
      "text/plain": [
       "0    99999\n",
       "1        1\n",
       "Name: fechanacimiento_1916.0, dtype: int64"
      ]
     },
     "execution_count": 44,
     "metadata": {},
     "output_type": "execute_result"
    }
   ],
   "source": [
    "test[\"fechanacimiento_1916.0\"].value_counts()"
   ]
  },
  {
   "cell_type": "code",
   "execution_count": 48,
   "metadata": {},
   "outputs": [
    {
     "data": {
      "text/plain": [
       "0    99999\n",
       "1        1\n",
       "Name: fechanacimiento_1937.0, dtype: int64"
      ]
     },
     "execution_count": 48,
     "metadata": {},
     "output_type": "execute_result"
    }
   ],
   "source": [
    "test[\"fechanacimiento_1937.0\"].value_counts()"
   ]
  },
  {
   "cell_type": "code",
   "execution_count": 49,
   "metadata": {},
   "outputs": [
    {
     "data": {
      "text/plain": [
       "0    99999\n",
       "1        1\n",
       "Name: fechanacimiento_1938.0, dtype: int64"
      ]
     },
     "execution_count": 49,
     "metadata": {},
     "output_type": "execute_result"
    }
   ],
   "source": [
    "test[\"fechanacimiento_1938.0\"].value_counts()"
   ]
  },
  {
   "cell_type": "code",
   "execution_count": 50,
   "metadata": {},
   "outputs": [
    {
     "data": {
      "text/plain": [
       "0    99979\n",
       "1       21\n",
       "Name: fechanacimiento_2001.0, dtype: int64"
      ]
     },
     "execution_count": 50,
     "metadata": {},
     "output_type": "execute_result"
    }
   ],
   "source": [
    "test[\"fechanacimiento_2001.0\"].value_counts()"
   ]
  },
  {
   "cell_type": "code",
   "execution_count": 51,
   "metadata": {},
   "outputs": [
    {
     "data": {
      "text/plain": [
       "0    99998\n",
       "1        2\n",
       "Name: fechanacimiento_2002.0, dtype: int64"
      ]
     },
     "execution_count": 51,
     "metadata": {},
     "output_type": "execute_result"
    }
   ],
   "source": [
    "test[\"fechanacimiento_2002.0\"].value_counts()"
   ]
  },
  {
   "cell_type": "code",
   "execution_count": 52,
   "metadata": {},
   "outputs": [
    {
     "data": {
      "text/plain": [
       "0    99999\n",
       "1        1\n",
       "Name: fechanacimiento_2003.0, dtype: int64"
      ]
     },
     "execution_count": 52,
     "metadata": {},
     "output_type": "execute_result"
    }
   ],
   "source": [
    "test[\"fechanacimiento_2003.0\"].value_counts()"
   ]
  },
  {
   "cell_type": "code",
   "execution_count": 53,
   "metadata": {},
   "outputs": [
    {
     "data": {
      "text/plain": [
       "0    99999\n",
       "1        1\n",
       "Name: fechanacimiento_2004.0, dtype: int64"
      ]
     },
     "execution_count": 53,
     "metadata": {},
     "output_type": "execute_result"
    }
   ],
   "source": [
    "test[\"fechanacimiento_2004.0\"].value_counts()"
   ]
  },
  {
   "cell_type": "code",
   "execution_count": 32,
   "metadata": {},
   "outputs": [],
   "source": [
    "test = test.drop([\"fechanacimiento_1915.0\",\"fechanacimiento_1916.0\",\"fechanacimiento_1937.0\",\"fechanacimiento_1938.0\",\"nombre_zona_Catamarca\",\"nombre_zona_Cordoba\",\"nombre_zona_La Plata\",\"nombre_zona_Mendoza\",\"nombre_zona_Neuquen\",\"nombre_zona_Rosario\",\"nombre_zona_San Juan\",\"nombre_zona_Santa Cruz\",\"nombre_zona_Santa Fe\"],axis=1)"
   ]
  },
  {
   "cell_type": "code",
   "execution_count": 70,
   "metadata": {},
   "outputs": [
    {
     "data": {
      "text/html": [
       "<div>\n",
       "<style scoped>\n",
       "    .dataframe tbody tr th:only-of-type {\n",
       "        vertical-align: middle;\n",
       "    }\n",
       "\n",
       "    .dataframe tbody tr th {\n",
       "        vertical-align: top;\n",
       "    }\n",
       "\n",
       "    .dataframe thead th {\n",
       "        text-align: right;\n",
       "    }\n",
       "</style>\n",
       "<table border=\"1\" class=\"dataframe\">\n",
       "  <thead>\n",
       "    <tr style=\"text-align: right;\">\n",
       "      <th></th>\n",
       "      <th>id</th>\n",
       "      <th>idaviso</th>\n",
       "      <th>idpostulante</th>\n",
       "      <th>estado_Abandonado</th>\n",
       "      <th>estado_En Curso</th>\n",
       "      <th>estado_Graduado</th>\n",
       "      <th>nombre_Doctorado</th>\n",
       "      <th>nombre_Master</th>\n",
       "      <th>nombre_Otro</th>\n",
       "      <th>nombre_Posgrado</th>\n",
       "      <th>...</th>\n",
       "      <th>nombre_zona_GBA Oeste</th>\n",
       "      <th>nombre_zona_Gran Buenos Aires</th>\n",
       "      <th>nombre_zona_La Plata</th>\n",
       "      <th>nombre_zona_Mendoza</th>\n",
       "      <th>nombre_zona_Neuquen</th>\n",
       "      <th>nombre_zona_Rosario</th>\n",
       "      <th>nombre_zona_San Juan</th>\n",
       "      <th>nombre_zona_Santa Cruz</th>\n",
       "      <th>nombre_zona_Santa Fe</th>\n",
       "      <th>nombre_zona_Tucuman</th>\n",
       "    </tr>\n",
       "  </thead>\n",
       "  <tbody>\n",
       "    <tr>\n",
       "      <th>0</th>\n",
       "      <td>0</td>\n",
       "      <td>739260</td>\n",
       "      <td>6M9ZQR</td>\n",
       "      <td>0</td>\n",
       "      <td>0</td>\n",
       "      <td>1</td>\n",
       "      <td>1</td>\n",
       "      <td>0</td>\n",
       "      <td>0</td>\n",
       "      <td>0</td>\n",
       "      <td>...</td>\n",
       "      <td>0</td>\n",
       "      <td>0</td>\n",
       "      <td>0</td>\n",
       "      <td>0</td>\n",
       "      <td>0</td>\n",
       "      <td>0</td>\n",
       "      <td>0</td>\n",
       "      <td>0</td>\n",
       "      <td>0</td>\n",
       "      <td>0</td>\n",
       "    </tr>\n",
       "    <tr>\n",
       "      <th>1</th>\n",
       "      <td>1</td>\n",
       "      <td>739260</td>\n",
       "      <td>6v1xdL</td>\n",
       "      <td>0</td>\n",
       "      <td>0</td>\n",
       "      <td>1</td>\n",
       "      <td>0</td>\n",
       "      <td>0</td>\n",
       "      <td>0</td>\n",
       "      <td>0</td>\n",
       "      <td>...</td>\n",
       "      <td>0</td>\n",
       "      <td>0</td>\n",
       "      <td>0</td>\n",
       "      <td>0</td>\n",
       "      <td>0</td>\n",
       "      <td>0</td>\n",
       "      <td>0</td>\n",
       "      <td>0</td>\n",
       "      <td>0</td>\n",
       "      <td>0</td>\n",
       "    </tr>\n",
       "    <tr>\n",
       "      <th>2</th>\n",
       "      <td>2</td>\n",
       "      <td>739260</td>\n",
       "      <td>ezRKm9</td>\n",
       "      <td>0</td>\n",
       "      <td>0</td>\n",
       "      <td>1</td>\n",
       "      <td>0</td>\n",
       "      <td>0</td>\n",
       "      <td>0</td>\n",
       "      <td>0</td>\n",
       "      <td>...</td>\n",
       "      <td>0</td>\n",
       "      <td>0</td>\n",
       "      <td>0</td>\n",
       "      <td>0</td>\n",
       "      <td>0</td>\n",
       "      <td>0</td>\n",
       "      <td>0</td>\n",
       "      <td>0</td>\n",
       "      <td>0</td>\n",
       "      <td>0</td>\n",
       "    </tr>\n",
       "    <tr>\n",
       "      <th>3</th>\n",
       "      <td>3</td>\n",
       "      <td>758580</td>\n",
       "      <td>1Q35ej</td>\n",
       "      <td>0</td>\n",
       "      <td>0</td>\n",
       "      <td>1</td>\n",
       "      <td>0</td>\n",
       "      <td>0</td>\n",
       "      <td>0</td>\n",
       "      <td>1</td>\n",
       "      <td>...</td>\n",
       "      <td>0</td>\n",
       "      <td>0</td>\n",
       "      <td>0</td>\n",
       "      <td>0</td>\n",
       "      <td>0</td>\n",
       "      <td>0</td>\n",
       "      <td>0</td>\n",
       "      <td>0</td>\n",
       "      <td>0</td>\n",
       "      <td>0</td>\n",
       "    </tr>\n",
       "    <tr>\n",
       "      <th>4</th>\n",
       "      <td>4</td>\n",
       "      <td>758580</td>\n",
       "      <td>EAN4J6</td>\n",
       "      <td>1</td>\n",
       "      <td>0</td>\n",
       "      <td>0</td>\n",
       "      <td>0</td>\n",
       "      <td>0</td>\n",
       "      <td>0</td>\n",
       "      <td>0</td>\n",
       "      <td>...</td>\n",
       "      <td>0</td>\n",
       "      <td>0</td>\n",
       "      <td>0</td>\n",
       "      <td>0</td>\n",
       "      <td>0</td>\n",
       "      <td>0</td>\n",
       "      <td>0</td>\n",
       "      <td>0</td>\n",
       "      <td>0</td>\n",
       "      <td>0</td>\n",
       "    </tr>\n",
       "  </tbody>\n",
       "</table>\n",
       "<p>5 rows × 119 columns</p>\n",
       "</div>"
      ],
      "text/plain": [
       "   id  idaviso idpostulante  estado_Abandonado  estado_En Curso  \\\n",
       "0   0   739260       6M9ZQR                  0                0   \n",
       "1   1   739260       6v1xdL                  0                0   \n",
       "2   2   739260       ezRKm9                  0                0   \n",
       "3   3   758580       1Q35ej                  0                0   \n",
       "4   4   758580       EAN4J6                  1                0   \n",
       "\n",
       "   estado_Graduado  nombre_Doctorado  nombre_Master  nombre_Otro  \\\n",
       "0                1                 1              0            0   \n",
       "1                1                 0              0            0   \n",
       "2                1                 0              0            0   \n",
       "3                1                 0              0            0   \n",
       "4                0                 0              0            0   \n",
       "\n",
       "   nombre_Posgrado         ...           nombre_zona_GBA Oeste  \\\n",
       "0                0         ...                               0   \n",
       "1                0         ...                               0   \n",
       "2                0         ...                               0   \n",
       "3                1         ...                               0   \n",
       "4                0         ...                               0   \n",
       "\n",
       "   nombre_zona_Gran Buenos Aires  nombre_zona_La Plata  nombre_zona_Mendoza  \\\n",
       "0                              0                     0                    0   \n",
       "1                              0                     0                    0   \n",
       "2                              0                     0                    0   \n",
       "3                              0                     0                    0   \n",
       "4                              0                     0                    0   \n",
       "\n",
       "   nombre_zona_Neuquen  nombre_zona_Rosario  nombre_zona_San Juan  \\\n",
       "0                    0                    0                     0   \n",
       "1                    0                    0                     0   \n",
       "2                    0                    0                     0   \n",
       "3                    0                    0                     0   \n",
       "4                    0                    0                     0   \n",
       "\n",
       "   nombre_zona_Santa Cruz  nombre_zona_Santa Fe  nombre_zona_Tucuman  \n",
       "0                       0                     0                    0  \n",
       "1                       0                     0                    0  \n",
       "2                       0                     0                    0  \n",
       "3                       0                     0                    0  \n",
       "4                       0                     0                    0  \n",
       "\n",
       "[5 rows x 119 columns]"
      ]
     },
     "execution_count": 70,
     "metadata": {},
     "output_type": "execute_result"
    }
   ],
   "source": [
    "test.head()"
   ]
  },
  {
   "cell_type": "code",
   "execution_count": 33,
   "metadata": {},
   "outputs": [],
   "source": [
    "test = test.drop(['idaviso','idpostulante'],axis=1)"
   ]
  },
  {
   "cell_type": "code",
   "execution_count": 34,
   "metadata": {},
   "outputs": [],
   "source": [
    "result = clf.predict(test.iloc[:,1:])"
   ]
  },
  {
   "cell_type": "code",
   "execution_count": 18,
   "metadata": {},
   "outputs": [],
   "source": [
    "test=test.drop(['nombre','estado','fechanacimiento','sexo','idpais','titulo','nombre_zona','tipo_de_trabajo','nivel_laboral','nombre_area'], axis=1)"
   ]
  },
  {
   "cell_type": "code",
   "execution_count": 35,
   "metadata": {},
   "outputs": [],
   "source": [
    "test['sepostulo'] = result"
   ]
  },
  {
   "cell_type": "code",
   "execution_count": 36,
   "metadata": {},
   "outputs": [
    {
     "data": {
      "text/html": [
       "<div>\n",
       "<style scoped>\n",
       "    .dataframe tbody tr th:only-of-type {\n",
       "        vertical-align: middle;\n",
       "    }\n",
       "\n",
       "    .dataframe tbody tr th {\n",
       "        vertical-align: top;\n",
       "    }\n",
       "\n",
       "    .dataframe thead th {\n",
       "        text-align: right;\n",
       "    }\n",
       "</style>\n",
       "<table border=\"1\" class=\"dataframe\">\n",
       "  <thead>\n",
       "    <tr style=\"text-align: right;\">\n",
       "      <th></th>\n",
       "      <th>id</th>\n",
       "      <th>estado_Abandonado</th>\n",
       "      <th>estado_En Curso</th>\n",
       "      <th>estado_Graduado</th>\n",
       "      <th>nombre_Doctorado</th>\n",
       "      <th>nombre_Master</th>\n",
       "      <th>nombre_Otro</th>\n",
       "      <th>nombre_Posgrado</th>\n",
       "      <th>nombre_Secundario</th>\n",
       "      <th>nombre_Terciario/Técnico</th>\n",
       "      <th>...</th>\n",
       "      <th>fechanacimiento_2007.0</th>\n",
       "      <th>fechanacimiento_2008.0</th>\n",
       "      <th>nombre_zona_Buenos Aires (fuera de GBA)</th>\n",
       "      <th>nombre_zona_Capital Federal</th>\n",
       "      <th>nombre_zona_Ciudad de Mendoza</th>\n",
       "      <th>nombre_zona_Corrientes</th>\n",
       "      <th>nombre_zona_GBA Oeste</th>\n",
       "      <th>nombre_zona_Gran Buenos Aires</th>\n",
       "      <th>nombre_zona_Tucuman</th>\n",
       "      <th>sepostulo</th>\n",
       "    </tr>\n",
       "  </thead>\n",
       "  <tbody>\n",
       "    <tr>\n",
       "      <th>0</th>\n",
       "      <td>0</td>\n",
       "      <td>0</td>\n",
       "      <td>0</td>\n",
       "      <td>1</td>\n",
       "      <td>1</td>\n",
       "      <td>0</td>\n",
       "      <td>0</td>\n",
       "      <td>0</td>\n",
       "      <td>0</td>\n",
       "      <td>0</td>\n",
       "      <td>...</td>\n",
       "      <td>0</td>\n",
       "      <td>0</td>\n",
       "      <td>0</td>\n",
       "      <td>1</td>\n",
       "      <td>0</td>\n",
       "      <td>0</td>\n",
       "      <td>0</td>\n",
       "      <td>0</td>\n",
       "      <td>0</td>\n",
       "      <td>0</td>\n",
       "    </tr>\n",
       "    <tr>\n",
       "      <th>1</th>\n",
       "      <td>1</td>\n",
       "      <td>0</td>\n",
       "      <td>0</td>\n",
       "      <td>1</td>\n",
       "      <td>0</td>\n",
       "      <td>0</td>\n",
       "      <td>0</td>\n",
       "      <td>0</td>\n",
       "      <td>0</td>\n",
       "      <td>1</td>\n",
       "      <td>...</td>\n",
       "      <td>0</td>\n",
       "      <td>0</td>\n",
       "      <td>0</td>\n",
       "      <td>1</td>\n",
       "      <td>0</td>\n",
       "      <td>0</td>\n",
       "      <td>0</td>\n",
       "      <td>0</td>\n",
       "      <td>0</td>\n",
       "      <td>0</td>\n",
       "    </tr>\n",
       "    <tr>\n",
       "      <th>2</th>\n",
       "      <td>2</td>\n",
       "      <td>0</td>\n",
       "      <td>0</td>\n",
       "      <td>1</td>\n",
       "      <td>0</td>\n",
       "      <td>0</td>\n",
       "      <td>0</td>\n",
       "      <td>0</td>\n",
       "      <td>0</td>\n",
       "      <td>0</td>\n",
       "      <td>...</td>\n",
       "      <td>0</td>\n",
       "      <td>0</td>\n",
       "      <td>0</td>\n",
       "      <td>1</td>\n",
       "      <td>0</td>\n",
       "      <td>0</td>\n",
       "      <td>0</td>\n",
       "      <td>0</td>\n",
       "      <td>0</td>\n",
       "      <td>0</td>\n",
       "    </tr>\n",
       "    <tr>\n",
       "      <th>3</th>\n",
       "      <td>3</td>\n",
       "      <td>0</td>\n",
       "      <td>0</td>\n",
       "      <td>1</td>\n",
       "      <td>0</td>\n",
       "      <td>0</td>\n",
       "      <td>0</td>\n",
       "      <td>1</td>\n",
       "      <td>0</td>\n",
       "      <td>0</td>\n",
       "      <td>...</td>\n",
       "      <td>0</td>\n",
       "      <td>0</td>\n",
       "      <td>0</td>\n",
       "      <td>1</td>\n",
       "      <td>0</td>\n",
       "      <td>0</td>\n",
       "      <td>0</td>\n",
       "      <td>0</td>\n",
       "      <td>0</td>\n",
       "      <td>0</td>\n",
       "    </tr>\n",
       "    <tr>\n",
       "      <th>4</th>\n",
       "      <td>4</td>\n",
       "      <td>1</td>\n",
       "      <td>0</td>\n",
       "      <td>0</td>\n",
       "      <td>0</td>\n",
       "      <td>0</td>\n",
       "      <td>0</td>\n",
       "      <td>0</td>\n",
       "      <td>0</td>\n",
       "      <td>0</td>\n",
       "      <td>...</td>\n",
       "      <td>0</td>\n",
       "      <td>0</td>\n",
       "      <td>0</td>\n",
       "      <td>1</td>\n",
       "      <td>0</td>\n",
       "      <td>0</td>\n",
       "      <td>0</td>\n",
       "      <td>0</td>\n",
       "      <td>0</td>\n",
       "      <td>1</td>\n",
       "    </tr>\n",
       "  </tbody>\n",
       "</table>\n",
       "<p>5 rows × 105 columns</p>\n",
       "</div>"
      ],
      "text/plain": [
       "   id  estado_Abandonado  estado_En Curso  estado_Graduado  nombre_Doctorado  \\\n",
       "0   0                  0                0                1                 1   \n",
       "1   1                  0                0                1                 0   \n",
       "2   2                  0                0                1                 0   \n",
       "3   3                  0                0                1                 0   \n",
       "4   4                  1                0                0                 0   \n",
       "\n",
       "   nombre_Master  nombre_Otro  nombre_Posgrado  nombre_Secundario  \\\n",
       "0              0            0                0                  0   \n",
       "1              0            0                0                  0   \n",
       "2              0            0                0                  0   \n",
       "3              0            0                1                  0   \n",
       "4              0            0                0                  0   \n",
       "\n",
       "   nombre_Terciario/Técnico    ...      fechanacimiento_2007.0  \\\n",
       "0                         0    ...                           0   \n",
       "1                         1    ...                           0   \n",
       "2                         0    ...                           0   \n",
       "3                         0    ...                           0   \n",
       "4                         0    ...                           0   \n",
       "\n",
       "   fechanacimiento_2008.0  nombre_zona_Buenos Aires (fuera de GBA)  \\\n",
       "0                       0                                        0   \n",
       "1                       0                                        0   \n",
       "2                       0                                        0   \n",
       "3                       0                                        0   \n",
       "4                       0                                        0   \n",
       "\n",
       "   nombre_zona_Capital Federal  nombre_zona_Ciudad de Mendoza  \\\n",
       "0                            1                              0   \n",
       "1                            1                              0   \n",
       "2                            1                              0   \n",
       "3                            1                              0   \n",
       "4                            1                              0   \n",
       "\n",
       "   nombre_zona_Corrientes  nombre_zona_GBA Oeste  \\\n",
       "0                       0                      0   \n",
       "1                       0                      0   \n",
       "2                       0                      0   \n",
       "3                       0                      0   \n",
       "4                       0                      0   \n",
       "\n",
       "   nombre_zona_Gran Buenos Aires  nombre_zona_Tucuman  sepostulo  \n",
       "0                              0                    0          0  \n",
       "1                              0                    0          0  \n",
       "2                              0                    0          0  \n",
       "3                              0                    0          0  \n",
       "4                              0                    0          1  \n",
       "\n",
       "[5 rows x 105 columns]"
      ]
     },
     "execution_count": 36,
     "metadata": {},
     "output_type": "execute_result"
    }
   ],
   "source": [
    "test.head()"
   ]
  },
  {
   "cell_type": "code",
   "execution_count": 37,
   "metadata": {},
   "outputs": [
    {
     "data": {
      "text/plain": [
       "0    88835\n",
       "1    11165\n",
       "Name: sepostulo, dtype: int64"
      ]
     },
     "execution_count": 37,
     "metadata": {},
     "output_type": "execute_result"
    }
   ],
   "source": [
    "test['sepostulo'].value_counts()"
   ]
  },
  {
   "cell_type": "code",
   "execution_count": 40,
   "metadata": {},
   "outputs": [],
   "source": [
    "test = test[['id','sepostulo']]"
   ]
  },
  {
   "cell_type": "code",
   "execution_count": 41,
   "metadata": {},
   "outputs": [],
   "source": [
    "test.to_csv('../Predictions/RandomForest2v2.csv',index=False)"
   ]
  },
  {
   "cell_type": "code",
   "execution_count": 23,
   "metadata": {},
   "outputs": [
    {
     "data": {
      "text/plain": [
       "id           100000\n",
       "sepostulo    100000\n",
       "dtype: int64"
      ]
     },
     "execution_count": 23,
     "metadata": {},
     "output_type": "execute_result"
    }
   ],
   "source": [
    "test.count()"
   ]
  },
  {
   "cell_type": "code",
   "execution_count": null,
   "metadata": {},
   "outputs": [],
   "source": []
  }
 ],
 "metadata": {
  "kernelspec": {
   "display_name": "Python 3",
   "language": "python",
   "name": "python3"
  },
  "language_info": {
   "codemirror_mode": {
    "name": "ipython",
    "version": 3
   },
   "file_extension": ".py",
   "mimetype": "text/x-python",
   "name": "python",
   "nbconvert_exporter": "python",
   "pygments_lexer": "ipython3",
   "version": "3.5.2"
  }
 },
 "nbformat": 4,
 "nbformat_minor": 2
}
