{
 "cells": [
  {
   "cell_type": "markdown",
   "metadata": {},
   "source": [
    "# TP Nº 1 - ANALISIS DEL SET DE DATOS DE NAVENT"
   ]
  },
  {
   "cell_type": "code",
   "execution_count": 3,
   "metadata": {},
   "outputs": [],
   "source": [
    "import pandas as pd\n",
    "import numpy as np\n",
    "import matplotlib.pyplot as plt\n",
    "\n",
    "%matplotlib inline\n"
   ]
  },
  {
   "cell_type": "code",
   "execution_count": 4,
   "metadata": {},
   "outputs": [],
   "source": [
    "#Funcion que pasa a formato datetime las fechas que recibimos.\n",
    "def datetime(date,format_string):\n",
    "    return pd.to_datetime(date,format= format_string,errors='coerce')\n",
    "    "
   ]
  },
  {
   "cell_type": "code",
   "execution_count": 5,
   "metadata": {},
   "outputs": [],
   "source": [
    "#Funcion que limpia los datos, quedandose con el nivel de educacion mas alto de casa id de los postulantes.\n",
    "def education_cleaning(df):\n",
    "    education_dic= {'Secundario': 1, 'Universitario':3,'Terciario/Técnico':2, 'Otro':0, 'Posgrado':4, 'Master': 5, 'Doctorado': 6}\n",
    "    df['nombre_sort'] = df['nombre'].map(education_dic)\n",
    "    df = df.sort_values(by='nombre_sort', ascending=False)\n",
    "    df = df.drop_duplicates(subset='idpostulante',keep='first')\n",
    "    return df"
   ]
  },
  {
   "cell_type": "markdown",
   "metadata": {},
   "source": [
    "Leemos los datasets que nos dieron:"
   ]
  },
  {
   "cell_type": "code",
   "execution_count": 6,
   "metadata": {},
   "outputs": [
    {
     "data": {
      "text/html": [
       "<div>\n",
       "<style scoped>\n",
       "    .dataframe tbody tr th:only-of-type {\n",
       "        vertical-align: middle;\n",
       "    }\n",
       "\n",
       "    .dataframe tbody tr th {\n",
       "        vertical-align: top;\n",
       "    }\n",
       "\n",
       "    .dataframe thead th {\n",
       "        text-align: right;\n",
       "    }\n",
       "</style>\n",
       "<table border=\"1\" class=\"dataframe\">\n",
       "  <thead>\n",
       "    <tr style=\"text-align: right;\">\n",
       "      <th></th>\n",
       "      <th>idpostulante</th>\n",
       "      <th>nombre</th>\n",
       "      <th>estado</th>\n",
       "    </tr>\n",
       "  </thead>\n",
       "  <tbody>\n",
       "    <tr>\n",
       "      <th>0</th>\n",
       "      <td>NdJl</td>\n",
       "      <td>Posgrado</td>\n",
       "      <td>En Curso</td>\n",
       "    </tr>\n",
       "    <tr>\n",
       "      <th>1</th>\n",
       "      <td>8BkL</td>\n",
       "      <td>Universitario</td>\n",
       "      <td>En Curso</td>\n",
       "    </tr>\n",
       "    <tr>\n",
       "      <th>2</th>\n",
       "      <td>1d2B</td>\n",
       "      <td>Universitario</td>\n",
       "      <td>En Curso</td>\n",
       "    </tr>\n",
       "    <tr>\n",
       "      <th>3</th>\n",
       "      <td>NPBx</td>\n",
       "      <td>Universitario</td>\n",
       "      <td>En Curso</td>\n",
       "    </tr>\n",
       "    <tr>\n",
       "      <th>4</th>\n",
       "      <td>NPBx</td>\n",
       "      <td>Master</td>\n",
       "      <td>En Curso</td>\n",
       "    </tr>\n",
       "  </tbody>\n",
       "</table>\n",
       "</div>"
      ],
      "text/plain": [
       "  idpostulante         nombre    estado\n",
       "0         NdJl       Posgrado  En Curso\n",
       "1         8BkL  Universitario  En Curso\n",
       "2         1d2B  Universitario  En Curso\n",
       "3         NPBx  Universitario  En Curso\n",
       "4         NPBx         Master  En Curso"
      ]
     },
     "execution_count": 6,
     "metadata": {},
     "output_type": "execute_result"
    }
   ],
   "source": [
    "data_postulant_education= pd.read_csv('datos_navent_fiuba/fiuba_1_postulantes_educacion.csv')\n",
    "data_postulant_education.head()\n"
   ]
  },
  {
   "cell_type": "code",
   "execution_count": 7,
   "metadata": {},
   "outputs": [
    {
     "data": {
      "text/html": [
       "<div>\n",
       "<style scoped>\n",
       "    .dataframe tbody tr th:only-of-type {\n",
       "        vertical-align: middle;\n",
       "    }\n",
       "\n",
       "    .dataframe tbody tr th {\n",
       "        vertical-align: top;\n",
       "    }\n",
       "\n",
       "    .dataframe thead th {\n",
       "        text-align: right;\n",
       "    }\n",
       "</style>\n",
       "<table border=\"1\" class=\"dataframe\">\n",
       "  <thead>\n",
       "    <tr style=\"text-align: right;\">\n",
       "      <th></th>\n",
       "      <th>idaviso</th>\n",
       "      <th>idpostulante</th>\n",
       "      <th>fechapostulacion</th>\n",
       "    </tr>\n",
       "  </thead>\n",
       "  <tbody>\n",
       "    <tr>\n",
       "      <th>0</th>\n",
       "      <td>1112257047</td>\n",
       "      <td>NM5M</td>\n",
       "      <td>2018-01-15 16:22:34</td>\n",
       "    </tr>\n",
       "    <tr>\n",
       "      <th>1</th>\n",
       "      <td>1111920714</td>\n",
       "      <td>NM5M</td>\n",
       "      <td>2018-02-06 09:04:50</td>\n",
       "    </tr>\n",
       "    <tr>\n",
       "      <th>2</th>\n",
       "      <td>1112346945</td>\n",
       "      <td>NM5M</td>\n",
       "      <td>2018-02-22 09:04:47</td>\n",
       "    </tr>\n",
       "    <tr>\n",
       "      <th>3</th>\n",
       "      <td>1112345547</td>\n",
       "      <td>NM5M</td>\n",
       "      <td>2018-02-22 09:04:59</td>\n",
       "    </tr>\n",
       "    <tr>\n",
       "      <th>4</th>\n",
       "      <td>1112237522</td>\n",
       "      <td>5awk</td>\n",
       "      <td>2018-01-25 18:55:03</td>\n",
       "    </tr>\n",
       "  </tbody>\n",
       "</table>\n",
       "</div>"
      ],
      "text/plain": [
       "      idaviso idpostulante     fechapostulacion\n",
       "0  1112257047         NM5M  2018-01-15 16:22:34\n",
       "1  1111920714         NM5M  2018-02-06 09:04:50\n",
       "2  1112346945         NM5M  2018-02-22 09:04:47\n",
       "3  1112345547         NM5M  2018-02-22 09:04:59\n",
       "4  1112237522         5awk  2018-01-25 18:55:03"
      ]
     },
     "execution_count": 7,
     "metadata": {},
     "output_type": "execute_result"
    }
   ],
   "source": [
    "data_postulation= pd.read_csv('datos_navent_fiuba/fiuba_4_postulaciones.csv')\n",
    "data_postulation.head()"
   ]
  },
  {
   "cell_type": "code",
   "execution_count": 8,
   "metadata": {},
   "outputs": [
    {
     "data": {
      "text/html": [
       "<div>\n",
       "<style scoped>\n",
       "    .dataframe tbody tr th:only-of-type {\n",
       "        vertical-align: middle;\n",
       "    }\n",
       "\n",
       "    .dataframe tbody tr th {\n",
       "        vertical-align: top;\n",
       "    }\n",
       "\n",
       "    .dataframe thead th {\n",
       "        text-align: right;\n",
       "    }\n",
       "</style>\n",
       "<table border=\"1\" class=\"dataframe\">\n",
       "  <thead>\n",
       "    <tr style=\"text-align: right;\">\n",
       "      <th></th>\n",
       "      <th>idpostulante</th>\n",
       "      <th>fechanacimiento</th>\n",
       "      <th>sexo</th>\n",
       "    </tr>\n",
       "  </thead>\n",
       "  <tbody>\n",
       "    <tr>\n",
       "      <th>0</th>\n",
       "      <td>NM5M</td>\n",
       "      <td>1970-12-03</td>\n",
       "      <td>FEM</td>\n",
       "    </tr>\n",
       "    <tr>\n",
       "      <th>1</th>\n",
       "      <td>5awk</td>\n",
       "      <td>1962-12-04</td>\n",
       "      <td>FEM</td>\n",
       "    </tr>\n",
       "    <tr>\n",
       "      <th>2</th>\n",
       "      <td>ZaO5</td>\n",
       "      <td>1978-08-10</td>\n",
       "      <td>FEM</td>\n",
       "    </tr>\n",
       "    <tr>\n",
       "      <th>3</th>\n",
       "      <td>NdJl</td>\n",
       "      <td>1969-05-09</td>\n",
       "      <td>MASC</td>\n",
       "    </tr>\n",
       "    <tr>\n",
       "      <th>4</th>\n",
       "      <td>eo2p</td>\n",
       "      <td>1981-02-16</td>\n",
       "      <td>MASC</td>\n",
       "    </tr>\n",
       "  </tbody>\n",
       "</table>\n",
       "</div>"
      ],
      "text/plain": [
       "  idpostulante fechanacimiento  sexo\n",
       "0         NM5M      1970-12-03   FEM\n",
       "1         5awk      1962-12-04   FEM\n",
       "2         ZaO5      1978-08-10   FEM\n",
       "3         NdJl      1969-05-09  MASC\n",
       "4         eo2p      1981-02-16  MASC"
      ]
     },
     "execution_count": 8,
     "metadata": {},
     "output_type": "execute_result"
    }
   ],
   "source": [
    "data_postulant_sex_age= pd.read_csv('datos_navent_fiuba/fiuba_2_postulantes_genero_y_edad.csv')\n",
    "data_postulant_sex_age.head()"
   ]
  },
  {
   "cell_type": "code",
   "execution_count": 9,
   "metadata": {},
   "outputs": [
    {
     "data": {
      "text/html": [
       "<div>\n",
       "<style scoped>\n",
       "    .dataframe tbody tr th:only-of-type {\n",
       "        vertical-align: middle;\n",
       "    }\n",
       "\n",
       "    .dataframe tbody tr th {\n",
       "        vertical-align: top;\n",
       "    }\n",
       "\n",
       "    .dataframe thead th {\n",
       "        text-align: right;\n",
       "    }\n",
       "</style>\n",
       "<table border=\"1\" class=\"dataframe\">\n",
       "  <thead>\n",
       "    <tr style=\"text-align: right;\">\n",
       "      <th></th>\n",
       "      <th>idAviso</th>\n",
       "      <th>timestamp</th>\n",
       "      <th>idpostulante</th>\n",
       "    </tr>\n",
       "  </thead>\n",
       "  <tbody>\n",
       "    <tr>\n",
       "      <th>0</th>\n",
       "      <td>1111780242</td>\n",
       "      <td>2018-02-23T13:38:13.187-0500</td>\n",
       "      <td>YjVJQ6Z</td>\n",
       "    </tr>\n",
       "    <tr>\n",
       "      <th>1</th>\n",
       "      <td>1112263876</td>\n",
       "      <td>2018-02-23T13:38:14.296-0500</td>\n",
       "      <td>BmVpYoR</td>\n",
       "    </tr>\n",
       "    <tr>\n",
       "      <th>2</th>\n",
       "      <td>1112327963</td>\n",
       "      <td>2018-02-23T13:38:14.329-0500</td>\n",
       "      <td>wVkBzZd</td>\n",
       "    </tr>\n",
       "    <tr>\n",
       "      <th>3</th>\n",
       "      <td>1112318643</td>\n",
       "      <td>2018-02-23T13:38:17.921-0500</td>\n",
       "      <td>OqmP9pv</td>\n",
       "    </tr>\n",
       "    <tr>\n",
       "      <th>4</th>\n",
       "      <td>1111903673</td>\n",
       "      <td>2018-02-23T13:38:18.973-0500</td>\n",
       "      <td>DrpbXDP</td>\n",
       "    </tr>\n",
       "  </tbody>\n",
       "</table>\n",
       "</div>"
      ],
      "text/plain": [
       "      idAviso                     timestamp idpostulante\n",
       "0  1111780242  2018-02-23T13:38:13.187-0500      YjVJQ6Z\n",
       "1  1112263876  2018-02-23T13:38:14.296-0500      BmVpYoR\n",
       "2  1112327963  2018-02-23T13:38:14.329-0500      wVkBzZd\n",
       "3  1112318643  2018-02-23T13:38:17.921-0500      OqmP9pv\n",
       "4  1111903673  2018-02-23T13:38:18.973-0500      DrpbXDP"
      ]
     },
     "execution_count": 9,
     "metadata": {},
     "output_type": "execute_result"
    }
   ],
   "source": [
    "data_views =  pd.read_csv('datos_navent_fiuba/fiuba_3_vistas.csv')\n",
    "data_views.head()"
   ]
  },
  {
   "cell_type": "code",
   "execution_count": 10,
   "metadata": {},
   "outputs": [
    {
     "data": {
      "text/html": [
       "<div>\n",
       "<style scoped>\n",
       "    .dataframe tbody tr th:only-of-type {\n",
       "        vertical-align: middle;\n",
       "    }\n",
       "\n",
       "    .dataframe tbody tr th {\n",
       "        vertical-align: top;\n",
       "    }\n",
       "\n",
       "    .dataframe thead th {\n",
       "        text-align: right;\n",
       "    }\n",
       "</style>\n",
       "<table border=\"1\" class=\"dataframe\">\n",
       "  <thead>\n",
       "    <tr style=\"text-align: right;\">\n",
       "      <th></th>\n",
       "      <th>idaviso</th>\n",
       "    </tr>\n",
       "  </thead>\n",
       "  <tbody>\n",
       "    <tr>\n",
       "      <th>0</th>\n",
       "      <td>1112355872</td>\n",
       "    </tr>\n",
       "    <tr>\n",
       "      <th>1</th>\n",
       "      <td>1112335374</td>\n",
       "    </tr>\n",
       "    <tr>\n",
       "      <th>2</th>\n",
       "      <td>1112374842</td>\n",
       "    </tr>\n",
       "    <tr>\n",
       "      <th>3</th>\n",
       "      <td>1111984070</td>\n",
       "    </tr>\n",
       "    <tr>\n",
       "      <th>4</th>\n",
       "      <td>1111822480</td>\n",
       "    </tr>\n",
       "  </tbody>\n",
       "</table>\n",
       "</div>"
      ],
      "text/plain": [
       "      idaviso\n",
       "0  1112355872\n",
       "1  1112335374\n",
       "2  1112374842\n",
       "3  1111984070\n",
       "4  1111822480"
      ]
     },
     "execution_count": 10,
     "metadata": {},
     "output_type": "execute_result"
    }
   ],
   "source": [
    "data_ads_online = pd.read_csv('datos_navent_fiuba/fiuba_5_avisos_online.csv')\n",
    "data_ads_online.head()"
   ]
  },
  {
   "cell_type": "code",
   "execution_count": 11,
   "metadata": {},
   "outputs": [
    {
     "data": {
      "text/html": [
       "<div>\n",
       "<style scoped>\n",
       "    .dataframe tbody tr th:only-of-type {\n",
       "        vertical-align: middle;\n",
       "    }\n",
       "\n",
       "    .dataframe tbody tr th {\n",
       "        vertical-align: top;\n",
       "    }\n",
       "\n",
       "    .dataframe thead th {\n",
       "        text-align: right;\n",
       "    }\n",
       "</style>\n",
       "<table border=\"1\" class=\"dataframe\">\n",
       "  <thead>\n",
       "    <tr style=\"text-align: right;\">\n",
       "      <th></th>\n",
       "      <th>idaviso</th>\n",
       "      <th>idpais</th>\n",
       "      <th>titulo</th>\n",
       "      <th>descripcion</th>\n",
       "      <th>nombre_zona</th>\n",
       "      <th>ciudad</th>\n",
       "      <th>mapacalle</th>\n",
       "      <th>tipo_de_trabajo</th>\n",
       "      <th>nivel_laboral</th>\n",
       "      <th>nombre_area</th>\n",
       "      <th>denominacion_empresa</th>\n",
       "    </tr>\n",
       "  </thead>\n",
       "  <tbody>\n",
       "    <tr>\n",
       "      <th>0</th>\n",
       "      <td>8725750</td>\n",
       "      <td>1</td>\n",
       "      <td>VENDEDOR/A PROVINCIA DE SANTA FE</td>\n",
       "      <td>&lt;p&gt;&lt;strong&gt;&lt;strong&gt;Empresa:&lt;/strong&gt;&lt;/strong&gt; ...</td>\n",
       "      <td>Gran Buenos Aires</td>\n",
       "      <td>NaN</td>\n",
       "      <td>NaN</td>\n",
       "      <td>Full-time</td>\n",
       "      <td>Senior / Semi-Senior</td>\n",
       "      <td>Comercial</td>\n",
       "      <td>VENTOR</td>\n",
       "    </tr>\n",
       "    <tr>\n",
       "      <th>1</th>\n",
       "      <td>17903700</td>\n",
       "      <td>1</td>\n",
       "      <td>Enfermeras</td>\n",
       "      <td>&lt;p&gt;Solicitamos para importante cadena de farma...</td>\n",
       "      <td>Gran Buenos Aires</td>\n",
       "      <td>NaN</td>\n",
       "      <td>NaN</td>\n",
       "      <td>Full-time</td>\n",
       "      <td>Senior / Semi-Senior</td>\n",
       "      <td>Salud</td>\n",
       "      <td>Farmacias Central Oeste</td>\n",
       "    </tr>\n",
       "    <tr>\n",
       "      <th>2</th>\n",
       "      <td>1000150677</td>\n",
       "      <td>1</td>\n",
       "      <td>Chofer de taxi</td>\n",
       "      <td>&lt;p&gt;TE GUSTA MANEJAR? QUERES GANAR PLATA HACIEN...</td>\n",
       "      <td>Capital Federal</td>\n",
       "      <td>NaN</td>\n",
       "      <td>Empedrado 2336</td>\n",
       "      <td>Full-time</td>\n",
       "      <td>Senior / Semi-Senior</td>\n",
       "      <td>Transporte</td>\n",
       "      <td>FAMITAX SRL</td>\n",
       "    </tr>\n",
       "    <tr>\n",
       "      <th>3</th>\n",
       "      <td>1000610287</td>\n",
       "      <td>1</td>\n",
       "      <td>CHOFER DE CAMIONETA BAHIA BLANCA - PUNTA ALTA</td>\n",
       "      <td>&lt;p&gt;&lt;strong&gt;Somos una empresa multinacional que...</td>\n",
       "      <td>Gran Buenos Aires</td>\n",
       "      <td>NaN</td>\n",
       "      <td>NaN</td>\n",
       "      <td>Full-time</td>\n",
       "      <td>Senior / Semi-Senior</td>\n",
       "      <td>Transporte</td>\n",
       "      <td>Wurth Argentina S.A</td>\n",
       "    </tr>\n",
       "    <tr>\n",
       "      <th>4</th>\n",
       "      <td>1000872556</td>\n",
       "      <td>1</td>\n",
       "      <td>Operarios de Planta - Rubro Electrodomésticos</td>\n",
       "      <td>&lt;p&gt;&lt;strong&gt;OPERARIOS DE PLANTA&lt;/strong&gt;&lt;/p&gt;&lt;p&gt;...</td>\n",
       "      <td>Gran Buenos Aires</td>\n",
       "      <td>NaN</td>\n",
       "      <td>NaN</td>\n",
       "      <td>Full-time</td>\n",
       "      <td>Senior / Semi-Senior</td>\n",
       "      <td>Producción</td>\n",
       "      <td>ELECTRO OUTLET SRL</td>\n",
       "    </tr>\n",
       "  </tbody>\n",
       "</table>\n",
       "</div>"
      ],
      "text/plain": [
       "      idaviso  idpais                                         titulo  \\\n",
       "0     8725750       1               VENDEDOR/A PROVINCIA DE SANTA FE   \n",
       "1    17903700       1                                     Enfermeras   \n",
       "2  1000150677       1                                 Chofer de taxi   \n",
       "3  1000610287       1  CHOFER DE CAMIONETA BAHIA BLANCA - PUNTA ALTA   \n",
       "4  1000872556       1  Operarios de Planta - Rubro Electrodomésticos   \n",
       "\n",
       "                                         descripcion        nombre_zona  \\\n",
       "0  <p><strong><strong>Empresa:</strong></strong> ...  Gran Buenos Aires   \n",
       "1  <p>Solicitamos para importante cadena de farma...  Gran Buenos Aires   \n",
       "2  <p>TE GUSTA MANEJAR? QUERES GANAR PLATA HACIEN...    Capital Federal   \n",
       "3  <p><strong>Somos una empresa multinacional que...  Gran Buenos Aires   \n",
       "4  <p><strong>OPERARIOS DE PLANTA</strong></p><p>...  Gran Buenos Aires   \n",
       "\n",
       "  ciudad       mapacalle tipo_de_trabajo         nivel_laboral nombre_area  \\\n",
       "0    NaN             NaN       Full-time  Senior / Semi-Senior   Comercial   \n",
       "1    NaN             NaN       Full-time  Senior / Semi-Senior       Salud   \n",
       "2    NaN  Empedrado 2336       Full-time  Senior / Semi-Senior  Transporte   \n",
       "3    NaN             NaN       Full-time  Senior / Semi-Senior  Transporte   \n",
       "4    NaN             NaN       Full-time  Senior / Semi-Senior  Producción   \n",
       "\n",
       "      denominacion_empresa  \n",
       "0                   VENTOR  \n",
       "1  Farmacias Central Oeste  \n",
       "2              FAMITAX SRL  \n",
       "3      Wurth Argentina S.A  \n",
       "4       ELECTRO OUTLET SRL  "
      ]
     },
     "execution_count": 11,
     "metadata": {},
     "output_type": "execute_result"
    }
   ],
   "source": [
    "data_ads_details= pd.read_csv('datos_navent_fiuba/fiuba_6_avisos_detalle.csv')\n",
    "data_ads_details.head()"
   ]
  },
  {
   "cell_type": "markdown",
   "metadata": {},
   "source": [
    "## ANALISIS DEL AREA CON MAS PUBLICACIONES"
   ]
  },
  {
   "cell_type": "code",
   "execution_count": 12,
   "metadata": {},
   "outputs": [],
   "source": [
    "publication_area = data_ads_details[\"nombre_area\"].value_counts()"
   ]
  },
  {
   "cell_type": "code",
   "execution_count": 13,
   "metadata": {},
   "outputs": [
    {
     "data": {
      "text/plain": [
       "Ventas                   1659\n",
       "Comercial                 983\n",
       "Administración            901\n",
       "Producción                821\n",
       "Programación              576\n",
       "Contabilidad              416\n",
       "Tecnologia / Sistemas     388\n",
       "Atención al Cliente       347\n",
       "Mantenimiento             324\n",
       "Recursos Humanos          235\n",
       "Name: nombre_area, dtype: int64"
      ]
     },
     "execution_count": 13,
     "metadata": {},
     "output_type": "execute_result"
    }
   ],
   "source": [
    "top10_publication_area = publication_area[:10]\n",
    "top10_publication_area "
   ]
  },
  {
   "cell_type": "code",
   "execution_count": 14,
   "metadata": {},
   "outputs": [
    {
     "data": {
      "image/png": "[encoded data removed]",
      "text/plain": [
       "<matplotlib.figure.Figure at 0x7f7921fec588>"
      ]
     },
     "metadata": {},
     "output_type": "display_data"
    }
   ],
   "source": [
    "f = plt.figure()\n",
    "\n",
    "plt.title ('TOP 10 AREA DE PUBLICACIONES',color='black')\n",
    "\n",
    "ax = top10_publication_area.plot(kind='barh', stacked=True, figsize=(8,6) ,alpha=0.75, ax=f.gca(), color='red')\n",
    "\n",
    "\n",
    "ax.set_xlabel('Cant de publicaciones')\n",
    "ax.set_ylabel(\"Area\")\n",
    "#plt.show()\n",
    "#Exportamos el plot como .png para poder ponerlo en el informe\n",
    "plt.savefig('Top10AreasSegunCantidadPublicaciones.png',bbox_inches='tight')"
   ]
  },
  {
   "cell_type": "markdown",
   "metadata": {},
   "source": [
    "## ANALISIS DEL NIVEL EDUCATIVO DE LOS POSTULANTES"
   ]
  },
  {
   "cell_type": "code",
   "execution_count": 15,
   "metadata": {},
   "outputs": [
    {
     "data": {
      "text/plain": [
       "False    298231\n",
       "Name: nombre, dtype: int64"
      ]
     },
     "execution_count": 15,
     "metadata": {},
     "output_type": "execute_result"
    }
   ],
   "source": [
    "#Verificamos que no haya NaNs en la columna 'nombre' del data frame data_postulant_education (para limpiar los datos):\n",
    "data_postulant_education['nombre'].isnull().value_counts()"
   ]
  },
  {
   "cell_type": "code",
   "execution_count": 16,
   "metadata": {},
   "outputs": [
    {
     "data": {
      "text/plain": [
       "Universitario        87838\n",
       "Secundario           62411\n",
       "Terciario/Técnico    27429\n",
       "Posgrado              6050\n",
       "Master                3475\n",
       "Otro                  1338\n",
       "Doctorado              211\n",
       "Name: nombre, dtype: int64"
      ]
     },
     "execution_count": 16,
     "metadata": {},
     "output_type": "execute_result"
    }
   ],
   "source": [
    "postulant_education = education_cleaning(data_postulant_education)\n",
    "postulant_education = postulant_education['nombre'].value_counts()\n",
    "postulant_education"
   ]
  },
  {
   "cell_type": "code",
   "execution_count": 17,
   "metadata": {},
   "outputs": [
    {
     "data": {
      "image/png": "[encoded data removed]",
      "text/plain": [
       "<matplotlib.figure.Figure at 0x7f7921f91b70>"
      ]
     },
     "metadata": {},
     "output_type": "display_data"
    }
   ],
   "source": [
    "f = plt.figure()\n",
    "\n",
    "plt.title ('NIVEL EDUCATIVO DE LOS POSTULANTES',color='black')\n",
    "\n",
    "ax = postulant_education.plot(kind='barh', stacked=True, figsize=(10,6) ,alpha=0.75, ax=f.gca(), color='red', logx= True )\n",
    "\n",
    "\n",
    "ax.set_xlabel('Cant de postulantes')\n",
    "ax.set_ylabel(\"Nivel de educacion\")\n",
    "#plt.show()\n",
    "#Exportamos el plot como .png para poder ponerlo en el informe\n",
    "plt.savefig('CantidadDePostulantesSegunNivelEducativo.png',bbox_inches='tight')"
   ]
  },
  {
   "cell_type": "markdown",
   "metadata": {},
   "source": [
    "## ANALISIS LA EDAD DE LOS POSTULANTES"
   ]
  },
  {
   "cell_type": "code",
   "execution_count": 18,
   "metadata": {},
   "outputs": [
    {
     "data": {
      "text/plain": [
       "False    196138\n",
       "True       4750\n",
       "Name: fechanacimiento, dtype: int64"
      ]
     },
     "execution_count": 18,
     "metadata": {},
     "output_type": "execute_result"
    }
   ],
   "source": [
    "#ver cuantas fechas incorrectas hay\n",
    "data_postulant_sex_age[\"fechanacimiento\"].isnull().value_counts()"
   ]
  },
  {
   "cell_type": "code",
   "execution_count": 19,
   "metadata": {},
   "outputs": [],
   "source": [
    "#cambiamos el formato a datetime y dropeamos las incorrectas\n",
    "data_postulant_sex_age[\"fechanacimiento\"] = datetime(data_postulant_sex_age[\"fechanacimiento\"],'%Y-%m-%d')"
   ]
  },
  {
   "cell_type": "code",
   "execution_count": 20,
   "metadata": {},
   "outputs": [],
   "source": [
    "#nos quedamos con las fechas que nos interesan \n",
    "ages = data_postulant_sex_age[(data_postulant_sex_age[\"fechanacimiento\"].dt.year>1948) & (data_postulant_sex_age[\"fechanacimiento\"].dt.year<2000)]\n",
    "\n",
    "#Calculamos la edad aproximadamente de los postulantes\n",
    "years = ages[\"fechanacimiento\"].map(lambda x: 2018 - x.year)"
   ]
  },
  {
   "cell_type": "code",
   "execution_count": 21,
   "metadata": {},
   "outputs": [],
   "source": [
    "#me quedo con las mujeres que cumplen el rango de edad que queremos\n",
    "ages_fem = ages[ages[\"sexo\"] == \"FEM\"]\n",
    "#calculo la edad\n",
    "ages_fem = ages_fem[\"fechanacimiento\"].map(lambda x: 2018 - x.year)\n",
    "\n",
    "#lo mismo para hombres\n",
    "\n",
    "ages_masc = ages[ages[\"sexo\"] == \"MASC\"]\n",
    "ages_masc = ages_masc[\"fechanacimiento\"].map(lambda x: 2018 - x.year)"
   ]
  },
  {
   "cell_type": "code",
   "execution_count": 26,
   "metadata": {},
   "outputs": [
    {
     "name": "stderr",
     "output_type": "stream",
     "text": [
      "/usr/lib/python3/dist-packages/matplotlib/__init__.py:874: UserWarning: axes.color_cycle is deprecated and replaced with axes.prop_cycle; please use the latter.\n",
      "  warnings.warn(self.msg_depr % (key, alt_key))\n"
     ]
    },
    {
     "data": {
      "image/png": "[encoded data removed]",
      "text/plain": [
       "<matplotlib.figure.Figure at 0x7f791fefe358>"
      ]
     },
     "metadata": {},
     "output_type": "display_data"
    }
   ],
   "source": [
    "import seaborn as sns\n",
    "sns.set(color_codes=True)\n",
    "\n",
    "ax = sns.distplot(years)\n",
    "ax.set_ylabel('Densidad')\n",
    "ax.set_xlabel(\"Edad\")\n",
    "plt.show()"
   ]
  },
  {
   "cell_type": "code",
   "execution_count": 27,
   "metadata": {},
   "outputs": [
    {
     "data": {
      "image/png": "[encoded data removed]",
      "text/plain": [
       "<matplotlib.figure.Figure at 0x7f79156a4978>"
      ]
     },
     "metadata": {},
     "output_type": "display_data"
    }
   ],
   "source": [
    "plt.title ('EDAD DE LOS POSTULANTES POR SEXO',color='black')\n",
    "\n",
    "ax = ages_fem.plot(kind='hist',rot=90,figsize=(12,8),color=\"pink\", label = \"Mujeres\" ) \n",
    "\n",
    "ages_masc.plot(kind='hist',rot=90,figsize=(12,8),color=\"green\", alpha = 0.5, label = \"Hombres\" )\n",
    "\n",
    "ax.legend(fontsize=13)\n",
    "ax.set_ylabel('Cantidad de postulantes')\n",
    "ax.set_xlabel(\"Edad\")\n",
    "plt.show()"
   ]
  },
  {
   "cell_type": "code",
   "execution_count": 28,
   "metadata": {},
   "outputs": [
    {
     "data": {
      "image/png": "[encoded data removed]",
      "text/plain": [
       "<matplotlib.figure.Figure at 0x7f79155d8908>"
      ]
     },
     "metadata": {},
     "output_type": "display_data"
    }
   ],
   "source": [
    "plt.title ('EDAD DE LOS POSTULANTES',color='black')\n",
    "\n",
    "ax = years.plot(kind='hist',rot=90,figsize=(12,8), label = \"postulados\")\n",
    "\n",
    "ages_fem.plot(kind='hist',rot=90,figsize=(12,8),color=\"pink\" , label = \"postulados Mujeres\") \n",
    "\n",
    "ages_masc.plot(kind='hist',rot=90,figsize=(12,8),color=\"green\", alpha = 0.5 , label = \"postulados Hombres\")\n",
    "\n",
    "ax.legend(fontsize=13)\n",
    "ax.set_ylabel('Cantidad de postulantes')\n",
    "ax.set_xlabel(\"Edad\")\n",
    "plt.show()"
   ]
  },
  {
   "cell_type": "markdown",
   "metadata": {},
   "source": [
    "## ANALISIS DE CUAL ES EL AREA CON MAS POSTULACIONES"
   ]
  },
  {
   "cell_type": "code",
   "execution_count": 29,
   "metadata": {},
   "outputs": [],
   "source": [
    "id_ads = data_postulation[\"idaviso\"]\n",
    "id_counts = id_ads.value_counts()\n",
    "id_counts_frame = id_counts.to_frame()\n",
    "id_counts_frame = id_counts_frame.reset_index()\n",
    "id_counts_frame.rename(columns={'idaviso':'count', 'index':'idaviso'}, inplace = True)\n",
    "result = pd.merge(id_counts_frame, data_ads_details, how='left', on=\"idaviso\")\n",
    "result_postulation_area = result.groupby([\"nombre_area\"],sort =True)[\"count\"].sum()"
   ]
  },
  {
   "cell_type": "code",
   "execution_count": 30,
   "metadata": {
    "scrolled": false
   },
   "outputs": [
    {
     "data": {
      "image/png": "[encoded data removed]",
      "text/plain": [
       "<matplotlib.figure.Figure at 0x7f79155cf7b8>"
      ]
     },
     "metadata": {},
     "output_type": "display_data"
    }
   ],
   "source": [
    "f = plt.figure()\n",
    "\n",
    "plt.title ('TOP 10 AREAS CON MAS POSTULACIONES',color='black')\n",
    "\n",
    "result_postulation_area_top_10 = result_postulation_area.sort_values()[-10:]\n",
    "\n",
    "ax = result_postulation_area_top_10[::-1].plot(kind='barh', stacked=True, figsize=(10,6) ,alpha=0.75, ax=f.gca(), color='red' )\n",
    "\n",
    "\n",
    "ax.set_xlabel('Cant de ppstulaciones')\n",
    "ax.set_ylabel(\"Area\")\n",
    "#plt.show()\n",
    "#Exportamos el plot como .png para poder ponerlo en el informe\n",
    "plt.savefig('Top10AreasConMasPostulaciones.png',bbox_inches='tight')\n"
   ]
  },
  {
   "cell_type": "markdown",
   "metadata": {},
   "source": [
    "## ANALISIS DE POSTULACIONES DE LOS FINDE SEMANAS"
   ]
  },
  {
   "cell_type": "code",
   "execution_count": 31,
   "metadata": {},
   "outputs": [],
   "source": [
    "#paso las fecha a formato datetime\n",
    "data_postulation[\"fechapostulacion\"] = datetime(data_postulation[\"fechapostulacion\"],'%Y-%m-%d')"
   ]
  },
  {
   "cell_type": "code",
   "execution_count": 32,
   "metadata": {},
   "outputs": [
    {
     "data": {
      "text/html": [
       "<div>\n",
       "<style scoped>\n",
       "    .dataframe tbody tr th:only-of-type {\n",
       "        vertical-align: middle;\n",
       "    }\n",
       "\n",
       "    .dataframe tbody tr th {\n",
       "        vertical-align: top;\n",
       "    }\n",
       "\n",
       "    .dataframe thead th {\n",
       "        text-align: right;\n",
       "    }\n",
       "</style>\n",
       "<table border=\"1\" class=\"dataframe\">\n",
       "  <thead>\n",
       "    <tr style=\"text-align: right;\">\n",
       "      <th></th>\n",
       "      <th>idaviso</th>\n",
       "      <th>idpostulante</th>\n",
       "      <th>fechapostulacion</th>\n",
       "    </tr>\n",
       "  </thead>\n",
       "  <tbody>\n",
       "    <tr>\n",
       "      <th>10</th>\n",
       "      <td>1112303543</td>\n",
       "      <td>5awk</td>\n",
       "      <td>2018-02-18 23:49:34</td>\n",
       "    </tr>\n",
       "    <tr>\n",
       "      <th>26</th>\n",
       "      <td>1112309589</td>\n",
       "      <td>ZaO5</td>\n",
       "      <td>2018-02-03 15:55:15</td>\n",
       "    </tr>\n",
       "    <tr>\n",
       "      <th>29</th>\n",
       "      <td>1112327122</td>\n",
       "      <td>ZaO5</td>\n",
       "      <td>2018-02-11 17:49:26</td>\n",
       "    </tr>\n",
       "    <tr>\n",
       "      <th>30</th>\n",
       "      <td>1112315062</td>\n",
       "      <td>ZaO5</td>\n",
       "      <td>2018-02-11 18:08:14</td>\n",
       "    </tr>\n",
       "    <tr>\n",
       "      <th>55</th>\n",
       "      <td>1112334932</td>\n",
       "      <td>NdJl</td>\n",
       "      <td>2018-02-17 16:17:35</td>\n",
       "    </tr>\n",
       "  </tbody>\n",
       "</table>\n",
       "</div>"
      ],
      "text/plain": [
       "       idaviso idpostulante    fechapostulacion\n",
       "10  1112303543         5awk 2018-02-18 23:49:34\n",
       "26  1112309589         ZaO5 2018-02-03 15:55:15\n",
       "29  1112327122         ZaO5 2018-02-11 17:49:26\n",
       "30  1112315062         ZaO5 2018-02-11 18:08:14\n",
       "55  1112334932         NdJl 2018-02-17 16:17:35"
      ]
     },
     "execution_count": 32,
     "metadata": {},
     "output_type": "execute_result"
    }
   ],
   "source": [
    "#me quedo con los datos que pertenecen a los finde semanas de febrero\n",
    "weekend_postulation = data_postulation[((data_postulation[\"fechapostulacion\"].dt.weekday == 6 ) | (data_postulation[\"fechapostulacion\"].dt.weekday == 5)) & (data_postulation[\"fechapostulacion\"].dt.month == 2)]\n",
    "weekend_postulation.head()"
   ]
  },
  {
   "cell_type": "code",
   "execution_count": 33,
   "metadata": {},
   "outputs": [
    {
     "name": "stderr",
     "output_type": "stream",
     "text": [
      "/usr/local/lib/python3.5/dist-packages/ipykernel_launcher.py:3: SettingWithCopyWarning: \n",
      "A value is trying to be set on a copy of a slice from a DataFrame.\n",
      "Try using .loc[row_indexer,col_indexer] = value instead\n",
      "\n",
      "See the caveats in the documentation: http://pandas.pydata.org/pandas-docs/stable/indexing.html#indexing-view-versus-copy\n",
      "  This is separate from the ipykernel package so we can avoid doing imports until\n"
     ]
    }
   ],
   "source": [
    "#agrego una columna que contiene a que finde semana de febrero pertence la fecha, por ej 1 es el primer finde semana de febrero\n",
    "dic_weekend = {3:1 , 4:1 , 10: 2 , 11:2 , 17:3 , 18:3 , 24:4 , 25:4 }\n",
    "weekend_postulation[\"findedesemana\"] = weekend_postulation[\"fechapostulacion\"].map(lambda x: dic_weekend[x.day])"
   ]
  },
  {
   "cell_type": "code",
   "execution_count": 34,
   "metadata": {},
   "outputs": [
    {
     "data": {
      "image/png": "[encoded data removed]",
      "text/plain": [
       "<matplotlib.figure.Figure at 0x7f7915541780>"
      ]
     },
     "metadata": {},
     "output_type": "display_data"
    }
   ],
   "source": [
    "f = plt.figure()\n",
    "\n",
    "plt.title ('Postulaciones por finde semana de febrero',color='black')\n",
    "\n",
    "ax = weekend_postulation[\"findedesemana\"].value_counts().sort_index().plot(kind='bar', stacked=True, figsize=(10,6) ,alpha=0.75, ax=f.gca(), color='red' )\n",
    "\n",
    "ax.set_ylabel('Cant de publicaciones')\n",
    "ax.set_xlabel(\"Fin de semana de febrero\")\n",
    "plt.show()"
   ]
  },
  {
   "cell_type": "markdown",
   "metadata": {},
   "source": [
    "## Analisis exploratorio edades de mujeres y hombres"
   ]
  },
  {
   "cell_type": "code",
   "execution_count": 35,
   "metadata": {},
   "outputs": [
    {
     "data": {
      "image/png": "[encoded data removed]",
      "text/plain": [
       "<matplotlib.figure.Figure at 0x7f791555c550>"
      ]
     },
     "metadata": {},
     "output_type": "display_data"
    }
   ],
   "source": [
    "data = [ages_masc,ages_fem]\n",
    "# Create a figure instance\n",
    "fig = plt.figure(1, figsize=(9, 6))\n",
    "\n",
    "# Create an axes instance\n",
    "ax = fig.add_subplot(111)\n",
    "\n",
    "# Create the boxplot\n",
    "bp = ax.boxplot(data, patch_artist=True)\n",
    "\n",
    "bp[\"boxes\"][0].set(facecolor = \"red\")\n",
    "fig.suptitle('Distribución de la edad segun el sexo', fontsize=14, fontweight='bold')\n",
    "ax.set_ylabel('Edad',size=18)\n",
    "ax.set_xlabel('Sexo',size=18)\n",
    "plt.xticks([1, 2], ['hombre', 'mujer'])\n",
    "plt.show()"
   ]
  },
  {
   "cell_type": "markdown",
   "metadata": {},
   "source": [
    "## Analisis de la Cantidad de Aviso por tipo de trabajo"
   ]
  },
  {
   "cell_type": "code",
   "execution_count": 36,
   "metadata": {},
   "outputs": [
    {
     "data": {
      "text/plain": [
       "False    13534\n",
       "Name: tipo_de_trabajo, dtype: int64"
      ]
     },
     "execution_count": 36,
     "metadata": {},
     "output_type": "execute_result"
    }
   ],
   "source": [
    "#Verificamos si hay null para limpiarlos\n",
    "data_ads_details['tipo_de_trabajo'].isnull().value_counts()"
   ]
  },
  {
   "cell_type": "code",
   "execution_count": 37,
   "metadata": {},
   "outputs": [],
   "source": [
    "type_ads = data_ads_details.groupby('tipo_de_trabajo')['idaviso'].count().sort_values()"
   ]
  },
  {
   "cell_type": "code",
   "execution_count": 38,
   "metadata": {},
   "outputs": [],
   "source": [
    "type_ads = data_ads_details['tipo_de_trabajo'].value_counts()\n"
   ]
  },
  {
   "cell_type": "code",
   "execution_count": 39,
   "metadata": {},
   "outputs": [
    {
     "data": {
      "image/png": "[encoded data removed]",
      "text/plain": [
       "<matplotlib.figure.Figure at 0x7f7915561e10>"
      ]
     },
     "metadata": {},
     "output_type": "display_data"
    }
   ],
   "source": [
    "type_ads.plot(kind='bar',figsize=(15,8),rot=85,title='Cantidad de Avisos por tipo de trabajo');\n",
    "ax=plt.gca()\n",
    "ax.set_ylabel('Cantidad de avisos')\n",
    "ax.set_xlabel('Tipo de aviso')\n",
    "#plt.show()\n",
    "#Exportamos el plot como .png para poder ponerlo en el informe\n",
    "plt.savefig('CantidadDeAvisosPorTipoDeTrabajo.png',bbox_inches='tight')"
   ]
  },
  {
   "cell_type": "markdown",
   "metadata": {},
   "source": [
    "Como podemos ver hay una gran diferencia entre la cantidad de avisos que hay para trabajos *Full-Time* contra el resto de tipo de trabajos. Como no se aprecia mucho la diferencia entre los que tienen poca cantidad de anuncios, vamos a hacer otra visualizacion con escala logaritmica."
   ]
  },
  {
   "cell_type": "code",
   "execution_count": 40,
   "metadata": {
    "scrolled": false
   },
   "outputs": [
    {
     "data": {
      "image/png": "[encoded data removed]",
      "text/plain": [
       "<matplotlib.figure.Figure at 0x7f7921ec9e80>"
      ]
     },
     "metadata": {},
     "output_type": "display_data"
    }
   ],
   "source": [
    "type_ads.plot(kind='bar',figsize=(15,8),rot=85,logy = True,title='Cantidad de Avisos por tipo de trabajo');\n",
    "ax=plt.gca()\n",
    "ax.set_ylabel('Cantidad de avisos en escala logaritmica')\n",
    "ax.set_xlabel('Tipo de aviso')\n",
    "#plt.show()\n",
    "#Exportamos el plot como .png para poder ponerlo en el informe\n",
    "plt.savefig('CantidadDeAvisosPorTipoDeTrabajoLog.png',bbox_inches='tight')"
   ]
  },
  {
   "cell_type": "markdown",
   "metadata": {},
   "source": [
    "## Analisis de la hora en que mas postulaciones se producen a lo largo del dia"
   ]
  },
  {
   "cell_type": "code",
   "execution_count": 41,
   "metadata": {},
   "outputs": [
    {
     "data": {
      "text/plain": [
       "False    3401623\n",
       "Name: fechapostulacion, dtype: int64"
      ]
     },
     "execution_count": 41,
     "metadata": {},
     "output_type": "execute_result"
    }
   ],
   "source": [
    "#Verificamos si hay nulls\n",
    "data_postulation['fechapostulacion'].isnull().value_counts()"
   ]
  },
  {
   "cell_type": "code",
   "execution_count": 42,
   "metadata": {},
   "outputs": [
    {
     "data": {
      "text/html": [
       "<div>\n",
       "<style scoped>\n",
       "    .dataframe tbody tr th:only-of-type {\n",
       "        vertical-align: middle;\n",
       "    }\n",
       "\n",
       "    .dataframe tbody tr th {\n",
       "        vertical-align: top;\n",
       "    }\n",
       "\n",
       "    .dataframe thead th {\n",
       "        text-align: right;\n",
       "    }\n",
       "</style>\n",
       "<table border=\"1\" class=\"dataframe\">\n",
       "  <thead>\n",
       "    <tr style=\"text-align: right;\">\n",
       "      <th></th>\n",
       "      <th>idaviso</th>\n",
       "      <th>idpostulante</th>\n",
       "      <th>fechapostulacion</th>\n",
       "      <th>Hora</th>\n",
       "    </tr>\n",
       "  </thead>\n",
       "  <tbody>\n",
       "    <tr>\n",
       "      <th>0</th>\n",
       "      <td>1112257047</td>\n",
       "      <td>NM5M</td>\n",
       "      <td>2018-01-15 16:22:34</td>\n",
       "      <td>16</td>\n",
       "    </tr>\n",
       "    <tr>\n",
       "      <th>1</th>\n",
       "      <td>1111920714</td>\n",
       "      <td>NM5M</td>\n",
       "      <td>2018-02-06 09:04:50</td>\n",
       "      <td>9</td>\n",
       "    </tr>\n",
       "    <tr>\n",
       "      <th>2</th>\n",
       "      <td>1112346945</td>\n",
       "      <td>NM5M</td>\n",
       "      <td>2018-02-22 09:04:47</td>\n",
       "      <td>9</td>\n",
       "    </tr>\n",
       "    <tr>\n",
       "      <th>3</th>\n",
       "      <td>1112345547</td>\n",
       "      <td>NM5M</td>\n",
       "      <td>2018-02-22 09:04:59</td>\n",
       "      <td>9</td>\n",
       "    </tr>\n",
       "    <tr>\n",
       "      <th>4</th>\n",
       "      <td>1112237522</td>\n",
       "      <td>5awk</td>\n",
       "      <td>2018-01-25 18:55:03</td>\n",
       "      <td>18</td>\n",
       "    </tr>\n",
       "  </tbody>\n",
       "</table>\n",
       "</div>"
      ],
      "text/plain": [
       "      idaviso idpostulante    fechapostulacion  Hora\n",
       "0  1112257047         NM5M 2018-01-15 16:22:34    16\n",
       "1  1111920714         NM5M 2018-02-06 09:04:50     9\n",
       "2  1112346945         NM5M 2018-02-22 09:04:47     9\n",
       "3  1112345547         NM5M 2018-02-22 09:04:59     9\n",
       "4  1112237522         5awk 2018-01-25 18:55:03    18"
      ]
     },
     "execution_count": 42,
     "metadata": {},
     "output_type": "execute_result"
    }
   ],
   "source": [
    "#agrego una columna que indica la hora del dia en que se postularon, no considero minutos ni segundos\n",
    "data_postulation['fechapostulacion'] = datetime(data_postulation['fechapostulacion'],'%Y-%m-%d %H:%M')\n",
    "data_postulation['Hora'] = data_postulation['fechapostulacion'].dt.hour\n",
    "data_postulation.head()"
   ]
  },
  {
   "cell_type": "code",
   "execution_count": 43,
   "metadata": {},
   "outputs": [
    {
     "data": {
      "image/png": "[encoded data removed]",
      "text/plain": [
       "<matplotlib.figure.Figure at 0x7f791ff28518>"
      ]
     },
     "metadata": {},
     "output_type": "display_data"
    }
   ],
   "source": [
    "data_postulation.groupby('Hora').count()['idpostulante'].plot(figsize=(14,4),title='Cantidad de postulaciones por hora');\n",
    "ax=plt.gca()\n",
    "ax.set_ylabel('Cantidad de postulaciones')\n",
    "ax.set_xlabel('Hora del dia')\n",
    "#plt.show()\n",
    "#Exportamos el plot como .png para poder ponerlo en el informe\n",
    "plt.savefig('CantidadDePostulacionPorHora.png',bbox_inches='tight')\n"
   ]
  },
  {
   "cell_type": "code",
   "execution_count": 44,
   "metadata": {},
   "outputs": [
    {
     "data": {
      "text/plain": [
       "True     13487\n",
       "False       47\n",
       "Name: ciudad, dtype: int64"
      ]
     },
     "execution_count": 44,
     "metadata": {},
     "output_type": "execute_result"
    }
   ],
   "source": [
    "#Verificamos si hay nulls\n",
    "data_ads_details['ciudad'].isnull().value_counts()"
   ]
  },
  {
   "cell_type": "markdown",
   "metadata": {},
   "source": [
    "No sirve para nada esta columna con la poca informacion que contiene. Son mas nulos que datos; no podemos sacar informacion significativa de aca."
   ]
  },
  {
   "cell_type": "code",
   "execution_count": 45,
   "metadata": {},
   "outputs": [
    {
     "data": {
      "text/plain": [
       "True     12662\n",
       "False      872\n",
       "Name: mapacalle, dtype: int64"
      ]
     },
     "execution_count": 45,
     "metadata": {},
     "output_type": "execute_result"
    }
   ],
   "source": [
    "#Verificamos si hay nulls\n",
    "data_ads_details['mapacalle'].isnull().value_counts()"
   ]
  },
  {
   "cell_type": "markdown",
   "metadata": {},
   "source": [
    "No sirve para nada esta columna con la poca informacion que contiene"
   ]
  },
  {
   "cell_type": "markdown",
   "metadata": {},
   "source": [
    "## Analisis de proporcion de postulantes por su sexo."
   ]
  },
  {
   "cell_type": "code",
   "execution_count": 46,
   "metadata": {},
   "outputs": [
    {
     "data": {
      "text/plain": [
       "False    200888\n",
       "Name: sexo, dtype: int64"
      ]
     },
     "execution_count": 46,
     "metadata": {},
     "output_type": "execute_result"
    }
   ],
   "source": [
    "#Verificamos si hay nulls\n",
    "data_postulant_sex_age['sexo'].isnull().value_counts()"
   ]
  },
  {
   "cell_type": "code",
   "execution_count": 47,
   "metadata": {},
   "outputs": [
    {
     "data": {
      "text/html": [
       "<div>\n",
       "<style scoped>\n",
       "    .dataframe tbody tr th:only-of-type {\n",
       "        vertical-align: middle;\n",
       "    }\n",
       "\n",
       "    .dataframe tbody tr th {\n",
       "        vertical-align: top;\n",
       "    }\n",
       "\n",
       "    .dataframe thead th {\n",
       "        text-align: right;\n",
       "    }\n",
       "</style>\n",
       "<table border=\"1\" class=\"dataframe\">\n",
       "  <thead>\n",
       "    <tr style=\"text-align: right;\">\n",
       "      <th></th>\n",
       "      <th>idpostulante</th>\n",
       "      <th>fechanacimiento</th>\n",
       "      <th>sexo</th>\n",
       "    </tr>\n",
       "  </thead>\n",
       "  <tbody>\n",
       "    <tr>\n",
       "      <th>0</th>\n",
       "      <td>NM5M</td>\n",
       "      <td>1970-12-03</td>\n",
       "      <td>FEM</td>\n",
       "    </tr>\n",
       "    <tr>\n",
       "      <th>1</th>\n",
       "      <td>5awk</td>\n",
       "      <td>1962-12-04</td>\n",
       "      <td>FEM</td>\n",
       "    </tr>\n",
       "    <tr>\n",
       "      <th>2</th>\n",
       "      <td>ZaO5</td>\n",
       "      <td>1978-08-10</td>\n",
       "      <td>FEM</td>\n",
       "    </tr>\n",
       "    <tr>\n",
       "      <th>3</th>\n",
       "      <td>NdJl</td>\n",
       "      <td>1969-05-09</td>\n",
       "      <td>MASC</td>\n",
       "    </tr>\n",
       "    <tr>\n",
       "      <th>4</th>\n",
       "      <td>eo2p</td>\n",
       "      <td>1981-02-16</td>\n",
       "      <td>MASC</td>\n",
       "    </tr>\n",
       "  </tbody>\n",
       "</table>\n",
       "</div>"
      ],
      "text/plain": [
       "  idpostulante fechanacimiento  sexo\n",
       "0         NM5M      1970-12-03   FEM\n",
       "1         5awk      1962-12-04   FEM\n",
       "2         ZaO5      1978-08-10   FEM\n",
       "3         NdJl      1969-05-09  MASC\n",
       "4         eo2p      1981-02-16  MASC"
      ]
     },
     "execution_count": 47,
     "metadata": {},
     "output_type": "execute_result"
    }
   ],
   "source": [
    "#Borramos los postulantes que en el campo 'sexo' tienen un NO_DECLARA porque no sirve para el analisis\n",
    "data_postulant_sex_age = data_postulant_sex_age.drop(data_postulant_sex_age[data_postulant_sex_age['sexo'] == 'NO_DECLARA'].index)\n",
    "data_postulant_sex_age.head()"
   ]
  },
  {
   "cell_type": "code",
   "execution_count": 48,
   "metadata": {
    "scrolled": true
   },
   "outputs": [
    {
     "data": {
      "image/png": "[encoded data removed]",
      "text/plain": [
       "<matplotlib.figure.Figure at 0x7f7921eb3780>"
      ]
     },
     "metadata": {},
     "output_type": "display_data"
    }
   ],
   "source": [
    "data_postulant_sex_age.groupby('sexo').count()['idpostulante'].plot(kind = 'bar', figsize=(15,8),title='Cantidad de postulantes por su genero',color = ['pink','blue','yellow'],rot=0);\n",
    "ax=plt.gca()\n",
    "ax.set_ylabel('Cantidad de postulantes')\n",
    "ax.set_xlabel('Genero del postulante')\n",
    "#plt.show()\n",
    "#Exportamos el plot como .png para poder ponerlo en el informe\n",
    "plt.savefig('CantidadDePostulantesSegunSuGenero.png',bbox_inches='tight')"
   ]
  },
  {
   "cell_type": "markdown",
   "metadata": {},
   "source": [
    "## Analisis de las empresas."
   ]
  },
  {
   "cell_type": "markdown",
   "metadata": {},
   "source": [
    "### Analisis de las 10 empresas con mas avisos online."
   ]
  },
  {
   "cell_type": "code",
   "execution_count": 49,
   "metadata": {},
   "outputs": [],
   "source": [
    "data_ads_details['denominacion_empresa'] = data_ads_details['denominacion_empresa'].dropna()\n",
    "data_ads_details = data_ads_details.drop(data_ads_details[data_ads_details['denominacion_empresa'] == '-'].index)"
   ]
  },
  {
   "cell_type": "code",
   "execution_count": 50,
   "metadata": {},
   "outputs": [
    {
     "data": {
      "image/png": "[encoded data removed]",
      "text/plain": [
       "<matplotlib.figure.Figure at 0x7f791568ca58>"
      ]
     },
     "metadata": {},
     "output_type": "display_data"
    }
   ],
   "source": [
    "df_companies_online = data_ads_details[['idaviso','denominacion_empresa']]\n",
    "df_companies_online = pd.merge(df_companies_online,data_ads_online, on ='idaviso')\n",
    "df_companies_online = df_companies_online['denominacion_empresa'].value_counts().nlargest(10)\n",
    "\n",
    "df_companies_online.plot(kind='barh',figsize=(12,8),rot=0,title='Top 10 empresas con mas avisos online');\n",
    "ax=plt.gca()\n",
    "ax.set_xlabel('Cantidad de avisos')\n",
    "ax.set_ylabel('Empresas')\n",
    "#plt.show()\n",
    "#Exportamos el plot como .png para poder ponerlo en el informe\n",
    "plt.savefig('Top10EmpresasMasAvisosOnline.png',bbox_inches='tight')\n",
    "\n"
   ]
  },
  {
   "cell_type": "markdown",
   "metadata": {},
   "source": [
    "## Analisis de las postulaciones de febrero"
   ]
  },
  {
   "cell_type": "code",
   "execution_count": 52,
   "metadata": {},
   "outputs": [],
   "source": [
    "#Limpiamos los datos y los convertimos a datetime\n",
    "data_postulation[\"fechapostulacion\"] = datetime(data_postulation[\"fechapostulacion\"],'%Y-%m-%d')\n",
    "data_postulation[\"fechapostulacion\"] = data_postulation[\"fechapostulacion\"].dropna()"
   ]
  },
  {
   "cell_type": "code",
   "execution_count": 53,
   "metadata": {},
   "outputs": [
    {
     "data": {
      "text/plain": [
       "fechapostulacion\n",
       "1      77554\n",
       "2      69328\n",
       "3      32543\n",
       "4      35350\n",
       "5      91680\n",
       "6      85786\n",
       "7      75788\n",
       "8      67579\n",
       "9      66963\n",
       "10     32138\n",
       "11     28138\n",
       "12     33669\n",
       "13     44363\n",
       "14     85201\n",
       "15     94184\n",
       "16     83448\n",
       "17     40588\n",
       "18     43008\n",
       "19    137104\n",
       "20    132726\n",
       "21    123054\n",
       "22    105738\n",
       "23     85024\n",
       "24     43718\n",
       "25     49924\n",
       "26    122688\n",
       "27    119845\n",
       "28    118296\n",
       "Name: fechapostulacion, dtype: int64"
      ]
     },
     "execution_count": 53,
     "metadata": {},
     "output_type": "execute_result"
    }
   ],
   "source": [
    "#Buscamos los datos del mes de febrero\n",
    "february = data_postulation[data_postulation['fechapostulacion'].dt.month == 2] \n",
    "february_days = february.groupby(february['fechapostulacion'].dt.day)['fechapostulacion'].count()\n",
    "february_days"
   ]
  },
  {
   "cell_type": "code",
   "execution_count": 54,
   "metadata": {},
   "outputs": [
    {
     "data": {
      "image/png": "[encoded data removed]",
      "text/plain": [
       "<matplotlib.figure.Figure at 0x7f79156db2b0>"
      ]
     },
     "metadata": {},
     "output_type": "display_data"
    }
   ],
   "source": [
    "ax = february_days.plot(kind='line',rot=90,figsize=(12,8), legend=False)\n",
    "plt.title ('Postulaciones en el mes de Febrero')\n",
    "\n",
    "ax.set_ylabel('Cantidad de postulantes')\n",
    "ax.set_xlabel(\"Día\")\n",
    "plt.savefig('FebruaryPostulations.png', bbox_inches='tight') \n",
    "#plt.show()\n",
    "\n",
    "#february_graph = february_days.plot(kind='line',title= 'Postulaciones en febrero')\n",
    "#february_graph.set_xlabel('Dia')\n",
    "#february_graph.set_ylabel('Postulaciones');"
   ]
  },
  {
   "cell_type": "markdown",
   "metadata": {},
   "source": [
    "## Analisis de la busqueda de trabajo part-time en función de la edad"
   ]
  },
  {
   "cell_type": "code",
   "execution_count": 55,
   "metadata": {},
   "outputs": [
    {
     "data": {
      "text/plain": [
       "False    13533\n",
       "Name: tipo_de_trabajo, dtype: int64"
      ]
     },
     "execution_count": 55,
     "metadata": {},
     "output_type": "execute_result"
    }
   ],
   "source": [
    "#Limpiamos los datos\n",
    "data_ads_details['tipo_de_trabajo'].isnull().value_counts()"
   ]
  },
  {
   "cell_type": "code",
   "execution_count": 56,
   "metadata": {},
   "outputs": [
    {
     "data": {
      "text/plain": [
       "Full-time          12338\n",
       "Part-time            863\n",
       "Teletrabajo          110\n",
       "Por Horas             63\n",
       "Pasantia              63\n",
       "Temporario            42\n",
       "Por Contrato          37\n",
       "Fines de Semana       14\n",
       "Primer empleo          3\n",
       "Name: tipo_de_trabajo, dtype: int64"
      ]
     },
     "execution_count": 56,
     "metadata": {},
     "output_type": "execute_result"
    }
   ],
   "source": [
    "#Nos fijamos la cantidad de avisos para cada tipo de trabajo\n",
    "data_ads_details['tipo_de_trabajo'].value_counts()"
   ]
  },
  {
   "cell_type": "code",
   "execution_count": 57,
   "metadata": {},
   "outputs": [
    {
     "data": {
      "text/plain": [
       "False    195687\n",
       "True        633\n",
       "Name: fechanacimiento, dtype: int64"
      ]
     },
     "execution_count": 57,
     "metadata": {},
     "output_type": "execute_result"
    }
   ],
   "source": [
    "#Liempieza de datos\n",
    "data_postulant_sex_age['fechanacimiento'].isnull().value_counts()"
   ]
  },
  {
   "cell_type": "code",
   "execution_count": 58,
   "metadata": {},
   "outputs": [
    {
     "data": {
      "text/plain": [
       "0        1970-12-03\n",
       "1        1962-12-04\n",
       "2        1978-08-10\n",
       "3        1969-05-09\n",
       "4        1981-02-16\n",
       "5        1968-12-18\n",
       "6        1966-07-16\n",
       "7        1976-07-21\n",
       "8        1976-02-28\n",
       "9        1981-03-09\n",
       "10       1973-02-13\n",
       "11       1963-04-09\n",
       "12       1967-01-30\n",
       "13       1977-07-16\n",
       "14       1973-09-11\n",
       "15       1954-08-30\n",
       "16       1959-01-05\n",
       "17       1976-09-03\n",
       "18       1964-01-19\n",
       "19       1971-11-08\n",
       "20       1974-05-06\n",
       "21       1963-03-10\n",
       "22       1966-05-30\n",
       "23       1966-03-01\n",
       "24       1969-07-17\n",
       "25       1976-01-25\n",
       "26       1966-06-29\n",
       "27       1967-06-04\n",
       "28       1979-03-24\n",
       "29       1972-06-29\n",
       "            ...    \n",
       "200852   1997-01-05\n",
       "200853   1999-06-24\n",
       "200854   1997-10-02\n",
       "200855   1999-07-24\n",
       "200856   1988-05-31\n",
       "200857   1995-05-14\n",
       "200858   1982-04-15\n",
       "200859   1977-04-06\n",
       "200860   1998-10-02\n",
       "200861   1996-07-08\n",
       "200862   1988-01-01\n",
       "200863   1994-03-02\n",
       "200864   1995-07-05\n",
       "200865   1990-03-21\n",
       "200866   1990-08-25\n",
       "200867   1997-07-22\n",
       "200868   1996-04-26\n",
       "200869   1988-08-26\n",
       "200871   1999-08-10\n",
       "200873   1997-01-11\n",
       "200874   1993-02-19\n",
       "200875   1994-07-26\n",
       "200877   1992-11-29\n",
       "200878   1997-07-08\n",
       "200881   1997-06-23\n",
       "200882   1997-04-22\n",
       "200883   1988-01-07\n",
       "200884   1998-05-09\n",
       "200885   1997-03-06\n",
       "200886   1997-07-07\n",
       "Name: fechanacimiento2, Length: 195687, dtype: datetime64[ns]"
      ]
     },
     "execution_count": 58,
     "metadata": {},
     "output_type": "execute_result"
    }
   ],
   "source": [
    "data_postulant_sex_age['fechanacimiento2'] = datetime(data_postulant_sex_age['fechanacimiento'],'%Y-%m-%d')\n",
    "data_postulant_sex_age['fechanacimiento2'].dropna()"
   ]
  },
  {
   "cell_type": "code",
   "execution_count": 59,
   "metadata": {},
   "outputs": [
    {
     "name": "stderr",
     "output_type": "stream",
     "text": [
      "/usr/local/lib/python3.5/dist-packages/ipykernel_launcher.py:4: SettingWithCopyWarning: \n",
      "A value is trying to be set on a copy of a slice from a DataFrame.\n",
      "Try using .loc[row_indexer,col_indexer] = value instead\n",
      "\n",
      "See the caveats in the documentation: http://pandas.pydata.org/pandas-docs/stable/indexing.html#indexing-view-versus-copy\n",
      "  after removing the cwd from sys.path.\n"
     ]
    },
    {
     "data": {
      "text/html": [
       "<div>\n",
       "<style scoped>\n",
       "    .dataframe tbody tr th:only-of-type {\n",
       "        vertical-align: middle;\n",
       "    }\n",
       "\n",
       "    .dataframe tbody tr th {\n",
       "        vertical-align: top;\n",
       "    }\n",
       "\n",
       "    .dataframe thead th {\n",
       "        text-align: right;\n",
       "    }\n",
       "</style>\n",
       "<table border=\"1\" class=\"dataframe\">\n",
       "  <thead>\n",
       "    <tr style=\"text-align: right;\">\n",
       "      <th></th>\n",
       "      <th>idpostulante</th>\n",
       "      <th>edad</th>\n",
       "    </tr>\n",
       "  </thead>\n",
       "  <tbody>\n",
       "    <tr>\n",
       "      <th>0</th>\n",
       "      <td>NM5M</td>\n",
       "      <td>48</td>\n",
       "    </tr>\n",
       "    <tr>\n",
       "      <th>1</th>\n",
       "      <td>5awk</td>\n",
       "      <td>56</td>\n",
       "    </tr>\n",
       "    <tr>\n",
       "      <th>2</th>\n",
       "      <td>ZaO5</td>\n",
       "      <td>40</td>\n",
       "    </tr>\n",
       "    <tr>\n",
       "      <th>3</th>\n",
       "      <td>NdJl</td>\n",
       "      <td>49</td>\n",
       "    </tr>\n",
       "    <tr>\n",
       "      <th>4</th>\n",
       "      <td>eo2p</td>\n",
       "      <td>37</td>\n",
       "    </tr>\n",
       "  </tbody>\n",
       "</table>\n",
       "</div>"
      ],
      "text/plain": [
       "  idpostulante  edad\n",
       "0         NM5M    48\n",
       "1         5awk    56\n",
       "2         ZaO5    40\n",
       "3         NdJl    49\n",
       "4         eo2p    37"
      ]
     },
     "execution_count": 59,
     "metadata": {},
     "output_type": "execute_result"
    }
   ],
   "source": [
    "#Busco un rango de edades entre 18 y 60 años\n",
    "\n",
    "data_age1860 = data_postulant_sex_age[(data_postulant_sex_age['fechanacimiento2'].dt.year > 1957) & (data_postulant_sex_age['fechanacimiento2'].dt.year < 2000)]\n",
    "data_age1860['edad'] = data_age1860['fechanacimiento2'].map(lambda x:2018-x.year)\n",
    "data_age1860 = data_age1860[['idpostulante','edad']]\n",
    "data_age1860.head()"
   ]
  },
  {
   "cell_type": "code",
   "execution_count": 60,
   "metadata": {},
   "outputs": [
    {
     "data": {
      "text/html": [
       "<div>\n",
       "<style scoped>\n",
       "    .dataframe tbody tr th:only-of-type {\n",
       "        vertical-align: middle;\n",
       "    }\n",
       "\n",
       "    .dataframe tbody tr th {\n",
       "        vertical-align: top;\n",
       "    }\n",
       "\n",
       "    .dataframe thead th {\n",
       "        text-align: right;\n",
       "    }\n",
       "</style>\n",
       "<table border=\"1\" class=\"dataframe\">\n",
       "  <thead>\n",
       "    <tr style=\"text-align: right;\">\n",
       "      <th></th>\n",
       "      <th>idaviso</th>\n",
       "      <th>idpostulante</th>\n",
       "      <th>fechapostulacion</th>\n",
       "      <th>Hora</th>\n",
       "      <th>edad</th>\n",
       "    </tr>\n",
       "  </thead>\n",
       "  <tbody>\n",
       "    <tr>\n",
       "      <th>0</th>\n",
       "      <td>1112257047</td>\n",
       "      <td>NM5M</td>\n",
       "      <td>2018-01-15 16:22:34</td>\n",
       "      <td>16</td>\n",
       "      <td>48</td>\n",
       "    </tr>\n",
       "    <tr>\n",
       "      <th>1</th>\n",
       "      <td>1111920714</td>\n",
       "      <td>NM5M</td>\n",
       "      <td>2018-02-06 09:04:50</td>\n",
       "      <td>9</td>\n",
       "      <td>48</td>\n",
       "    </tr>\n",
       "    <tr>\n",
       "      <th>2</th>\n",
       "      <td>1112346945</td>\n",
       "      <td>NM5M</td>\n",
       "      <td>2018-02-22 09:04:47</td>\n",
       "      <td>9</td>\n",
       "      <td>48</td>\n",
       "    </tr>\n",
       "    <tr>\n",
       "      <th>3</th>\n",
       "      <td>1112345547</td>\n",
       "      <td>NM5M</td>\n",
       "      <td>2018-02-22 09:04:59</td>\n",
       "      <td>9</td>\n",
       "      <td>48</td>\n",
       "    </tr>\n",
       "    <tr>\n",
       "      <th>4</th>\n",
       "      <td>1112237522</td>\n",
       "      <td>5awk</td>\n",
       "      <td>2018-01-25 18:55:03</td>\n",
       "      <td>18</td>\n",
       "      <td>56</td>\n",
       "    </tr>\n",
       "  </tbody>\n",
       "</table>\n",
       "</div>"
      ],
      "text/plain": [
       "      idaviso idpostulante    fechapostulacion  Hora  edad\n",
       "0  1112257047         NM5M 2018-01-15 16:22:34    16    48\n",
       "1  1111920714         NM5M 2018-02-06 09:04:50     9    48\n",
       "2  1112346945         NM5M 2018-02-22 09:04:47     9    48\n",
       "3  1112345547         NM5M 2018-02-22 09:04:59     9    48\n",
       "4  1112237522         5awk 2018-01-25 18:55:03    18    56"
      ]
     },
     "execution_count": 60,
     "metadata": {},
     "output_type": "execute_result"
    }
   ],
   "source": [
    "#Realizamos merge entre los postulantes entre 18 y 60 y sus postulaciones\n",
    "postulations_age1860 = pd.merge(data_postulation,data_age1860, on='idpostulante')\n",
    "postulations_age1860.head()"
   ]
  },
  {
   "cell_type": "code",
   "execution_count": 61,
   "metadata": {},
   "outputs": [
    {
     "data": {
      "text/html": [
       "<div>\n",
       "<style scoped>\n",
       "    .dataframe tbody tr th:only-of-type {\n",
       "        vertical-align: middle;\n",
       "    }\n",
       "\n",
       "    .dataframe tbody tr th {\n",
       "        vertical-align: top;\n",
       "    }\n",
       "\n",
       "    .dataframe thead th {\n",
       "        text-align: right;\n",
       "    }\n",
       "</style>\n",
       "<table border=\"1\" class=\"dataframe\">\n",
       "  <thead>\n",
       "    <tr style=\"text-align: right;\">\n",
       "      <th></th>\n",
       "      <th>idaviso</th>\n",
       "      <th>tipo_de_trabajo</th>\n",
       "    </tr>\n",
       "  </thead>\n",
       "  <tbody>\n",
       "    <tr>\n",
       "      <th>0</th>\n",
       "      <td>8725750</td>\n",
       "      <td>Full-time</td>\n",
       "    </tr>\n",
       "    <tr>\n",
       "      <th>1</th>\n",
       "      <td>17903700</td>\n",
       "      <td>Full-time</td>\n",
       "    </tr>\n",
       "    <tr>\n",
       "      <th>2</th>\n",
       "      <td>1000150677</td>\n",
       "      <td>Full-time</td>\n",
       "    </tr>\n",
       "    <tr>\n",
       "      <th>3</th>\n",
       "      <td>1000610287</td>\n",
       "      <td>Full-time</td>\n",
       "    </tr>\n",
       "    <tr>\n",
       "      <th>4</th>\n",
       "      <td>1000872556</td>\n",
       "      <td>Full-time</td>\n",
       "    </tr>\n",
       "  </tbody>\n",
       "</table>\n",
       "</div>"
      ],
      "text/plain": [
       "      idaviso tipo_de_trabajo\n",
       "0     8725750       Full-time\n",
       "1    17903700       Full-time\n",
       "2  1000150677       Full-time\n",
       "3  1000610287       Full-time\n",
       "4  1000872556       Full-time"
      ]
     },
     "execution_count": 61,
     "metadata": {},
     "output_type": "execute_result"
    }
   ],
   "source": [
    "#DataFrame que relaciona con los idavisos y tipo de trabajo\n",
    "data_work_shift = data_ads_details[['idaviso','tipo_de_trabajo']]\n",
    "data_work_shift.head()"
   ]
  },
  {
   "cell_type": "code",
   "execution_count": 62,
   "metadata": {},
   "outputs": [
    {
     "data": {
      "text/html": [
       "<div>\n",
       "<style scoped>\n",
       "    .dataframe tbody tr th:only-of-type {\n",
       "        vertical-align: middle;\n",
       "    }\n",
       "\n",
       "    .dataframe tbody tr th {\n",
       "        vertical-align: top;\n",
       "    }\n",
       "\n",
       "    .dataframe thead th {\n",
       "        text-align: right;\n",
       "    }\n",
       "</style>\n",
       "<table border=\"1\" class=\"dataframe\">\n",
       "  <thead>\n",
       "    <tr style=\"text-align: right;\">\n",
       "      <th></th>\n",
       "      <th>idaviso</th>\n",
       "      <th>tipo_de_trabajo</th>\n",
       "    </tr>\n",
       "  </thead>\n",
       "  <tbody>\n",
       "    <tr>\n",
       "      <th>16</th>\n",
       "      <td>1110319893</td>\n",
       "      <td>Part-time</td>\n",
       "    </tr>\n",
       "    <tr>\n",
       "      <th>31</th>\n",
       "      <td>1110972814</td>\n",
       "      <td>Part-time</td>\n",
       "    </tr>\n",
       "    <tr>\n",
       "      <th>33</th>\n",
       "      <td>1111034663</td>\n",
       "      <td>Part-time</td>\n",
       "    </tr>\n",
       "    <tr>\n",
       "      <th>46</th>\n",
       "      <td>1111174081</td>\n",
       "      <td>Part-time</td>\n",
       "    </tr>\n",
       "    <tr>\n",
       "      <th>61</th>\n",
       "      <td>1111425609</td>\n",
       "      <td>Part-time</td>\n",
       "    </tr>\n",
       "  </tbody>\n",
       "</table>\n",
       "</div>"
      ],
      "text/plain": [
       "       idaviso tipo_de_trabajo\n",
       "16  1110319893       Part-time\n",
       "31  1110972814       Part-time\n",
       "33  1111034663       Part-time\n",
       "46  1111174081       Part-time\n",
       "61  1111425609       Part-time"
      ]
     },
     "execution_count": 62,
     "metadata": {},
     "output_type": "execute_result"
    }
   ],
   "source": [
    "#Filtramos los part-time\n",
    "data_part_time = data_work_shift[data_work_shift['tipo_de_trabajo'] == 'Part-time']\n",
    "data_part_time.head()"
   ]
  },
  {
   "cell_type": "code",
   "execution_count": 63,
   "metadata": {},
   "outputs": [
    {
     "data": {
      "text/html": [
       "<div>\n",
       "<style scoped>\n",
       "    .dataframe tbody tr th:only-of-type {\n",
       "        vertical-align: middle;\n",
       "    }\n",
       "\n",
       "    .dataframe tbody tr th {\n",
       "        vertical-align: top;\n",
       "    }\n",
       "\n",
       "    .dataframe thead th {\n",
       "        text-align: right;\n",
       "    }\n",
       "</style>\n",
       "<table border=\"1\" class=\"dataframe\">\n",
       "  <thead>\n",
       "    <tr style=\"text-align: right;\">\n",
       "      <th></th>\n",
       "      <th>idaviso</th>\n",
       "      <th>tipo_de_trabajo</th>\n",
       "      <th>idpostulante</th>\n",
       "      <th>fechapostulacion</th>\n",
       "      <th>Hora</th>\n",
       "      <th>edad</th>\n",
       "    </tr>\n",
       "  </thead>\n",
       "  <tbody>\n",
       "    <tr>\n",
       "      <th>0</th>\n",
       "      <td>1111034663</td>\n",
       "      <td>Part-time</td>\n",
       "      <td>1qvlBO</td>\n",
       "      <td>2018-01-30 16:55:12</td>\n",
       "      <td>16</td>\n",
       "      <td>39</td>\n",
       "    </tr>\n",
       "    <tr>\n",
       "      <th>1</th>\n",
       "      <td>1111034663</td>\n",
       "      <td>Part-time</td>\n",
       "      <td>JBmqzN3</td>\n",
       "      <td>2018-01-31 12:47:57</td>\n",
       "      <td>12</td>\n",
       "      <td>26</td>\n",
       "    </tr>\n",
       "    <tr>\n",
       "      <th>2</th>\n",
       "      <td>1111034663</td>\n",
       "      <td>Part-time</td>\n",
       "      <td>dYo1Epa</td>\n",
       "      <td>2018-01-30 12:49:51</td>\n",
       "      <td>12</td>\n",
       "      <td>25</td>\n",
       "    </tr>\n",
       "    <tr>\n",
       "      <th>3</th>\n",
       "      <td>1111034663</td>\n",
       "      <td>Part-time</td>\n",
       "      <td>X9oR5PQ</td>\n",
       "      <td>2018-01-30 09:33:15</td>\n",
       "      <td>9</td>\n",
       "      <td>22</td>\n",
       "    </tr>\n",
       "    <tr>\n",
       "      <th>4</th>\n",
       "      <td>1111034663</td>\n",
       "      <td>Part-time</td>\n",
       "      <td>KBe1xWQ</td>\n",
       "      <td>2018-02-06 11:53:38</td>\n",
       "      <td>11</td>\n",
       "      <td>22</td>\n",
       "    </tr>\n",
       "  </tbody>\n",
       "</table>\n",
       "</div>"
      ],
      "text/plain": [
       "      idaviso tipo_de_trabajo idpostulante    fechapostulacion  Hora  edad\n",
       "0  1111034663       Part-time       1qvlBO 2018-01-30 16:55:12    16    39\n",
       "1  1111034663       Part-time      JBmqzN3 2018-01-31 12:47:57    12    26\n",
       "2  1111034663       Part-time      dYo1Epa 2018-01-30 12:49:51    12    25\n",
       "3  1111034663       Part-time      X9oR5PQ 2018-01-30 09:33:15     9    22\n",
       "4  1111034663       Part-time      KBe1xWQ 2018-02-06 11:53:38    11    22"
      ]
     },
     "execution_count": 63,
     "metadata": {},
     "output_type": "execute_result"
    }
   ],
   "source": [
    "postulations_part_time_1860 = pd.merge(data_part_time,postulations_age1860, on='idaviso')\n",
    "postulations_part_time_1860.head()"
   ]
  },
  {
   "cell_type": "code",
   "execution_count": 64,
   "metadata": {},
   "outputs": [
    {
     "data": {
      "text/html": [
       "<div>\n",
       "<style scoped>\n",
       "    .dataframe tbody tr th:only-of-type {\n",
       "        vertical-align: middle;\n",
       "    }\n",
       "\n",
       "    .dataframe tbody tr th {\n",
       "        vertical-align: top;\n",
       "    }\n",
       "\n",
       "    .dataframe thead th {\n",
       "        text-align: right;\n",
       "    }\n",
       "</style>\n",
       "<table border=\"1\" class=\"dataframe\">\n",
       "  <thead>\n",
       "    <tr style=\"text-align: right;\">\n",
       "      <th></th>\n",
       "      <th>idaviso</th>\n",
       "      <th>tipo_de_trabajo</th>\n",
       "      <th>idpostulante</th>\n",
       "      <th>fechapostulacion</th>\n",
       "      <th>Hora</th>\n",
       "    </tr>\n",
       "    <tr>\n",
       "      <th>edad</th>\n",
       "      <th></th>\n",
       "      <th></th>\n",
       "      <th></th>\n",
       "      <th></th>\n",
       "      <th></th>\n",
       "    </tr>\n",
       "  </thead>\n",
       "  <tbody>\n",
       "    <tr>\n",
       "      <th>19</th>\n",
       "      <td>13982</td>\n",
       "      <td>13982</td>\n",
       "      <td>13982</td>\n",
       "      <td>13982</td>\n",
       "      <td>13982</td>\n",
       "    </tr>\n",
       "    <tr>\n",
       "      <th>20</th>\n",
       "      <td>23858</td>\n",
       "      <td>23858</td>\n",
       "      <td>23858</td>\n",
       "      <td>23858</td>\n",
       "      <td>23858</td>\n",
       "    </tr>\n",
       "    <tr>\n",
       "      <th>21</th>\n",
       "      <td>30928</td>\n",
       "      <td>30928</td>\n",
       "      <td>30928</td>\n",
       "      <td>30928</td>\n",
       "      <td>30928</td>\n",
       "    </tr>\n",
       "    <tr>\n",
       "      <th>22</th>\n",
       "      <td>33521</td>\n",
       "      <td>33521</td>\n",
       "      <td>33521</td>\n",
       "      <td>33521</td>\n",
       "      <td>33521</td>\n",
       "    </tr>\n",
       "    <tr>\n",
       "      <th>23</th>\n",
       "      <td>31398</td>\n",
       "      <td>31398</td>\n",
       "      <td>31398</td>\n",
       "      <td>31398</td>\n",
       "      <td>31398</td>\n",
       "    </tr>\n",
       "    <tr>\n",
       "      <th>24</th>\n",
       "      <td>30972</td>\n",
       "      <td>30972</td>\n",
       "      <td>30972</td>\n",
       "      <td>30972</td>\n",
       "      <td>30972</td>\n",
       "    </tr>\n",
       "    <tr>\n",
       "      <th>25</th>\n",
       "      <td>28994</td>\n",
       "      <td>28994</td>\n",
       "      <td>28994</td>\n",
       "      <td>28994</td>\n",
       "      <td>28994</td>\n",
       "    </tr>\n",
       "    <tr>\n",
       "      <th>26</th>\n",
       "      <td>25839</td>\n",
       "      <td>25839</td>\n",
       "      <td>25839</td>\n",
       "      <td>25839</td>\n",
       "      <td>25839</td>\n",
       "    </tr>\n",
       "    <tr>\n",
       "      <th>27</th>\n",
       "      <td>23371</td>\n",
       "      <td>23371</td>\n",
       "      <td>23371</td>\n",
       "      <td>23371</td>\n",
       "      <td>23371</td>\n",
       "    </tr>\n",
       "    <tr>\n",
       "      <th>28</th>\n",
       "      <td>20185</td>\n",
       "      <td>20185</td>\n",
       "      <td>20185</td>\n",
       "      <td>20185</td>\n",
       "      <td>20185</td>\n",
       "    </tr>\n",
       "    <tr>\n",
       "      <th>29</th>\n",
       "      <td>16343</td>\n",
       "      <td>16343</td>\n",
       "      <td>16343</td>\n",
       "      <td>16343</td>\n",
       "      <td>16343</td>\n",
       "    </tr>\n",
       "    <tr>\n",
       "      <th>30</th>\n",
       "      <td>15086</td>\n",
       "      <td>15086</td>\n",
       "      <td>15086</td>\n",
       "      <td>15086</td>\n",
       "      <td>15086</td>\n",
       "    </tr>\n",
       "    <tr>\n",
       "      <th>31</th>\n",
       "      <td>12886</td>\n",
       "      <td>12886</td>\n",
       "      <td>12886</td>\n",
       "      <td>12886</td>\n",
       "      <td>12886</td>\n",
       "    </tr>\n",
       "    <tr>\n",
       "      <th>32</th>\n",
       "      <td>11115</td>\n",
       "      <td>11115</td>\n",
       "      <td>11115</td>\n",
       "      <td>11115</td>\n",
       "      <td>11115</td>\n",
       "    </tr>\n",
       "    <tr>\n",
       "      <th>33</th>\n",
       "      <td>10568</td>\n",
       "      <td>10568</td>\n",
       "      <td>10568</td>\n",
       "      <td>10568</td>\n",
       "      <td>10568</td>\n",
       "    </tr>\n",
       "    <tr>\n",
       "      <th>34</th>\n",
       "      <td>8013</td>\n",
       "      <td>8013</td>\n",
       "      <td>8013</td>\n",
       "      <td>8013</td>\n",
       "      <td>8013</td>\n",
       "    </tr>\n",
       "    <tr>\n",
       "      <th>35</th>\n",
       "      <td>6486</td>\n",
       "      <td>6486</td>\n",
       "      <td>6486</td>\n",
       "      <td>6486</td>\n",
       "      <td>6486</td>\n",
       "    </tr>\n",
       "    <tr>\n",
       "      <th>36</th>\n",
       "      <td>6131</td>\n",
       "      <td>6131</td>\n",
       "      <td>6131</td>\n",
       "      <td>6131</td>\n",
       "      <td>6131</td>\n",
       "    </tr>\n",
       "    <tr>\n",
       "      <th>37</th>\n",
       "      <td>4914</td>\n",
       "      <td>4914</td>\n",
       "      <td>4914</td>\n",
       "      <td>4914</td>\n",
       "      <td>4914</td>\n",
       "    </tr>\n",
       "    <tr>\n",
       "      <th>38</th>\n",
       "      <td>4415</td>\n",
       "      <td>4415</td>\n",
       "      <td>4415</td>\n",
       "      <td>4415</td>\n",
       "      <td>4415</td>\n",
       "    </tr>\n",
       "    <tr>\n",
       "      <th>39</th>\n",
       "      <td>4250</td>\n",
       "      <td>4250</td>\n",
       "      <td>4250</td>\n",
       "      <td>4250</td>\n",
       "      <td>4250</td>\n",
       "    </tr>\n",
       "    <tr>\n",
       "      <th>40</th>\n",
       "      <td>3538</td>\n",
       "      <td>3538</td>\n",
       "      <td>3538</td>\n",
       "      <td>3538</td>\n",
       "      <td>3538</td>\n",
       "    </tr>\n",
       "    <tr>\n",
       "      <th>41</th>\n",
       "      <td>2907</td>\n",
       "      <td>2907</td>\n",
       "      <td>2907</td>\n",
       "      <td>2907</td>\n",
       "      <td>2907</td>\n",
       "    </tr>\n",
       "    <tr>\n",
       "      <th>42</th>\n",
       "      <td>2171</td>\n",
       "      <td>2171</td>\n",
       "      <td>2171</td>\n",
       "      <td>2171</td>\n",
       "      <td>2171</td>\n",
       "    </tr>\n",
       "    <tr>\n",
       "      <th>43</th>\n",
       "      <td>2157</td>\n",
       "      <td>2157</td>\n",
       "      <td>2157</td>\n",
       "      <td>2157</td>\n",
       "      <td>2157</td>\n",
       "    </tr>\n",
       "    <tr>\n",
       "      <th>44</th>\n",
       "      <td>1667</td>\n",
       "      <td>1667</td>\n",
       "      <td>1667</td>\n",
       "      <td>1667</td>\n",
       "      <td>1667</td>\n",
       "    </tr>\n",
       "    <tr>\n",
       "      <th>45</th>\n",
       "      <td>1452</td>\n",
       "      <td>1452</td>\n",
       "      <td>1452</td>\n",
       "      <td>1452</td>\n",
       "      <td>1452</td>\n",
       "    </tr>\n",
       "    <tr>\n",
       "      <th>46</th>\n",
       "      <td>1398</td>\n",
       "      <td>1398</td>\n",
       "      <td>1398</td>\n",
       "      <td>1398</td>\n",
       "      <td>1398</td>\n",
       "    </tr>\n",
       "    <tr>\n",
       "      <th>47</th>\n",
       "      <td>985</td>\n",
       "      <td>985</td>\n",
       "      <td>985</td>\n",
       "      <td>985</td>\n",
       "      <td>985</td>\n",
       "    </tr>\n",
       "    <tr>\n",
       "      <th>48</th>\n",
       "      <td>1344</td>\n",
       "      <td>1344</td>\n",
       "      <td>1344</td>\n",
       "      <td>1344</td>\n",
       "      <td>1344</td>\n",
       "    </tr>\n",
       "    <tr>\n",
       "      <th>49</th>\n",
       "      <td>913</td>\n",
       "      <td>913</td>\n",
       "      <td>913</td>\n",
       "      <td>913</td>\n",
       "      <td>913</td>\n",
       "    </tr>\n",
       "    <tr>\n",
       "      <th>50</th>\n",
       "      <td>802</td>\n",
       "      <td>802</td>\n",
       "      <td>802</td>\n",
       "      <td>802</td>\n",
       "      <td>802</td>\n",
       "    </tr>\n",
       "    <tr>\n",
       "      <th>51</th>\n",
       "      <td>675</td>\n",
       "      <td>675</td>\n",
       "      <td>675</td>\n",
       "      <td>675</td>\n",
       "      <td>675</td>\n",
       "    </tr>\n",
       "    <tr>\n",
       "      <th>52</th>\n",
       "      <td>427</td>\n",
       "      <td>427</td>\n",
       "      <td>427</td>\n",
       "      <td>427</td>\n",
       "      <td>427</td>\n",
       "    </tr>\n",
       "    <tr>\n",
       "      <th>53</th>\n",
       "      <td>467</td>\n",
       "      <td>467</td>\n",
       "      <td>467</td>\n",
       "      <td>467</td>\n",
       "      <td>467</td>\n",
       "    </tr>\n",
       "    <tr>\n",
       "      <th>54</th>\n",
       "      <td>469</td>\n",
       "      <td>469</td>\n",
       "      <td>469</td>\n",
       "      <td>469</td>\n",
       "      <td>469</td>\n",
       "    </tr>\n",
       "    <tr>\n",
       "      <th>55</th>\n",
       "      <td>485</td>\n",
       "      <td>485</td>\n",
       "      <td>485</td>\n",
       "      <td>485</td>\n",
       "      <td>485</td>\n",
       "    </tr>\n",
       "    <tr>\n",
       "      <th>56</th>\n",
       "      <td>327</td>\n",
       "      <td>327</td>\n",
       "      <td>327</td>\n",
       "      <td>327</td>\n",
       "      <td>327</td>\n",
       "    </tr>\n",
       "    <tr>\n",
       "      <th>57</th>\n",
       "      <td>335</td>\n",
       "      <td>335</td>\n",
       "      <td>335</td>\n",
       "      <td>335</td>\n",
       "      <td>335</td>\n",
       "    </tr>\n",
       "    <tr>\n",
       "      <th>58</th>\n",
       "      <td>255</td>\n",
       "      <td>255</td>\n",
       "      <td>255</td>\n",
       "      <td>255</td>\n",
       "      <td>255</td>\n",
       "    </tr>\n",
       "    <tr>\n",
       "      <th>59</th>\n",
       "      <td>205</td>\n",
       "      <td>205</td>\n",
       "      <td>205</td>\n",
       "      <td>205</td>\n",
       "      <td>205</td>\n",
       "    </tr>\n",
       "    <tr>\n",
       "      <th>60</th>\n",
       "      <td>199</td>\n",
       "      <td>199</td>\n",
       "      <td>199</td>\n",
       "      <td>199</td>\n",
       "      <td>199</td>\n",
       "    </tr>\n",
       "  </tbody>\n",
       "</table>\n",
       "</div>"
      ],
      "text/plain": [
       "      idaviso  tipo_de_trabajo  idpostulante  fechapostulacion   Hora\n",
       "edad                                                                 \n",
       "19      13982            13982         13982             13982  13982\n",
       "20      23858            23858         23858             23858  23858\n",
       "21      30928            30928         30928             30928  30928\n",
       "22      33521            33521         33521             33521  33521\n",
       "23      31398            31398         31398             31398  31398\n",
       "24      30972            30972         30972             30972  30972\n",
       "25      28994            28994         28994             28994  28994\n",
       "26      25839            25839         25839             25839  25839\n",
       "27      23371            23371         23371             23371  23371\n",
       "28      20185            20185         20185             20185  20185\n",
       "29      16343            16343         16343             16343  16343\n",
       "30      15086            15086         15086             15086  15086\n",
       "31      12886            12886         12886             12886  12886\n",
       "32      11115            11115         11115             11115  11115\n",
       "33      10568            10568         10568             10568  10568\n",
       "34       8013             8013          8013              8013   8013\n",
       "35       6486             6486          6486              6486   6486\n",
       "36       6131             6131          6131              6131   6131\n",
       "37       4914             4914          4914              4914   4914\n",
       "38       4415             4415          4415              4415   4415\n",
       "39       4250             4250          4250              4250   4250\n",
       "40       3538             3538          3538              3538   3538\n",
       "41       2907             2907          2907              2907   2907\n",
       "42       2171             2171          2171              2171   2171\n",
       "43       2157             2157          2157              2157   2157\n",
       "44       1667             1667          1667              1667   1667\n",
       "45       1452             1452          1452              1452   1452\n",
       "46       1398             1398          1398              1398   1398\n",
       "47        985              985           985               985    985\n",
       "48       1344             1344          1344              1344   1344\n",
       "49        913              913           913               913    913\n",
       "50        802              802           802               802    802\n",
       "51        675              675           675               675    675\n",
       "52        427              427           427               427    427\n",
       "53        467              467           467               467    467\n",
       "54        469              469           469               469    469\n",
       "55        485              485           485               485    485\n",
       "56        327              327           327               327    327\n",
       "57        335              335           335               335    335\n",
       "58        255              255           255               255    255\n",
       "59        205              205           205               205    205\n",
       "60        199              199           199               199    199"
      ]
     },
     "execution_count": 64,
     "metadata": {},
     "output_type": "execute_result"
    }
   ],
   "source": [
    "part_time_1860 = postulations_part_time_1860.groupby('edad').count()\n",
    "part_time_1860"
   ]
  },
  {
   "cell_type": "code",
   "execution_count": 65,
   "metadata": {},
   "outputs": [
    {
     "data": {
      "image/png": "[encoded data removed]",
      "text/plain": [
       "<matplotlib.figure.Figure at 0x7f79156e3ba8>"
      ]
     },
     "metadata": {},
     "output_type": "display_data"
    }
   ],
   "source": [
    "ax = part_time_1860.plot(kind='line',rot=90,figsize=(12,8), legend=False)\n",
    "plt.title ('Relacion de postulaciones Part-time en función de la edad')\n",
    "\n",
    "ax.set_ylabel('Cantidad de postulantes')\n",
    "ax.set_xlabel(\"Edad (Años)\")\n",
    "plt.savefig('Part-timeEdad.png', bbox_inches='tight') \n",
    "#plt.show()\n",
    "\n",
    "\n",
    "#part_time_1860_graph = part_time_1860.plot(kind='line',title= 'Relacion de postulaciones Part-time en función de la edad', legend= False)\n",
    "#part_time_1860_graph.set_xlabel('Edad (Anios)')\n",
    "#part_time_1860_graph.set_ylabel('Cant de postulaciones');\n",
    "#part_time_1860_graph.savefig('Part-TimeEdad.png', bbox_inches='tight')"
   ]
  },
  {
   "cell_type": "markdown",
   "metadata": {},
   "source": [
    "## ANALISIS DE LA CANTIDAD HORAS LABORALES"
   ]
  },
  {
   "cell_type": "code",
   "execution_count": 102,
   "metadata": {},
   "outputs": [
    {
     "data": {
      "text/plain": [
       "Full-time          12338\n",
       "Part-time            863\n",
       "Teletrabajo          110\n",
       "Por Horas             63\n",
       "Pasantia              63\n",
       "Temporario            42\n",
       "Por Contrato          37\n",
       "Fines de Semana       14\n",
       "Primer empleo          3\n",
       "Name: tipo_de_trabajo, dtype: int64"
      ]
     },
     "execution_count": 102,
     "metadata": {},
     "output_type": "execute_result"
    }
   ],
   "source": [
    "data_ads_details['tipo_de_trabajo'].value_counts()"
   ]
  },
  {
   "cell_type": "code",
   "execution_count": 103,
   "metadata": {},
   "outputs": [],
   "source": [
    "data_education = education_cleaning(data_postulant_education)"
   ]
  },
  {
   "cell_type": "code",
   "execution_count": 104,
   "metadata": {},
   "outputs": [
    {
     "data": {
      "text/html": [
       "<div>\n",
       "<style scoped>\n",
       "    .dataframe tbody tr th:only-of-type {\n",
       "        vertical-align: middle;\n",
       "    }\n",
       "\n",
       "    .dataframe tbody tr th {\n",
       "        vertical-align: top;\n",
       "    }\n",
       "\n",
       "    .dataframe thead th {\n",
       "        text-align: right;\n",
       "    }\n",
       "</style>\n",
       "<table border=\"1\" class=\"dataframe\">\n",
       "  <thead>\n",
       "    <tr style=\"text-align: right;\">\n",
       "      <th></th>\n",
       "      <th>idpostulante</th>\n",
       "      <th>nombre</th>\n",
       "      <th>estado</th>\n",
       "      <th>nombre_sort</th>\n",
       "    </tr>\n",
       "  </thead>\n",
       "  <tbody>\n",
       "    <tr>\n",
       "      <th>1</th>\n",
       "      <td>8BkL</td>\n",
       "      <td>Universitario</td>\n",
       "      <td>En Curso</td>\n",
       "      <td>3</td>\n",
       "    </tr>\n",
       "    <tr>\n",
       "      <th>2</th>\n",
       "      <td>1d2B</td>\n",
       "      <td>Universitario</td>\n",
       "      <td>En Curso</td>\n",
       "      <td>3</td>\n",
       "    </tr>\n",
       "    <tr>\n",
       "      <th>3</th>\n",
       "      <td>NPBx</td>\n",
       "      <td>Universitario</td>\n",
       "      <td>En Curso</td>\n",
       "      <td>3</td>\n",
       "    </tr>\n",
       "    <tr>\n",
       "      <th>8</th>\n",
       "      <td>Y043Z</td>\n",
       "      <td>Universitario</td>\n",
       "      <td>En Curso</td>\n",
       "      <td>3</td>\n",
       "    </tr>\n",
       "    <tr>\n",
       "      <th>9</th>\n",
       "      <td>6M3jr</td>\n",
       "      <td>Universitario</td>\n",
       "      <td>En Curso</td>\n",
       "      <td>3</td>\n",
       "    </tr>\n",
       "  </tbody>\n",
       "</table>\n",
       "</div>"
      ],
      "text/plain": [
       "  idpostulante         nombre    estado  nombre_sort\n",
       "1         8BkL  Universitario  En Curso            3\n",
       "2         1d2B  Universitario  En Curso            3\n",
       "3         NPBx  Universitario  En Curso            3\n",
       "8        Y043Z  Universitario  En Curso            3\n",
       "9        6M3jr  Universitario  En Curso            3"
      ]
     },
     "execution_count": 104,
     "metadata": {},
     "output_type": "execute_result"
    }
   ],
   "source": [
    "#filtramos por alumnos universitarios y siguen en curso  \n",
    "univ_not_finished = data_postulant_education[(data_postulant_education['nombre']=='Universitario') & (data_postulant_education['estado']=='En Curso')]\n",
    "univ_not_finished.head()"
   ]
  },
  {
   "cell_type": "code",
   "execution_count": 110,
   "metadata": {},
   "outputs": [
    {
     "data": {
      "text/html": [
       "<div>\n",
       "<style scoped>\n",
       "    .dataframe tbody tr th:only-of-type {\n",
       "        vertical-align: middle;\n",
       "    }\n",
       "\n",
       "    .dataframe tbody tr th {\n",
       "        vertical-align: top;\n",
       "    }\n",
       "\n",
       "    .dataframe thead th {\n",
       "        text-align: right;\n",
       "    }\n",
       "</style>\n",
       "<table border=\"1\" class=\"dataframe\">\n",
       "  <thead>\n",
       "    <tr style=\"text-align: right;\">\n",
       "      <th></th>\n",
       "      <th>idpostulante</th>\n",
       "      <th>fechanacimiento</th>\n",
       "      <th>sexo</th>\n",
       "      <th>fechanacimiento2</th>\n",
       "    </tr>\n",
       "  </thead>\n",
       "  <tbody>\n",
       "    <tr>\n",
       "      <th>2272</th>\n",
       "      <td>NzqmoV</td>\n",
       "      <td>1995-01-16</td>\n",
       "      <td>FEM</td>\n",
       "      <td>1995-01-16</td>\n",
       "    </tr>\n",
       "    <tr>\n",
       "      <th>6821</th>\n",
       "      <td>65lY6R</td>\n",
       "      <td>1993-09-13</td>\n",
       "      <td>FEM</td>\n",
       "      <td>1993-09-13</td>\n",
       "    </tr>\n",
       "    <tr>\n",
       "      <th>7988</th>\n",
       "      <td>ZrzORR</td>\n",
       "      <td>1998-05-02</td>\n",
       "      <td>FEM</td>\n",
       "      <td>1998-05-02</td>\n",
       "    </tr>\n",
       "    <tr>\n",
       "      <th>9855</th>\n",
       "      <td>8V5rEj</td>\n",
       "      <td>1993-02-24</td>\n",
       "      <td>FEM</td>\n",
       "      <td>1993-02-24</td>\n",
       "    </tr>\n",
       "    <tr>\n",
       "      <th>11127</th>\n",
       "      <td>epMXVj</td>\n",
       "      <td>1994-05-18</td>\n",
       "      <td>MASC</td>\n",
       "      <td>1994-05-18</td>\n",
       "    </tr>\n",
       "  </tbody>\n",
       "</table>\n",
       "</div>"
      ],
      "text/plain": [
       "      idpostulante fechanacimiento  sexo fechanacimiento2\n",
       "2272        NzqmoV      1995-01-16   FEM       1995-01-16\n",
       "6821        65lY6R      1993-09-13   FEM       1993-09-13\n",
       "7988        ZrzORR      1998-05-02   FEM       1998-05-02\n",
       "9855        8V5rEj      1993-02-24   FEM       1993-02-24\n",
       "11127       epMXVj      1994-05-18  MASC       1994-05-18"
      ]
     },
     "execution_count": 110,
     "metadata": {},
     "output_type": "execute_result"
    }
   ],
   "source": [
    "#filtramos por postulantes en el rango de edades de 18 a 16\n",
    "data_postulant_sex_age['fechanacimiento'] = pd.to_datetime(data_postulant_sex_age['fechanacimiento'], format = '%Y-%m-%d',errors = 'coerce')\n",
    "data_age1826 = data_postulant_sex_age[(data_postulant_sex_age['fechanacimiento'].dt.year > 1992) & (data_postulant_sex_age['fechanacimiento'].dt.year < 2000)]\n",
    "data_age1826.head()"
   ]
  },
  {
   "cell_type": "code",
   "execution_count": 106,
   "metadata": {},
   "outputs": [
    {
     "data": {
      "text/html": [
       "<div>\n",
       "<style scoped>\n",
       "    .dataframe tbody tr th:only-of-type {\n",
       "        vertical-align: middle;\n",
       "    }\n",
       "\n",
       "    .dataframe tbody tr th {\n",
       "        vertical-align: top;\n",
       "    }\n",
       "\n",
       "    .dataframe thead th {\n",
       "        text-align: right;\n",
       "    }\n",
       "</style>\n",
       "<table border=\"1\" class=\"dataframe\">\n",
       "  <thead>\n",
       "    <tr style=\"text-align: right;\">\n",
       "      <th></th>\n",
       "      <th>idpostulante</th>\n",
       "      <th>nombre</th>\n",
       "      <th>estado</th>\n",
       "      <th>nombre_sort</th>\n",
       "      <th>fechanacimiento</th>\n",
       "      <th>sexo</th>\n",
       "      <th>fechanacimiento2</th>\n",
       "    </tr>\n",
       "  </thead>\n",
       "  <tbody>\n",
       "    <tr>\n",
       "      <th>0</th>\n",
       "      <td>8V5rEj</td>\n",
       "      <td>Universitario</td>\n",
       "      <td>En Curso</td>\n",
       "      <td>3</td>\n",
       "      <td>1993-02-24</td>\n",
       "      <td>FEM</td>\n",
       "      <td>1993-02-24</td>\n",
       "    </tr>\n",
       "    <tr>\n",
       "      <th>1</th>\n",
       "      <td>NWzZmD</td>\n",
       "      <td>Universitario</td>\n",
       "      <td>En Curso</td>\n",
       "      <td>3</td>\n",
       "      <td>1996-02-19</td>\n",
       "      <td>MASC</td>\n",
       "      <td>1996-02-19</td>\n",
       "    </tr>\n",
       "    <tr>\n",
       "      <th>2</th>\n",
       "      <td>a83VGJ</td>\n",
       "      <td>Universitario</td>\n",
       "      <td>En Curso</td>\n",
       "      <td>3</td>\n",
       "      <td>1995-09-26</td>\n",
       "      <td>FEM</td>\n",
       "      <td>1995-09-26</td>\n",
       "    </tr>\n",
       "    <tr>\n",
       "      <th>3</th>\n",
       "      <td>ND46Px</td>\n",
       "      <td>Universitario</td>\n",
       "      <td>En Curso</td>\n",
       "      <td>3</td>\n",
       "      <td>1993-09-26</td>\n",
       "      <td>FEM</td>\n",
       "      <td>1993-09-26</td>\n",
       "    </tr>\n",
       "    <tr>\n",
       "      <th>4</th>\n",
       "      <td>Z054eR</td>\n",
       "      <td>Universitario</td>\n",
       "      <td>En Curso</td>\n",
       "      <td>3</td>\n",
       "      <td>1993-01-20</td>\n",
       "      <td>MASC</td>\n",
       "      <td>1993-01-20</td>\n",
       "    </tr>\n",
       "  </tbody>\n",
       "</table>\n",
       "</div>"
      ],
      "text/plain": [
       "  idpostulante         nombre    estado  nombre_sort fechanacimiento  sexo  \\\n",
       "0       8V5rEj  Universitario  En Curso            3      1993-02-24   FEM   \n",
       "1       NWzZmD  Universitario  En Curso            3      1996-02-19  MASC   \n",
       "2       a83VGJ  Universitario  En Curso            3      1995-09-26   FEM   \n",
       "3       ND46Px  Universitario  En Curso            3      1993-09-26   FEM   \n",
       "4       Z054eR  Universitario  En Curso            3      1993-01-20  MASC   \n",
       "\n",
       "  fechanacimiento2  \n",
       "0       1993-02-24  \n",
       "1       1996-02-19  \n",
       "2       1995-09-26  \n",
       "3       1993-09-26  \n",
       "4       1993-01-20  "
      ]
     },
     "execution_count": 106,
     "metadata": {},
     "output_type": "execute_result"
    }
   ],
   "source": [
    "#merge entre ambas tablas anteriores\n",
    "univ_age = pd.merge(univ_not_finished,data_age1826, on='idpostulante')\n",
    "univ_age.head()"
   ]
  },
  {
   "cell_type": "code",
   "execution_count": 107,
   "metadata": {},
   "outputs": [
    {
     "data": {
      "text/html": [
       "<div>\n",
       "<style scoped>\n",
       "    .dataframe tbody tr th:only-of-type {\n",
       "        vertical-align: middle;\n",
       "    }\n",
       "\n",
       "    .dataframe tbody tr th {\n",
       "        vertical-align: top;\n",
       "    }\n",
       "\n",
       "    .dataframe thead th {\n",
       "        text-align: right;\n",
       "    }\n",
       "</style>\n",
       "<table border=\"1\" class=\"dataframe\">\n",
       "  <thead>\n",
       "    <tr style=\"text-align: right;\">\n",
       "      <th></th>\n",
       "      <th>idaviso</th>\n",
       "      <th>tipo_de_trabajo</th>\n",
       "    </tr>\n",
       "  </thead>\n",
       "  <tbody>\n",
       "    <tr>\n",
       "      <th>0</th>\n",
       "      <td>8725750</td>\n",
       "      <td>Full-time</td>\n",
       "    </tr>\n",
       "    <tr>\n",
       "      <th>1</th>\n",
       "      <td>17903700</td>\n",
       "      <td>Full-time</td>\n",
       "    </tr>\n",
       "    <tr>\n",
       "      <th>2</th>\n",
       "      <td>1000150677</td>\n",
       "      <td>Full-time</td>\n",
       "    </tr>\n",
       "    <tr>\n",
       "      <th>3</th>\n",
       "      <td>1000610287</td>\n",
       "      <td>Full-time</td>\n",
       "    </tr>\n",
       "    <tr>\n",
       "      <th>4</th>\n",
       "      <td>1000872556</td>\n",
       "      <td>Full-time</td>\n",
       "    </tr>\n",
       "  </tbody>\n",
       "</table>\n",
       "</div>"
      ],
      "text/plain": [
       "      idaviso tipo_de_trabajo\n",
       "0     8725750       Full-time\n",
       "1    17903700       Full-time\n",
       "2  1000150677       Full-time\n",
       "3  1000610287       Full-time\n",
       "4  1000872556       Full-time"
      ]
     },
     "execution_count": 107,
     "metadata": {},
     "output_type": "execute_result"
    }
   ],
   "source": [
    "#DataFrame que relaciona con los idavisos y tipo de trabajo\n",
    "data_details = data_ads_details[['idaviso','tipo_de_trabajo']]\n",
    "data_details.head()"
   ]
  },
  {
   "cell_type": "code",
   "execution_count": 108,
   "metadata": {},
   "outputs": [
    {
     "data": {
      "text/html": [
       "<div>\n",
       "<style scoped>\n",
       "    .dataframe tbody tr th:only-of-type {\n",
       "        vertical-align: middle;\n",
       "    }\n",
       "\n",
       "    .dataframe tbody tr th {\n",
       "        vertical-align: top;\n",
       "    }\n",
       "\n",
       "    .dataframe thead th {\n",
       "        text-align: right;\n",
       "    }\n",
       "</style>\n",
       "<table border=\"1\" class=\"dataframe\">\n",
       "  <thead>\n",
       "    <tr style=\"text-align: right;\">\n",
       "      <th></th>\n",
       "      <th>idaviso</th>\n",
       "      <th>tipo_de_trabajo</th>\n",
       "      <th>idpostulante</th>\n",
       "      <th>fechapostulacion</th>\n",
       "      <th>Hora</th>\n",
       "    </tr>\n",
       "  </thead>\n",
       "  <tbody>\n",
       "    <tr>\n",
       "      <th>0</th>\n",
       "      <td>8725750</td>\n",
       "      <td>Full-time</td>\n",
       "      <td>4rWEjrA</td>\n",
       "      <td>2018-01-16 21:58:40</td>\n",
       "      <td>21</td>\n",
       "    </tr>\n",
       "    <tr>\n",
       "      <th>1</th>\n",
       "      <td>8725750</td>\n",
       "      <td>Full-time</td>\n",
       "      <td>qewD0aR</td>\n",
       "      <td>2018-02-06 15:51:54</td>\n",
       "      <td>15</td>\n",
       "    </tr>\n",
       "    <tr>\n",
       "      <th>2</th>\n",
       "      <td>8725750</td>\n",
       "      <td>Full-time</td>\n",
       "      <td>3N2dBdq</td>\n",
       "      <td>2018-02-08 10:49:43</td>\n",
       "      <td>10</td>\n",
       "    </tr>\n",
       "    <tr>\n",
       "      <th>3</th>\n",
       "      <td>8725750</td>\n",
       "      <td>Full-time</td>\n",
       "      <td>0zkx2dY</td>\n",
       "      <td>2018-02-07 06:32:25</td>\n",
       "      <td>6</td>\n",
       "    </tr>\n",
       "    <tr>\n",
       "      <th>4</th>\n",
       "      <td>8725750</td>\n",
       "      <td>Full-time</td>\n",
       "      <td>ZDrdPVR</td>\n",
       "      <td>2018-01-15 09:23:40</td>\n",
       "      <td>9</td>\n",
       "    </tr>\n",
       "  </tbody>\n",
       "</table>\n",
       "</div>"
      ],
      "text/plain": [
       "   idaviso tipo_de_trabajo idpostulante    fechapostulacion  Hora\n",
       "0  8725750       Full-time      4rWEjrA 2018-01-16 21:58:40    21\n",
       "1  8725750       Full-time      qewD0aR 2018-02-06 15:51:54    15\n",
       "2  8725750       Full-time      3N2dBdq 2018-02-08 10:49:43    10\n",
       "3  8725750       Full-time      0zkx2dY 2018-02-07 06:32:25     6\n",
       "4  8725750       Full-time      ZDrdPVR 2018-01-15 09:23:40     9"
      ]
     },
     "execution_count": 108,
     "metadata": {},
     "output_type": "execute_result"
    }
   ],
   "source": [
    "#merge entre las tablas anteriores\n",
    "avisos_merge = pd.merge(data_details,data_postulation, on= 'idaviso')\n",
    "avisos_merge.head()"
   ]
  },
  {
   "cell_type": "code",
   "execution_count": 109,
   "metadata": {},
   "outputs": [
    {
     "data": {
      "text/html": [
       "<div>\n",
       "<style scoped>\n",
       "    .dataframe tbody tr th:only-of-type {\n",
       "        vertical-align: middle;\n",
       "    }\n",
       "\n",
       "    .dataframe tbody tr th {\n",
       "        vertical-align: top;\n",
       "    }\n",
       "\n",
       "    .dataframe thead th {\n",
       "        text-align: right;\n",
       "    }\n",
       "</style>\n",
       "<table border=\"1\" class=\"dataframe\">\n",
       "  <thead>\n",
       "    <tr style=\"text-align: right;\">\n",
       "      <th></th>\n",
       "      <th>idpostulante</th>\n",
       "      <th>nombre</th>\n",
       "      <th>estado</th>\n",
       "      <th>nombre_sort</th>\n",
       "      <th>fechanacimiento</th>\n",
       "      <th>sexo</th>\n",
       "      <th>fechanacimiento2</th>\n",
       "      <th>idaviso</th>\n",
       "      <th>tipo_de_trabajo</th>\n",
       "      <th>fechapostulacion</th>\n",
       "      <th>Hora</th>\n",
       "    </tr>\n",
       "  </thead>\n",
       "  <tbody>\n",
       "    <tr>\n",
       "      <th>0</th>\n",
       "      <td>8V5rEj</td>\n",
       "      <td>Universitario</td>\n",
       "      <td>En Curso</td>\n",
       "      <td>3</td>\n",
       "      <td>1993-02-24</td>\n",
       "      <td>FEM</td>\n",
       "      <td>1993-02-24</td>\n",
       "      <td>1112216861</td>\n",
       "      <td>Part-time</td>\n",
       "      <td>2018-01-22 10:03:22</td>\n",
       "      <td>10</td>\n",
       "    </tr>\n",
       "    <tr>\n",
       "      <th>1</th>\n",
       "      <td>8V5rEj</td>\n",
       "      <td>Universitario</td>\n",
       "      <td>En Curso</td>\n",
       "      <td>3</td>\n",
       "      <td>1993-02-24</td>\n",
       "      <td>FEM</td>\n",
       "      <td>1993-02-24</td>\n",
       "      <td>1112280067</td>\n",
       "      <td>Full-time</td>\n",
       "      <td>2018-01-30 12:42:05</td>\n",
       "      <td>12</td>\n",
       "    </tr>\n",
       "    <tr>\n",
       "      <th>2</th>\n",
       "      <td>8V5rEj</td>\n",
       "      <td>Universitario</td>\n",
       "      <td>En Curso</td>\n",
       "      <td>3</td>\n",
       "      <td>1993-02-24</td>\n",
       "      <td>FEM</td>\n",
       "      <td>1993-02-24</td>\n",
       "      <td>1112286523</td>\n",
       "      <td>Full-time</td>\n",
       "      <td>2018-01-30 12:40:41</td>\n",
       "      <td>12</td>\n",
       "    </tr>\n",
       "    <tr>\n",
       "      <th>3</th>\n",
       "      <td>8V5rEj</td>\n",
       "      <td>Universitario</td>\n",
       "      <td>En Curso</td>\n",
       "      <td>3</td>\n",
       "      <td>1993-02-24</td>\n",
       "      <td>FEM</td>\n",
       "      <td>1993-02-24</td>\n",
       "      <td>1112345893</td>\n",
       "      <td>Full-time</td>\n",
       "      <td>2018-02-27 10:53:06</td>\n",
       "      <td>10</td>\n",
       "    </tr>\n",
       "    <tr>\n",
       "      <th>4</th>\n",
       "      <td>8V5rEj</td>\n",
       "      <td>Universitario</td>\n",
       "      <td>En Curso</td>\n",
       "      <td>3</td>\n",
       "      <td>1993-02-24</td>\n",
       "      <td>FEM</td>\n",
       "      <td>1993-02-24</td>\n",
       "      <td>1112293018</td>\n",
       "      <td>Full-time</td>\n",
       "      <td>2018-01-30 12:40:30</td>\n",
       "      <td>12</td>\n",
       "    </tr>\n",
       "  </tbody>\n",
       "</table>\n",
       "</div>"
      ],
      "text/plain": [
       "  idpostulante         nombre    estado  nombre_sort fechanacimiento sexo  \\\n",
       "0       8V5rEj  Universitario  En Curso            3      1993-02-24  FEM   \n",
       "1       8V5rEj  Universitario  En Curso            3      1993-02-24  FEM   \n",
       "2       8V5rEj  Universitario  En Curso            3      1993-02-24  FEM   \n",
       "3       8V5rEj  Universitario  En Curso            3      1993-02-24  FEM   \n",
       "4       8V5rEj  Universitario  En Curso            3      1993-02-24  FEM   \n",
       "\n",
       "  fechanacimiento2     idaviso tipo_de_trabajo    fechapostulacion  Hora  \n",
       "0       1993-02-24  1112216861       Part-time 2018-01-22 10:03:22    10  \n",
       "1       1993-02-24  1112280067       Full-time 2018-01-30 12:42:05    12  \n",
       "2       1993-02-24  1112286523       Full-time 2018-01-30 12:40:41    12  \n",
       "3       1993-02-24  1112345893       Full-time 2018-02-27 10:53:06    10  \n",
       "4       1993-02-24  1112293018       Full-time 2018-01-30 12:40:30    12  "
      ]
     },
     "execution_count": 109,
     "metadata": {},
     "output_type": "execute_result"
    }
   ],
   "source": [
    "#merge para obtener los postulantes universitarios en curso y el tipo de trabajo a postularse\n",
    "final_merge = pd.merge(univ_age, avisos_merge, on='idpostulante')\n",
    "final_merge.head()"
   ]
  },
  {
   "cell_type": "code",
   "execution_count": 74,
   "metadata": {},
   "outputs": [
    {
     "data": {
      "text/plain": [
       "Full-time          312106\n",
       "Part-time           90148\n",
       "Pasantia             6935\n",
       "Temporario           1199\n",
       "Por Horas            1116\n",
       "Teletrabajo           526\n",
       "Por Contrato          382\n",
       "Fines de Semana       199\n",
       "Primer empleo          31\n",
       "Name: tipo_de_trabajo, dtype: int64"
      ]
     },
     "execution_count": 74,
     "metadata": {},
     "output_type": "execute_result"
    }
   ],
   "source": [
    "final_merge['tipo_de_trabajo'].value_counts()"
   ]
  },
  {
   "cell_type": "code",
   "execution_count": 75,
   "metadata": {},
   "outputs": [
    {
     "data": {
      "text/plain": [
       "Full-time          312106\n",
       "Part-time           90148\n",
       "Pasantia             6935\n",
       "Temporario           1199\n",
       "Por Horas            1116\n",
       "Teletrabajo           526\n",
       "Por Contrato          382\n",
       "Fines de Semana       199\n",
       "Primer empleo          31\n",
       "Name: tipo_de_trabajo, dtype: int64"
      ]
     },
     "execution_count": 75,
     "metadata": {},
     "output_type": "execute_result"
    }
   ],
   "source": [
    "work_by_shift_times = final_merge['tipo_de_trabajo'].value_counts()\n",
    "work_by_shift_times"
   ]
  },
  {
   "cell_type": "code",
   "execution_count": 76,
   "metadata": {},
   "outputs": [
    {
     "data": {
      "image/png": "[encoded data removed]",
      "text/plain": [
       "<matplotlib.figure.Figure at 0x7f79156fd320>"
      ]
     },
     "metadata": {},
     "output_type": "display_data"
    }
   ],
   "source": [
    "#Grafico obtenido \n",
    "final_merge_plot = plt.figure()\n",
    "\n",
    "plt.title ('Cantidad de postulaciones por tipo de trabajo en personas universitarias en curso entre 18 y 26 anios',color='black', size = 20)\n",
    "\n",
    "ax = work_by_shift_times.plot(kind='bar', stacked=True, figsize=(8,6) ,alpha=0.75, color='red', logy=True)\n",
    "\n",
    "\n",
    "ax.set_ylabel('Cant de postulaciones')\n",
    "ax.set_xlabel(\"Tipos de trabajo\")\n",
    "plt.show()"
   ]
  },
  {
   "cell_type": "markdown",
   "metadata": {},
   "source": [
    "## ANALISIS DE POSTULACION RELACIONANDO RANGO DE EDAD Y NIVEL LABORAL"
   ]
  },
  {
   "cell_type": "code",
   "execution_count": 77,
   "metadata": {},
   "outputs": [
    {
     "data": {
      "text/plain": [
       "Senior / Semi-Senior                    9406\n",
       "Junior                                  2216\n",
       "Otro                                     921\n",
       "Jefe / Supervisor / Responsable          809\n",
       "Gerencia / Alta Gerencia / Dirección     181\n",
       "Name: nivel_laboral, dtype: int64"
      ]
     },
     "execution_count": 77,
     "metadata": {},
     "output_type": "execute_result"
    }
   ],
   "source": [
    "data_ads_details['nivel_laboral'].value_counts()"
   ]
  },
  {
   "cell_type": "code",
   "execution_count": 78,
   "metadata": {},
   "outputs": [
    {
     "data": {
      "text/plain": [
       "count                    13533\n",
       "unique                       5\n",
       "top       Senior / Semi-Senior\n",
       "freq                      9406\n",
       "Name: nivel_laboral, dtype: object"
      ]
     },
     "execution_count": 78,
     "metadata": {},
     "output_type": "execute_result"
    }
   ],
   "source": [
    "data_ads_details['nivel_laboral'].describe()"
   ]
  },
  {
   "cell_type": "code",
   "execution_count": 79,
   "metadata": {},
   "outputs": [
    {
     "data": {
      "text/plain": [
       "False    13533\n",
       "Name: nivel_laboral, dtype: int64"
      ]
     },
     "execution_count": 79,
     "metadata": {},
     "output_type": "execute_result"
    }
   ],
   "source": [
    "data_ads_details['nivel_laboral'].isnull().value_counts()"
   ]
  },
  {
   "cell_type": "code",
   "execution_count": 80,
   "metadata": {},
   "outputs": [
    {
     "data": {
      "text/html": [
       "<div>\n",
       "<style scoped>\n",
       "    .dataframe tbody tr th:only-of-type {\n",
       "        vertical-align: middle;\n",
       "    }\n",
       "\n",
       "    .dataframe tbody tr th {\n",
       "        vertical-align: top;\n",
       "    }\n",
       "\n",
       "    .dataframe thead th {\n",
       "        text-align: right;\n",
       "    }\n",
       "</style>\n",
       "<table border=\"1\" class=\"dataframe\">\n",
       "  <thead>\n",
       "    <tr style=\"text-align: right;\">\n",
       "      <th></th>\n",
       "      <th>idpostulante</th>\n",
       "      <th>fechanacimiento</th>\n",
       "      <th>sexo</th>\n",
       "      <th>fechanacimiento2</th>\n",
       "    </tr>\n",
       "  </thead>\n",
       "  <tbody>\n",
       "    <tr>\n",
       "      <th>0</th>\n",
       "      <td>NM5M</td>\n",
       "      <td>1970-12-03</td>\n",
       "      <td>FEM</td>\n",
       "      <td>1970-12-03</td>\n",
       "    </tr>\n",
       "    <tr>\n",
       "      <th>1</th>\n",
       "      <td>5awk</td>\n",
       "      <td>1962-12-04</td>\n",
       "      <td>FEM</td>\n",
       "      <td>1962-12-04</td>\n",
       "    </tr>\n",
       "    <tr>\n",
       "      <th>3</th>\n",
       "      <td>NdJl</td>\n",
       "      <td>1969-05-09</td>\n",
       "      <td>MASC</td>\n",
       "      <td>1969-05-09</td>\n",
       "    </tr>\n",
       "    <tr>\n",
       "      <th>5</th>\n",
       "      <td>Ez8J</td>\n",
       "      <td>1968-12-18</td>\n",
       "      <td>MASC</td>\n",
       "      <td>1968-12-18</td>\n",
       "    </tr>\n",
       "    <tr>\n",
       "      <th>6</th>\n",
       "      <td>aOQq</td>\n",
       "      <td>1966-07-16</td>\n",
       "      <td>MASC</td>\n",
       "      <td>1966-07-16</td>\n",
       "    </tr>\n",
       "  </tbody>\n",
       "</table>\n",
       "</div>"
      ],
      "text/plain": [
       "  idpostulante fechanacimiento  sexo fechanacimiento2\n",
       "0         NM5M      1970-12-03   FEM       1970-12-03\n",
       "1         5awk      1962-12-04   FEM       1962-12-04\n",
       "3         NdJl      1969-05-09  MASC       1969-05-09\n",
       "5         Ez8J      1968-12-18  MASC       1968-12-18\n",
       "6         aOQq      1966-07-16  MASC       1966-07-16"
      ]
     },
     "execution_count": 80,
     "metadata": {},
     "output_type": "execute_result"
    }
   ],
   "source": [
    "#me quedo con los postulantes de edaddes entre 44 y 69\n",
    "data_postulant_sex_age['fechanacimiento'] = pd.to_datetime(data_postulant_sex_age['fechanacimiento'], format = '%Y-%m-%d-%h',errors = 'coerce')\n",
    "data_age4069 = data_postulant_sex_age[(data_postulant_sex_age['fechanacimiento'].dt.year > 1949) & (data_postulant_sex_age['fechanacimiento'].dt.year < 1974)]\n",
    "data_age4069.head()"
   ]
  },
  {
   "cell_type": "code",
   "execution_count": 111,
   "metadata": {},
   "outputs": [
    {
     "data": {
      "text/html": [
       "<div>\n",
       "<style scoped>\n",
       "    .dataframe tbody tr th:only-of-type {\n",
       "        vertical-align: middle;\n",
       "    }\n",
       "\n",
       "    .dataframe tbody tr th {\n",
       "        vertical-align: top;\n",
       "    }\n",
       "\n",
       "    .dataframe thead th {\n",
       "        text-align: right;\n",
       "    }\n",
       "</style>\n",
       "<table border=\"1\" class=\"dataframe\">\n",
       "  <thead>\n",
       "    <tr style=\"text-align: right;\">\n",
       "      <th></th>\n",
       "      <th>idaviso</th>\n",
       "      <th>idpostulante</th>\n",
       "      <th>fechanacimiento</th>\n",
       "    </tr>\n",
       "  </thead>\n",
       "  <tbody>\n",
       "    <tr>\n",
       "      <th>0</th>\n",
       "      <td>1112257047</td>\n",
       "      <td>NM5M</td>\n",
       "      <td>1970-12-03</td>\n",
       "    </tr>\n",
       "    <tr>\n",
       "      <th>1</th>\n",
       "      <td>1111920714</td>\n",
       "      <td>NM5M</td>\n",
       "      <td>1970-12-03</td>\n",
       "    </tr>\n",
       "    <tr>\n",
       "      <th>2</th>\n",
       "      <td>1112346945</td>\n",
       "      <td>NM5M</td>\n",
       "      <td>1970-12-03</td>\n",
       "    </tr>\n",
       "    <tr>\n",
       "      <th>3</th>\n",
       "      <td>1112345547</td>\n",
       "      <td>NM5M</td>\n",
       "      <td>1970-12-03</td>\n",
       "    </tr>\n",
       "    <tr>\n",
       "      <th>4</th>\n",
       "      <td>1112237522</td>\n",
       "      <td>5awk</td>\n",
       "      <td>1962-12-04</td>\n",
       "    </tr>\n",
       "  </tbody>\n",
       "</table>\n",
       "</div>"
      ],
      "text/plain": [
       "      idaviso idpostulante fechanacimiento\n",
       "0  1112257047         NM5M      1970-12-03\n",
       "1  1111920714         NM5M      1970-12-03\n",
       "2  1112346945         NM5M      1970-12-03\n",
       "3  1112345547         NM5M      1970-12-03\n",
       "4  1112237522         5awk      1962-12-04"
      ]
     },
     "execution_count": 111,
     "metadata": {},
     "output_type": "execute_result"
    }
   ],
   "source": [
    "postulations_from44_to69 = pd.merge(data_postulation,data_age4069, on='idpostulante')\n",
    "\n",
    "\n",
    "postulations_from44_to69 = postulations_from44_to69[['idaviso','idpostulante','fechanacimiento']]\n",
    "postulations_from44_to69.head()"
   ]
  },
  {
   "cell_type": "code",
   "execution_count": 81,
   "metadata": {},
   "outputs": [
    {
     "data": {
      "text/html": [
       "<div>\n",
       "<style scoped>\n",
       "    .dataframe tbody tr th:only-of-type {\n",
       "        vertical-align: middle;\n",
       "    }\n",
       "\n",
       "    .dataframe tbody tr th {\n",
       "        vertical-align: top;\n",
       "    }\n",
       "\n",
       "    .dataframe thead th {\n",
       "        text-align: right;\n",
       "    }\n",
       "</style>\n",
       "<table border=\"1\" class=\"dataframe\">\n",
       "  <thead>\n",
       "    <tr style=\"text-align: right;\">\n",
       "      <th></th>\n",
       "      <th>idaviso</th>\n",
       "      <th>nivel_laboral</th>\n",
       "    </tr>\n",
       "  </thead>\n",
       "  <tbody>\n",
       "    <tr>\n",
       "      <th>0</th>\n",
       "      <td>8725750</td>\n",
       "      <td>Senior / Semi-Senior</td>\n",
       "    </tr>\n",
       "    <tr>\n",
       "      <th>1</th>\n",
       "      <td>17903700</td>\n",
       "      <td>Senior / Semi-Senior</td>\n",
       "    </tr>\n",
       "    <tr>\n",
       "      <th>2</th>\n",
       "      <td>1000150677</td>\n",
       "      <td>Senior / Semi-Senior</td>\n",
       "    </tr>\n",
       "    <tr>\n",
       "      <th>3</th>\n",
       "      <td>1000610287</td>\n",
       "      <td>Senior / Semi-Senior</td>\n",
       "    </tr>\n",
       "    <tr>\n",
       "      <th>4</th>\n",
       "      <td>1000872556</td>\n",
       "      <td>Senior / Semi-Senior</td>\n",
       "    </tr>\n",
       "  </tbody>\n",
       "</table>\n",
       "</div>"
      ],
      "text/plain": [
       "      idaviso         nivel_laboral\n",
       "0     8725750  Senior / Semi-Senior\n",
       "1    17903700  Senior / Semi-Senior\n",
       "2  1000150677  Senior / Semi-Senior\n",
       "3  1000610287  Senior / Semi-Senior\n",
       "4  1000872556  Senior / Semi-Senior"
      ]
     },
     "execution_count": 81,
     "metadata": {},
     "output_type": "execute_result"
    }
   ],
   "source": [
    "data_details1 = data_ads_details[['idaviso','nivel_laboral']]\n",
    "data_details1.head()"
   ]
  },
  {
   "cell_type": "code",
   "execution_count": 112,
   "metadata": {},
   "outputs": [
    {
     "data": {
      "text/html": [
       "<div>\n",
       "<style scoped>\n",
       "    .dataframe tbody tr th:only-of-type {\n",
       "        vertical-align: middle;\n",
       "    }\n",
       "\n",
       "    .dataframe tbody tr th {\n",
       "        vertical-align: top;\n",
       "    }\n",
       "\n",
       "    .dataframe thead th {\n",
       "        text-align: right;\n",
       "    }\n",
       "</style>\n",
       "<table border=\"1\" class=\"dataframe\">\n",
       "  <thead>\n",
       "    <tr style=\"text-align: right;\">\n",
       "      <th></th>\n",
       "      <th>idaviso</th>\n",
       "      <th>idpostulante</th>\n",
       "      <th>fechanacimiento</th>\n",
       "      <th>nivel_laboral</th>\n",
       "    </tr>\n",
       "  </thead>\n",
       "  <tbody>\n",
       "    <tr>\n",
       "      <th>0</th>\n",
       "      <td>1112257047</td>\n",
       "      <td>NM5M</td>\n",
       "      <td>1970-12-03</td>\n",
       "      <td>Otro</td>\n",
       "    </tr>\n",
       "    <tr>\n",
       "      <th>1</th>\n",
       "      <td>1112257047</td>\n",
       "      <td>YjQdLPJ</td>\n",
       "      <td>1966-12-27</td>\n",
       "      <td>Otro</td>\n",
       "    </tr>\n",
       "    <tr>\n",
       "      <th>2</th>\n",
       "      <td>1112257047</td>\n",
       "      <td>ZDrdPkE</td>\n",
       "      <td>1950-07-09</td>\n",
       "      <td>Otro</td>\n",
       "    </tr>\n",
       "    <tr>\n",
       "      <th>3</th>\n",
       "      <td>1112257047</td>\n",
       "      <td>ow21KBe</td>\n",
       "      <td>1969-11-18</td>\n",
       "      <td>Otro</td>\n",
       "    </tr>\n",
       "    <tr>\n",
       "      <th>4</th>\n",
       "      <td>1112257047</td>\n",
       "      <td>lDLl8Bj</td>\n",
       "      <td>1962-11-07</td>\n",
       "      <td>Otro</td>\n",
       "    </tr>\n",
       "  </tbody>\n",
       "</table>\n",
       "</div>"
      ],
      "text/plain": [
       "      idaviso idpostulante fechanacimiento nivel_laboral\n",
       "0  1112257047         NM5M      1970-12-03          Otro\n",
       "1  1112257047      YjQdLPJ      1966-12-27          Otro\n",
       "2  1112257047      ZDrdPkE      1950-07-09          Otro\n",
       "3  1112257047      ow21KBe      1969-11-18          Otro\n",
       "4  1112257047      lDLl8Bj      1962-11-07          Otro"
      ]
     },
     "execution_count": 112,
     "metadata": {},
     "output_type": "execute_result"
    }
   ],
   "source": [
    "final_merge1 = pd.merge(postulations_from44_to69,data_details1, on='idaviso')\n",
    "final_merge1.head()"
   ]
  },
  {
   "cell_type": "code",
   "execution_count": 113,
   "metadata": {},
   "outputs": [
    {
     "data": {
      "text/plain": [
       "0    Otro\n",
       "1    Otro\n",
       "2    Otro\n",
       "3    Otro\n",
       "4    Otro\n",
       "Name: nivel_laboral, dtype: object"
      ]
     },
     "execution_count": 113,
     "metadata": {},
     "output_type": "execute_result"
    }
   ],
   "source": [
    "#cuenta de la edad  de los postulantes\n",
    "final_merge1['anios'] = final_merge1['fechanacimiento'].map(lambda x: 2018 - x.year)\n",
    "final_merge1['nivel_laboral'].head()"
   ]
  },
  {
   "cell_type": "code",
   "execution_count": 114,
   "metadata": {},
   "outputs": [],
   "source": [
    "work_level = final_merge1['nivel_laboral'].value_counts()"
   ]
  },
  {
   "cell_type": "code",
   "execution_count": 115,
   "metadata": {},
   "outputs": [
    {
     "data": {
      "image/png": "[encoded data removed]",
      "text/plain": [
       "<matplotlib.figure.Figure at 0x7f791572c198>"
      ]
     },
     "metadata": {},
     "output_type": "display_data"
    }
   ],
   "source": [
    "#Grafico obtenido \n",
    "#Grafico obtenido HEATMAP\n",
    "\n",
    "fi = plt.figure()\n",
    "\n",
    "plt.title ('Cantidad de postulaciones en cada nivel laboral entre 44 y 69 anios',color='black', size = 20)\n",
    "\n",
    "ap = work_level.plot(kind='bar', stacked=True, figsize=(8,6) ,alpha=0.75, color='pink', logy=True)\n",
    "\n",
    "\n",
    "ap.set_ylabel('Cant de postulaciones')\n",
    "ap.set_xlabel(\"Nivel laboral\")\n",
    "plt.show()"
   ]
  },
  {
   "cell_type": "code",
   "execution_count": 116,
   "metadata": {},
   "outputs": [
    {
     "data": {
      "text/html": [
       "<div>\n",
       "<style scoped>\n",
       "    .dataframe tbody tr th:only-of-type {\n",
       "        vertical-align: middle;\n",
       "    }\n",
       "\n",
       "    .dataframe tbody tr th {\n",
       "        vertical-align: top;\n",
       "    }\n",
       "\n",
       "    .dataframe thead th {\n",
       "        text-align: right;\n",
       "    }\n",
       "</style>\n",
       "<table border=\"1\" class=\"dataframe\">\n",
       "  <thead>\n",
       "    <tr style=\"text-align: right;\">\n",
       "      <th></th>\n",
       "      <th>idpostulante</th>\n",
       "      <th>fechanacimiento</th>\n",
       "      <th>sexo</th>\n",
       "      <th>fechanacimiento2</th>\n",
       "    </tr>\n",
       "  </thead>\n",
       "  <tbody>\n",
       "    <tr>\n",
       "      <th>2</th>\n",
       "      <td>ZaO5</td>\n",
       "      <td>1978-08-10</td>\n",
       "      <td>FEM</td>\n",
       "      <td>1978-08-10</td>\n",
       "    </tr>\n",
       "    <tr>\n",
       "      <th>4</th>\n",
       "      <td>eo2p</td>\n",
       "      <td>1981-02-16</td>\n",
       "      <td>MASC</td>\n",
       "      <td>1981-02-16</td>\n",
       "    </tr>\n",
       "    <tr>\n",
       "      <th>7</th>\n",
       "      <td>8BkL</td>\n",
       "      <td>1976-07-21</td>\n",
       "      <td>FEM</td>\n",
       "      <td>1976-07-21</td>\n",
       "    </tr>\n",
       "    <tr>\n",
       "      <th>8</th>\n",
       "      <td>1d2B</td>\n",
       "      <td>1976-02-28</td>\n",
       "      <td>MASC</td>\n",
       "      <td>1976-02-28</td>\n",
       "    </tr>\n",
       "    <tr>\n",
       "      <th>9</th>\n",
       "      <td>NPBx</td>\n",
       "      <td>1981-03-09</td>\n",
       "      <td>MASC</td>\n",
       "      <td>1981-03-09</td>\n",
       "    </tr>\n",
       "  </tbody>\n",
       "</table>\n",
       "</div>"
      ],
      "text/plain": [
       "  idpostulante fechanacimiento  sexo fechanacimiento2\n",
       "2         ZaO5      1978-08-10   FEM       1978-08-10\n",
       "4         eo2p      1981-02-16  MASC       1981-02-16\n",
       "7         8BkL      1976-07-21   FEM       1976-07-21\n",
       "8         1d2B      1976-02-28  MASC       1976-02-28\n",
       "9         NPBx      1981-03-09  MASC       1981-03-09"
      ]
     },
     "execution_count": 116,
     "metadata": {},
     "output_type": "execute_result"
    }
   ],
   "source": [
    "#me quedo con los postulantes con edades de 18 a 44\n",
    "data_age1844 = data_postulant_sex_age[(data_postulant_sex_age['fechanacimiento'].dt.year >= 1974) & (data_postulant_sex_age['fechanacimiento'].dt.year < 2000)]\n",
    "data_age1844.head()"
   ]
  },
  {
   "cell_type": "code",
   "execution_count": 117,
   "metadata": {},
   "outputs": [
    {
     "data": {
      "text/html": [
       "<div>\n",
       "<style scoped>\n",
       "    .dataframe tbody tr th:only-of-type {\n",
       "        vertical-align: middle;\n",
       "    }\n",
       "\n",
       "    .dataframe tbody tr th {\n",
       "        vertical-align: top;\n",
       "    }\n",
       "\n",
       "    .dataframe thead th {\n",
       "        text-align: right;\n",
       "    }\n",
       "</style>\n",
       "<table border=\"1\" class=\"dataframe\">\n",
       "  <thead>\n",
       "    <tr style=\"text-align: right;\">\n",
       "      <th></th>\n",
       "      <th>idaviso</th>\n",
       "      <th>idpostulante</th>\n",
       "      <th>fechanacimiento</th>\n",
       "    </tr>\n",
       "  </thead>\n",
       "  <tbody>\n",
       "    <tr>\n",
       "      <th>0</th>\n",
       "      <td>1112286523</td>\n",
       "      <td>ZaO5</td>\n",
       "      <td>1978-08-10</td>\n",
       "    </tr>\n",
       "    <tr>\n",
       "      <th>1</th>\n",
       "      <td>1112272060</td>\n",
       "      <td>ZaO5</td>\n",
       "      <td>1978-08-10</td>\n",
       "    </tr>\n",
       "    <tr>\n",
       "      <th>2</th>\n",
       "      <td>1112288401</td>\n",
       "      <td>ZaO5</td>\n",
       "      <td>1978-08-10</td>\n",
       "    </tr>\n",
       "    <tr>\n",
       "      <th>3</th>\n",
       "      <td>1112300563</td>\n",
       "      <td>ZaO5</td>\n",
       "      <td>1978-08-10</td>\n",
       "    </tr>\n",
       "    <tr>\n",
       "      <th>4</th>\n",
       "      <td>1112293018</td>\n",
       "      <td>ZaO5</td>\n",
       "      <td>1978-08-10</td>\n",
       "    </tr>\n",
       "  </tbody>\n",
       "</table>\n",
       "</div>"
      ],
      "text/plain": [
       "      idaviso idpostulante fechanacimiento\n",
       "0  1112286523         ZaO5      1978-08-10\n",
       "1  1112272060         ZaO5      1978-08-10\n",
       "2  1112288401         ZaO5      1978-08-10\n",
       "3  1112300563         ZaO5      1978-08-10\n",
       "4  1112293018         ZaO5      1978-08-10"
      ]
     },
     "execution_count": 117,
     "metadata": {},
     "output_type": "execute_result"
    }
   ],
   "source": [
    "postulations_from18_to44 = pd.merge(data_postulation,data_age1844, on='idpostulante')\n",
    "\n",
    "\n",
    "postulations_from18_to44 = postulations_from18_to44[['idaviso','idpostulante','fechanacimiento']]\n",
    "postulations_from18_to44.head()"
   ]
  },
  {
   "cell_type": "code",
   "execution_count": 118,
   "metadata": {},
   "outputs": [
    {
     "data": {
      "text/html": [
       "<div>\n",
       "<style scoped>\n",
       "    .dataframe tbody tr th:only-of-type {\n",
       "        vertical-align: middle;\n",
       "    }\n",
       "\n",
       "    .dataframe tbody tr th {\n",
       "        vertical-align: top;\n",
       "    }\n",
       "\n",
       "    .dataframe thead th {\n",
       "        text-align: right;\n",
       "    }\n",
       "</style>\n",
       "<table border=\"1\" class=\"dataframe\">\n",
       "  <thead>\n",
       "    <tr style=\"text-align: right;\">\n",
       "      <th></th>\n",
       "      <th>idaviso</th>\n",
       "      <th>nivel_laboral</th>\n",
       "    </tr>\n",
       "  </thead>\n",
       "  <tbody>\n",
       "    <tr>\n",
       "      <th>0</th>\n",
       "      <td>8725750</td>\n",
       "      <td>Senior / Semi-Senior</td>\n",
       "    </tr>\n",
       "    <tr>\n",
       "      <th>1</th>\n",
       "      <td>17903700</td>\n",
       "      <td>Senior / Semi-Senior</td>\n",
       "    </tr>\n",
       "    <tr>\n",
       "      <th>2</th>\n",
       "      <td>1000150677</td>\n",
       "      <td>Senior / Semi-Senior</td>\n",
       "    </tr>\n",
       "    <tr>\n",
       "      <th>3</th>\n",
       "      <td>1000610287</td>\n",
       "      <td>Senior / Semi-Senior</td>\n",
       "    </tr>\n",
       "    <tr>\n",
       "      <th>4</th>\n",
       "      <td>1000872556</td>\n",
       "      <td>Senior / Semi-Senior</td>\n",
       "    </tr>\n",
       "  </tbody>\n",
       "</table>\n",
       "</div>"
      ],
      "text/plain": [
       "      idaviso         nivel_laboral\n",
       "0     8725750  Senior / Semi-Senior\n",
       "1    17903700  Senior / Semi-Senior\n",
       "2  1000150677  Senior / Semi-Senior\n",
       "3  1000610287  Senior / Semi-Senior\n",
       "4  1000872556  Senior / Semi-Senior"
      ]
     },
     "execution_count": 118,
     "metadata": {},
     "output_type": "execute_result"
    }
   ],
   "source": [
    "data_details2 = data_ads_details[['idaviso','nivel_laboral']]\n",
    "data_details2.head()"
   ]
  },
  {
   "cell_type": "code",
   "execution_count": 119,
   "metadata": {},
   "outputs": [
    {
     "data": {
      "text/html": [
       "<div>\n",
       "<style scoped>\n",
       "    .dataframe tbody tr th:only-of-type {\n",
       "        vertical-align: middle;\n",
       "    }\n",
       "\n",
       "    .dataframe tbody tr th {\n",
       "        vertical-align: top;\n",
       "    }\n",
       "\n",
       "    .dataframe thead th {\n",
       "        text-align: right;\n",
       "    }\n",
       "</style>\n",
       "<table border=\"1\" class=\"dataframe\">\n",
       "  <thead>\n",
       "    <tr style=\"text-align: right;\">\n",
       "      <th></th>\n",
       "      <th>idaviso</th>\n",
       "      <th>idpostulante</th>\n",
       "      <th>fechanacimiento</th>\n",
       "      <th>nivel_laboral</th>\n",
       "    </tr>\n",
       "  </thead>\n",
       "  <tbody>\n",
       "    <tr>\n",
       "      <th>0</th>\n",
       "      <td>1112286523</td>\n",
       "      <td>ZaO5</td>\n",
       "      <td>1978-08-10</td>\n",
       "      <td>Senior / Semi-Senior</td>\n",
       "    </tr>\n",
       "    <tr>\n",
       "      <th>1</th>\n",
       "      <td>1112286523</td>\n",
       "      <td>5kD2Pk</td>\n",
       "      <td>1983-07-29</td>\n",
       "      <td>Senior / Semi-Senior</td>\n",
       "    </tr>\n",
       "    <tr>\n",
       "      <th>2</th>\n",
       "      <td>1112286523</td>\n",
       "      <td>8Mv18l</td>\n",
       "      <td>1974-12-17</td>\n",
       "      <td>Senior / Semi-Senior</td>\n",
       "    </tr>\n",
       "    <tr>\n",
       "      <th>3</th>\n",
       "      <td>1112286523</td>\n",
       "      <td>aOoA2m</td>\n",
       "      <td>1979-01-21</td>\n",
       "      <td>Senior / Semi-Senior</td>\n",
       "    </tr>\n",
       "    <tr>\n",
       "      <th>4</th>\n",
       "      <td>1112286523</td>\n",
       "      <td>6Zwkj3</td>\n",
       "      <td>1975-02-05</td>\n",
       "      <td>Senior / Semi-Senior</td>\n",
       "    </tr>\n",
       "  </tbody>\n",
       "</table>\n",
       "</div>"
      ],
      "text/plain": [
       "      idaviso idpostulante fechanacimiento         nivel_laboral\n",
       "0  1112286523         ZaO5      1978-08-10  Senior / Semi-Senior\n",
       "1  1112286523       5kD2Pk      1983-07-29  Senior / Semi-Senior\n",
       "2  1112286523       8Mv18l      1974-12-17  Senior / Semi-Senior\n",
       "3  1112286523       aOoA2m      1979-01-21  Senior / Semi-Senior\n",
       "4  1112286523       6Zwkj3      1975-02-05  Senior / Semi-Senior"
      ]
     },
     "execution_count": 119,
     "metadata": {},
     "output_type": "execute_result"
    }
   ],
   "source": [
    "final_merge2 = pd.merge(postulations_from18_to44,data_details2, on='idaviso')\n",
    "final_merge2.head()"
   ]
  },
  {
   "cell_type": "code",
   "execution_count": 120,
   "metadata": {},
   "outputs": [
    {
     "data": {
      "text/plain": [
       "0    Senior / Semi-Senior\n",
       "1    Senior / Semi-Senior\n",
       "2    Senior / Semi-Senior\n",
       "3    Senior / Semi-Senior\n",
       "4    Senior / Semi-Senior\n",
       "Name: nivel_laboral, dtype: object"
      ]
     },
     "execution_count": 120,
     "metadata": {},
     "output_type": "execute_result"
    }
   ],
   "source": [
    "#calculo edad de los postulantes\n",
    "final_merge2['anios'] = final_merge2['fechanacimiento'].map(lambda x: 2018 - x.year)\n",
    "final_merge2['nivel_laboral'].head()"
   ]
  },
  {
   "cell_type": "code",
   "execution_count": 121,
   "metadata": {},
   "outputs": [],
   "source": [
    "work_level2=final_merge2['nivel_laboral'].value_counts()"
   ]
  },
  {
   "cell_type": "code",
   "execution_count": 125,
   "metadata": {},
   "outputs": [
    {
     "data": {
      "image/png": "[encoded data removed]",
      "text/plain": [
       "<matplotlib.figure.Figure at 0x7f7912f2ce10>"
      ]
     },
     "metadata": {},
     "output_type": "display_data"
    }
   ],
   "source": [
    "#Grafico obtenido HEATMAP\n",
    "\n",
    "fig = plt.figure()\n",
    "\n",
    "plt.title ('Cantidad de postulaciones en cada nivel laboral entre 18 y 44 anios',color='black', size = 20)\n",
    "\n",
    "ap1 = work_level2.plot(kind='barh', stacked=True, figsize=(8,6) ,alpha=0.75, color='pink', logx=True)\n",
    "\n",
    "\n",
    "ap1.set_xlabel('Cant de postulaciones')\n",
    "ap1.set_ylabel(\"Nivel laboral\")\n",
    "#plt.show()\n",
    "plt.savefig('Cantidad de postulacion en cada nivel laboral 18 44.png',bbox_inches='tight')"
   ]
  },
  {
   "cell_type": "markdown",
   "metadata": {},
   "source": [
    "## HORARIO DE MAS VISITAS"
   ]
  },
  {
   "cell_type": "code",
   "execution_count": 94,
   "metadata": {},
   "outputs": [
    {
     "data": {
      "text/html": [
       "<div>\n",
       "<style scoped>\n",
       "    .dataframe tbody tr th:only-of-type {\n",
       "        vertical-align: middle;\n",
       "    }\n",
       "\n",
       "    .dataframe tbody tr th {\n",
       "        vertical-align: top;\n",
       "    }\n",
       "\n",
       "    .dataframe thead th {\n",
       "        text-align: right;\n",
       "    }\n",
       "</style>\n",
       "<table border=\"1\" class=\"dataframe\">\n",
       "  <thead>\n",
       "    <tr style=\"text-align: right;\">\n",
       "      <th></th>\n",
       "      <th>idAviso</th>\n",
       "      <th>timestamp</th>\n",
       "      <th>idpostulante</th>\n",
       "    </tr>\n",
       "  </thead>\n",
       "  <tbody>\n",
       "    <tr>\n",
       "      <th>0</th>\n",
       "      <td>1111780242</td>\n",
       "      <td>2018-02-23 18:38:13.187</td>\n",
       "      <td>YjVJQ6Z</td>\n",
       "    </tr>\n",
       "    <tr>\n",
       "      <th>1</th>\n",
       "      <td>1112263876</td>\n",
       "      <td>2018-02-23 18:38:14.296</td>\n",
       "      <td>BmVpYoR</td>\n",
       "    </tr>\n",
       "    <tr>\n",
       "      <th>2</th>\n",
       "      <td>1112327963</td>\n",
       "      <td>2018-02-23 18:38:14.329</td>\n",
       "      <td>wVkBzZd</td>\n",
       "    </tr>\n",
       "    <tr>\n",
       "      <th>3</th>\n",
       "      <td>1112318643</td>\n",
       "      <td>2018-02-23 18:38:17.921</td>\n",
       "      <td>OqmP9pv</td>\n",
       "    </tr>\n",
       "    <tr>\n",
       "      <th>4</th>\n",
       "      <td>1111903673</td>\n",
       "      <td>2018-02-23 18:38:18.973</td>\n",
       "      <td>DrpbXDP</td>\n",
       "    </tr>\n",
       "  </tbody>\n",
       "</table>\n",
       "</div>"
      ],
      "text/plain": [
       "      idAviso               timestamp idpostulante\n",
       "0  1111780242 2018-02-23 18:38:13.187      YjVJQ6Z\n",
       "1  1112263876 2018-02-23 18:38:14.296      BmVpYoR\n",
       "2  1112327963 2018-02-23 18:38:14.329      wVkBzZd\n",
       "3  1112318643 2018-02-23 18:38:17.921      OqmP9pv\n",
       "4  1111903673 2018-02-23 18:38:18.973      DrpbXDP"
      ]
     },
     "execution_count": 94,
     "metadata": {},
     "output_type": "execute_result"
    }
   ],
   "source": [
    "#cambiamos de formato timestamp a datetime\n",
    "data_views['timestamp'] = pd.to_datetime(data_views['timestamp'], format = \"%Y-%m-%dT%H:%M:%S\",errors = 'coerce')\n",
    "data_views.head()"
   ]
  },
  {
   "cell_type": "code",
   "execution_count": 95,
   "metadata": {},
   "outputs": [
    {
     "data": {
      "text/plain": [
       "0     45966\n",
       "1     44273\n",
       "2     41101\n",
       "3     35716\n",
       "4     22249\n",
       "5     11966\n",
       "6      7487\n",
       "7      4550\n",
       "8      4445\n",
       "9      5957\n",
       "10    18679\n",
       "11    36364\n",
       "12    50213\n",
       "13    60972\n",
       "14    66168\n",
       "15    63737\n",
       "16    56415\n",
       "17    54704\n",
       "18    56568\n",
       "19    59214\n",
       "20    58042\n",
       "21    53928\n",
       "22    51527\n",
       "23    51656\n",
       "Name: timestamp, dtype: int64"
      ]
     },
     "execution_count": 95,
     "metadata": {},
     "output_type": "execute_result"
    }
   ],
   "source": [
    "#ordeno horarios de las visitas de los  avisos \n",
    "data_hours = data_views['timestamp'].dt.hour\n",
    "hours_of_a_day = data_hours.value_counts().sort_index()\n",
    "hours_of_a_day.head(24)"
   ]
  },
  {
   "cell_type": "code",
   "execution_count": 126,
   "metadata": {},
   "outputs": [
    {
     "data": {
      "image/png": "[encoded data removed]",
      "text/plain": [
       "<matplotlib.figure.Figure at 0x7f7912f1d5f8>"
      ]
     },
     "metadata": {},
     "output_type": "display_data"
    }
   ],
   "source": [
    "hours_of_a_day.plot(figsize=(14,4),title='CANTIDAD DE VISITAS POR HORA', color = 'orange');\n",
    "ax=plt.gca()\n",
    "ax.set_ylabel('Cantidad de vistas')\n",
    "ax.set_xlabel('Hora del dia')\n",
    "#plt.show()\n",
    "plt.savefig('Horarios de visitas.png',bbox_inches='tight')"
   ]
  },
  {
   "cell_type": "markdown",
   "metadata": {},
   "source": [
    "### EN EL HORARIO DE MAS VISITAS CUAl ES EL AVISO CON MAS POSTULACIONES (rango de 12 a 20) (AVISO POSTULANTE FECHA DE POSTULACION ):"
   ]
  },
  {
   "cell_type": "code",
   "execution_count": 97,
   "metadata": {},
   "outputs": [
    {
     "data": {
      "text/html": [
       "<div>\n",
       "<style scoped>\n",
       "    .dataframe tbody tr th:only-of-type {\n",
       "        vertical-align: middle;\n",
       "    }\n",
       "\n",
       "    .dataframe tbody tr th {\n",
       "        vertical-align: top;\n",
       "    }\n",
       "\n",
       "    .dataframe thead th {\n",
       "        text-align: right;\n",
       "    }\n",
       "</style>\n",
       "<table border=\"1\" class=\"dataframe\">\n",
       "  <thead>\n",
       "    <tr style=\"text-align: right;\">\n",
       "      <th></th>\n",
       "      <th>idaviso</th>\n",
       "      <th>idpostulante</th>\n",
       "      <th>fechapostulacion</th>\n",
       "      <th>Hora</th>\n",
       "    </tr>\n",
       "  </thead>\n",
       "  <tbody>\n",
       "    <tr>\n",
       "      <th>0</th>\n",
       "      <td>1112257047</td>\n",
       "      <td>NM5M</td>\n",
       "      <td>2018-01-15 16:22:34</td>\n",
       "      <td>16</td>\n",
       "    </tr>\n",
       "    <tr>\n",
       "      <th>4</th>\n",
       "      <td>1112237522</td>\n",
       "      <td>5awk</td>\n",
       "      <td>2018-01-25 18:55:03</td>\n",
       "      <td>18</td>\n",
       "    </tr>\n",
       "    <tr>\n",
       "      <th>5</th>\n",
       "      <td>1112277633</td>\n",
       "      <td>5awk</td>\n",
       "      <td>2018-01-29 13:34:44</td>\n",
       "      <td>13</td>\n",
       "    </tr>\n",
       "    <tr>\n",
       "      <th>12</th>\n",
       "      <td>1112315188</td>\n",
       "      <td>5awk</td>\n",
       "      <td>2018-02-28 15:54:28</td>\n",
       "      <td>15</td>\n",
       "    </tr>\n",
       "    <tr>\n",
       "      <th>13</th>\n",
       "      <td>1112346738</td>\n",
       "      <td>5awk</td>\n",
       "      <td>2018-02-28 15:54:47</td>\n",
       "      <td>15</td>\n",
       "    </tr>\n",
       "  </tbody>\n",
       "</table>\n",
       "</div>"
      ],
      "text/plain": [
       "       idaviso idpostulante    fechapostulacion  Hora\n",
       "0   1112257047         NM5M 2018-01-15 16:22:34    16\n",
       "4   1112237522         5awk 2018-01-25 18:55:03    18\n",
       "5   1112277633         5awk 2018-01-29 13:34:44    13\n",
       "12  1112315188         5awk 2018-02-28 15:54:28    15\n",
       "13  1112346738         5awk 2018-02-28 15:54:47    15"
      ]
     },
     "execution_count": 97,
     "metadata": {},
     "output_type": "execute_result"
    }
   ],
   "source": [
    "#me quedo con las postulaciones en el rango de horarios de 12 a 20\n",
    "data_postulation['fechapostulacion'] = pd.to_datetime(data_postulation['fechapostulacion'], format = '%Y-%m-%d %H:%M:%S',errors = 'coerce')\n",
    "data_postulation1220 = data_postulation[(data_postulation['fechapostulacion'].dt.hour > 12) & (data_postulation['fechapostulacion'].dt.hour < 20)]\n",
    "data_postulation1220.head()"
   ]
  },
  {
   "cell_type": "code",
   "execution_count": 98,
   "metadata": {},
   "outputs": [
    {
     "data": {
      "text/plain": [
       "1112345900    3539\n",
       "1112334791    3324\n",
       "1112319451    3024\n",
       "1112033906    2852\n",
       "1112204682    2848\n",
       "1112262494    2618\n",
       "1112296264    2553\n",
       "1112094756    2493\n",
       "1112316288    2480\n",
       "1112298966    2374\n",
       "1112349037    2353\n",
       "1112334788    2317\n",
       "1112260584    2249\n",
       "1112305277    2189\n",
       "1112280937    2155\n",
       "1112347329    2058\n",
       "1112303105    2032\n",
       "1112307266    2011\n",
       "1112344973    1948\n",
       "1112293625    1948\n",
       "Name: idaviso, dtype: int64"
      ]
     },
     "execution_count": 98,
     "metadata": {},
     "output_type": "execute_result"
    }
   ],
   "source": [
    "#avisos con mas postulaciones en el rango de horario 12 a 20\n",
    "data_postulation1220['idaviso'].value_counts().head(20)"
   ]
  },
  {
   "cell_type": "markdown",
   "metadata": {},
   "source": [
    "### AREA CON MAS VISITAS EN EL RANGO DE HORARIO 12 A 20"
   ]
  },
  {
   "cell_type": "code",
   "execution_count": 99,
   "metadata": {},
   "outputs": [
    {
     "data": {
      "text/plain": [
       "Ventas                                   53556\n",
       "Administración                           48841\n",
       "Producción                               27862\n",
       "Comercial                                25296\n",
       "Atención al Cliente                      21392\n",
       "Recepcionista                            20559\n",
       "Call Center                              14590\n",
       "Telemarketing                            10815\n",
       "Tesorería                                 9850\n",
       "Mantenimiento y Limpieza                  9472\n",
       "Contabilidad                              8638\n",
       "Recursos Humanos                          7912\n",
       "Secretaria                                5894\n",
       "Almacén / Depósito / Expedición           5796\n",
       "Gastronomia                               5612\n",
       "Farmacéutica                              5558\n",
       "Camareros                                 5046\n",
       "Legal                                     5038\n",
       "Administración de Personal                4716\n",
       "Créditos y Cobranzas                      4312\n",
       "Logística                                 4146\n",
       "Otros                                     3737\n",
       "Salud                                     3712\n",
       "Compras                                   3694\n",
       "Marketing                                 3421\n",
       "Mantenimiento                             3348\n",
       "Soporte Técnico                           3163\n",
       "Finanzas                                  3057\n",
       "Oficios y Profesiones                     2936\n",
       "Transporte                                2899\n",
       "                                         ...  \n",
       "Estética y Cuidado Personal                 79\n",
       "Diseño Multimedia                           71\n",
       "Creatividad                                 67\n",
       "Ingeniería en Petróleo y Petroquímica       60\n",
       "Independientes                              59\n",
       "Ingeniería en Minas                         58\n",
       "Internet                                    56\n",
       "Seguridad Industrial                        56\n",
       "Ingeniería de Ventas                        55\n",
       "Bioquímica                                  50\n",
       "Investigación y Desarrollo                  48\n",
       "Farmacia hospitalaria                       33\n",
       "Emergentología                              30\n",
       "Negocios Internacionales                    30\n",
       "Instrumentación                             27\n",
       "Administración de Base de Datos             26\n",
       "Medio Ambiente                              24\n",
       "Comercio Exterior                           22\n",
       "Idiomas                                     19\n",
       "Multimedia                                  17\n",
       "Veterinaria                                 15\n",
       "Finanzas Internacionales                    12\n",
       "Traduccion                                  11\n",
       "Diseño 3D                                   10\n",
       "Ingeniería Geológica                         5\n",
       "Dirección                                    5\n",
       "Tecnico de Seguros                           3\n",
       "Data Warehousing                             2\n",
       "Trabajo Social                               2\n",
       "Comunicaciones Externas                      2\n",
       "Name: nombre_area, Length: 158, dtype: int64"
      ]
     },
     "execution_count": 99,
     "metadata": {},
     "output_type": "execute_result"
    }
   ],
   "source": [
    "#me quedo con las visitas en el rango horario de 12 a 20 y calcuo el area mas visitada\n",
    "data_views1220 = data_views[(data_views['timestamp'].dt.hour > 12) & (data_views['timestamp'].dt.hour < 20)]\n",
    "data_views1220.columns = ['idaviso','timestamp','idpostulante']\n",
    "data_views1220 = pd.merge(data_views1220,data_ads_details,on='idaviso')\n",
    "data_views1220['nombre_area'].value_counts()"
   ]
  },
  {
   "cell_type": "markdown",
   "metadata": {},
   "source": [
    "*TRABAJO CON MAS VISTAS EN EL HORARIO DE 12 A 20*"
   ]
  },
  {
   "cell_type": "code",
   "execution_count": 100,
   "metadata": {},
   "outputs": [
    {
     "data": {
      "text/plain": [
       "Recepcionista Administrativa                                                               2151\n",
       "Administrativo General Para Importante Obra social                                         1776\n",
       "Representantes de Atención al Cliente Part Time Mañana y Tarde                             1683\n",
       "Recepcionista/Asistente Administrativa                                                     1615\n",
       "Cajero de Sucursal - Contrato a Plazo Fijo                                                 1506\n",
       "Administrativo Recupero SUR                                                                1484\n",
       "Administrativo RRHH Eventual                                                               1440\n",
       "Empleado Administrativo/Contable                                                           1408\n",
       "Operador Telefónico Atención al Cliente - Turno mañana (hasta 15hrs)                       1354\n",
       "Empleado Administrativo part time                                                          1321\n",
       "Representante de Atención al Cliente                                                       1312\n",
       "cajeras y repositores                                                                      1229\n",
       "Recepcionista para Agencia Marítima  (EVENTUAL)                                            1224\n",
       "Cajero/a - Part Time                                                                       1205\n",
       "Limpieza (Puesto efectivo)                                                                 1200\n",
       "Asesores de Atención al Público - Part time                                                1146\n",
       "Secretaria para centro medico                                                              1138\n",
       "Programa Jóvenes Emprendedores 2018                                                        1133\n",
       "Vendedor de local de indumentaria infantil (Para trabajar en Shopping)                     1118\n",
       "Operador telefónico /  Retención y Fidelización de clientes                                1115\n",
       "Referente de Comunicaciones Internas y Cultura                                             1099\n",
       "Recepcionista                                                                              1091\n",
       "Operadores para Centro de Atención Telefónica                                              1073\n",
       "Representante de Ventas Telefónicas                                                        1054\n",
       "CAJERAS Y VENDEDORAS                                                                       1049\n",
       "Gestor/a de cobranzas PART-TIME                                                            1037\n",
       "Operarios/as de limpieza                                                                   1028\n",
       "Vendedor de salon para empresa deco y de ropa de cama                                       992\n",
       "Vendedores de Salón - CABA                                                                  986\n",
       "Secretaria                                                                                  985\n",
       "                                                                                           ... \n",
       "OPERARIO DE PRODUCCIÓN - AUTOMOTRIZ MERLO                                                     1\n",
       "24 Feb - Chief Software Architect ($100K/yr) - Online Hiring Tournament - 100%                1\n",
       "Administrativa Z/ Burzaco                                                                     1\n",
       "17 Feb - NetSuite Chief Architect - Online Hiring Tournament- 100% Remote - USD$50/hour       1\n",
       "Operario Carpinteria PVC Fabrica y Obra                                                       1\n",
       "Jefe de Cocina y Maestro Pizzero                                                              1\n",
       "VENDEDOR EXP EN VENTA CORPORTATIVA PROD COMPUTACION                                           1\n",
       "Profesor de educación física                                                                  1\n",
       "Data Entry Z/Barracas                                                                         1\n",
       "Vendedora Capital y Zona norte                                                                1\n",
       "Analista Programador Informix 4gl y/o Progress - Rosario                                      1\n",
       "Joven Profesional                                                                             1\n",
       "Recepcionista - TMF Group                                                                     1\n",
       "Vendedora Part Time- Consultora Cecilia Demadonna                                             1\n",
       "Idoneas/os en Farmacia - Cajeras/os                                                           1\n",
       "Selector de personal y Gestión del desarrollo humano.                                         1\n",
       "Coordinador de Planta de Panificados                                                          1\n",
       "Comercial - Ingeniero Agrónomo                                                                1\n",
       "Oficial de Gestión Telefónica de Cobranzas                                                    1\n",
       "Administrativo/a para Sector de Calidad                                                       1\n",
       "Asistente de Comercio Exterior                                                                1\n",
       "Auxiliar de Limpieza Bs.As                                                                    1\n",
       "Asistente Técnico                                                                             1\n",
       "Consultor/a de Belleza - Rosario                                                              1\n",
       "Enfermero/a CABA                                                                              1\n",
       "Recepcionista Eventual. Belgrano                                                              1\n",
       "Administrativo de facturación                                                                 1\n",
       "J - Operarios de Depósito                                                                     1\n",
       "Vendedores Telefónicos (Part- time)                                                           1\n",
       "ATENCIÓN AL CLIENTE - MORÓN                                                                   1\n",
       "Name: titulo, Length: 5771, dtype: int64"
      ]
     },
     "execution_count": 100,
     "metadata": {},
     "output_type": "execute_result"
    }
   ],
   "source": [
    "#titulo de trabajo con mas vistas entre las 12 y 20\n",
    "data_views1220['titulo'].value_counts()"
   ]
  }
 ],
 "metadata": {
  "kernelspec": {
   "display_name": "Python 3",
   "language": "python",
   "name": "python3"
  },
  "language_info": {
   "codemirror_mode": {
    "name": "ipython",
    "version": 3
   },
   "file_extension": ".py",
   "mimetype": "text/x-python",
   "name": "python",
   "nbconvert_exporter": "python",
   "pygments_lexer": "ipython3",
   "version": "3.5.2"
  }
 },
 "nbformat": 4,
 "nbformat_minor": 2
}
