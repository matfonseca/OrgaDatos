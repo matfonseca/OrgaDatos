{
 "cells": [
  {
   "cell_type": "code",
   "execution_count": 1,
   "metadata": {},
   "outputs": [],
   "source": [
    "import numpy as np\n",
    "import pandas as pd\n",
    "import seaborn as sb\n",
    "import matplotlib.pyplot as plt\n",
    "%matplotlib inline"
   ]
  },
  {
   "cell_type": "code",
   "execution_count": 2,
   "metadata": {},
   "outputs": [
    {
     "name": "stdout",
     "output_type": "stream",
     "text": [
      "/home/olix/Documentos/datos/tp2master/OrgaDatos/TP2/Algorithms\n"
     ]
    }
   ],
   "source": [
    "cd Algorithms"
   ]
  },
  {
   "cell_type": "code",
   "execution_count": 3,
   "metadata": {},
   "outputs": [],
   "source": [
    "total = pd.read_csv('postulaciones_nopostulacionesReducidoAmbos3M.csv')"
   ]
  },
  {
   "cell_type": "code",
   "execution_count": 4,
   "metadata": {},
   "outputs": [
    {
     "data": {
      "text/html": [
       "<div>\n",
       "<style scoped>\n",
       "    .dataframe tbody tr th:only-of-type {\n",
       "        vertical-align: middle;\n",
       "    }\n",
       "\n",
       "    .dataframe tbody tr th {\n",
       "        vertical-align: top;\n",
       "    }\n",
       "\n",
       "    .dataframe thead th {\n",
       "        text-align: right;\n",
       "    }\n",
       "</style>\n",
       "<table border=\"1\" class=\"dataframe\">\n",
       "  <thead>\n",
       "    <tr style=\"text-align: right;\">\n",
       "      <th></th>\n",
       "      <th>estado</th>\n",
       "      <th>fechanacimiento</th>\n",
       "      <th>idaviso</th>\n",
       "      <th>idpostulante</th>\n",
       "      <th>nivel_laboral</th>\n",
       "      <th>nombre_sort</th>\n",
       "      <th>nombre_zona</th>\n",
       "      <th>se_postulo</th>\n",
       "      <th>sexo</th>\n",
       "      <th>tipo_de_trabajo</th>\n",
       "    </tr>\n",
       "  </thead>\n",
       "  <tbody>\n",
       "    <tr>\n",
       "      <th>5912552</th>\n",
       "      <td>En Curso</td>\n",
       "      <td>1996-04-30</td>\n",
       "      <td>1112280067</td>\n",
       "      <td>akjvRRJ</td>\n",
       "      <td>Senior / Semi-Senior</td>\n",
       "      <td>3.0</td>\n",
       "      <td>Gran Buenos Aires</td>\n",
       "      <td>0</td>\n",
       "      <td>FEM</td>\n",
       "      <td>Full-time</td>\n",
       "    </tr>\n",
       "    <tr>\n",
       "      <th>5008921</th>\n",
       "      <td>En Curso</td>\n",
       "      <td>1992-01-19</td>\n",
       "      <td>1112393041</td>\n",
       "      <td>1BBDx3</td>\n",
       "      <td>Junior</td>\n",
       "      <td>3.0</td>\n",
       "      <td>Gran Buenos Aires</td>\n",
       "      <td>0</td>\n",
       "      <td>FEM</td>\n",
       "      <td>Full-time</td>\n",
       "    </tr>\n",
       "    <tr>\n",
       "      <th>3497378</th>\n",
       "      <td>NaN</td>\n",
       "      <td>1994-09-20</td>\n",
       "      <td>1112216004</td>\n",
       "      <td>1QqAD5j</td>\n",
       "      <td>Gerencia / Alta Gerencia / Dirección</td>\n",
       "      <td>NaN</td>\n",
       "      <td>Gran Buenos Aires</td>\n",
       "      <td>0</td>\n",
       "      <td>FEM</td>\n",
       "      <td>Full-time</td>\n",
       "    </tr>\n",
       "    <tr>\n",
       "      <th>2287216</th>\n",
       "      <td>Graduado</td>\n",
       "      <td>1995-09-08</td>\n",
       "      <td>1112262197</td>\n",
       "      <td>X95OLOb</td>\n",
       "      <td>Senior / Semi-Senior</td>\n",
       "      <td>1.0</td>\n",
       "      <td>Gran Buenos Aires</td>\n",
       "      <td>1</td>\n",
       "      <td>FEM</td>\n",
       "      <td>Full-time</td>\n",
       "    </tr>\n",
       "    <tr>\n",
       "      <th>3276222</th>\n",
       "      <td>Graduado</td>\n",
       "      <td>1983-07-11</td>\n",
       "      <td>1112296144</td>\n",
       "      <td>akO2a4E</td>\n",
       "      <td>Senior / Semi-Senior</td>\n",
       "      <td>1.0</td>\n",
       "      <td>Gran Buenos Aires</td>\n",
       "      <td>0</td>\n",
       "      <td>FEM</td>\n",
       "      <td>Full-time</td>\n",
       "    </tr>\n",
       "  </tbody>\n",
       "</table>\n",
       "</div>"
      ],
      "text/plain": [
       "           estado fechanacimiento     idaviso idpostulante  \\\n",
       "5912552  En Curso      1996-04-30  1112280067      akjvRRJ   \n",
       "5008921  En Curso      1992-01-19  1112393041       1BBDx3   \n",
       "3497378       NaN      1994-09-20  1112216004      1QqAD5j   \n",
       "2287216  Graduado      1995-09-08  1112262197      X95OLOb   \n",
       "3276222  Graduado      1983-07-11  1112296144      akO2a4E   \n",
       "\n",
       "                                nivel_laboral  nombre_sort        nombre_zona  \\\n",
       "5912552                  Senior / Semi-Senior          3.0  Gran Buenos Aires   \n",
       "5008921                                Junior          3.0  Gran Buenos Aires   \n",
       "3497378  Gerencia / Alta Gerencia / Dirección          NaN  Gran Buenos Aires   \n",
       "2287216                  Senior / Semi-Senior          1.0  Gran Buenos Aires   \n",
       "3276222                  Senior / Semi-Senior          1.0  Gran Buenos Aires   \n",
       "\n",
       "         se_postulo sexo tipo_de_trabajo  \n",
       "5912552           0  FEM       Full-time  \n",
       "5008921           0  FEM       Full-time  \n",
       "3497378           0  FEM       Full-time  \n",
       "2287216           1  FEM       Full-time  \n",
       "3276222           0  FEM       Full-time  "
      ]
     },
     "execution_count": 4,
     "metadata": {},
     "output_type": "execute_result"
    }
   ],
   "source": [
    "total.sample(5)"
   ]
  },
  {
   "cell_type": "code",
   "execution_count": 5,
   "metadata": {},
   "outputs": [],
   "source": [
    "def datetime(date,format_string):\n",
    "    return pd.to_datetime(date,format= format_string,errors='coerce')"
   ]
  },
  {
   "cell_type": "code",
   "execution_count": 6,
   "metadata": {},
   "outputs": [],
   "source": [
    "total['edadPostulante'] = datetime(total['fechanacimiento'],'%Y-%m-%d')"
   ]
  },
  {
   "cell_type": "code",
   "execution_count": 7,
   "metadata": {},
   "outputs": [],
   "source": [
    "total['edadPostulante'] = total['edadPostulante'].map(lambda x: 2018 - x.year)"
   ]
  },
  {
   "cell_type": "code",
   "execution_count": 8,
   "metadata": {},
   "outputs": [],
   "source": [
    "total.drop(columns = ['fechanacimiento'],inplace= True)"
   ]
  },
  {
   "cell_type": "code",
   "execution_count": 9,
   "metadata": {},
   "outputs": [],
   "source": [
    "total=total.fillna(method='pad')"
   ]
  },
  {
   "cell_type": "code",
   "execution_count": 10,
   "metadata": {},
   "outputs": [],
   "source": [
    "# estado Mapping \n",
    "total['estadoEncoded'] = total['estado'].map( {'En Curso': 0, 'Abandonado': 2, 'Graduado': 1} ).astype(int)\n",
    "\n"
   ]
  },
  {
   "cell_type": "code",
   "execution_count": 11,
   "metadata": {},
   "outputs": [
    {
     "data": {
      "text/plain": [
       "Full-time          5234285\n",
       "Part-time           593931\n",
       "Teletrabajo          31255\n",
       "Por Horas            27407\n",
       "Pasantia             25883\n",
       "Temporario           17465\n",
       "Por Contrato         13094\n",
       "Fines de Semana       7668\n",
       "Primer empleo         1676\n",
       "Voluntario             273\n",
       "Name: tipo_de_trabajo, dtype: int64"
      ]
     },
     "execution_count": 11,
     "metadata": {},
     "output_type": "execute_result"
    }
   ],
   "source": [
    "total['tipo_de_trabajo'].value_counts()"
   ]
  },
  {
   "cell_type": "code",
   "execution_count": 12,
   "metadata": {},
   "outputs": [],
   "source": [
    "# tipoDeTrabajo Mapping \n",
    "total['tipoDeTrabajoEncoded'] = total['tipo_de_trabajo'].map( {'Full-time':0, 'Part-time':1, 'Teletrabajo':2, 'Por Horas': 3, 'Pasantia': 4, 'Temporario': 5, 'Por Contrato': 6,'Fines de Semana': 7, 'Primer empleo': 8,'Corrientes':9,'Vicente López':10, 'Voluntario': 11} ).astype(int)\n",
    " \n",
    "\n",
    "    \n"
   ]
  },
  {
   "cell_type": "code",
   "execution_count": 13,
   "metadata": {},
   "outputs": [],
   "source": [
    "# Nivel de trabajo Mapping\n",
    "total['nivelLaboralEncoded'] = total['nivel_laboral'].map( {'Senior / Semi-Senior':0, 'Junior':1, 'Otro':2, 'Jefe / Supervisor / Responsable': 3, \n",
    "                                                              'Gerencia / Alta Gerencia / Dirección': 4,'Microcentro':5,'Full-time':6} ).astype(int)\n"
   ]
  },
  {
   "cell_type": "code",
   "execution_count": 14,
   "metadata": {},
   "outputs": [],
   "source": [
    "#Sexo Mapping\n",
    "\n",
    "total['sexoEncoded'] = total['sexo'].map({'FEM':0, 'MASC':1, 'NO_DECLARA':2, '0.0':2}).astype(int)\n"
   ]
  },
  {
   "cell_type": "code",
   "execution_count": 15,
   "metadata": {},
   "outputs": [],
   "source": [
    "# Mapping edad del postulante\n",
    "total.loc[ total['edadPostulante'] <= 21, 'edadEncoded']                         = 0\n",
    "total.loc[(total['edadPostulante'] > 21) & (total['edadPostulante'] <= 26), 'edadEncoded'] = 1\n",
    "total.loc[(total['edadPostulante'] > 26) & (total['edadPostulante'] <= 30), 'edadEncoded'] = 2\n",
    "total.loc[(total['edadPostulante'] > 30) & (total['edadPostulante'] <= 40), 'edadEncoded'] = 3\n",
    "total.loc[ total['edadPostulante'] > 40, 'edadEncoded'] = 4"
   ]
  },
  {
   "cell_type": "code",
   "execution_count": 16,
   "metadata": {},
   "outputs": [
    {
     "data": {
      "text/plain": [
       "Gran Buenos Aires              5529895\n",
       "Capital Federal                 421439\n",
       "GBA Oeste                         1274\n",
       "Buenos Aires (fuera de GBA)        329\n",
       "Name: nombre_zona, dtype: int64"
      ]
     },
     "execution_count": 16,
     "metadata": {},
     "output_type": "execute_result"
    }
   ],
   "source": [
    "total['nombre_zona'].value_counts()"
   ]
  },
  {
   "cell_type": "code",
   "execution_count": 17,
   "metadata": {},
   "outputs": [],
   "source": [
    "#Mapping nombre de la zona\n",
    "\n",
    "total['zonaEncoded'] = total['nombre_zona'].map({'Gran Buenos Aires': 0, 'Capital Ferderal': 1,'GBA Oeste': 2, 'Buenos Aires (fuera de GBA)': 3 })"
   ]
  },
  {
   "cell_type": "code",
   "execution_count": 18,
   "metadata": {},
   "outputs": [],
   "source": [
    "drop_elements = ['tipo_de_trabajo','estado','sexo','edadPostulante','nivel_laboral','nombre_zona']\n",
    "total = total.drop(drop_elements, axis = 1)"
   ]
  },
  {
   "cell_type": "code",
   "execution_count": 19,
   "metadata": {},
   "outputs": [],
   "source": [
    "total['edadEncoded']=total['edadEncoded'].fillna(method = 'pad')"
   ]
  },
  {
   "cell_type": "code",
   "execution_count": 20,
   "metadata": {},
   "outputs": [
    {
     "data": {
      "text/plain": [
       "1.0    1699690\n",
       "3.0    1662248\n",
       "2.0    1287899\n",
       "4.0     733679\n",
       "0.0     569421\n",
       "Name: edadEncoded, dtype: int64"
      ]
     },
     "execution_count": 20,
     "metadata": {},
     "output_type": "execute_result"
    }
   ],
   "source": [
    "total['edadEncoded'].value_counts()"
   ]
  },
  {
   "cell_type": "code",
   "execution_count": 21,
   "metadata": {},
   "outputs": [
    {
     "data": {
      "text/html": [
       "<div>\n",
       "<style scoped>\n",
       "    .dataframe tbody tr th:only-of-type {\n",
       "        vertical-align: middle;\n",
       "    }\n",
       "\n",
       "    .dataframe tbody tr th {\n",
       "        vertical-align: top;\n",
       "    }\n",
       "\n",
       "    .dataframe thead th {\n",
       "        text-align: right;\n",
       "    }\n",
       "</style>\n",
       "<table border=\"1\" class=\"dataframe\">\n",
       "  <thead>\n",
       "    <tr style=\"text-align: right;\">\n",
       "      <th></th>\n",
       "      <th>idaviso</th>\n",
       "      <th>idpostulante</th>\n",
       "      <th>nombre_sort</th>\n",
       "      <th>se_postulo</th>\n",
       "      <th>estadoEncoded</th>\n",
       "      <th>tipoDeTrabajoEncoded</th>\n",
       "      <th>nivelLaboralEncoded</th>\n",
       "      <th>sexoEncoded</th>\n",
       "      <th>edadEncoded</th>\n",
       "      <th>zonaEncoded</th>\n",
       "    </tr>\n",
       "  </thead>\n",
       "  <tbody>\n",
       "    <tr>\n",
       "      <th>0</th>\n",
       "      <td>1112348533</td>\n",
       "      <td>8MPPMwL</td>\n",
       "      <td>1.0</td>\n",
       "      <td>1</td>\n",
       "      <td>1</td>\n",
       "      <td>0</td>\n",
       "      <td>0</td>\n",
       "      <td>1</td>\n",
       "      <td>2.0</td>\n",
       "      <td>0.0</td>\n",
       "    </tr>\n",
       "    <tr>\n",
       "      <th>1</th>\n",
       "      <td>1112237849</td>\n",
       "      <td>0zPoNJ9</td>\n",
       "      <td>3.0</td>\n",
       "      <td>1</td>\n",
       "      <td>1</td>\n",
       "      <td>0</td>\n",
       "      <td>0</td>\n",
       "      <td>0</td>\n",
       "      <td>1.0</td>\n",
       "      <td>0.0</td>\n",
       "    </tr>\n",
       "    <tr>\n",
       "      <th>2</th>\n",
       "      <td>1112345900</td>\n",
       "      <td>0zPOblM</td>\n",
       "      <td>3.0</td>\n",
       "      <td>1</td>\n",
       "      <td>0</td>\n",
       "      <td>1</td>\n",
       "      <td>1</td>\n",
       "      <td>0</td>\n",
       "      <td>0.0</td>\n",
       "      <td>NaN</td>\n",
       "    </tr>\n",
       "    <tr>\n",
       "      <th>3</th>\n",
       "      <td>1111903673</td>\n",
       "      <td>4rdwvle</td>\n",
       "      <td>1.0</td>\n",
       "      <td>1</td>\n",
       "      <td>1</td>\n",
       "      <td>0</td>\n",
       "      <td>2</td>\n",
       "      <td>1</td>\n",
       "      <td>3.0</td>\n",
       "      <td>0.0</td>\n",
       "    </tr>\n",
       "    <tr>\n",
       "      <th>4</th>\n",
       "      <td>1112326299</td>\n",
       "      <td>8MPw0mO</td>\n",
       "      <td>1.0</td>\n",
       "      <td>1</td>\n",
       "      <td>1</td>\n",
       "      <td>0</td>\n",
       "      <td>0</td>\n",
       "      <td>2</td>\n",
       "      <td>3.0</td>\n",
       "      <td>0.0</td>\n",
       "    </tr>\n",
       "  </tbody>\n",
       "</table>\n",
       "</div>"
      ],
      "text/plain": [
       "      idaviso idpostulante  nombre_sort  se_postulo  estadoEncoded  \\\n",
       "0  1112348533      8MPPMwL          1.0           1              1   \n",
       "1  1112237849      0zPoNJ9          3.0           1              1   \n",
       "2  1112345900      0zPOblM          3.0           1              0   \n",
       "3  1111903673      4rdwvle          1.0           1              1   \n",
       "4  1112326299      8MPw0mO          1.0           1              1   \n",
       "\n",
       "   tipoDeTrabajoEncoded  nivelLaboralEncoded  sexoEncoded  edadEncoded  \\\n",
       "0                     0                    0            1          2.0   \n",
       "1                     0                    0            0          1.0   \n",
       "2                     1                    1            0          0.0   \n",
       "3                     0                    2            1          3.0   \n",
       "4                     0                    0            2          3.0   \n",
       "\n",
       "   zonaEncoded  \n",
       "0          0.0  \n",
       "1          0.0  \n",
       "2          NaN  \n",
       "3          0.0  \n",
       "4          0.0  "
      ]
     },
     "execution_count": 21,
     "metadata": {},
     "output_type": "execute_result"
    }
   ],
   "source": [
    "total.head(5)"
   ]
  },
  {
   "cell_type": "code",
   "execution_count": 22,
   "metadata": {},
   "outputs": [
    {
     "data": {
      "text/plain": [
       "2.0"
      ]
     },
     "execution_count": 22,
     "metadata": {},
     "output_type": "execute_result"
    }
   ],
   "source": [
    "total['edadEncoded'][0]"
   ]
  },
  {
   "cell_type": "code",
   "execution_count": 66,
   "metadata": {},
   "outputs": [
    {
     "name": "stderr",
     "output_type": "stream",
     "text": [
      "/home/olix/.local/lib/python3.5/site-packages/ipykernel_launcher.py:1: SettingWithCopyWarning: \n",
      "A value is trying to be set on a copy of a slice from a DataFrame\n",
      "\n",
      "See the caveats in the documentation: http://pandas.pydata.org/pandas-docs/stable/indexing.html#indexing-view-versus-copy\n",
      "  \"\"\"Entry point for launching an IPython kernel.\n"
     ]
    }
   ],
   "source": [
    "total['edadEncoded'][0] = 3.0"
   ]
  },
  {
   "cell_type": "code",
   "execution_count": 68,
   "metadata": {},
   "outputs": [],
   "source": [
    "#Nose porque me aparecen valores nan y cuando hago value counts no aparecen cuantos"
   ]
  },
  {
   "cell_type": "code",
   "execution_count": 23,
   "metadata": {},
   "outputs": [],
   "source": [
    "total.to_csv('postulaciones_nopostulacionesRedCodificadoAmbos3M.csv')"
   ]
  },
  {
   "cell_type": "code",
   "execution_count": null,
   "metadata": {},
   "outputs": [],
   "source": []
  }
 ],
 "metadata": {
  "kernelspec": {
   "display_name": "Python 3",
   "language": "python",
   "name": "python3"
  },
  "language_info": {
   "codemirror_mode": {
    "name": "ipython",
    "version": 3
   },
   "file_extension": ".py",
   "mimetype": "text/x-python",
   "name": "python",
   "nbconvert_exporter": "python",
   "pygments_lexer": "ipython3",
   "version": "3.5.2"
  }
 },
 "nbformat": 4,
 "nbformat_minor": 2
}
