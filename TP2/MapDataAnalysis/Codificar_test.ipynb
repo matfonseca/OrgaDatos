{
 "cells": [
  {
   "cell_type": "code",
   "execution_count": 1,
   "metadata": {},
   "outputs": [],
   "source": [
    "import numpy as np\n",
    "import pandas as pd\n",
    "import seaborn as sb\n",
    "import matplotlib.pyplot as plt\n",
    "%matplotlib inline"
   ]
  },
  {
   "cell_type": "code",
   "execution_count": 2,
   "metadata": {},
   "outputs": [
    {
     "name": "stdout",
     "output_type": "stream",
     "text": [
      "/home/olix/Documentos/datos/tp2master/OrgaDatos/TP2/Algorithms\n"
     ]
    }
   ],
   "source": [
    "cd Algorithms"
   ]
  },
  {
   "cell_type": "code",
   "execution_count": 3,
   "metadata": {},
   "outputs": [],
   "source": [
    "test = pd.read_csv('100k_info_predecir.csv')"
   ]
  },
  {
   "cell_type": "code",
   "execution_count": 4,
   "metadata": {},
   "outputs": [
    {
     "data": {
      "text/html": [
       "<div>\n",
       "<style scoped>\n",
       "    .dataframe tbody tr th:only-of-type {\n",
       "        vertical-align: middle;\n",
       "    }\n",
       "\n",
       "    .dataframe tbody tr th {\n",
       "        vertical-align: top;\n",
       "    }\n",
       "\n",
       "    .dataframe thead th {\n",
       "        text-align: right;\n",
       "    }\n",
       "</style>\n",
       "<table border=\"1\" class=\"dataframe\">\n",
       "  <thead>\n",
       "    <tr style=\"text-align: right;\">\n",
       "      <th></th>\n",
       "      <th>id</th>\n",
       "      <th>idaviso</th>\n",
       "      <th>idpostulante</th>\n",
       "      <th>estado</th>\n",
       "      <th>nombre_sort</th>\n",
       "      <th>fechanacimiento</th>\n",
       "      <th>sexo</th>\n",
       "      <th>nivel_laboral</th>\n",
       "      <th>nombre_zona</th>\n",
       "      <th>tipo_de_trabajo</th>\n",
       "    </tr>\n",
       "  </thead>\n",
       "  <tbody>\n",
       "    <tr>\n",
       "      <th>0</th>\n",
       "      <td>0</td>\n",
       "      <td>739260</td>\n",
       "      <td>6M9ZQR</td>\n",
       "      <td>Graduado</td>\n",
       "      <td>6.0</td>\n",
       "      <td>1976-03-29</td>\n",
       "      <td>FEM</td>\n",
       "      <td>Jefe / Supervisor / Responsable</td>\n",
       "      <td>Capital Federal</td>\n",
       "      <td>Full-time</td>\n",
       "    </tr>\n",
       "    <tr>\n",
       "      <th>1</th>\n",
       "      <td>1</td>\n",
       "      <td>739260</td>\n",
       "      <td>6v1xdL</td>\n",
       "      <td>Graduado</td>\n",
       "      <td>2.0</td>\n",
       "      <td>1987-06-27</td>\n",
       "      <td>MASC</td>\n",
       "      <td>Jefe / Supervisor / Responsable</td>\n",
       "      <td>Capital Federal</td>\n",
       "      <td>Full-time</td>\n",
       "    </tr>\n",
       "    <tr>\n",
       "      <th>2</th>\n",
       "      <td>2</td>\n",
       "      <td>739260</td>\n",
       "      <td>ezRKm9</td>\n",
       "      <td>Graduado</td>\n",
       "      <td>3.0</td>\n",
       "      <td>1982-02-17</td>\n",
       "      <td>FEM</td>\n",
       "      <td>Jefe / Supervisor / Responsable</td>\n",
       "      <td>Capital Federal</td>\n",
       "      <td>Full-time</td>\n",
       "    </tr>\n",
       "    <tr>\n",
       "      <th>3</th>\n",
       "      <td>3</td>\n",
       "      <td>758580</td>\n",
       "      <td>1Q35ej</td>\n",
       "      <td>Graduado</td>\n",
       "      <td>4.0</td>\n",
       "      <td>1949-12-24</td>\n",
       "      <td>MASC</td>\n",
       "      <td>Otro</td>\n",
       "      <td>Capital Federal</td>\n",
       "      <td>Full-time</td>\n",
       "    </tr>\n",
       "    <tr>\n",
       "      <th>4</th>\n",
       "      <td>4</td>\n",
       "      <td>758580</td>\n",
       "      <td>EAN4J6</td>\n",
       "      <td>Abandonado</td>\n",
       "      <td>3.0</td>\n",
       "      <td>1986-05-27</td>\n",
       "      <td>FEM</td>\n",
       "      <td>Otro</td>\n",
       "      <td>Capital Federal</td>\n",
       "      <td>Full-time</td>\n",
       "    </tr>\n",
       "  </tbody>\n",
       "</table>\n",
       "</div>"
      ],
      "text/plain": [
       "   id  idaviso idpostulante      estado  nombre_sort fechanacimiento  sexo  \\\n",
       "0   0   739260       6M9ZQR    Graduado          6.0      1976-03-29   FEM   \n",
       "1   1   739260       6v1xdL    Graduado          2.0      1987-06-27  MASC   \n",
       "2   2   739260       ezRKm9    Graduado          3.0      1982-02-17   FEM   \n",
       "3   3   758580       1Q35ej    Graduado          4.0      1949-12-24  MASC   \n",
       "4   4   758580       EAN4J6  Abandonado          3.0      1986-05-27   FEM   \n",
       "\n",
       "                     nivel_laboral      nombre_zona tipo_de_trabajo  \n",
       "0  Jefe / Supervisor / Responsable  Capital Federal       Full-time  \n",
       "1  Jefe / Supervisor / Responsable  Capital Federal       Full-time  \n",
       "2  Jefe / Supervisor / Responsable  Capital Federal       Full-time  \n",
       "3                             Otro  Capital Federal       Full-time  \n",
       "4                             Otro  Capital Federal       Full-time  "
      ]
     },
     "execution_count": 4,
     "metadata": {},
     "output_type": "execute_result"
    }
   ],
   "source": [
    "test.drop(columns=['descripcion','denominacion_empresa','nombre_area','titulo','idpais','ciudad','nombre','mapacalle'],inplace = True)\n",
    "test.head()"
   ]
  },
  {
   "cell_type": "code",
   "execution_count": 5,
   "metadata": {},
   "outputs": [],
   "source": [
    "def datetime(date,format_string):\n",
    "    return pd.to_datetime(date,format= format_string,errors='coerce')"
   ]
  },
  {
   "cell_type": "code",
   "execution_count": 6,
   "metadata": {},
   "outputs": [],
   "source": [
    "test['edadPostulante'] = datetime(test['fechanacimiento'],'%Y-%m-%d')"
   ]
  },
  {
   "cell_type": "code",
   "execution_count": 7,
   "metadata": {},
   "outputs": [],
   "source": [
    "test['edadPostulante'] = test['edadPostulante'].map(lambda x: 2018 - x.year)"
   ]
  },
  {
   "cell_type": "code",
   "execution_count": 8,
   "metadata": {},
   "outputs": [],
   "source": [
    "test.drop(columns = ['fechanacimiento'],inplace= True)"
   ]
  },
  {
   "cell_type": "code",
   "execution_count": 9,
   "metadata": {},
   "outputs": [],
   "source": [
    "test=test.fillna(method='pad')"
   ]
  },
  {
   "cell_type": "code",
   "execution_count": 10,
   "metadata": {},
   "outputs": [
    {
     "data": {
      "text/plain": [
       "False    100000\n",
       "Name: estado, dtype: int64"
      ]
     },
     "execution_count": 10,
     "metadata": {},
     "output_type": "execute_result"
    }
   ],
   "source": [
    "test['estado'].isnull().value_counts()"
   ]
  },
  {
   "cell_type": "code",
   "execution_count": 12,
   "metadata": {},
   "outputs": [
    {
     "data": {
      "text/plain": [
       "Senior / Semi-Senior                    65663\n",
       "Junior                                  20115\n",
       "Otro                                     9113\n",
       "Jefe / Supervisor / Responsable          4184\n",
       "Gerencia / Alta Gerencia / Dirección      914\n",
       "Microcentro                                 6\n",
       "Full-time                                   5\n",
       "Name: nivel_laboral, dtype: int64"
      ]
     },
     "execution_count": 12,
     "metadata": {},
     "output_type": "execute_result"
    }
   ],
   "source": [
    "test['nivel_laboral'].value_counts()"
   ]
  },
  {
   "cell_type": "code",
   "execution_count": 14,
   "metadata": {},
   "outputs": [],
   "source": [
    "# estado Mapping \n",
    "test['estadoEncoded'] = test['estado'].map( {'En Curso': 0, 'Abandonado': 2, 'Graduado': 1} ).astype(int)\n",
    "\n",
    "# tipoDeTrabajo Mapping \n",
    "test['tipoDeTrabajoEncoded'] = test['tipo_de_trabajo'].map( {'Full-time':0, 'Part-time':1, 'Teletrabajo':2, 'Por Horas': 3, 'Pasantia': 4, 'Temporario': 5, 'Por Contrato': 6,'Fines de Semana': 7, 'Primer empleo': 8,'Corrientes':9,'Vicente López':10} ).astype(int)\n",
    " \n",
    "\n",
    "    \n",
    "# Nivel de trabajo Mapping\n",
    "test['nivelLaboralEncoded'] = test['nivel_laboral'].map( {'Senior / Semi-Senior':0, 'Junior':1, 'Otro':2, 'Jefe / Supervisor / Responsable': 3, \n",
    "                                                              'Gerencia / Alta Gerencia / Dirección': 4,'Microcentro':5,'Full-time':6} ).astype(int)\n",
    "\n",
    "\n",
    "#Sexo Mapping\n",
    "\n",
    "test['sexoEncoded'] = test['sexo'].map({'FEM':0, 'MASC':1, 'NO_DECLARA':2}).astype(int)\n",
    "\n",
    "\n",
    "# Mapping edad del postulante\n",
    "test.loc[ test['edadPostulante'] <= 21, 'edadEncoded']                         = 0\n",
    "test.loc[(test['edadPostulante'] > 21) & (test['edadPostulante'] <= 26), 'edadEncoded'] = 1\n",
    "test.loc[(test['edadPostulante'] > 26) & (test['edadPostulante'] <= 30), 'edadEncoded'] = 2\n",
    "test.loc[(test['edadPostulante'] > 30) & (test['edadPostulante'] <= 40), 'edadEncoded'] = 3\n",
    "test.loc[ test['edadPostulante'] > 40, 'edadEncoded'] = 4\n",
    "\n",
    "#Mapping nombre de la zona\n",
    "\n",
    "test['zonaEncoded'] = test['nombre_zona'].map({'Gran Buenos Aires': 0, 'Capital Ferderal': 1,'GBA Oeste': 2, 'Buenos Aires (fuera de GBA)': 3 })"
   ]
  },
  {
   "cell_type": "code",
   "execution_count": 15,
   "metadata": {},
   "outputs": [],
   "source": [
    "drop_elements = ['tipo_de_trabajo','estado','sexo','edadPostulante','nivel_laboral','nombre_zona']\n",
    "test_encoded = test.drop(drop_elements, axis = 1)"
   ]
  },
  {
   "cell_type": "code",
   "execution_count": 16,
   "metadata": {},
   "outputs": [
    {
     "data": {
      "text/html": [
       "<div>\n",
       "<style scoped>\n",
       "    .dataframe tbody tr th:only-of-type {\n",
       "        vertical-align: middle;\n",
       "    }\n",
       "\n",
       "    .dataframe tbody tr th {\n",
       "        vertical-align: top;\n",
       "    }\n",
       "\n",
       "    .dataframe thead th {\n",
       "        text-align: right;\n",
       "    }\n",
       "</style>\n",
       "<table border=\"1\" class=\"dataframe\">\n",
       "  <thead>\n",
       "    <tr style=\"text-align: right;\">\n",
       "      <th></th>\n",
       "      <th>id</th>\n",
       "      <th>idaviso</th>\n",
       "      <th>idpostulante</th>\n",
       "      <th>nombre_sort</th>\n",
       "      <th>estadoEncoded</th>\n",
       "      <th>tipoDeTrabajoEncoded</th>\n",
       "      <th>nivelLaboralEncoded</th>\n",
       "      <th>sexoEncoded</th>\n",
       "      <th>edadEncoded</th>\n",
       "      <th>zonaEncoded</th>\n",
       "    </tr>\n",
       "  </thead>\n",
       "  <tbody>\n",
       "    <tr>\n",
       "      <th>0</th>\n",
       "      <td>0</td>\n",
       "      <td>739260</td>\n",
       "      <td>6M9ZQR</td>\n",
       "      <td>6.0</td>\n",
       "      <td>1</td>\n",
       "      <td>0</td>\n",
       "      <td>3</td>\n",
       "      <td>0</td>\n",
       "      <td>4.0</td>\n",
       "      <td>NaN</td>\n",
       "    </tr>\n",
       "    <tr>\n",
       "      <th>1</th>\n",
       "      <td>1</td>\n",
       "      <td>739260</td>\n",
       "      <td>6v1xdL</td>\n",
       "      <td>2.0</td>\n",
       "      <td>1</td>\n",
       "      <td>0</td>\n",
       "      <td>3</td>\n",
       "      <td>1</td>\n",
       "      <td>3.0</td>\n",
       "      <td>NaN</td>\n",
       "    </tr>\n",
       "    <tr>\n",
       "      <th>2</th>\n",
       "      <td>2</td>\n",
       "      <td>739260</td>\n",
       "      <td>ezRKm9</td>\n",
       "      <td>3.0</td>\n",
       "      <td>1</td>\n",
       "      <td>0</td>\n",
       "      <td>3</td>\n",
       "      <td>0</td>\n",
       "      <td>3.0</td>\n",
       "      <td>NaN</td>\n",
       "    </tr>\n",
       "    <tr>\n",
       "      <th>3</th>\n",
       "      <td>3</td>\n",
       "      <td>758580</td>\n",
       "      <td>1Q35ej</td>\n",
       "      <td>4.0</td>\n",
       "      <td>1</td>\n",
       "      <td>0</td>\n",
       "      <td>2</td>\n",
       "      <td>1</td>\n",
       "      <td>4.0</td>\n",
       "      <td>NaN</td>\n",
       "    </tr>\n",
       "    <tr>\n",
       "      <th>4</th>\n",
       "      <td>4</td>\n",
       "      <td>758580</td>\n",
       "      <td>EAN4J6</td>\n",
       "      <td>3.0</td>\n",
       "      <td>2</td>\n",
       "      <td>0</td>\n",
       "      <td>2</td>\n",
       "      <td>0</td>\n",
       "      <td>3.0</td>\n",
       "      <td>NaN</td>\n",
       "    </tr>\n",
       "  </tbody>\n",
       "</table>\n",
       "</div>"
      ],
      "text/plain": [
       "   id  idaviso idpostulante  nombre_sort  estadoEncoded  tipoDeTrabajoEncoded  \\\n",
       "0   0   739260       6M9ZQR          6.0              1                     0   \n",
       "1   1   739260       6v1xdL          2.0              1                     0   \n",
       "2   2   739260       ezRKm9          3.0              1                     0   \n",
       "3   3   758580       1Q35ej          4.0              1                     0   \n",
       "4   4   758580       EAN4J6          3.0              2                     0   \n",
       "\n",
       "   nivelLaboralEncoded  sexoEncoded  edadEncoded  zonaEncoded  \n",
       "0                    3            0          4.0          NaN  \n",
       "1                    3            1          3.0          NaN  \n",
       "2                    3            0          3.0          NaN  \n",
       "3                    2            1          4.0          NaN  \n",
       "4                    2            0          3.0          NaN  "
      ]
     },
     "execution_count": 16,
     "metadata": {},
     "output_type": "execute_result"
    }
   ],
   "source": [
    "test_encoded.head()"
   ]
  },
  {
   "cell_type": "code",
   "execution_count": 17,
   "metadata": {},
   "outputs": [],
   "source": [
    "test_encoded.to_csv('test_encoded.csv',index = False)"
   ]
  },
  {
   "cell_type": "code",
   "execution_count": null,
   "metadata": {},
   "outputs": [],
   "source": []
  }
 ],
 "metadata": {
  "kernelspec": {
   "display_name": "Python 3",
   "language": "python",
   "name": "python3"
  },
  "language_info": {
   "codemirror_mode": {
    "name": "ipython",
    "version": 3
   },
   "file_extension": ".py",
   "mimetype": "text/x-python",
   "name": "python",
   "nbconvert_exporter": "python",
   "pygments_lexer": "ipython3",
   "version": "3.5.2"
  }
 },
 "nbformat": 4,
 "nbformat_minor": 2
}
