{
 "cells": [
  {
   "cell_type": "code",
   "execution_count": 1,
   "metadata": {},
   "outputs": [],
   "source": [
    "import pandas as pd\n",
    "import numpy as np\n",
    "import matplotlib.pyplot as plt\n",
    "\n",
    "%matplotlib inline"
   ]
  },
  {
   "cell_type": "code",
   "execution_count": 2,
   "metadata": {},
   "outputs": [],
   "source": [
    "views = pd.read_csv('vistas.csv')"
   ]
  },
  {
   "cell_type": "code",
   "execution_count": 3,
   "metadata": {},
   "outputs": [
    {
     "data": {
      "text/plain": [
       "1       1996912\n",
       "2        978250\n",
       "3        221311\n",
       "4        205792\n",
       "6         50716\n",
       "5         44052\n",
       "8         19531\n",
       "7         16864\n",
       "10         7823\n",
       "9          7651\n",
       "12         4050\n",
       "11         3773\n",
       "13         2079\n",
       "14         2075\n",
       "15         1172\n",
       "16         1116\n",
       "17          948\n",
       "18          716\n",
       "21          528\n",
       "20          436\n",
       "19          434\n",
       "22          332\n",
       "23          233\n",
       "24          210\n",
       "25          195\n",
       "26          139\n",
       "27          129\n",
       "31          103\n",
       "28           88\n",
       "29           88\n",
       "         ...   \n",
       "6492          1\n",
       "201           1\n",
       "204           1\n",
       "333           1\n",
       "222           1\n",
       "354           1\n",
       "240           1\n",
       "213           1\n",
       "140           1\n",
       "200           1\n",
       "104           1\n",
       "133           1\n",
       "90            1\n",
       "441           1\n",
       "66            1\n",
       "75            1\n",
       "76            1\n",
       "80            1\n",
       "86            1\n",
       "87            1\n",
       "111           1\n",
       "131           1\n",
       "115           1\n",
       "116           1\n",
       "119           1\n",
       "120           1\n",
       "121           1\n",
       "128           1\n",
       "129           1\n",
       "506           1\n",
       "Name: cantVistas, Length: 133, dtype: int64"
      ]
     },
     "execution_count": 3,
     "metadata": {},
     "output_type": "execute_result"
    }
   ],
   "source": [
    "views['cantVistas'].value_counts()"
   ]
  },
  {
   "cell_type": "code",
   "execution_count": 4,
   "metadata": {},
   "outputs": [
    {
     "data": {
      "text/html": [
       "<div>\n",
       "<style scoped>\n",
       "    .dataframe tbody tr th:only-of-type {\n",
       "        vertical-align: middle;\n",
       "    }\n",
       "\n",
       "    .dataframe tbody tr th {\n",
       "        vertical-align: top;\n",
       "    }\n",
       "\n",
       "    .dataframe thead th {\n",
       "        text-align: right;\n",
       "    }\n",
       "</style>\n",
       "<table border=\"1\" class=\"dataframe\">\n",
       "  <thead>\n",
       "    <tr style=\"text-align: right;\">\n",
       "      <th></th>\n",
       "      <th>idaviso</th>\n",
       "      <th>idpostulante</th>\n",
       "      <th>cantVistas</th>\n",
       "    </tr>\n",
       "  </thead>\n",
       "  <tbody>\n",
       "    <tr>\n",
       "      <th>245046</th>\n",
       "      <td>1112094914</td>\n",
       "      <td>ak5W4DE</td>\n",
       "      <td>1</td>\n",
       "    </tr>\n",
       "    <tr>\n",
       "      <th>487923</th>\n",
       "      <td>1112292226</td>\n",
       "      <td>ZDrpqv8</td>\n",
       "      <td>1</td>\n",
       "    </tr>\n",
       "    <tr>\n",
       "      <th>2640308</th>\n",
       "      <td>1112437312</td>\n",
       "      <td>A36dRZG</td>\n",
       "      <td>4</td>\n",
       "    </tr>\n",
       "    <tr>\n",
       "      <th>2352465</th>\n",
       "      <td>1112428207</td>\n",
       "      <td>QNaj935</td>\n",
       "      <td>4</td>\n",
       "    </tr>\n",
       "    <tr>\n",
       "      <th>214045</th>\n",
       "      <td>1112033906</td>\n",
       "      <td>ek4lkLj</td>\n",
       "      <td>1</td>\n",
       "    </tr>\n",
       "  </tbody>\n",
       "</table>\n",
       "</div>"
      ],
      "text/plain": [
       "            idaviso idpostulante  cantVistas\n",
       "245046   1112094914      ak5W4DE           1\n",
       "487923   1112292226      ZDrpqv8           1\n",
       "2640308  1112437312      A36dRZG           4\n",
       "2352465  1112428207      QNaj935           4\n",
       "214045   1112033906      ek4lkLj           1"
      ]
     },
     "execution_count": 4,
     "metadata": {},
     "output_type": "execute_result"
    }
   ],
   "source": [
    "views.sample(5)"
   ]
  },
  {
   "cell_type": "code",
   "execution_count": 5,
   "metadata": {},
   "outputs": [],
   "source": [
    "#Aca podemos ir cambiando el csv segun sean las nopostulaciones random reducido o no\n",
    "nopostulations = pd.read_csv('avisos_no_postulantesReducido3M.csv')"
   ]
  },
  {
   "cell_type": "code",
   "execution_count": 6,
   "metadata": {},
   "outputs": [],
   "source": [
    "merge = views.merge(nopostulations, how = 'right', on = ['idpostulante','idaviso'])"
   ]
  },
  {
   "cell_type": "code",
   "execution_count": 7,
   "metadata": {},
   "outputs": [],
   "source": [
    "#Como es una postulacion consideramos (en caso contrario) que nunca visito \n",
    "#anuncio, es decir rellenamos con 0\n",
    "merge['cantVistas']=merge['cantVistas'].fillna(0)"
   ]
  },
  {
   "cell_type": "code",
   "execution_count": 8,
   "metadata": {},
   "outputs": [
    {
     "data": {
      "text/plain": [
       "0.0     3098537\n",
       "1.0         901\n",
       "2.0         400\n",
       "4.0          97\n",
       "3.0          91\n",
       "6.0          23\n",
       "5.0          17\n",
       "7.0           8\n",
       "10.0          7\n",
       "9.0           6\n",
       "8.0           6\n",
       "21.0          1\n",
       "17.0          1\n",
       "15.0          1\n",
       "14.0          1\n",
       "12.0          1\n",
       "Name: cantVistas, dtype: int64"
      ]
     },
     "execution_count": 8,
     "metadata": {},
     "output_type": "execute_result"
    }
   ],
   "source": [
    "merge['cantVistas'].value_counts()"
   ]
  },
  {
   "cell_type": "code",
   "execution_count": 9,
   "metadata": {},
   "outputs": [],
   "source": [
    "merge.to_csv('nopostulaciones_vistas.csv',index=False)"
   ]
  },
  {
   "cell_type": "code",
   "execution_count": null,
   "metadata": {},
   "outputs": [],
   "source": []
  },
  {
   "cell_type": "code",
   "execution_count": null,
   "metadata": {},
   "outputs": [],
   "source": []
  }
 ],
 "metadata": {
  "kernelspec": {
   "display_name": "Python 3",
   "language": "python",
   "name": "python3"
  },
  "language_info": {
   "codemirror_mode": {
    "name": "ipython",
    "version": 3
   },
   "file_extension": ".py",
   "mimetype": "text/x-python",
   "name": "python",
   "nbconvert_exporter": "python",
   "pygments_lexer": "ipython3",
   "version": "3.5.2"
  }
 },
 "nbformat": 4,
 "nbformat_minor": 2
}
