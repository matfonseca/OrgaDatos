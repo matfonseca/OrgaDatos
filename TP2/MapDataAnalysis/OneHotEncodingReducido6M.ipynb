{
 "cells": [
  {
   "cell_type": "code",
   "execution_count": 1,
   "metadata": {},
   "outputs": [],
   "source": [
    "import numpy as np\n",
    "import pandas as pd\n",
    "import seaborn as sb\n",
    "import matplotlib.pyplot as plt\n",
    "%matplotlib inline\n",
    "\n",
    "from sklearn.preprocessing import LabelEncoder"
   ]
  },
  {
   "cell_type": "code",
   "execution_count": 2,
   "metadata": {},
   "outputs": [
    {
     "name": "stdout",
     "output_type": "stream",
     "text": [
      "/home/olix/Documentos/datos/tp2master/OrgaDatos/TP2/Algorithms\n"
     ]
    }
   ],
   "source": [
    "cd Algorithms"
   ]
  },
  {
   "cell_type": "code",
   "execution_count": 3,
   "metadata": {},
   "outputs": [],
   "source": [
    "total = pd.read_csv('postulaciones_nopostulacionesReducidoAmbos3M.csv')"
   ]
  },
  {
   "cell_type": "code",
   "execution_count": 4,
   "metadata": {},
   "outputs": [
    {
     "data": {
      "text/plain": [
       "estado             5819667\n",
       "fechanacimiento    5842262\n",
       "idaviso            5952937\n",
       "idpostulante       5952937\n",
       "nivel_laboral      5952937\n",
       "nombre_sort        5819667\n",
       "nombre_zona        5952937\n",
       "se_postulo         5952937\n",
       "sexo               5952937\n",
       "tipo_de_trabajo    5952937\n",
       "dtype: int64"
      ]
     },
     "execution_count": 4,
     "metadata": {},
     "output_type": "execute_result"
    }
   ],
   "source": [
    "total.count()"
   ]
  },
  {
   "cell_type": "code",
   "execution_count": 4,
   "metadata": {},
   "outputs": [],
   "source": [
    "def datetime(date,format_string):\n",
    "    return pd.to_datetime(date,format= format_string,errors='coerce')"
   ]
  },
  {
   "cell_type": "code",
   "execution_count": 5,
   "metadata": {},
   "outputs": [],
   "source": [
    "total['edadPostulante'] = datetime(total['fechanacimiento'],'%Y-%m-%d')"
   ]
  },
  {
   "cell_type": "code",
   "execution_count": 6,
   "metadata": {},
   "outputs": [],
   "source": [
    "total['edadPostulante'] = total['edadPostulante'].map(lambda x: 2018 - x.year)"
   ]
  },
  {
   "cell_type": "code",
   "execution_count": 7,
   "metadata": {},
   "outputs": [],
   "source": [
    "total.drop(columns = ['fechanacimiento'],inplace= True)"
   ]
  },
  {
   "cell_type": "code",
   "execution_count": 8,
   "metadata": {},
   "outputs": [],
   "source": [
    "total=total.fillna(method='pad')"
   ]
  },
  {
   "cell_type": "code",
   "execution_count": 10,
   "metadata": {},
   "outputs": [
    {
     "data": {
      "text/plain": [
       "estado             5952937\n",
       "idaviso            5952937\n",
       "idpostulante       5952937\n",
       "nivel_laboral      5952937\n",
       "nombre_sort        5952937\n",
       "nombre_zona        5952937\n",
       "se_postulo         5952937\n",
       "sexo               5952937\n",
       "tipo_de_trabajo    5952937\n",
       "edadPostulante     5952937\n",
       "dtype: int64"
      ]
     },
     "execution_count": 10,
     "metadata": {},
     "output_type": "execute_result"
    }
   ],
   "source": [
    "total.count()"
   ]
  },
  {
   "cell_type": "code",
   "execution_count": 9,
   "metadata": {},
   "outputs": [],
   "source": [
    "# Mapping edad del postulante por rango de edades\n",
    "total.loc[ total['edadPostulante'] <= 21, 'edadEncoded']                         = 0\n",
    "total.loc[(total['edadPostulante'] > 21) & (total['edadPostulante'] <= 26), 'edadEncoded'] = 1\n",
    "total.loc[(total['edadPostulante'] > 26) & (total['edadPostulante'] <= 30), 'edadEncoded'] = 2\n",
    "total.loc[(total['edadPostulante'] > 30) & (total['edadPostulante'] <= 40), 'edadEncoded'] = 3\n",
    "total.loc[ total['edadPostulante'] > 40, 'edadEncoded'] = 4"
   ]
  },
  {
   "cell_type": "code",
   "execution_count": 10,
   "metadata": {},
   "outputs": [],
   "source": [
    "le = LabelEncoder()\n",
    "for column in total.drop(['se_postulo','idaviso','idpostulante'],axis =1).columns:\n",
    "    if total[column].dtype == type(object):\n",
    "        total[column] = le.fit_transform(total[column].astype(str))"
   ]
  },
  {
   "cell_type": "code",
   "execution_count": 13,
   "metadata": {},
   "outputs": [],
   "source": [
    "total.drop(columns = ['edadPostulante'],inplace = True)"
   ]
  },
  {
   "cell_type": "code",
   "execution_count": 14,
   "metadata": {},
   "outputs": [],
   "source": [
    "total = pd.get_dummies(total,columns = ['estado','nivel_laboral','nombre_sort','nombre_zona','sexo','tipo_de_trabajo','edadEncoded'])"
   ]
  },
  {
   "cell_type": "code",
   "execution_count": 15,
   "metadata": {},
   "outputs": [
    {
     "data": {
      "text/html": [
       "<div>\n",
       "<style scoped>\n",
       "    .dataframe tbody tr th:only-of-type {\n",
       "        vertical-align: middle;\n",
       "    }\n",
       "\n",
       "    .dataframe tbody tr th {\n",
       "        vertical-align: top;\n",
       "    }\n",
       "\n",
       "    .dataframe thead th {\n",
       "        text-align: right;\n",
       "    }\n",
       "</style>\n",
       "<table border=\"1\" class=\"dataframe\">\n",
       "  <thead>\n",
       "    <tr style=\"text-align: right;\">\n",
       "      <th></th>\n",
       "      <th>idaviso</th>\n",
       "      <th>idpostulante</th>\n",
       "      <th>se_postulo</th>\n",
       "      <th>estado_0</th>\n",
       "      <th>estado_1</th>\n",
       "      <th>estado_2</th>\n",
       "      <th>nivel_laboral_0</th>\n",
       "      <th>nivel_laboral_1</th>\n",
       "      <th>nivel_laboral_2</th>\n",
       "      <th>nivel_laboral_3</th>\n",
       "      <th>...</th>\n",
       "      <th>tipo_de_trabajo_5</th>\n",
       "      <th>tipo_de_trabajo_6</th>\n",
       "      <th>tipo_de_trabajo_7</th>\n",
       "      <th>tipo_de_trabajo_8</th>\n",
       "      <th>tipo_de_trabajo_9</th>\n",
       "      <th>edadEncoded_0.0</th>\n",
       "      <th>edadEncoded_1.0</th>\n",
       "      <th>edadEncoded_2.0</th>\n",
       "      <th>edadEncoded_3.0</th>\n",
       "      <th>edadEncoded_4.0</th>\n",
       "    </tr>\n",
       "  </thead>\n",
       "  <tbody>\n",
       "    <tr>\n",
       "      <th>0</th>\n",
       "      <td>1112348533</td>\n",
       "      <td>8MPPMwL</td>\n",
       "      <td>1</td>\n",
       "      <td>0</td>\n",
       "      <td>0</td>\n",
       "      <td>1</td>\n",
       "      <td>0</td>\n",
       "      <td>0</td>\n",
       "      <td>0</td>\n",
       "      <td>0</td>\n",
       "      <td>...</td>\n",
       "      <td>0</td>\n",
       "      <td>0</td>\n",
       "      <td>0</td>\n",
       "      <td>0</td>\n",
       "      <td>0</td>\n",
       "      <td>0</td>\n",
       "      <td>0</td>\n",
       "      <td>1</td>\n",
       "      <td>0</td>\n",
       "      <td>0</td>\n",
       "    </tr>\n",
       "    <tr>\n",
       "      <th>1</th>\n",
       "      <td>1112237849</td>\n",
       "      <td>0zPoNJ9</td>\n",
       "      <td>1</td>\n",
       "      <td>0</td>\n",
       "      <td>0</td>\n",
       "      <td>1</td>\n",
       "      <td>0</td>\n",
       "      <td>0</td>\n",
       "      <td>0</td>\n",
       "      <td>0</td>\n",
       "      <td>...</td>\n",
       "      <td>0</td>\n",
       "      <td>0</td>\n",
       "      <td>0</td>\n",
       "      <td>0</td>\n",
       "      <td>0</td>\n",
       "      <td>0</td>\n",
       "      <td>1</td>\n",
       "      <td>0</td>\n",
       "      <td>0</td>\n",
       "      <td>0</td>\n",
       "    </tr>\n",
       "    <tr>\n",
       "      <th>2</th>\n",
       "      <td>1112345900</td>\n",
       "      <td>0zPOblM</td>\n",
       "      <td>1</td>\n",
       "      <td>0</td>\n",
       "      <td>1</td>\n",
       "      <td>0</td>\n",
       "      <td>0</td>\n",
       "      <td>0</td>\n",
       "      <td>1</td>\n",
       "      <td>0</td>\n",
       "      <td>...</td>\n",
       "      <td>0</td>\n",
       "      <td>0</td>\n",
       "      <td>0</td>\n",
       "      <td>0</td>\n",
       "      <td>0</td>\n",
       "      <td>1</td>\n",
       "      <td>0</td>\n",
       "      <td>0</td>\n",
       "      <td>0</td>\n",
       "      <td>0</td>\n",
       "    </tr>\n",
       "    <tr>\n",
       "      <th>3</th>\n",
       "      <td>1111903673</td>\n",
       "      <td>4rdwvle</td>\n",
       "      <td>1</td>\n",
       "      <td>0</td>\n",
       "      <td>0</td>\n",
       "      <td>1</td>\n",
       "      <td>0</td>\n",
       "      <td>0</td>\n",
       "      <td>0</td>\n",
       "      <td>1</td>\n",
       "      <td>...</td>\n",
       "      <td>0</td>\n",
       "      <td>0</td>\n",
       "      <td>0</td>\n",
       "      <td>0</td>\n",
       "      <td>0</td>\n",
       "      <td>0</td>\n",
       "      <td>0</td>\n",
       "      <td>0</td>\n",
       "      <td>1</td>\n",
       "      <td>0</td>\n",
       "    </tr>\n",
       "    <tr>\n",
       "      <th>4</th>\n",
       "      <td>1112326299</td>\n",
       "      <td>8MPw0mO</td>\n",
       "      <td>1</td>\n",
       "      <td>0</td>\n",
       "      <td>0</td>\n",
       "      <td>1</td>\n",
       "      <td>0</td>\n",
       "      <td>0</td>\n",
       "      <td>0</td>\n",
       "      <td>0</td>\n",
       "      <td>...</td>\n",
       "      <td>0</td>\n",
       "      <td>0</td>\n",
       "      <td>0</td>\n",
       "      <td>0</td>\n",
       "      <td>0</td>\n",
       "      <td>0</td>\n",
       "      <td>0</td>\n",
       "      <td>0</td>\n",
       "      <td>1</td>\n",
       "      <td>0</td>\n",
       "    </tr>\n",
       "  </tbody>\n",
       "</table>\n",
       "<p>5 rows × 41 columns</p>\n",
       "</div>"
      ],
      "text/plain": [
       "      idaviso idpostulante  se_postulo  estado_0  estado_1  estado_2  \\\n",
       "0  1112348533      8MPPMwL           1         0         0         1   \n",
       "1  1112237849      0zPoNJ9           1         0         0         1   \n",
       "2  1112345900      0zPOblM           1         0         1         0   \n",
       "3  1111903673      4rdwvle           1         0         0         1   \n",
       "4  1112326299      8MPw0mO           1         0         0         1   \n",
       "\n",
       "   nivel_laboral_0  nivel_laboral_1  nivel_laboral_2  nivel_laboral_3  \\\n",
       "0                0                0                0                0   \n",
       "1                0                0                0                0   \n",
       "2                0                0                1                0   \n",
       "3                0                0                0                1   \n",
       "4                0                0                0                0   \n",
       "\n",
       "        ...         tipo_de_trabajo_5  tipo_de_trabajo_6  tipo_de_trabajo_7  \\\n",
       "0       ...                         0                  0                  0   \n",
       "1       ...                         0                  0                  0   \n",
       "2       ...                         0                  0                  0   \n",
       "3       ...                         0                  0                  0   \n",
       "4       ...                         0                  0                  0   \n",
       "\n",
       "   tipo_de_trabajo_8  tipo_de_trabajo_9  edadEncoded_0.0  edadEncoded_1.0  \\\n",
       "0                  0                  0                0                0   \n",
       "1                  0                  0                0                1   \n",
       "2                  0                  0                1                0   \n",
       "3                  0                  0                0                0   \n",
       "4                  0                  0                0                0   \n",
       "\n",
       "   edadEncoded_2.0  edadEncoded_3.0  edadEncoded_4.0  \n",
       "0                1                0                0  \n",
       "1                0                0                0  \n",
       "2                0                0                0  \n",
       "3                0                1                0  \n",
       "4                0                1                0  \n",
       "\n",
       "[5 rows x 41 columns]"
      ]
     },
     "execution_count": 15,
     "metadata": {},
     "output_type": "execute_result"
    }
   ],
   "source": [
    "total.head()"
   ]
  },
  {
   "cell_type": "code",
   "execution_count": 16,
   "metadata": {},
   "outputs": [],
   "source": [
    "total.to_csv('entrenamiento6Mohe.csv')"
   ]
  },
  {
   "cell_type": "code",
   "execution_count": null,
   "metadata": {},
   "outputs": [],
   "source": []
  }
 ],
 "metadata": {
  "kernelspec": {
   "display_name": "Python 3",
   "language": "python",
   "name": "python3"
  },
  "language_info": {
   "codemirror_mode": {
    "name": "ipython",
    "version": 3
   },
   "file_extension": ".py",
   "mimetype": "text/x-python",
   "name": "python",
   "nbconvert_exporter": "python",
   "pygments_lexer": "ipython3",
   "version": "3.5.2"
  }
 },
 "nbformat": 4,
 "nbformat_minor": 2
}
