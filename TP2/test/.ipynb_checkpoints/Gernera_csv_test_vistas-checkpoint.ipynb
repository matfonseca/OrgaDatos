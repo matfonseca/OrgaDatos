{
 "cells": [
  {
   "cell_type": "code",
   "execution_count": 1,
   "metadata": {},
   "outputs": [],
   "source": [
    "import pandas as pd\n",
    "import numpy as np\n",
    "import matplotlib.pyplot as plt\n",
    "\n",
    "%matplotlib inline"
   ]
  },
  {
   "cell_type": "code",
   "execution_count": 3,
   "metadata": {},
   "outputs": [
    {
     "name": "stdout",
     "output_type": "stream",
     "text": [
      "/home/olix/Documentos/datos/tp2master1/OrgaDatos/TP2\n"
     ]
    }
   ],
   "source": [
    "cd .."
   ]
  },
  {
   "cell_type": "code",
   "execution_count": 4,
   "metadata": {},
   "outputs": [],
   "source": [
    "test = pd.read_csv('DataAnalysis/100k_info_predecir.csv')"
   ]
  },
  {
   "cell_type": "code",
   "execution_count": 5,
   "metadata": {},
   "outputs": [
    {
     "data": {
      "text/html": [
       "<div>\n",
       "<style scoped>\n",
       "    .dataframe tbody tr th:only-of-type {\n",
       "        vertical-align: middle;\n",
       "    }\n",
       "\n",
       "    .dataframe tbody tr th {\n",
       "        vertical-align: top;\n",
       "    }\n",
       "\n",
       "    .dataframe thead th {\n",
       "        text-align: right;\n",
       "    }\n",
       "</style>\n",
       "<table border=\"1\" class=\"dataframe\">\n",
       "  <thead>\n",
       "    <tr style=\"text-align: right;\">\n",
       "      <th></th>\n",
       "      <th>id</th>\n",
       "      <th>idaviso</th>\n",
       "      <th>idpostulante</th>\n",
       "      <th>nombre</th>\n",
       "      <th>estado</th>\n",
       "      <th>nombre_sort</th>\n",
       "      <th>fechanacimiento</th>\n",
       "      <th>sexo</th>\n",
       "      <th>ciudad</th>\n",
       "      <th>denominacion_empresa</th>\n",
       "      <th>descripcion</th>\n",
       "      <th>idpais</th>\n",
       "      <th>mapacalle</th>\n",
       "      <th>nivel_laboral</th>\n",
       "      <th>nombre_area</th>\n",
       "      <th>nombre_zona</th>\n",
       "      <th>tipo_de_trabajo</th>\n",
       "      <th>titulo</th>\n",
       "    </tr>\n",
       "  </thead>\n",
       "  <tbody>\n",
       "    <tr>\n",
       "      <th>0</th>\n",
       "      <td>0</td>\n",
       "      <td>739260</td>\n",
       "      <td>6M9ZQR</td>\n",
       "      <td>Doctorado</td>\n",
       "      <td>Graduado</td>\n",
       "      <td>6.0</td>\n",
       "      <td>1976-03-29</td>\n",
       "      <td>FEM</td>\n",
       "      <td>NaN</td>\n",
       "      <td>BUMERAN.COM ARGENTINA</td>\n",
       "      <td>Nuestro cliente es una empresa nac. ubicada en...</td>\n",
       "      <td>1.0</td>\n",
       "      <td>NaN</td>\n",
       "      <td>Jefe / Supervisor / Responsable</td>\n",
       "      <td>Comercial</td>\n",
       "      <td>Capital Federal</td>\n",
       "      <td>Full-time</td>\n",
       "      <td>Asistente Comercial</td>\n",
       "    </tr>\n",
       "    <tr>\n",
       "      <th>1</th>\n",
       "      <td>1</td>\n",
       "      <td>739260</td>\n",
       "      <td>6v1xdL</td>\n",
       "      <td>Terciario/Técnico</td>\n",
       "      <td>Graduado</td>\n",
       "      <td>2.0</td>\n",
       "      <td>1987-06-27</td>\n",
       "      <td>MASC</td>\n",
       "      <td>NaN</td>\n",
       "      <td>BUMERAN.COM ARGENTINA</td>\n",
       "      <td>Nuestro cliente es una empresa nac. ubicada en...</td>\n",
       "      <td>1.0</td>\n",
       "      <td>NaN</td>\n",
       "      <td>Jefe / Supervisor / Responsable</td>\n",
       "      <td>Comercial</td>\n",
       "      <td>Capital Federal</td>\n",
       "      <td>Full-time</td>\n",
       "      <td>Asistente Comercial</td>\n",
       "    </tr>\n",
       "    <tr>\n",
       "      <th>2</th>\n",
       "      <td>2</td>\n",
       "      <td>739260</td>\n",
       "      <td>ezRKm9</td>\n",
       "      <td>Universitario</td>\n",
       "      <td>Graduado</td>\n",
       "      <td>3.0</td>\n",
       "      <td>1982-02-17</td>\n",
       "      <td>FEM</td>\n",
       "      <td>NaN</td>\n",
       "      <td>BUMERAN.COM ARGENTINA</td>\n",
       "      <td>Nuestro cliente es una empresa nac. ubicada en...</td>\n",
       "      <td>1.0</td>\n",
       "      <td>NaN</td>\n",
       "      <td>Jefe / Supervisor / Responsable</td>\n",
       "      <td>Comercial</td>\n",
       "      <td>Capital Federal</td>\n",
       "      <td>Full-time</td>\n",
       "      <td>Asistente Comercial</td>\n",
       "    </tr>\n",
       "    <tr>\n",
       "      <th>3</th>\n",
       "      <td>3</td>\n",
       "      <td>758580</td>\n",
       "      <td>1Q35ej</td>\n",
       "      <td>Posgrado</td>\n",
       "      <td>Graduado</td>\n",
       "      <td>4.0</td>\n",
       "      <td>1949-12-24</td>\n",
       "      <td>MASC</td>\n",
       "      <td>NaN</td>\n",
       "      <td>TeleTech</td>\n",
       "      <td>\\r\\nTeleTech, the worlwide leader in outsource...</td>\n",
       "      <td>1.0</td>\n",
       "      <td>NaN</td>\n",
       "      <td>Otro</td>\n",
       "      <td>Tecnologia / Sistemas</td>\n",
       "      <td>Capital Federal</td>\n",
       "      <td>Full-time</td>\n",
       "      <td>Oracle Financials Sr. Application Developer</td>\n",
       "    </tr>\n",
       "    <tr>\n",
       "      <th>4</th>\n",
       "      <td>4</td>\n",
       "      <td>758580</td>\n",
       "      <td>EAN4J6</td>\n",
       "      <td>Universitario</td>\n",
       "      <td>Abandonado</td>\n",
       "      <td>3.0</td>\n",
       "      <td>1986-05-27</td>\n",
       "      <td>FEM</td>\n",
       "      <td>NaN</td>\n",
       "      <td>TeleTech</td>\n",
       "      <td>\\r\\nTeleTech, the worlwide leader in outsource...</td>\n",
       "      <td>1.0</td>\n",
       "      <td>NaN</td>\n",
       "      <td>Otro</td>\n",
       "      <td>Tecnologia / Sistemas</td>\n",
       "      <td>Capital Federal</td>\n",
       "      <td>Full-time</td>\n",
       "      <td>Oracle Financials Sr. Application Developer</td>\n",
       "    </tr>\n",
       "  </tbody>\n",
       "</table>\n",
       "</div>"
      ],
      "text/plain": [
       "   id  idaviso idpostulante             nombre      estado  nombre_sort  \\\n",
       "0   0   739260       6M9ZQR          Doctorado    Graduado          6.0   \n",
       "1   1   739260       6v1xdL  Terciario/Técnico    Graduado          2.0   \n",
       "2   2   739260       ezRKm9      Universitario    Graduado          3.0   \n",
       "3   3   758580       1Q35ej           Posgrado    Graduado          4.0   \n",
       "4   4   758580       EAN4J6      Universitario  Abandonado          3.0   \n",
       "\n",
       "  fechanacimiento  sexo ciudad   denominacion_empresa  \\\n",
       "0      1976-03-29   FEM    NaN  BUMERAN.COM ARGENTINA   \n",
       "1      1987-06-27  MASC    NaN  BUMERAN.COM ARGENTINA   \n",
       "2      1982-02-17   FEM    NaN  BUMERAN.COM ARGENTINA   \n",
       "3      1949-12-24  MASC    NaN               TeleTech   \n",
       "4      1986-05-27   FEM    NaN               TeleTech   \n",
       "\n",
       "                                         descripcion  idpais mapacalle  \\\n",
       "0  Nuestro cliente es una empresa nac. ubicada en...     1.0       NaN   \n",
       "1  Nuestro cliente es una empresa nac. ubicada en...     1.0       NaN   \n",
       "2  Nuestro cliente es una empresa nac. ubicada en...     1.0       NaN   \n",
       "3  \\r\\nTeleTech, the worlwide leader in outsource...     1.0       NaN   \n",
       "4  \\r\\nTeleTech, the worlwide leader in outsource...     1.0       NaN   \n",
       "\n",
       "                     nivel_laboral            nombre_area      nombre_zona  \\\n",
       "0  Jefe / Supervisor / Responsable              Comercial  Capital Federal   \n",
       "1  Jefe / Supervisor / Responsable              Comercial  Capital Federal   \n",
       "2  Jefe / Supervisor / Responsable              Comercial  Capital Federal   \n",
       "3                             Otro  Tecnologia / Sistemas  Capital Federal   \n",
       "4                             Otro  Tecnologia / Sistemas  Capital Federal   \n",
       "\n",
       "  tipo_de_trabajo                                       titulo  \n",
       "0       Full-time                          Asistente Comercial  \n",
       "1       Full-time                          Asistente Comercial  \n",
       "2       Full-time                          Asistente Comercial  \n",
       "3       Full-time  Oracle Financials Sr. Application Developer  \n",
       "4       Full-time  Oracle Financials Sr. Application Developer  "
      ]
     },
     "execution_count": 5,
     "metadata": {},
     "output_type": "execute_result"
    }
   ],
   "source": [
    "test.head()"
   ]
  },
  {
   "cell_type": "code",
   "execution_count": 5,
   "metadata": {},
   "outputs": [],
   "source": [
    "test_views = pd.read_csv('Data/test/fiuba_3_vistas.csv')"
   ]
  },
  {
   "cell_type": "code",
   "execution_count": 6,
   "metadata": {},
   "outputs": [],
   "source": [
    "test_views['idaviso'] = test_views['idAviso']\n",
    "test_views.drop(columns = ['timestamp','idAviso'],inplace = True)\n",
    "test_views['cantVistas'] = 1\n",
    "test_views = test_views.groupby(['idaviso','idpostulante'],as_index = False)['cantVistas'].sum()"
   ]
  },
  {
   "cell_type": "code",
   "execution_count": 7,
   "metadata": {},
   "outputs": [
    {
     "data": {
      "text/html": [
       "<div>\n",
       "<style scoped>\n",
       "    .dataframe tbody tr th:only-of-type {\n",
       "        vertical-align: middle;\n",
       "    }\n",
       "\n",
       "    .dataframe tbody tr th {\n",
       "        vertical-align: top;\n",
       "    }\n",
       "\n",
       "    .dataframe thead th {\n",
       "        text-align: right;\n",
       "    }\n",
       "</style>\n",
       "<table border=\"1\" class=\"dataframe\">\n",
       "  <thead>\n",
       "    <tr style=\"text-align: right;\">\n",
       "      <th></th>\n",
       "      <th>idaviso</th>\n",
       "      <th>idpostulante</th>\n",
       "      <th>cantVistas</th>\n",
       "    </tr>\n",
       "  </thead>\n",
       "  <tbody>\n",
       "    <tr>\n",
       "      <th>0</th>\n",
       "      <td>18</td>\n",
       "      <td>BolNL</td>\n",
       "      <td>3</td>\n",
       "    </tr>\n",
       "    <tr>\n",
       "      <th>1</th>\n",
       "      <td>48375</td>\n",
       "      <td>RwVdKR</td>\n",
       "      <td>1</td>\n",
       "    </tr>\n",
       "    <tr>\n",
       "      <th>2</th>\n",
       "      <td>169730</td>\n",
       "      <td>1KjXB</td>\n",
       "      <td>2</td>\n",
       "    </tr>\n",
       "    <tr>\n",
       "      <th>3</th>\n",
       "      <td>169730</td>\n",
       "      <td>2AKzxa</td>\n",
       "      <td>2</td>\n",
       "    </tr>\n",
       "    <tr>\n",
       "      <th>4</th>\n",
       "      <td>169730</td>\n",
       "      <td>6LJ64</td>\n",
       "      <td>1</td>\n",
       "    </tr>\n",
       "  </tbody>\n",
       "</table>\n",
       "</div>"
      ],
      "text/plain": [
       "   idaviso idpostulante  cantVistas\n",
       "0       18        BolNL           3\n",
       "1    48375       RwVdKR           1\n",
       "2   169730        1KjXB           2\n",
       "3   169730       2AKzxa           2\n",
       "4   169730        6LJ64           1"
      ]
     },
     "execution_count": 7,
     "metadata": {},
     "output_type": "execute_result"
    }
   ],
   "source": [
    "test_views.head()"
   ]
  },
  {
   "cell_type": "code",
   "execution_count": 8,
   "metadata": {},
   "outputs": [],
   "source": [
    "merge = test_views.merge(test, how = 'right', on = ['idpostulante','idaviso'])"
   ]
  },
  {
   "cell_type": "code",
   "execution_count": 9,
   "metadata": {},
   "outputs": [
    {
     "data": {
      "text/plain": [
       "idaviso                 100000\n",
       "idpostulante            100000\n",
       "cantVistas               34056\n",
       "id                      100000\n",
       "nombre                   94265\n",
       "estado                   94265\n",
       "nombre_sort              94265\n",
       "fechanacimiento          97042\n",
       "sexo                     99998\n",
       "ciudad                     822\n",
       "denominacion_empresa     99970\n",
       "descripcion              99988\n",
       "idpais                   99988\n",
       "mapacalle                10734\n",
       "nivel_laboral            95568\n",
       "nombre_area              99974\n",
       "nombre_zona              99988\n",
       "tipo_de_trabajo          99982\n",
       "titulo                   99988\n",
       "dtype: int64"
      ]
     },
     "execution_count": 9,
     "metadata": {},
     "output_type": "execute_result"
    }
   ],
   "source": [
    "merge.count()"
   ]
  },
  {
   "cell_type": "code",
   "execution_count": 10,
   "metadata": {},
   "outputs": [],
   "source": [
    "#abro el set de vistas viejas para ver si los q faltan estan ahi\n",
    "views = pd.read_csv('DataAnalysis/vistas.csv')"
   ]
  },
  {
   "cell_type": "code",
   "execution_count": 11,
   "metadata": {},
   "outputs": [],
   "source": [
    "merge = views.merge(merge, how = 'right', on = ['idpostulante','idaviso'])"
   ]
  },
  {
   "cell_type": "code",
   "execution_count": 12,
   "metadata": {},
   "outputs": [
    {
     "name": "stderr",
     "output_type": "stream",
     "text": [
      "/usr/local/lib/python3.5/dist-packages/pandas/core/computation/check.py:17: UserWarning: The installed version of numexpr 2.4.3 is not supported in pandas and will be not be used\n",
      "The minimum supported version is 2.4.6\n",
      "\n",
      "  ver=ver, min_ver=_MIN_NUMEXPR_VERSION), UserWarning)\n"
     ]
    }
   ],
   "source": [
    "merge['cantVistas'] = merge['cantVistas_x'] + merge['cantVistas_y']"
   ]
  },
  {
   "cell_type": "code",
   "execution_count": 13,
   "metadata": {},
   "outputs": [],
   "source": [
    "merge.drop(columns = ['cantVistas_x','cantVistas_y'],inplace = True)"
   ]
  },
  {
   "cell_type": "code",
   "execution_count": 14,
   "metadata": {},
   "outputs": [],
   "source": [
    "#todavia no vieron el anuncio\n",
    "merge['cantVistas']=merge['cantVistas'].fillna(0)"
   ]
  },
  {
   "cell_type": "code",
   "execution_count": 15,
   "metadata": {},
   "outputs": [
    {
     "data": {
      "text/plain": [
       "idaviso                 100000\n",
       "idpostulante            100000\n",
       "id                      100000\n",
       "nombre                   94265\n",
       "estado                   94265\n",
       "nombre_sort              94265\n",
       "fechanacimiento          97042\n",
       "sexo                     99998\n",
       "ciudad                     822\n",
       "denominacion_empresa     99970\n",
       "descripcion              99988\n",
       "idpais                   99988\n",
       "mapacalle                10734\n",
       "nivel_laboral            95568\n",
       "nombre_area              99974\n",
       "nombre_zona              99988\n",
       "tipo_de_trabajo          99982\n",
       "titulo                   99988\n",
       "cantVistas              100000\n",
       "dtype: int64"
      ]
     },
     "execution_count": 15,
     "metadata": {},
     "output_type": "execute_result"
    }
   ],
   "source": [
    "merge.count()"
   ]
  },
  {
   "cell_type": "code",
   "execution_count": 16,
   "metadata": {},
   "outputs": [],
   "source": [
    "merge.to_csv('test_vistas.csv',index=False)"
   ]
  },
  {
   "cell_type": "code",
   "execution_count": null,
   "metadata": {},
   "outputs": [],
   "source": []
  }
 ],
 "metadata": {
  "kernelspec": {
   "display_name": "Python 3",
   "language": "python",
   "name": "python3"
  },
  "language_info": {
   "codemirror_mode": {
    "name": "ipython",
    "version": 3
   },
   "file_extension": ".py",
   "mimetype": "text/x-python",
   "name": "python",
   "nbconvert_exporter": "python",
   "pygments_lexer": "ipython3",
   "version": "3.5.2"
  }
 },
 "nbformat": 4,
 "nbformat_minor": 2
}
