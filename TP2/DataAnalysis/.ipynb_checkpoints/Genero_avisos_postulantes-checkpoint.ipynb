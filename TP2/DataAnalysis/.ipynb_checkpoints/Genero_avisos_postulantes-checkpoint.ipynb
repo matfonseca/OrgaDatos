{
 "cells": [
  {
   "cell_type": "code",
   "execution_count": 3,
   "metadata": {},
   "outputs": [],
   "source": [
    "import pandas as pd\n",
    "import numpy as np\n",
    "import matplotlib.pyplot as plt\n",
    "\n",
    "%matplotlib inline\n"
   ]
  },
  {
   "cell_type": "code",
   "execution_count": 4,
   "metadata": {},
   "outputs": [],
   "source": [
    "#Funcion que limpia los datos, quedandose con el nivel de educacion mas alto de casa id de los postulantes.\n",
    "def education_cleaning(df):\n",
    "    education_dic= {'Secundario': 1, 'Universitario':3,'Terciario/Técnico':2, 'Otro':0, 'Posgrado':4, 'Master': 5, 'Doctorado': 6}\n",
    "    df['nombre_sort'] = df['nombre'].map(education_dic)\n",
    "    df = df.sort_values(by='nombre_sort', ascending=False)\n",
    "    df = df.drop_duplicates(subset='idpostulante',keep='first')\n",
    "    return df"
   ]
  },
  {
   "cell_type": "code",
   "execution_count": 6,
   "metadata": {},
   "outputs": [
    {
     "data": {
      "text/html": [
       "<div>\n",
       "<style scoped>\n",
       "    .dataframe tbody tr th:only-of-type {\n",
       "        vertical-align: middle;\n",
       "    }\n",
       "\n",
       "    .dataframe tbody tr th {\n",
       "        vertical-align: top;\n",
       "    }\n",
       "\n",
       "    .dataframe thead th {\n",
       "        text-align: right;\n",
       "    }\n",
       "</style>\n",
       "<table border=\"1\" class=\"dataframe\">\n",
       "  <thead>\n",
       "    <tr style=\"text-align: right;\">\n",
       "      <th></th>\n",
       "      <th>idpostulante</th>\n",
       "      <th>nombre</th>\n",
       "      <th>estado</th>\n",
       "      <th>nombre_sort</th>\n",
       "    </tr>\n",
       "  </thead>\n",
       "  <tbody>\n",
       "    <tr>\n",
       "      <th>236080</th>\n",
       "      <td>4rP6q15</td>\n",
       "      <td>Doctorado</td>\n",
       "      <td>En Curso</td>\n",
       "      <td>6</td>\n",
       "    </tr>\n",
       "    <tr>\n",
       "      <th>89465</th>\n",
       "      <td>akbv6zm</td>\n",
       "      <td>Doctorado</td>\n",
       "      <td>Graduado</td>\n",
       "      <td>6</td>\n",
       "    </tr>\n",
       "    <tr>\n",
       "      <th>4208</th>\n",
       "      <td>EVe2kz</td>\n",
       "      <td>Doctorado</td>\n",
       "      <td>En Curso</td>\n",
       "      <td>6</td>\n",
       "    </tr>\n",
       "    <tr>\n",
       "      <th>93288</th>\n",
       "      <td>xkPqMKa</td>\n",
       "      <td>Doctorado</td>\n",
       "      <td>Graduado</td>\n",
       "      <td>6</td>\n",
       "    </tr>\n",
       "    <tr>\n",
       "      <th>288627</th>\n",
       "      <td>bOj3Mjd</td>\n",
       "      <td>Doctorado</td>\n",
       "      <td>Graduado</td>\n",
       "      <td>6</td>\n",
       "    </tr>\n",
       "  </tbody>\n",
       "</table>\n",
       "</div>"
      ],
      "text/plain": [
       "       idpostulante     nombre    estado  nombre_sort\n",
       "236080      4rP6q15  Doctorado  En Curso            6\n",
       "89465       akbv6zm  Doctorado  Graduado            6\n",
       "4208         EVe2kz  Doctorado  En Curso            6\n",
       "93288       xkPqMKa  Doctorado  Graduado            6\n",
       "288627      bOj3Mjd  Doctorado  Graduado            6"
      ]
     },
     "execution_count": 6,
     "metadata": {},
     "output_type": "execute_result"
    }
   ],
   "source": [
    "#Leyendo los datos\n",
    "#Estos primeros datos son los del tp1\n",
    "data_postulant_education1= pd.read_csv('../Data/datos_navent_fiuba/fiuba_1_postulantes_educacion.csv')\n",
    "data_postulant_education1 =education_cleaning(data_postulant_education1)\n",
    "data_postulant_education1.head()"
   ]
  },
  {
   "cell_type": "code",
   "execution_count": 7,
   "metadata": {},
   "outputs": [
    {
     "data": {
      "text/html": [
       "<div>\n",
       "<style scoped>\n",
       "    .dataframe tbody tr th:only-of-type {\n",
       "        vertical-align: middle;\n",
       "    }\n",
       "\n",
       "    .dataframe tbody tr th {\n",
       "        vertical-align: top;\n",
       "    }\n",
       "\n",
       "    .dataframe thead th {\n",
       "        text-align: right;\n",
       "    }\n",
       "</style>\n",
       "<table border=\"1\" class=\"dataframe\">\n",
       "  <thead>\n",
       "    <tr style=\"text-align: right;\">\n",
       "      <th></th>\n",
       "      <th>idpostulante</th>\n",
       "      <th>fechanacimiento</th>\n",
       "      <th>sexo</th>\n",
       "    </tr>\n",
       "  </thead>\n",
       "  <tbody>\n",
       "    <tr>\n",
       "      <th>0</th>\n",
       "      <td>NM5M</td>\n",
       "      <td>1970-12-03</td>\n",
       "      <td>FEM</td>\n",
       "    </tr>\n",
       "    <tr>\n",
       "      <th>1</th>\n",
       "      <td>5awk</td>\n",
       "      <td>1962-12-04</td>\n",
       "      <td>FEM</td>\n",
       "    </tr>\n",
       "    <tr>\n",
       "      <th>2</th>\n",
       "      <td>ZaO5</td>\n",
       "      <td>1978-08-10</td>\n",
       "      <td>FEM</td>\n",
       "    </tr>\n",
       "    <tr>\n",
       "      <th>3</th>\n",
       "      <td>NdJl</td>\n",
       "      <td>1969-05-09</td>\n",
       "      <td>MASC</td>\n",
       "    </tr>\n",
       "    <tr>\n",
       "      <th>4</th>\n",
       "      <td>eo2p</td>\n",
       "      <td>1981-02-16</td>\n",
       "      <td>MASC</td>\n",
       "    </tr>\n",
       "  </tbody>\n",
       "</table>\n",
       "</div>"
      ],
      "text/plain": [
       "  idpostulante fechanacimiento  sexo\n",
       "0         NM5M      1970-12-03   FEM\n",
       "1         5awk      1962-12-04   FEM\n",
       "2         ZaO5      1978-08-10   FEM\n",
       "3         NdJl      1969-05-09  MASC\n",
       "4         eo2p      1981-02-16  MASC"
      ]
     },
     "execution_count": 7,
     "metadata": {},
     "output_type": "execute_result"
    }
   ],
   "source": [
    "data_postulant_sex_age1= pd.read_csv('../Data/datos_navent_fiuba/fiuba_2_postulantes_genero_y_edad.csv')\n",
    "data_postulant_sex_age1.head()"
   ]
  },
  {
   "cell_type": "code",
   "execution_count": 8,
   "metadata": {},
   "outputs": [
    {
     "data": {
      "text/html": [
       "<div>\n",
       "<style scoped>\n",
       "    .dataframe tbody tr th:only-of-type {\n",
       "        vertical-align: middle;\n",
       "    }\n",
       "\n",
       "    .dataframe tbody tr th {\n",
       "        vertical-align: top;\n",
       "    }\n",
       "\n",
       "    .dataframe thead th {\n",
       "        text-align: right;\n",
       "    }\n",
       "</style>\n",
       "<table border=\"1\" class=\"dataframe\">\n",
       "  <thead>\n",
       "    <tr style=\"text-align: right;\">\n",
       "      <th></th>\n",
       "      <th>idaviso</th>\n",
       "      <th>idpostulante</th>\n",
       "      <th>fechapostulacion</th>\n",
       "    </tr>\n",
       "  </thead>\n",
       "  <tbody>\n",
       "    <tr>\n",
       "      <th>0</th>\n",
       "      <td>1112257047</td>\n",
       "      <td>NM5M</td>\n",
       "      <td>2018-01-15 16:22:34</td>\n",
       "    </tr>\n",
       "    <tr>\n",
       "      <th>1</th>\n",
       "      <td>1111920714</td>\n",
       "      <td>NM5M</td>\n",
       "      <td>2018-02-06 09:04:50</td>\n",
       "    </tr>\n",
       "    <tr>\n",
       "      <th>2</th>\n",
       "      <td>1112346945</td>\n",
       "      <td>NM5M</td>\n",
       "      <td>2018-02-22 09:04:47</td>\n",
       "    </tr>\n",
       "    <tr>\n",
       "      <th>3</th>\n",
       "      <td>1112345547</td>\n",
       "      <td>NM5M</td>\n",
       "      <td>2018-02-22 09:04:59</td>\n",
       "    </tr>\n",
       "    <tr>\n",
       "      <th>4</th>\n",
       "      <td>1112237522</td>\n",
       "      <td>5awk</td>\n",
       "      <td>2018-01-25 18:55:03</td>\n",
       "    </tr>\n",
       "  </tbody>\n",
       "</table>\n",
       "</div>"
      ],
      "text/plain": [
       "      idaviso idpostulante     fechapostulacion\n",
       "0  1112257047         NM5M  2018-01-15 16:22:34\n",
       "1  1111920714         NM5M  2018-02-06 09:04:50\n",
       "2  1112346945         NM5M  2018-02-22 09:04:47\n",
       "3  1112345547         NM5M  2018-02-22 09:04:59\n",
       "4  1112237522         5awk  2018-01-25 18:55:03"
      ]
     },
     "execution_count": 8,
     "metadata": {},
     "output_type": "execute_result"
    }
   ],
   "source": [
    "data_postulation1= pd.read_csv('../Data/datos_navent_fiuba/fiuba_4_postulaciones.csv')\n",
    "data_postulation1.head()"
   ]
  },
  {
   "cell_type": "code",
   "execution_count": 21,
   "metadata": {},
   "outputs": [
    {
     "data": {
      "text/html": [
       "<div>\n",
       "<style scoped>\n",
       "    .dataframe tbody tr th:only-of-type {\n",
       "        vertical-align: middle;\n",
       "    }\n",
       "\n",
       "    .dataframe tbody tr th {\n",
       "        vertical-align: top;\n",
       "    }\n",
       "\n",
       "    .dataframe thead th {\n",
       "        text-align: right;\n",
       "    }\n",
       "</style>\n",
       "<table border=\"1\" class=\"dataframe\">\n",
       "  <thead>\n",
       "    <tr style=\"text-align: right;\">\n",
       "      <th></th>\n",
       "      <th>idaviso</th>\n",
       "      <th>idpais</th>\n",
       "      <th>titulo</th>\n",
       "      <th>descripcion</th>\n",
       "      <th>nombre_zona</th>\n",
       "      <th>ciudad</th>\n",
       "      <th>mapacalle</th>\n",
       "      <th>tipo_de_trabajo</th>\n",
       "      <th>nivel_laboral</th>\n",
       "      <th>nombre_area</th>\n",
       "      <th>denominacion_empresa</th>\n",
       "    </tr>\n",
       "  </thead>\n",
       "  <tbody>\n",
       "    <tr>\n",
       "      <th>2266</th>\n",
       "      <td>1112348501</td>\n",
       "      <td>1</td>\n",
       "      <td>Agente de Viajes - Contact Center</td>\n",
       "      <td>&lt;p&gt;En Garbarino Viajes nos encontramos en la b...</td>\n",
       "      <td>Gran Buenos Aires</td>\n",
       "      <td>NaN</td>\n",
       "      <td>NaN</td>\n",
       "      <td>Full-time</td>\n",
       "      <td>Senior / Semi-Senior</td>\n",
       "      <td>Ventas</td>\n",
       "      <td>GARBARINO VIAJES S.A.</td>\n",
       "    </tr>\n",
       "    <tr>\n",
       "      <th>10942</th>\n",
       "      <td>1111415036</td>\n",
       "      <td>1</td>\n",
       "      <td>Empleados de Jardinería - PRESENTARSE MARTES 2...</td>\n",
       "      <td>&lt;p&gt;Importante Empresa vinculada con la constru...</td>\n",
       "      <td>Gran Buenos Aires</td>\n",
       "      <td>NaN</td>\n",
       "      <td>NaN</td>\n",
       "      <td>Full-time</td>\n",
       "      <td>Junior</td>\n",
       "      <td>Comercial</td>\n",
       "      <td>Suministra</td>\n",
       "    </tr>\n",
       "    <tr>\n",
       "      <th>198</th>\n",
       "      <td>1111895422</td>\n",
       "      <td>1</td>\n",
       "      <td>Secretaria Administrativa/Ejecutiva RE/MAX Med...</td>\n",
       "      <td>&lt;p&gt;Para &lt;strong&gt;PLAN PPP 2017&lt;/strong&gt; Córdoba...</td>\n",
       "      <td>Gran Buenos Aires</td>\n",
       "      <td>NaN</td>\n",
       "      <td>NaN</td>\n",
       "      <td>Full-time</td>\n",
       "      <td>Senior / Semi-Senior</td>\n",
       "      <td>Secretaria</td>\n",
       "      <td>Mediterranea IV SRL</td>\n",
       "    </tr>\n",
       "    <tr>\n",
       "      <th>4132</th>\n",
       "      <td>1112293815</td>\n",
       "      <td>1</td>\n",
       "      <td>OFICIAL COMERCIO EXTERIOR Ssr.</td>\n",
       "      <td>&lt;p style=\"\"&gt;Orientamos nuestra búsqueda a estu...</td>\n",
       "      <td>Gran Buenos Aires</td>\n",
       "      <td>NaN</td>\n",
       "      <td>NaN</td>\n",
       "      <td>Full-time</td>\n",
       "      <td>Senior / Semi-Senior</td>\n",
       "      <td>Ventas Internacionales/Exportación</td>\n",
       "      <td>BBVA Francés</td>\n",
       "    </tr>\n",
       "    <tr>\n",
       "      <th>1318</th>\n",
       "      <td>1112279501</td>\n",
       "      <td>1</td>\n",
       "      <td>Analista Jr de Back Office (Eventual)</td>\n",
       "      <td>&lt;p&gt;&lt;em&gt;En &lt;u&gt;CMR&lt;/u&gt; nos apasionamos por nuest...</td>\n",
       "      <td>Gran Buenos Aires</td>\n",
       "      <td>NaN</td>\n",
       "      <td>NaN</td>\n",
       "      <td>Full-time</td>\n",
       "      <td>Junior</td>\n",
       "      <td>Atención al Cliente</td>\n",
       "      <td>FALABELLA S.A.</td>\n",
       "    </tr>\n",
       "  </tbody>\n",
       "</table>\n",
       "</div>"
      ],
      "text/plain": [
       "          idaviso  idpais                                             titulo  \\\n",
       "2266   1112348501       1                  Agente de Viajes - Contact Center   \n",
       "10942  1111415036       1  Empleados de Jardinería - PRESENTARSE MARTES 2...   \n",
       "198    1111895422       1  Secretaria Administrativa/Ejecutiva RE/MAX Med...   \n",
       "4132   1112293815       1                     OFICIAL COMERCIO EXTERIOR Ssr.   \n",
       "1318   1112279501       1              Analista Jr de Back Office (Eventual)   \n",
       "\n",
       "                                             descripcion        nombre_zona  \\\n",
       "2266   <p>En Garbarino Viajes nos encontramos en la b...  Gran Buenos Aires   \n",
       "10942  <p>Importante Empresa vinculada con la constru...  Gran Buenos Aires   \n",
       "198    <p>Para <strong>PLAN PPP 2017</strong> Córdoba...  Gran Buenos Aires   \n",
       "4132   <p style=\"\">Orientamos nuestra búsqueda a estu...  Gran Buenos Aires   \n",
       "1318   <p><em>En <u>CMR</u> nos apasionamos por nuest...  Gran Buenos Aires   \n",
       "\n",
       "      ciudad mapacalle tipo_de_trabajo         nivel_laboral  \\\n",
       "2266     NaN       NaN       Full-time  Senior / Semi-Senior   \n",
       "10942    NaN       NaN       Full-time                Junior   \n",
       "198      NaN       NaN       Full-time  Senior / Semi-Senior   \n",
       "4132     NaN       NaN       Full-time  Senior / Semi-Senior   \n",
       "1318     NaN       NaN       Full-time                Junior   \n",
       "\n",
       "                              nombre_area   denominacion_empresa  \n",
       "2266                               Ventas  GARBARINO VIAJES S.A.  \n",
       "10942                           Comercial             Suministra  \n",
       "198                            Secretaria    Mediterranea IV SRL  \n",
       "4132   Ventas Internacionales/Exportación           BBVA Francés  \n",
       "1318                  Atención al Cliente         FALABELLA S.A.  "
      ]
     },
     "execution_count": 21,
     "metadata": {},
     "output_type": "execute_result"
    }
   ],
   "source": [
    "data_ads_details1= pd.read_csv('../Data/datos_navent_fiuba/fiuba_6_avisos_detalle.csv')\n",
    "data_ads_details1.sample(5)"
   ]
  },
  {
   "cell_type": "code",
   "execution_count": 10,
   "metadata": {},
   "outputs": [
    {
     "data": {
      "text/plain": [
       "idaviso                 13534\n",
       "idpais                  13534\n",
       "titulo                  13534\n",
       "descripcion             13534\n",
       "nombre_zona             13534\n",
       "ciudad                     47\n",
       "mapacalle                 872\n",
       "tipo_de_trabajo         13534\n",
       "nivel_laboral           13534\n",
       "nombre_area             13534\n",
       "denominacion_empresa    13529\n",
       "dtype: int64"
      ]
     },
     "execution_count": 10,
     "metadata": {},
     "output_type": "execute_result"
    }
   ],
   "source": [
    "data_ads_details1.count()"
   ]
  },
  {
   "cell_type": "code",
   "execution_count": 10,
   "metadata": {},
   "outputs": [
    {
     "data": {
      "text/html": [
       "<div>\n",
       "<style scoped>\n",
       "    .dataframe tbody tr th:only-of-type {\n",
       "        vertical-align: middle;\n",
       "    }\n",
       "\n",
       "    .dataframe tbody tr th {\n",
       "        vertical-align: top;\n",
       "    }\n",
       "\n",
       "    .dataframe thead th {\n",
       "        text-align: right;\n",
       "    }\n",
       "</style>\n",
       "<table border=\"1\" class=\"dataframe\">\n",
       "  <thead>\n",
       "    <tr style=\"text-align: right;\">\n",
       "      <th></th>\n",
       "      <th>idpostulante</th>\n",
       "      <th>nombre</th>\n",
       "      <th>estado</th>\n",
       "      <th>nombre_sort</th>\n",
       "    </tr>\n",
       "  </thead>\n",
       "  <tbody>\n",
       "    <tr>\n",
       "      <th>217119</th>\n",
       "      <td>akbv6zm</td>\n",
       "      <td>Doctorado</td>\n",
       "      <td>Graduado</td>\n",
       "      <td>6</td>\n",
       "    </tr>\n",
       "    <tr>\n",
       "      <th>390062</th>\n",
       "      <td>lDLA18M</td>\n",
       "      <td>Doctorado</td>\n",
       "      <td>En Curso</td>\n",
       "      <td>6</td>\n",
       "    </tr>\n",
       "    <tr>\n",
       "      <th>372347</th>\n",
       "      <td>3NP3LNP</td>\n",
       "      <td>Doctorado</td>\n",
       "      <td>Graduado</td>\n",
       "      <td>6</td>\n",
       "    </tr>\n",
       "    <tr>\n",
       "      <th>323715</th>\n",
       "      <td>5mrlM6G</td>\n",
       "      <td>Doctorado</td>\n",
       "      <td>En Curso</td>\n",
       "      <td>6</td>\n",
       "    </tr>\n",
       "    <tr>\n",
       "      <th>397012</th>\n",
       "      <td>5RG43q</td>\n",
       "      <td>Doctorado</td>\n",
       "      <td>En Curso</td>\n",
       "      <td>6</td>\n",
       "    </tr>\n",
       "  </tbody>\n",
       "</table>\n",
       "</div>"
      ],
      "text/plain": [
       "       idpostulante     nombre    estado  nombre_sort\n",
       "217119      akbv6zm  Doctorado  Graduado            6\n",
       "390062      lDLA18M  Doctorado  En Curso            6\n",
       "372347      3NP3LNP  Doctorado  Graduado            6\n",
       "323715      5mrlM6G  Doctorado  En Curso            6\n",
       "397012       5RG43q  Doctorado  En Curso            6"
      ]
     },
     "execution_count": 10,
     "metadata": {},
     "output_type": "execute_result"
    }
   ],
   "source": [
    "#Datos hasta el 15 de abril\n",
    "data_postulant_education2= pd.read_csv('../Data/Hasta15Abril/fiuba_1_postulantes_educacion.csv')\n",
    "data_postulant_education2 =education_cleaning(data_postulant_education2)\n",
    "data_postulant_education2.head()"
   ]
  },
  {
   "cell_type": "code",
   "execution_count": 11,
   "metadata": {},
   "outputs": [],
   "source": [
    "data_postulant_sex_age2= pd.read_csv('../Data/Hasta15Abril/fiuba_2_postulantes_genero_y_edad.csv')"
   ]
  },
  {
   "cell_type": "code",
   "execution_count": 12,
   "metadata": {},
   "outputs": [
    {
     "data": {
      "text/html": [
       "<div>\n",
       "<style scoped>\n",
       "    .dataframe tbody tr th:only-of-type {\n",
       "        vertical-align: middle;\n",
       "    }\n",
       "\n",
       "    .dataframe tbody tr th {\n",
       "        vertical-align: top;\n",
       "    }\n",
       "\n",
       "    .dataframe thead th {\n",
       "        text-align: right;\n",
       "    }\n",
       "</style>\n",
       "<table border=\"1\" class=\"dataframe\">\n",
       "  <thead>\n",
       "    <tr style=\"text-align: right;\">\n",
       "      <th></th>\n",
       "      <th>idaviso</th>\n",
       "      <th>idpostulante</th>\n",
       "      <th>fechapostulacion</th>\n",
       "    </tr>\n",
       "  </thead>\n",
       "  <tbody>\n",
       "    <tr>\n",
       "      <th>0</th>\n",
       "      <td>1112248724</td>\n",
       "      <td>NjlD</td>\n",
       "      <td>2018-01-19 07:39:16</td>\n",
       "    </tr>\n",
       "    <tr>\n",
       "      <th>1</th>\n",
       "      <td>1112286523</td>\n",
       "      <td>ZaO5</td>\n",
       "      <td>2018-01-24 15:07:39</td>\n",
       "    </tr>\n",
       "    <tr>\n",
       "      <th>2</th>\n",
       "      <td>1112272060</td>\n",
       "      <td>ZaO5</td>\n",
       "      <td>2018-01-24 15:20:10</td>\n",
       "    </tr>\n",
       "    <tr>\n",
       "      <th>3</th>\n",
       "      <td>1112288401</td>\n",
       "      <td>ZaO5</td>\n",
       "      <td>2018-01-26 08:37:04</td>\n",
       "    </tr>\n",
       "    <tr>\n",
       "      <th>4</th>\n",
       "      <td>1112300563</td>\n",
       "      <td>ZaO5</td>\n",
       "      <td>2018-01-30 13:35:48</td>\n",
       "    </tr>\n",
       "  </tbody>\n",
       "</table>\n",
       "</div>"
      ],
      "text/plain": [
       "      idaviso idpostulante     fechapostulacion\n",
       "0  1112248724         NjlD  2018-01-19 07:39:16\n",
       "1  1112286523         ZaO5  2018-01-24 15:07:39\n",
       "2  1112272060         ZaO5  2018-01-24 15:20:10\n",
       "3  1112288401         ZaO5  2018-01-26 08:37:04\n",
       "4  1112300563         ZaO5  2018-01-30 13:35:48"
      ]
     },
     "execution_count": 12,
     "metadata": {},
     "output_type": "execute_result"
    }
   ],
   "source": [
    "data_postulation2= pd.read_csv('../Data/Hasta15Abril/fiuba_4_postulaciones.csv')\n",
    "data_postulation2.head()"
   ]
  },
  {
   "cell_type": "code",
   "execution_count": 22,
   "metadata": {
    "scrolled": true
   },
   "outputs": [
    {
     "data": {
      "text/html": [
       "<div>\n",
       "<style scoped>\n",
       "    .dataframe tbody tr th:only-of-type {\n",
       "        vertical-align: middle;\n",
       "    }\n",
       "\n",
       "    .dataframe tbody tr th {\n",
       "        vertical-align: top;\n",
       "    }\n",
       "\n",
       "    .dataframe thead th {\n",
       "        text-align: right;\n",
       "    }\n",
       "</style>\n",
       "<table border=\"1\" class=\"dataframe\">\n",
       "  <thead>\n",
       "    <tr style=\"text-align: right;\">\n",
       "      <th></th>\n",
       "      <th>idaviso</th>\n",
       "      <th>idpais</th>\n",
       "      <th>titulo</th>\n",
       "      <th>descripcion</th>\n",
       "      <th>nombre_zona</th>\n",
       "      <th>ciudad</th>\n",
       "      <th>mapacalle</th>\n",
       "      <th>tipo_de_trabajo</th>\n",
       "      <th>nivel_laboral</th>\n",
       "      <th>nombre_area</th>\n",
       "      <th>denominacion_empresa</th>\n",
       "    </tr>\n",
       "  </thead>\n",
       "  <tbody>\n",
       "    <tr>\n",
       "      <th>0</th>\n",
       "      <td>1111556097</td>\n",
       "      <td>1</td>\n",
       "      <td>Responsable de Marketing-Producto Div. Constru...</td>\n",
       "      <td>&lt;p&gt;Buscamos un &lt;strong&gt;Responsable de Producto...</td>\n",
       "      <td>Gran Buenos Aires</td>\n",
       "      <td>NaN</td>\n",
       "      <td>NaN</td>\n",
       "      <td>Full-time</td>\n",
       "      <td>Senior / Semi-Senior</td>\n",
       "      <td>Desarrollo de Negocios</td>\n",
       "      <td>Sinteplast S.A.</td>\n",
       "    </tr>\n",
       "    <tr>\n",
       "      <th>1</th>\n",
       "      <td>1111949392</td>\n",
       "      <td>1</td>\n",
       "      <td>Asesor de Servicios - Postventa Chevrolet</td>\n",
       "      <td>&lt;p&gt;&lt;span style=\"\"&gt;Para nuestro cliente, conces...</td>\n",
       "      <td>Gran Buenos Aires</td>\n",
       "      <td>NaN</td>\n",
       "      <td>NaN</td>\n",
       "      <td>Full-time</td>\n",
       "      <td>Senior / Semi-Senior</td>\n",
       "      <td>Ingeniería  Eléctrica y Electrónica</td>\n",
       "      <td>Roycan</td>\n",
       "    </tr>\n",
       "    <tr>\n",
       "      <th>2</th>\n",
       "      <td>1112145935</td>\n",
       "      <td>1</td>\n",
       "      <td>Analistas de Impuestos Sr Ssr y Jr</td>\n",
       "      <td>&lt;p&gt;Importante Estudio de Auditoria y Consultor...</td>\n",
       "      <td>Gran Buenos Aires</td>\n",
       "      <td>NaN</td>\n",
       "      <td>NaN</td>\n",
       "      <td>Full-time</td>\n",
       "      <td>Senior / Semi-Senior</td>\n",
       "      <td>Impuestos</td>\n",
       "      <td>Lighthouse Smart</td>\n",
       "    </tr>\n",
       "    <tr>\n",
       "      <th>3</th>\n",
       "      <td>1112146010</td>\n",
       "      <td>1</td>\n",
       "      <td>Software Engineer</td>\n",
       "      <td>&lt;p&gt; &lt;/p&gt;&lt;p&gt;Chevron is a multinational company ...</td>\n",
       "      <td>Gran Buenos Aires</td>\n",
       "      <td>NaN</td>\n",
       "      <td>NaN</td>\n",
       "      <td>Full-time</td>\n",
       "      <td>Senior / Semi-Senior</td>\n",
       "      <td>Programación</td>\n",
       "      <td>Chevron Buenos Aires Shared Services Center</td>\n",
       "    </tr>\n",
       "    <tr>\n",
       "      <th>4</th>\n",
       "      <td>1112211475</td>\n",
       "      <td>1</td>\n",
       "      <td>Business Developer Manager</td>\n",
       "      <td>&lt;p&gt;Importante empresa de energías renovables, ...</td>\n",
       "      <td>Gran Buenos Aires</td>\n",
       "      <td>NaN</td>\n",
       "      <td>NaN</td>\n",
       "      <td>Full-time</td>\n",
       "      <td>Senior / Semi-Senior</td>\n",
       "      <td>Comercial</td>\n",
       "      <td>RANDSTAD</td>\n",
       "    </tr>\n",
       "  </tbody>\n",
       "</table>\n",
       "</div>"
      ],
      "text/plain": [
       "      idaviso  idpais                                             titulo  \\\n",
       "0  1111556097       1  Responsable de Marketing-Producto Div. Constru...   \n",
       "1  1111949392       1          Asesor de Servicios - Postventa Chevrolet   \n",
       "2  1112145935       1                 Analistas de Impuestos Sr Ssr y Jr   \n",
       "3  1112146010       1                                  Software Engineer   \n",
       "4  1112211475       1                         Business Developer Manager   \n",
       "\n",
       "                                         descripcion        nombre_zona  \\\n",
       "0  <p>Buscamos un <strong>Responsable de Producto...  Gran Buenos Aires   \n",
       "1  <p><span style=\"\">Para nuestro cliente, conces...  Gran Buenos Aires   \n",
       "2  <p>Importante Estudio de Auditoria y Consultor...  Gran Buenos Aires   \n",
       "3  <p> </p><p>Chevron is a multinational company ...  Gran Buenos Aires   \n",
       "4  <p>Importante empresa de energías renovables, ...  Gran Buenos Aires   \n",
       "\n",
       "  ciudad mapacalle tipo_de_trabajo         nivel_laboral  \\\n",
       "0    NaN       NaN       Full-time  Senior / Semi-Senior   \n",
       "1    NaN       NaN       Full-time  Senior / Semi-Senior   \n",
       "2    NaN       NaN       Full-time  Senior / Semi-Senior   \n",
       "3    NaN       NaN       Full-time  Senior / Semi-Senior   \n",
       "4    NaN       NaN       Full-time  Senior / Semi-Senior   \n",
       "\n",
       "                           nombre_area  \\\n",
       "0               Desarrollo de Negocios   \n",
       "1  Ingeniería  Eléctrica y Electrónica   \n",
       "2                            Impuestos   \n",
       "3                         Programación   \n",
       "4                            Comercial   \n",
       "\n",
       "                          denominacion_empresa  \n",
       "0                              Sinteplast S.A.  \n",
       "1                                       Roycan  \n",
       "2                             Lighthouse Smart  \n",
       "3  Chevron Buenos Aires Shared Services Center  \n",
       "4                                     RANDSTAD  "
      ]
     },
     "execution_count": 22,
     "metadata": {},
     "output_type": "execute_result"
    }
   ],
   "source": [
    "data_ads_details2= pd.read_csv('../Data/Hasta15Abril/fiuba_6_avisos_detalle.csv')\n",
    "data_ads_details2.head()"
   ]
  },
  {
   "cell_type": "code",
   "execution_count": 14,
   "metadata": {},
   "outputs": [],
   "source": [
    "#Concateno los dos periodos de postulaciones\n",
    "frames_postulation = [data_postulation1,data_postulation2]\n",
    "data_postulation = pd.concat(frames_postulation, ignore_index = True)\n",
    "data_postulation.drop_duplicates(inplace = True, keep = 'first')\n",
    "data_postulation.reset_index(drop=True, inplace = True)"
   ]
  },
  {
   "cell_type": "code",
   "execution_count": 25,
   "metadata": {},
   "outputs": [
    {
     "data": {
      "text/plain": [
       "idaviso             6604534\n",
       "idpostulante        6604534\n",
       "fechapostulacion    6604534\n",
       "dtype: int64"
      ]
     },
     "execution_count": 25,
     "metadata": {},
     "output_type": "execute_result"
    }
   ],
   "source": [
    "data_postulation.count()"
   ]
  },
  {
   "cell_type": "code",
   "execution_count": 24,
   "metadata": {},
   "outputs": [],
   "source": [
    "#Concateno los avisos de ambos periodos y lo paso a un csv\n",
    "columns = ['descripcion','ciudad','mapacalle','denominacion_empresa']\n",
    "data_ads_details1 = data_ads_details1.drop(columns,axis = 1)\n",
    "data_ads_details2 = data_ads_details2.drop(columns,axis = 1)\n",
    "frames_details = [data_ads_details1,data_ads_details2]\n",
    "data_ads_details = pd.concat(frames_details, ignore_index = True)\n",
    "data_ads_details.drop_duplicates(inplace = True, keep = 'first')\n",
    "data_ads_details.reset_index(drop=True, inplace = True)\n",
    "data_ads_details.to_csv(\"avisos.csv\", index=False)"
   ]
  },
  {
   "cell_type": "code",
   "execution_count": 25,
   "metadata": {},
   "outputs": [],
   "source": [
    "#Concateno los dos de educacion\n",
    "frames_education = [data_postulant_education1,data_postulant_education2]\n",
    "data_postulant_education = pd.concat(frames_education, ignore_index = True)\n",
    "data_postulant_education.drop_duplicates(inplace = True, keep = 'first',subset = 'idpostulante')\n",
    "data_postulant_education.reset_index(drop=True, inplace = True)"
   ]
  },
  {
   "cell_type": "code",
   "execution_count": 26,
   "metadata": {},
   "outputs": [],
   "source": [
    "#Concateno los dos de sex_age\n",
    "frames_sexAge = [data_postulant_sex_age1,data_postulant_sex_age2]\n",
    "data_postulant_sex_age = pd.concat(frames_sexAge,ignore_index = True)\n",
    "data_postulant_sex_age.drop_duplicates(inplace = True, keep = 'first', subset = 'idpostulante')\n",
    "data_postulant_sex_age.reset_index(drop=True, inplace = True)"
   ]
  },
  {
   "cell_type": "code",
   "execution_count": 28,
   "metadata": {},
   "outputs": [],
   "source": [
    "#Mergeo los data frames sobre la informacion de edad y sexo y educacion del postulante del postulante con \n",
    "# Y lo paso a un csv\n",
    "merge_postulants_info = data_postulant_education.merge(data_postulant_sex_age,how = 'right',on = 'idpostulante')\n",
    "merge_postulants_info.to_csv(\"postulantes.csv\", index=False)"
   ]
  },
  {
   "cell_type": "code",
   "execution_count": 29,
   "metadata": {},
   "outputs": [
    {
     "data": {
      "text/plain": [
       "idpostulante       408146\n",
       "nombre             366395\n",
       "estado             366395\n",
       "nombre_sort        366395\n",
       "fechanacimiento    388502\n",
       "sexo               408146\n",
       "dtype: int64"
      ]
     },
     "execution_count": 29,
     "metadata": {},
     "output_type": "execute_result"
    }
   ],
   "source": [
    "\n",
    "merge_postulants_info.count()"
   ]
  },
  {
   "cell_type": "code",
   "execution_count": 32,
   "metadata": {},
   "outputs": [],
   "source": [
    "#Me quedo con los usuarios que se postularon, junto con su educacion y su sexo y edad.\n",
    "postulants_with_sex = pd.merge(data_postulation,data_postulant_sex_age, how = 'left', on = 'idpostulante')\n",
    "postulants_sex_education = pd.merge(postulants_with_sex,data_postulant_education, how = 'left', on = 'idpostulante')\n"
   ]
  },
  {
   "cell_type": "code",
   "execution_count": 33,
   "metadata": {},
   "outputs": [],
   "source": [
    "postulants_sex_education.to_csv(\"postulantes3.csv\", index=False)\n"
   ]
  },
  {
   "cell_type": "code",
   "execution_count": 35,
   "metadata": {},
   "outputs": [
    {
     "data": {
      "text/plain": [
       "idaviso             6604534\n",
       "idpostulante        6604534\n",
       "fechapostulacion    6604534\n",
       "fechanacimiento     6500023\n",
       "sexo                6604534\n",
       "nombre              6393944\n",
       "estado              6393944\n",
       "nombre_sort         6393944\n",
       "dtype: int64"
      ]
     },
     "execution_count": 35,
     "metadata": {},
     "output_type": "execute_result"
    }
   ],
   "source": [
    "postulants_sex_education.count()"
   ]
  },
  {
   "cell_type": "code",
   "execution_count": null,
   "metadata": {},
   "outputs": [],
   "source": []
  },
  {
   "cell_type": "code",
   "execution_count": 30,
   "metadata": {},
   "outputs": [],
   "source": [
    "# Mergeo los datos de los postulantes con los avisos y lo paso a un csv\n",
    "merge_postulants_ads = merge_postulants_info.merge(data_postulation,on = 'idpostulante')\n",
    "merge_postulants_ads = merge_postulants_ads.merge(data_ads_details,on = 'idaviso')\n",
    "merge_postulants_ads.to_csv(\"avisos_postulantes.csv\", index=False)"
   ]
  },
  {
   "cell_type": "code",
   "execution_count": 31,
   "metadata": {},
   "outputs": [
    {
     "data": {
      "text/plain": [
       "idpostulante        6121152\n",
       "nombre              5928456\n",
       "estado              5928456\n",
       "nombre_sort         5928456\n",
       "fechanacimiento     6024533\n",
       "sexo                6121152\n",
       "idaviso             6121152\n",
       "fechapostulacion    6121152\n",
       "idpais              6121152\n",
       "titulo              6121152\n",
       "nombre_zona         6121152\n",
       "tipo_de_trabajo     6121152\n",
       "nivel_laboral       6121152\n",
       "nombre_area         6121152\n",
       "dtype: int64"
      ]
     },
     "execution_count": 31,
     "metadata": {},
     "output_type": "execute_result"
    }
   ],
   "source": [
    "merge_postulants_ads.count()"
   ]
  },
  {
   "cell_type": "code",
   "execution_count": null,
   "metadata": {},
   "outputs": [],
   "source": []
  }
 ],
 "metadata": {
  "kernelspec": {
   "display_name": "Python 3",
   "language": "python",
   "name": "python3"
  },
  "language_info": {
   "codemirror_mode": {
    "name": "ipython",
    "version": 3
   },
   "file_extension": ".py",
   "mimetype": "text/x-python",
   "name": "python",
   "nbconvert_exporter": "python",
   "pygments_lexer": "ipython3",
   "version": "3.5.2"
  }
 },
 "nbformat": 4,
 "nbformat_minor": 2
}
