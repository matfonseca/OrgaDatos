{
 "cells": [
  {
   "cell_type": "code",
   "execution_count": 1,
   "metadata": {},
   "outputs": [],
   "source": [
    "import pandas as pd\n",
    "import numpy as np\n",
    "import matplotlib.pyplot as plt\n",
    "import random\n",
    "\n",
    "%matplotlib inline"
   ]
  },
  {
   "cell_type": "code",
   "execution_count": 2,
   "metadata": {},
   "outputs": [],
   "source": [
    "#Funcion que pasa a formato datetime las fechas que recibimos.\n",
    "def datetime(date,format_string):\n",
    "    return pd.to_datetime(date,format= format_string,errors='coerce')"
   ]
  },
  {
   "cell_type": "code",
   "execution_count": 3,
   "metadata": {},
   "outputs": [],
   "source": [
    "#Funcion que limpia los datos, quedandose con el nivel de educacion mas alto de casa id de los postulantes.\n",
    "def education_cleaning(df):\n",
    "    education_dic= {'Secundario': 1, 'Universitario':3,'Terciario/Técnico':2, 'Otro':0, 'Posgrado':4, 'Master': 5, 'Doctorado': 6}\n",
    "    df['nombre'] = df['nombre'].map(education_dic)\n",
    "    df = df.sort_values(by='nombre', ascending=False)\n",
    "    df = df.drop_duplicates(subset='idpostulante',keep='first')\n",
    "    return df"
   ]
  },
  {
   "cell_type": "code",
   "execution_count": 4,
   "metadata": {},
   "outputs": [],
   "source": [
    "def generar_falsos():\n",
    "    df = pd.DataFrame(np.random.randint(low=0, high=10, size=(80000, 6)),columns=['idpostulante','nombre','estado','fechanacimiento','sexo','sePostulo'])\n",
    "    df['idpostulante'] = df['idpostulante'].map(lambda x: random.randint(3299593,3305593))\n",
    "    df['nombre'] = df['nombre'].map(lambda x: np.random.randint(0,6))\n",
    "    df['estado'] = df['estado'].map(lambda x: np.random.randint(1,2))\n",
    "    df['fechanacimiento'] = df['fechanacimiento'].map(lambda x: np.random.randint(18,75))\n",
    "    df['sexo'] = df['sexo'].map(lambda x: np.random.randint(1,3))\n",
    "    df['sePostulo'] = 0\n",
    "    return df"
   ]
  },
  {
   "cell_type": "code",
   "execution_count": 5,
   "metadata": {},
   "outputs": [
    {
     "data": {
      "text/html": [
       "<div>\n",
       "<style scoped>\n",
       "    .dataframe tbody tr th:only-of-type {\n",
       "        vertical-align: middle;\n",
       "    }\n",
       "\n",
       "    .dataframe tbody tr th {\n",
       "        vertical-align: top;\n",
       "    }\n",
       "\n",
       "    .dataframe thead th {\n",
       "        text-align: right;\n",
       "    }\n",
       "</style>\n",
       "<table border=\"1\" class=\"dataframe\">\n",
       "  <thead>\n",
       "    <tr style=\"text-align: right;\">\n",
       "      <th></th>\n",
       "      <th>idpostulante</th>\n",
       "      <th>nombre</th>\n",
       "      <th>estado</th>\n",
       "    </tr>\n",
       "  </thead>\n",
       "  <tbody>\n",
       "    <tr>\n",
       "      <th>0</th>\n",
       "      <td>NdJl</td>\n",
       "      <td>Posgrado</td>\n",
       "      <td>En Curso</td>\n",
       "    </tr>\n",
       "    <tr>\n",
       "      <th>1</th>\n",
       "      <td>8BkL</td>\n",
       "      <td>Universitario</td>\n",
       "      <td>En Curso</td>\n",
       "    </tr>\n",
       "    <tr>\n",
       "      <th>2</th>\n",
       "      <td>1d2B</td>\n",
       "      <td>Universitario</td>\n",
       "      <td>En Curso</td>\n",
       "    </tr>\n",
       "    <tr>\n",
       "      <th>3</th>\n",
       "      <td>NPBx</td>\n",
       "      <td>Universitario</td>\n",
       "      <td>En Curso</td>\n",
       "    </tr>\n",
       "    <tr>\n",
       "      <th>4</th>\n",
       "      <td>NPBx</td>\n",
       "      <td>Master</td>\n",
       "      <td>En Curso</td>\n",
       "    </tr>\n",
       "  </tbody>\n",
       "</table>\n",
       "</div>"
      ],
      "text/plain": [
       "  idpostulante         nombre    estado\n",
       "0         NdJl       Posgrado  En Curso\n",
       "1         8BkL  Universitario  En Curso\n",
       "2         1d2B  Universitario  En Curso\n",
       "3         NPBx  Universitario  En Curso\n",
       "4         NPBx         Master  En Curso"
      ]
     },
     "execution_count": 5,
     "metadata": {},
     "output_type": "execute_result"
    }
   ],
   "source": [
    "data_postulant_education= pd.read_csv('datos_navent_fiuba/fiuba_1_postulantes_educacion.csv')\n",
    "data_postulant_education.head()"
   ]
  },
  {
   "cell_type": "code",
   "execution_count": 6,
   "metadata": {},
   "outputs": [
    {
     "data": {
      "text/html": [
       "<div>\n",
       "<style scoped>\n",
       "    .dataframe tbody tr th:only-of-type {\n",
       "        vertical-align: middle;\n",
       "    }\n",
       "\n",
       "    .dataframe tbody tr th {\n",
       "        vertical-align: top;\n",
       "    }\n",
       "\n",
       "    .dataframe thead th {\n",
       "        text-align: right;\n",
       "    }\n",
       "</style>\n",
       "<table border=\"1\" class=\"dataframe\">\n",
       "  <thead>\n",
       "    <tr style=\"text-align: right;\">\n",
       "      <th></th>\n",
       "      <th>idaviso</th>\n",
       "      <th>idpostulante</th>\n",
       "      <th>fechapostulacion</th>\n",
       "    </tr>\n",
       "  </thead>\n",
       "  <tbody>\n",
       "    <tr>\n",
       "      <th>0</th>\n",
       "      <td>1112257047</td>\n",
       "      <td>NM5M</td>\n",
       "      <td>2018-01-15 16:22:34</td>\n",
       "    </tr>\n",
       "    <tr>\n",
       "      <th>1</th>\n",
       "      <td>1111920714</td>\n",
       "      <td>NM5M</td>\n",
       "      <td>2018-02-06 09:04:50</td>\n",
       "    </tr>\n",
       "    <tr>\n",
       "      <th>2</th>\n",
       "      <td>1112346945</td>\n",
       "      <td>NM5M</td>\n",
       "      <td>2018-02-22 09:04:47</td>\n",
       "    </tr>\n",
       "    <tr>\n",
       "      <th>3</th>\n",
       "      <td>1112345547</td>\n",
       "      <td>NM5M</td>\n",
       "      <td>2018-02-22 09:04:59</td>\n",
       "    </tr>\n",
       "    <tr>\n",
       "      <th>4</th>\n",
       "      <td>1112237522</td>\n",
       "      <td>5awk</td>\n",
       "      <td>2018-01-25 18:55:03</td>\n",
       "    </tr>\n",
       "  </tbody>\n",
       "</table>\n",
       "</div>"
      ],
      "text/plain": [
       "      idaviso idpostulante     fechapostulacion\n",
       "0  1112257047         NM5M  2018-01-15 16:22:34\n",
       "1  1111920714         NM5M  2018-02-06 09:04:50\n",
       "2  1112346945         NM5M  2018-02-22 09:04:47\n",
       "3  1112345547         NM5M  2018-02-22 09:04:59\n",
       "4  1112237522         5awk  2018-01-25 18:55:03"
      ]
     },
     "execution_count": 6,
     "metadata": {},
     "output_type": "execute_result"
    }
   ],
   "source": [
    "data_postulation= pd.read_csv('datos_navent_fiuba/fiuba_4_postulaciones.csv')\n",
    "data_postulation.head()"
   ]
  },
  {
   "cell_type": "code",
   "execution_count": 7,
   "metadata": {},
   "outputs": [
    {
     "data": {
      "text/html": [
       "<div>\n",
       "<style scoped>\n",
       "    .dataframe tbody tr th:only-of-type {\n",
       "        vertical-align: middle;\n",
       "    }\n",
       "\n",
       "    .dataframe tbody tr th {\n",
       "        vertical-align: top;\n",
       "    }\n",
       "\n",
       "    .dataframe thead th {\n",
       "        text-align: right;\n",
       "    }\n",
       "</style>\n",
       "<table border=\"1\" class=\"dataframe\">\n",
       "  <thead>\n",
       "    <tr style=\"text-align: right;\">\n",
       "      <th></th>\n",
       "      <th>idpostulante</th>\n",
       "      <th>fechanacimiento</th>\n",
       "      <th>sexo</th>\n",
       "    </tr>\n",
       "  </thead>\n",
       "  <tbody>\n",
       "    <tr>\n",
       "      <th>0</th>\n",
       "      <td>NM5M</td>\n",
       "      <td>1970-12-03</td>\n",
       "      <td>FEM</td>\n",
       "    </tr>\n",
       "    <tr>\n",
       "      <th>1</th>\n",
       "      <td>5awk</td>\n",
       "      <td>1962-12-04</td>\n",
       "      <td>FEM</td>\n",
       "    </tr>\n",
       "    <tr>\n",
       "      <th>2</th>\n",
       "      <td>ZaO5</td>\n",
       "      <td>1978-08-10</td>\n",
       "      <td>FEM</td>\n",
       "    </tr>\n",
       "    <tr>\n",
       "      <th>3</th>\n",
       "      <td>NdJl</td>\n",
       "      <td>1969-05-09</td>\n",
       "      <td>MASC</td>\n",
       "    </tr>\n",
       "    <tr>\n",
       "      <th>4</th>\n",
       "      <td>eo2p</td>\n",
       "      <td>1981-02-16</td>\n",
       "      <td>MASC</td>\n",
       "    </tr>\n",
       "  </tbody>\n",
       "</table>\n",
       "</div>"
      ],
      "text/plain": [
       "  idpostulante fechanacimiento  sexo\n",
       "0         NM5M      1970-12-03   FEM\n",
       "1         5awk      1962-12-04   FEM\n",
       "2         ZaO5      1978-08-10   FEM\n",
       "3         NdJl      1969-05-09  MASC\n",
       "4         eo2p      1981-02-16  MASC"
      ]
     },
     "execution_count": 7,
     "metadata": {},
     "output_type": "execute_result"
    }
   ],
   "source": [
    "data_postulant_sex_age= pd.read_csv('datos_navent_fiuba/fiuba_2_postulantes_genero_y_edad.csv')\n",
    "data_postulant_sex_age.head()"
   ]
  },
  {
   "cell_type": "code",
   "execution_count": 8,
   "metadata": {},
   "outputs": [
    {
     "data": {
      "text/html": [
       "<div>\n",
       "<style scoped>\n",
       "    .dataframe tbody tr th:only-of-type {\n",
       "        vertical-align: middle;\n",
       "    }\n",
       "\n",
       "    .dataframe tbody tr th {\n",
       "        vertical-align: top;\n",
       "    }\n",
       "\n",
       "    .dataframe thead th {\n",
       "        text-align: right;\n",
       "    }\n",
       "</style>\n",
       "<table border=\"1\" class=\"dataframe\">\n",
       "  <thead>\n",
       "    <tr style=\"text-align: right;\">\n",
       "      <th></th>\n",
       "      <th>idAviso</th>\n",
       "      <th>timestamp</th>\n",
       "      <th>idpostulante</th>\n",
       "    </tr>\n",
       "  </thead>\n",
       "  <tbody>\n",
       "    <tr>\n",
       "      <th>0</th>\n",
       "      <td>1111780242</td>\n",
       "      <td>2018-02-23T13:38:13.187-0500</td>\n",
       "      <td>YjVJQ6Z</td>\n",
       "    </tr>\n",
       "    <tr>\n",
       "      <th>1</th>\n",
       "      <td>1112263876</td>\n",
       "      <td>2018-02-23T13:38:14.296-0500</td>\n",
       "      <td>BmVpYoR</td>\n",
       "    </tr>\n",
       "    <tr>\n",
       "      <th>2</th>\n",
       "      <td>1112327963</td>\n",
       "      <td>2018-02-23T13:38:14.329-0500</td>\n",
       "      <td>wVkBzZd</td>\n",
       "    </tr>\n",
       "    <tr>\n",
       "      <th>3</th>\n",
       "      <td>1112318643</td>\n",
       "      <td>2018-02-23T13:38:17.921-0500</td>\n",
       "      <td>OqmP9pv</td>\n",
       "    </tr>\n",
       "    <tr>\n",
       "      <th>4</th>\n",
       "      <td>1111903673</td>\n",
       "      <td>2018-02-23T13:38:18.973-0500</td>\n",
       "      <td>DrpbXDP</td>\n",
       "    </tr>\n",
       "  </tbody>\n",
       "</table>\n",
       "</div>"
      ],
      "text/plain": [
       "      idAviso                     timestamp idpostulante\n",
       "0  1111780242  2018-02-23T13:38:13.187-0500      YjVJQ6Z\n",
       "1  1112263876  2018-02-23T13:38:14.296-0500      BmVpYoR\n",
       "2  1112327963  2018-02-23T13:38:14.329-0500      wVkBzZd\n",
       "3  1112318643  2018-02-23T13:38:17.921-0500      OqmP9pv\n",
       "4  1111903673  2018-02-23T13:38:18.973-0500      DrpbXDP"
      ]
     },
     "execution_count": 8,
     "metadata": {},
     "output_type": "execute_result"
    }
   ],
   "source": [
    "data_views =  pd.read_csv('datos_navent_fiuba/fiuba_3_vistas.csv')\n",
    "data_views.head()"
   ]
  },
  {
   "cell_type": "code",
   "execution_count": 9,
   "metadata": {},
   "outputs": [
    {
     "data": {
      "text/html": [
       "<div>\n",
       "<style scoped>\n",
       "    .dataframe tbody tr th:only-of-type {\n",
       "        vertical-align: middle;\n",
       "    }\n",
       "\n",
       "    .dataframe tbody tr th {\n",
       "        vertical-align: top;\n",
       "    }\n",
       "\n",
       "    .dataframe thead th {\n",
       "        text-align: right;\n",
       "    }\n",
       "</style>\n",
       "<table border=\"1\" class=\"dataframe\">\n",
       "  <thead>\n",
       "    <tr style=\"text-align: right;\">\n",
       "      <th></th>\n",
       "      <th>idaviso</th>\n",
       "    </tr>\n",
       "  </thead>\n",
       "  <tbody>\n",
       "    <tr>\n",
       "      <th>0</th>\n",
       "      <td>1112355872</td>\n",
       "    </tr>\n",
       "    <tr>\n",
       "      <th>1</th>\n",
       "      <td>1112335374</td>\n",
       "    </tr>\n",
       "    <tr>\n",
       "      <th>2</th>\n",
       "      <td>1112374842</td>\n",
       "    </tr>\n",
       "    <tr>\n",
       "      <th>3</th>\n",
       "      <td>1111984070</td>\n",
       "    </tr>\n",
       "    <tr>\n",
       "      <th>4</th>\n",
       "      <td>1111822480</td>\n",
       "    </tr>\n",
       "  </tbody>\n",
       "</table>\n",
       "</div>"
      ],
      "text/plain": [
       "      idaviso\n",
       "0  1112355872\n",
       "1  1112335374\n",
       "2  1112374842\n",
       "3  1111984070\n",
       "4  1111822480"
      ]
     },
     "execution_count": 9,
     "metadata": {},
     "output_type": "execute_result"
    }
   ],
   "source": [
    "data_ads_online = pd.read_csv('datos_navent_fiuba/fiuba_5_avisos_online.csv')\n",
    "data_ads_online.head()"
   ]
  },
  {
   "cell_type": "code",
   "execution_count": 10,
   "metadata": {},
   "outputs": [
    {
     "data": {
      "text/html": [
       "<div>\n",
       "<style scoped>\n",
       "    .dataframe tbody tr th:only-of-type {\n",
       "        vertical-align: middle;\n",
       "    }\n",
       "\n",
       "    .dataframe tbody tr th {\n",
       "        vertical-align: top;\n",
       "    }\n",
       "\n",
       "    .dataframe thead th {\n",
       "        text-align: right;\n",
       "    }\n",
       "</style>\n",
       "<table border=\"1\" class=\"dataframe\">\n",
       "  <thead>\n",
       "    <tr style=\"text-align: right;\">\n",
       "      <th></th>\n",
       "      <th>idaviso</th>\n",
       "      <th>idpais</th>\n",
       "      <th>titulo</th>\n",
       "      <th>descripcion</th>\n",
       "      <th>nombre_zona</th>\n",
       "      <th>ciudad</th>\n",
       "      <th>mapacalle</th>\n",
       "      <th>tipo_de_trabajo</th>\n",
       "      <th>nivel_laboral</th>\n",
       "      <th>nombre_area</th>\n",
       "      <th>denominacion_empresa</th>\n",
       "    </tr>\n",
       "  </thead>\n",
       "  <tbody>\n",
       "    <tr>\n",
       "      <th>0</th>\n",
       "      <td>8725750</td>\n",
       "      <td>1</td>\n",
       "      <td>VENDEDOR/A PROVINCIA DE SANTA FE</td>\n",
       "      <td>&lt;p&gt;&lt;strong&gt;&lt;strong&gt;Empresa:&lt;/strong&gt;&lt;/strong&gt; ...</td>\n",
       "      <td>Gran Buenos Aires</td>\n",
       "      <td>NaN</td>\n",
       "      <td>NaN</td>\n",
       "      <td>Full-time</td>\n",
       "      <td>Senior / Semi-Senior</td>\n",
       "      <td>Comercial</td>\n",
       "      <td>VENTOR</td>\n",
       "    </tr>\n",
       "    <tr>\n",
       "      <th>1</th>\n",
       "      <td>17903700</td>\n",
       "      <td>1</td>\n",
       "      <td>Enfermeras</td>\n",
       "      <td>&lt;p&gt;Solicitamos para importante cadena de farma...</td>\n",
       "      <td>Gran Buenos Aires</td>\n",
       "      <td>NaN</td>\n",
       "      <td>NaN</td>\n",
       "      <td>Full-time</td>\n",
       "      <td>Senior / Semi-Senior</td>\n",
       "      <td>Salud</td>\n",
       "      <td>Farmacias Central Oeste</td>\n",
       "    </tr>\n",
       "    <tr>\n",
       "      <th>2</th>\n",
       "      <td>1000150677</td>\n",
       "      <td>1</td>\n",
       "      <td>Chofer de taxi</td>\n",
       "      <td>&lt;p&gt;TE GUSTA MANEJAR? QUERES GANAR PLATA HACIEN...</td>\n",
       "      <td>Capital Federal</td>\n",
       "      <td>NaN</td>\n",
       "      <td>Empedrado 2336</td>\n",
       "      <td>Full-time</td>\n",
       "      <td>Senior / Semi-Senior</td>\n",
       "      <td>Transporte</td>\n",
       "      <td>FAMITAX SRL</td>\n",
       "    </tr>\n",
       "    <tr>\n",
       "      <th>3</th>\n",
       "      <td>1000610287</td>\n",
       "      <td>1</td>\n",
       "      <td>CHOFER DE CAMIONETA BAHIA BLANCA - PUNTA ALTA</td>\n",
       "      <td>&lt;p&gt;&lt;strong&gt;Somos una empresa multinacional que...</td>\n",
       "      <td>Gran Buenos Aires</td>\n",
       "      <td>NaN</td>\n",
       "      <td>NaN</td>\n",
       "      <td>Full-time</td>\n",
       "      <td>Senior / Semi-Senior</td>\n",
       "      <td>Transporte</td>\n",
       "      <td>Wurth Argentina S.A</td>\n",
       "    </tr>\n",
       "    <tr>\n",
       "      <th>4</th>\n",
       "      <td>1000872556</td>\n",
       "      <td>1</td>\n",
       "      <td>Operarios de Planta - Rubro Electrodomésticos</td>\n",
       "      <td>&lt;p&gt;&lt;strong&gt;OPERARIOS DE PLANTA&lt;/strong&gt;&lt;/p&gt;&lt;p&gt;...</td>\n",
       "      <td>Gran Buenos Aires</td>\n",
       "      <td>NaN</td>\n",
       "      <td>NaN</td>\n",
       "      <td>Full-time</td>\n",
       "      <td>Senior / Semi-Senior</td>\n",
       "      <td>Producción</td>\n",
       "      <td>ELECTRO OUTLET SRL</td>\n",
       "    </tr>\n",
       "  </tbody>\n",
       "</table>\n",
       "</div>"
      ],
      "text/plain": [
       "      idaviso  idpais                                         titulo  \\\n",
       "0     8725750       1               VENDEDOR/A PROVINCIA DE SANTA FE   \n",
       "1    17903700       1                                     Enfermeras   \n",
       "2  1000150677       1                                 Chofer de taxi   \n",
       "3  1000610287       1  CHOFER DE CAMIONETA BAHIA BLANCA - PUNTA ALTA   \n",
       "4  1000872556       1  Operarios de Planta - Rubro Electrodomésticos   \n",
       "\n",
       "                                         descripcion        nombre_zona  \\\n",
       "0  <p><strong><strong>Empresa:</strong></strong> ...  Gran Buenos Aires   \n",
       "1  <p>Solicitamos para importante cadena de farma...  Gran Buenos Aires   \n",
       "2  <p>TE GUSTA MANEJAR? QUERES GANAR PLATA HACIEN...    Capital Federal   \n",
       "3  <p><strong>Somos una empresa multinacional que...  Gran Buenos Aires   \n",
       "4  <p><strong>OPERARIOS DE PLANTA</strong></p><p>...  Gran Buenos Aires   \n",
       "\n",
       "  ciudad       mapacalle tipo_de_trabajo         nivel_laboral nombre_area  \\\n",
       "0    NaN             NaN       Full-time  Senior / Semi-Senior   Comercial   \n",
       "1    NaN             NaN       Full-time  Senior / Semi-Senior       Salud   \n",
       "2    NaN  Empedrado 2336       Full-time  Senior / Semi-Senior  Transporte   \n",
       "3    NaN             NaN       Full-time  Senior / Semi-Senior  Transporte   \n",
       "4    NaN             NaN       Full-time  Senior / Semi-Senior  Producción   \n",
       "\n",
       "      denominacion_empresa  \n",
       "0                   VENTOR  \n",
       "1  Farmacias Central Oeste  \n",
       "2              FAMITAX SRL  \n",
       "3      Wurth Argentina S.A  \n",
       "4       ELECTRO OUTLET SRL  "
      ]
     },
     "execution_count": 10,
     "metadata": {},
     "output_type": "execute_result"
    }
   ],
   "source": [
    "data_ads_details= pd.read_csv('datos_navent_fiuba/fiuba_6_avisos_detalle.csv')\n",
    "data_ads_details.head()"
   ]
  },
  {
   "cell_type": "code",
   "execution_count": null,
   "metadata": {},
   "outputs": [],
   "source": []
  },
  {
   "cell_type": "markdown",
   "metadata": {},
   "source": [
    "# Prueba con Datos caulquiera"
   ]
  },
  {
   "cell_type": "code",
   "execution_count": 11,
   "metadata": {},
   "outputs": [
    {
     "data": {
      "text/plain": [
       "idpostulante    298231\n",
       "nombre          298231\n",
       "estado          298231\n",
       "dtype: int64"
      ]
     },
     "execution_count": 11,
     "metadata": {},
     "output_type": "execute_result"
    }
   ],
   "source": [
    "data_postulant_education.count()"
   ]
  },
  {
   "cell_type": "code",
   "execution_count": 12,
   "metadata": {},
   "outputs": [
    {
     "data": {
      "text/plain": [
       "idpostulante    188752\n",
       "nombre          188752\n",
       "estado          188752\n",
       "dtype: int64"
      ]
     },
     "execution_count": 12,
     "metadata": {},
     "output_type": "execute_result"
    }
   ],
   "source": [
    "#Limpiamos los datos de la educacion de los postulantes, donde un mismo postulante tenia distintos \n",
    "#niveles educativos (nos quedamos con el mas alto)\n",
    "data_postulant_education = education_cleaning(data_postulant_education)\n",
    "data_postulant_education.count()"
   ]
  },
  {
   "cell_type": "code",
   "execution_count": 13,
   "metadata": {},
   "outputs": [
    {
     "data": {
      "text/plain": [
       "idaviso             3401623\n",
       "idpostulante        3401623\n",
       "fechapostulacion    3401623\n",
       "dtype: int64"
      ]
     },
     "execution_count": 13,
     "metadata": {},
     "output_type": "execute_result"
    }
   ],
   "source": [
    "data_postulation.count()"
   ]
  },
  {
   "cell_type": "code",
   "execution_count": 14,
   "metadata": {},
   "outputs": [
    {
     "data": {
      "text/plain": [
       "idpostulante       200888\n",
       "fechanacimiento    196138\n",
       "sexo               200888\n",
       "dtype: int64"
      ]
     },
     "execution_count": 14,
     "metadata": {},
     "output_type": "execute_result"
    }
   ],
   "source": [
    "data_postulant_sex_age.count()"
   ]
  },
  {
   "cell_type": "code",
   "execution_count": 15,
   "metadata": {},
   "outputs": [
    {
     "data": {
      "text/html": [
       "<div>\n",
       "<style scoped>\n",
       "    .dataframe tbody tr th:only-of-type {\n",
       "        vertical-align: middle;\n",
       "    }\n",
       "\n",
       "    .dataframe tbody tr th {\n",
       "        vertical-align: top;\n",
       "    }\n",
       "\n",
       "    .dataframe thead th {\n",
       "        text-align: right;\n",
       "    }\n",
       "</style>\n",
       "<table border=\"1\" class=\"dataframe\">\n",
       "  <thead>\n",
       "    <tr style=\"text-align: right;\">\n",
       "      <th></th>\n",
       "      <th>idpostulante</th>\n",
       "      <th>nombre</th>\n",
       "      <th>estado</th>\n",
       "      <th>fechanacimiento</th>\n",
       "      <th>sexo</th>\n",
       "    </tr>\n",
       "  </thead>\n",
       "  <tbody>\n",
       "    <tr>\n",
       "      <th>0</th>\n",
       "      <td>4rP6q15</td>\n",
       "      <td>6</td>\n",
       "      <td>En Curso</td>\n",
       "      <td>NaN</td>\n",
       "      <td>NO_DECLARA</td>\n",
       "    </tr>\n",
       "    <tr>\n",
       "      <th>1</th>\n",
       "      <td>akbv6zm</td>\n",
       "      <td>6</td>\n",
       "      <td>Graduado</td>\n",
       "      <td>1994-06-11</td>\n",
       "      <td>FEM</td>\n",
       "    </tr>\n",
       "    <tr>\n",
       "      <th>2</th>\n",
       "      <td>EVe2kz</td>\n",
       "      <td>6</td>\n",
       "      <td>En Curso</td>\n",
       "      <td>1974-06-28</td>\n",
       "      <td>FEM</td>\n",
       "    </tr>\n",
       "    <tr>\n",
       "      <th>3</th>\n",
       "      <td>xkPqMKa</td>\n",
       "      <td>6</td>\n",
       "      <td>Graduado</td>\n",
       "      <td>1969-02-03</td>\n",
       "      <td>MASC</td>\n",
       "    </tr>\n",
       "    <tr>\n",
       "      <th>4</th>\n",
       "      <td>bOj3Mjd</td>\n",
       "      <td>6</td>\n",
       "      <td>Graduado</td>\n",
       "      <td>1985-10-18</td>\n",
       "      <td>MASC</td>\n",
       "    </tr>\n",
       "  </tbody>\n",
       "</table>\n",
       "</div>"
      ],
      "text/plain": [
       "  idpostulante  nombre    estado fechanacimiento        sexo\n",
       "0      4rP6q15       6  En Curso             NaN  NO_DECLARA\n",
       "1      akbv6zm       6  Graduado      1994-06-11         FEM\n",
       "2       EVe2kz       6  En Curso      1974-06-28         FEM\n",
       "3      xkPqMKa       6  Graduado      1969-02-03        MASC\n",
       "4      bOj3Mjd       6  Graduado      1985-10-18        MASC"
      ]
     },
     "execution_count": 15,
     "metadata": {},
     "output_type": "execute_result"
    }
   ],
   "source": [
    "postulantes_full = data_postulant_education.merge(data_postulant_sex_age,how='inner')\n",
    "postulantes_full.head()"
   ]
  },
  {
   "cell_type": "code",
   "execution_count": 16,
   "metadata": {},
   "outputs": [
    {
     "data": {
      "text/html": [
       "<div>\n",
       "<style scoped>\n",
       "    .dataframe tbody tr th:only-of-type {\n",
       "        vertical-align: middle;\n",
       "    }\n",
       "\n",
       "    .dataframe tbody tr th {\n",
       "        vertical-align: top;\n",
       "    }\n",
       "\n",
       "    .dataframe thead th {\n",
       "        text-align: right;\n",
       "    }\n",
       "</style>\n",
       "<table border=\"1\" class=\"dataframe\">\n",
       "  <thead>\n",
       "    <tr style=\"text-align: right;\">\n",
       "      <th></th>\n",
       "      <th>idpostulante</th>\n",
       "      <th>nombre</th>\n",
       "      <th>estado</th>\n",
       "      <th>fechanacimiento</th>\n",
       "      <th>sexo</th>\n",
       "      <th>idaviso</th>\n",
       "      <th>fechapostulacion</th>\n",
       "    </tr>\n",
       "  </thead>\n",
       "  <tbody>\n",
       "    <tr>\n",
       "      <th>0</th>\n",
       "      <td>4rP6q15</td>\n",
       "      <td>6</td>\n",
       "      <td>En Curso</td>\n",
       "      <td>NaN</td>\n",
       "      <td>NO_DECLARA</td>\n",
       "      <td>1112145679</td>\n",
       "      <td>2018-01-19 11:34:00</td>\n",
       "    </tr>\n",
       "    <tr>\n",
       "      <th>1</th>\n",
       "      <td>4rP6q15</td>\n",
       "      <td>6</td>\n",
       "      <td>En Curso</td>\n",
       "      <td>NaN</td>\n",
       "      <td>NO_DECLARA</td>\n",
       "      <td>1111785537</td>\n",
       "      <td>2018-01-19 11:34:26</td>\n",
       "    </tr>\n",
       "    <tr>\n",
       "      <th>2</th>\n",
       "      <td>4rP6q15</td>\n",
       "      <td>6</td>\n",
       "      <td>En Curso</td>\n",
       "      <td>NaN</td>\n",
       "      <td>NO_DECLARA</td>\n",
       "      <td>1112262494</td>\n",
       "      <td>2018-01-19 11:36:46</td>\n",
       "    </tr>\n",
       "    <tr>\n",
       "      <th>3</th>\n",
       "      <td>4rP6q15</td>\n",
       "      <td>6</td>\n",
       "      <td>En Curso</td>\n",
       "      <td>NaN</td>\n",
       "      <td>NO_DECLARA</td>\n",
       "      <td>1112262555</td>\n",
       "      <td>2018-01-19 11:39:13</td>\n",
       "    </tr>\n",
       "    <tr>\n",
       "      <th>4</th>\n",
       "      <td>4rP6q15</td>\n",
       "      <td>6</td>\n",
       "      <td>En Curso</td>\n",
       "      <td>NaN</td>\n",
       "      <td>NO_DECLARA</td>\n",
       "      <td>1112244104</td>\n",
       "      <td>2018-01-19 11:41:49</td>\n",
       "    </tr>\n",
       "  </tbody>\n",
       "</table>\n",
       "</div>"
      ],
      "text/plain": [
       "  idpostulante  nombre    estado fechanacimiento        sexo     idaviso  \\\n",
       "0      4rP6q15       6  En Curso             NaN  NO_DECLARA  1112145679   \n",
       "1      4rP6q15       6  En Curso             NaN  NO_DECLARA  1111785537   \n",
       "2      4rP6q15       6  En Curso             NaN  NO_DECLARA  1112262494   \n",
       "3      4rP6q15       6  En Curso             NaN  NO_DECLARA  1112262555   \n",
       "4      4rP6q15       6  En Curso             NaN  NO_DECLARA  1112244104   \n",
       "\n",
       "      fechapostulacion  \n",
       "0  2018-01-19 11:34:00  \n",
       "1  2018-01-19 11:34:26  \n",
       "2  2018-01-19 11:36:46  \n",
       "3  2018-01-19 11:39:13  \n",
       "4  2018-01-19 11:41:49  "
      ]
     },
     "execution_count": 16,
     "metadata": {},
     "output_type": "execute_result"
    }
   ],
   "source": [
    "postulations_full = postulantes_full.merge(data_postulation, on='idpostulante', how='inner')\n",
    "postulations_full.head()"
   ]
  },
  {
   "cell_type": "code",
   "execution_count": 17,
   "metadata": {},
   "outputs": [
    {
     "data": {
      "text/plain": [
       "idpostulante        3299729\n",
       "nombre              3299729\n",
       "estado              3299729\n",
       "fechanacimiento     3268054\n",
       "sexo                3299729\n",
       "idaviso             3299729\n",
       "fechapostulacion    3299729\n",
       "dtype: int64"
      ]
     },
     "execution_count": 17,
     "metadata": {},
     "output_type": "execute_result"
    }
   ],
   "source": [
    "postulations_full.count()"
   ]
  },
  {
   "cell_type": "code",
   "execution_count": 18,
   "metadata": {},
   "outputs": [
    {
     "data": {
      "text/plain": [
       "idpostulante        188752\n",
       "nombre              188752\n",
       "estado              188752\n",
       "fechanacimiento     185878\n",
       "sexo                188752\n",
       "idaviso             188752\n",
       "fechapostulacion    188752\n",
       "dtype: int64"
      ]
     },
     "execution_count": 18,
     "metadata": {},
     "output_type": "execute_result"
    }
   ],
   "source": [
    "#Dropeo ids duplicados y dejo solo una publicacion\n",
    "postulations_full = postulations_full.drop_duplicates(subset=['idpostulante'], keep='first', inplace=False)\n",
    "postulations_full.count()"
   ]
  },
  {
   "cell_type": "code",
   "execution_count": 19,
   "metadata": {},
   "outputs": [
    {
     "data": {
      "text/plain": [
       "False    185878\n",
       "True       2874\n",
       "Name: fechanacimiento, dtype: int64"
      ]
     },
     "execution_count": 19,
     "metadata": {},
     "output_type": "execute_result"
    }
   ],
   "source": [
    "postulations_full[\"fechanacimiento\"].isnull().value_counts()"
   ]
  },
  {
   "cell_type": "code",
   "execution_count": 20,
   "metadata": {},
   "outputs": [],
   "source": [
    "#Cambiamos el formato a datetime y dropeamos las incorrectas\n",
    "postulations_full[\"fechanacimiento\"] = datetime(postulations_full[\"fechanacimiento\"],'%Y-%m-%d')\n"
   ]
  },
  {
   "cell_type": "code",
   "execution_count": 21,
   "metadata": {},
   "outputs": [
    {
     "data": {
      "text/plain": [
       "False    185872\n",
       "Name: sexo, dtype: int64"
      ]
     },
     "execution_count": 21,
     "metadata": {},
     "output_type": "execute_result"
    }
   ],
   "source": [
    "\n",
    "postulations_full = postulations_full.dropna()\n",
    "\n",
    "postulations_full[\"sexo\"].isnull().value_counts()"
   ]
  },
  {
   "cell_type": "code",
   "execution_count": 22,
   "metadata": {},
   "outputs": [],
   "source": [
    "\n",
    "estado_dic= {'En Curso': 1, 'Abandonado':2}\n",
    "sexo_dic= {'MASC': 1, 'FEM':2, 'NO DECLARA':3}\n",
    "\n",
    "\n",
    "postulations_full['fechanacimiento'] = postulations_full['fechanacimiento'].map(lambda x: 2018 - x.year)\n",
    "postulations_full['estado'] = postulations_full['estado'].map(estado_dic)\n",
    "postulations_full['sexo'] = postulations_full['sexo'].map(sexo_dic)\n"
   ]
  },
  {
   "cell_type": "code",
   "execution_count": 23,
   "metadata": {},
   "outputs": [
    {
     "data": {
      "text/html": [
       "<div>\n",
       "<style scoped>\n",
       "    .dataframe tbody tr th:only-of-type {\n",
       "        vertical-align: middle;\n",
       "    }\n",
       "\n",
       "    .dataframe tbody tr th {\n",
       "        vertical-align: top;\n",
       "    }\n",
       "\n",
       "    .dataframe thead th {\n",
       "        text-align: right;\n",
       "    }\n",
       "</style>\n",
       "<table border=\"1\" class=\"dataframe\">\n",
       "  <thead>\n",
       "    <tr style=\"text-align: right;\">\n",
       "      <th></th>\n",
       "      <th>idpostulante</th>\n",
       "      <th>nombre</th>\n",
       "      <th>estado</th>\n",
       "      <th>fechanacimiento</th>\n",
       "      <th>sexo</th>\n",
       "      <th>idaviso</th>\n",
       "      <th>fechapostulacion</th>\n",
       "      <th>sePostulo</th>\n",
       "    </tr>\n",
       "  </thead>\n",
       "  <tbody>\n",
       "    <tr>\n",
       "      <th>9</th>\n",
       "      <td>akbv6zm</td>\n",
       "      <td>6</td>\n",
       "      <td>NaN</td>\n",
       "      <td>24</td>\n",
       "      <td>2.0</td>\n",
       "      <td>1112299671</td>\n",
       "      <td>2018-01-30 11:48:51</td>\n",
       "      <td>1</td>\n",
       "    </tr>\n",
       "    <tr>\n",
       "      <th>30</th>\n",
       "      <td>EVe2kz</td>\n",
       "      <td>6</td>\n",
       "      <td>1.0</td>\n",
       "      <td>44</td>\n",
       "      <td>2.0</td>\n",
       "      <td>1112352890</td>\n",
       "      <td>2018-02-26 16:02:22</td>\n",
       "      <td>1</td>\n",
       "    </tr>\n",
       "    <tr>\n",
       "      <th>31</th>\n",
       "      <td>xkPqMKa</td>\n",
       "      <td>6</td>\n",
       "      <td>NaN</td>\n",
       "      <td>49</td>\n",
       "      <td>1.0</td>\n",
       "      <td>1112035302</td>\n",
       "      <td>2018-02-22 02:07:46</td>\n",
       "      <td>1</td>\n",
       "    </tr>\n",
       "    <tr>\n",
       "      <th>33</th>\n",
       "      <td>bOj3Mjd</td>\n",
       "      <td>6</td>\n",
       "      <td>NaN</td>\n",
       "      <td>33</td>\n",
       "      <td>1.0</td>\n",
       "      <td>1112320003</td>\n",
       "      <td>2018-02-16 14:29:14</td>\n",
       "      <td>1</td>\n",
       "    </tr>\n",
       "    <tr>\n",
       "      <th>51</th>\n",
       "      <td>8WpApx</td>\n",
       "      <td>6</td>\n",
       "      <td>1.0</td>\n",
       "      <td>44</td>\n",
       "      <td>2.0</td>\n",
       "      <td>1112267993</td>\n",
       "      <td>2018-01-22 11:25:48</td>\n",
       "      <td>1</td>\n",
       "    </tr>\n",
       "  </tbody>\n",
       "</table>\n",
       "</div>"
      ],
      "text/plain": [
       "   idpostulante  nombre  estado  fechanacimiento  sexo     idaviso  \\\n",
       "9       akbv6zm       6     NaN               24   2.0  1112299671   \n",
       "30       EVe2kz       6     1.0               44   2.0  1112352890   \n",
       "31      xkPqMKa       6     NaN               49   1.0  1112035302   \n",
       "33      bOj3Mjd       6     NaN               33   1.0  1112320003   \n",
       "51       8WpApx       6     1.0               44   2.0  1112267993   \n",
       "\n",
       "       fechapostulacion  sePostulo  \n",
       "9   2018-01-30 11:48:51          1  \n",
       "30  2018-02-26 16:02:22          1  \n",
       "31  2018-02-22 02:07:46          1  \n",
       "33  2018-02-16 14:29:14          1  \n",
       "51  2018-01-22 11:25:48          1  "
      ]
     },
     "execution_count": 23,
     "metadata": {},
     "output_type": "execute_result"
    }
   ],
   "source": [
    "postulations_full['sePostulo'] = 1\n",
    "postulations_full.head()"
   ]
  },
  {
   "cell_type": "code",
   "execution_count": 24,
   "metadata": {},
   "outputs": [],
   "source": [
    "postulations_full.rename(index=str,columns={'fechanacimiento':'edad'})\n",
    "postulations_full.reset_index()\n",
    "postulations_full['idpostulante'] = pd.factorize(postulations_full['idpostulante'])[0]\n",
    "\n"
   ]
  },
  {
   "cell_type": "code",
   "execution_count": 25,
   "metadata": {},
   "outputs": [
    {
     "data": {
      "text/plain": [
       "False    81821\n",
       "Name: estado, dtype: int64"
      ]
     },
     "execution_count": 25,
     "metadata": {},
     "output_type": "execute_result"
    }
   ],
   "source": [
    "postulations_full = postulations_full.dropna()\n",
    "postulations_full['estado'].isnull().value_counts()\n"
   ]
  },
  {
   "cell_type": "code",
   "execution_count": 26,
   "metadata": {},
   "outputs": [
    {
     "data": {
      "text/html": [
       "<div>\n",
       "<style scoped>\n",
       "    .dataframe tbody tr th:only-of-type {\n",
       "        vertical-align: middle;\n",
       "    }\n",
       "\n",
       "    .dataframe tbody tr th {\n",
       "        vertical-align: top;\n",
       "    }\n",
       "\n",
       "    .dataframe thead th {\n",
       "        text-align: right;\n",
       "    }\n",
       "</style>\n",
       "<table border=\"1\" class=\"dataframe\">\n",
       "  <thead>\n",
       "    <tr style=\"text-align: right;\">\n",
       "      <th></th>\n",
       "      <th>idpostulante</th>\n",
       "      <th>nombre</th>\n",
       "      <th>estado</th>\n",
       "      <th>fechanacimiento</th>\n",
       "      <th>sexo</th>\n",
       "      <th>idaviso</th>\n",
       "      <th>fechapostulacion</th>\n",
       "      <th>sePostulo</th>\n",
       "    </tr>\n",
       "  </thead>\n",
       "  <tbody>\n",
       "    <tr>\n",
       "      <th>30</th>\n",
       "      <td>1</td>\n",
       "      <td>6</td>\n",
       "      <td>1.0</td>\n",
       "      <td>44</td>\n",
       "      <td>2.0</td>\n",
       "      <td>1112352890</td>\n",
       "      <td>2018-02-26 16:02:22</td>\n",
       "      <td>1</td>\n",
       "    </tr>\n",
       "    <tr>\n",
       "      <th>51</th>\n",
       "      <td>4</td>\n",
       "      <td>6</td>\n",
       "      <td>1.0</td>\n",
       "      <td>44</td>\n",
       "      <td>2.0</td>\n",
       "      <td>1112267993</td>\n",
       "      <td>2018-01-22 11:25:48</td>\n",
       "      <td>1</td>\n",
       "    </tr>\n",
       "    <tr>\n",
       "      <th>64</th>\n",
       "      <td>6</td>\n",
       "      <td>6</td>\n",
       "      <td>1.0</td>\n",
       "      <td>43</td>\n",
       "      <td>1.0</td>\n",
       "      <td>1112196980</td>\n",
       "      <td>2018-01-15 10:22:46</td>\n",
       "      <td>1</td>\n",
       "    </tr>\n",
       "    <tr>\n",
       "      <th>82</th>\n",
       "      <td>7</td>\n",
       "      <td>6</td>\n",
       "      <td>1.0</td>\n",
       "      <td>36</td>\n",
       "      <td>2.0</td>\n",
       "      <td>1112281048</td>\n",
       "      <td>2018-01-24 19:00:37</td>\n",
       "      <td>1</td>\n",
       "    </tr>\n",
       "    <tr>\n",
       "      <th>90</th>\n",
       "      <td>8</td>\n",
       "      <td>6</td>\n",
       "      <td>1.0</td>\n",
       "      <td>51</td>\n",
       "      <td>2.0</td>\n",
       "      <td>1112276002</td>\n",
       "      <td>2018-02-14 10:01:48</td>\n",
       "      <td>1</td>\n",
       "    </tr>\n",
       "  </tbody>\n",
       "</table>\n",
       "</div>"
      ],
      "text/plain": [
       "    idpostulante  nombre  estado  fechanacimiento  sexo     idaviso  \\\n",
       "30             1       6     1.0               44   2.0  1112352890   \n",
       "51             4       6     1.0               44   2.0  1112267993   \n",
       "64             6       6     1.0               43   1.0  1112196980   \n",
       "82             7       6     1.0               36   2.0  1112281048   \n",
       "90             8       6     1.0               51   2.0  1112276002   \n",
       "\n",
       "       fechapostulacion  sePostulo  \n",
       "30  2018-02-26 16:02:22          1  \n",
       "51  2018-01-22 11:25:48          1  \n",
       "64  2018-01-15 10:22:46          1  \n",
       "82  2018-01-24 19:00:37          1  \n",
       "90  2018-02-14 10:01:48          1  "
      ]
     },
     "execution_count": 26,
     "metadata": {},
     "output_type": "execute_result"
    }
   ],
   "source": [
    "#postulations_full = postulations_full['estado'].dropna()\n",
    "postulations_full.head()"
   ]
  },
  {
   "cell_type": "code",
   "execution_count": 27,
   "metadata": {},
   "outputs": [],
   "source": [
    "no_postulations = generar_falsos()\n"
   ]
  },
  {
   "cell_type": "code",
   "execution_count": 28,
   "metadata": {},
   "outputs": [
    {
     "data": {
      "text/plain": [
       "<bound method DataFrame.info of        idpostulante  nombre  estado  fechanacimiento  sexo  sePostulo\n",
       "0           3301621       2       1               62     1          0\n",
       "1           3302726       4       1               64     2          0\n",
       "2           3305091       2       1               67     1          0\n",
       "3           3299731       0       1               43     2          0\n",
       "4           3299972       2       1               25     1          0\n",
       "5           3302155       3       1               62     2          0\n",
       "6           3301020       4       1               64     2          0\n",
       "7           3300527       1       1               71     2          0\n",
       "8           3301284       1       1               21     1          0\n",
       "9           3299781       3       1               51     2          0\n",
       "10          3305385       0       1               61     2          0\n",
       "11          3301645       5       1               21     1          0\n",
       "12          3305399       3       1               67     1          0\n",
       "13          3305434       4       1               32     1          0\n",
       "14          3302056       3       1               63     1          0\n",
       "15          3301157       2       1               26     1          0\n",
       "16          3299939       2       1               32     1          0\n",
       "17          3302300       3       1               30     2          0\n",
       "18          3304707       4       1               74     1          0\n",
       "19          3305023       4       1               18     2          0\n",
       "20          3302350       3       1               23     2          0\n",
       "21          3304292       2       1               65     1          0\n",
       "22          3303067       2       1               50     1          0\n",
       "23          3305484       5       1               36     2          0\n",
       "24          3300774       5       1               73     1          0\n",
       "25          3302465       3       1               22     2          0\n",
       "26          3299764       2       1               26     1          0\n",
       "27          3299831       1       1               46     2          0\n",
       "28          3300037       5       1               39     1          0\n",
       "29          3303848       2       1               47     1          0\n",
       "...             ...     ...     ...              ...   ...        ...\n",
       "79970       3303785       5       1               42     1          0\n",
       "79971       3303532       0       1               42     2          0\n",
       "79972       3304007       2       1               38     1          0\n",
       "79973       3303862       0       1               47     2          0\n",
       "79974       3302186       0       1               45     1          0\n",
       "79975       3300784       3       1               65     1          0\n",
       "79976       3303596       3       1               27     1          0\n",
       "79977       3303397       1       1               47     1          0\n",
       "79978       3299878       3       1               73     1          0\n",
       "79979       3302344       0       1               49     2          0\n",
       "79980       3304262       4       1               23     2          0\n",
       "79981       3302628       4       1               44     1          0\n",
       "79982       3303146       5       1               39     1          0\n",
       "79983       3304569       0       1               64     1          0\n",
       "79984       3302037       5       1               68     1          0\n",
       "79985       3304673       3       1               36     1          0\n",
       "79986       3303999       5       1               57     2          0\n",
       "79987       3303017       4       1               27     2          0\n",
       "79988       3305433       2       1               26     1          0\n",
       "79989       3303074       1       1               25     2          0\n",
       "79990       3301518       4       1               56     1          0\n",
       "79991       3303076       5       1               65     1          0\n",
       "79992       3303394       5       1               24     2          0\n",
       "79993       3300920       1       1               45     1          0\n",
       "79994       3302776       3       1               55     1          0\n",
       "79995       3305145       1       1               49     2          0\n",
       "79996       3303256       4       1               25     2          0\n",
       "79997       3301951       3       1               70     1          0\n",
       "79998       3302447       1       1               18     1          0\n",
       "79999       3299755       4       1               21     1          0\n",
       "\n",
       "[80000 rows x 6 columns]>"
      ]
     },
     "execution_count": 28,
     "metadata": {},
     "output_type": "execute_result"
    }
   ],
   "source": [
    "no_postulations.head(10)\n",
    "no_postulations.info"
   ]
  },
  {
   "cell_type": "code",
   "execution_count": 29,
   "metadata": {},
   "outputs": [],
   "source": [
    "postulations_full = postulations_full.merge(no_postulations, on=['idpostulante','nombre','estado','fechanacimiento','sexo','sePostulo'],how='outer')"
   ]
  },
  {
   "cell_type": "code",
   "execution_count": 30,
   "metadata": {},
   "outputs": [],
   "source": [
    "pepe = postulations_full\n"
   ]
  },
  {
   "cell_type": "code",
   "execution_count": 31,
   "metadata": {},
   "outputs": [],
   "source": [
    "pepeY = pepe['sePostulo']\n"
   ]
  },
  {
   "cell_type": "code",
   "execution_count": 32,
   "metadata": {},
   "outputs": [
    {
     "data": {
      "text/html": [
       "<div>\n",
       "<style scoped>\n",
       "    .dataframe tbody tr th:only-of-type {\n",
       "        vertical-align: middle;\n",
       "    }\n",
       "\n",
       "    .dataframe tbody tr th {\n",
       "        vertical-align: top;\n",
       "    }\n",
       "\n",
       "    .dataframe thead th {\n",
       "        text-align: right;\n",
       "    }\n",
       "</style>\n",
       "<table border=\"1\" class=\"dataframe\">\n",
       "  <thead>\n",
       "    <tr style=\"text-align: right;\">\n",
       "      <th></th>\n",
       "      <th>idpostulante</th>\n",
       "      <th>nombre</th>\n",
       "      <th>estado</th>\n",
       "      <th>fechanacimiento</th>\n",
       "      <th>sexo</th>\n",
       "      <th>idaviso</th>\n",
       "      <th>fechapostulacion</th>\n",
       "      <th>sePostulo</th>\n",
       "    </tr>\n",
       "  </thead>\n",
       "  <tbody>\n",
       "    <tr>\n",
       "      <th>161818</th>\n",
       "      <td>3301951</td>\n",
       "      <td>3</td>\n",
       "      <td>1.0</td>\n",
       "      <td>70</td>\n",
       "      <td>1.0</td>\n",
       "      <td>NaN</td>\n",
       "      <td>NaN</td>\n",
       "      <td>0</td>\n",
       "    </tr>\n",
       "    <tr>\n",
       "      <th>161819</th>\n",
       "      <td>3302447</td>\n",
       "      <td>1</td>\n",
       "      <td>1.0</td>\n",
       "      <td>18</td>\n",
       "      <td>1.0</td>\n",
       "      <td>NaN</td>\n",
       "      <td>NaN</td>\n",
       "      <td>0</td>\n",
       "    </tr>\n",
       "    <tr>\n",
       "      <th>161820</th>\n",
       "      <td>3299755</td>\n",
       "      <td>4</td>\n",
       "      <td>1.0</td>\n",
       "      <td>21</td>\n",
       "      <td>1.0</td>\n",
       "      <td>NaN</td>\n",
       "      <td>NaN</td>\n",
       "      <td>0</td>\n",
       "    </tr>\n",
       "  </tbody>\n",
       "</table>\n",
       "</div>"
      ],
      "text/plain": [
       "        idpostulante  nombre  estado  fechanacimiento  sexo  idaviso  \\\n",
       "161818       3301951       3     1.0               70   1.0      NaN   \n",
       "161819       3302447       1     1.0               18   1.0      NaN   \n",
       "161820       3299755       4     1.0               21   1.0      NaN   \n",
       "\n",
       "       fechapostulacion  sePostulo  \n",
       "161818              NaN          0  \n",
       "161819              NaN          0  \n",
       "161820              NaN          0  "
      ]
     },
     "execution_count": 32,
     "metadata": {},
     "output_type": "execute_result"
    }
   ],
   "source": [
    "pepe.loc[161818:]"
   ]
  },
  {
   "cell_type": "code",
   "execution_count": 33,
   "metadata": {},
   "outputs": [
    {
     "data": {
      "text/plain": [
       "7851      1\n",
       "145912    0\n",
       "138598    0\n",
       "10945     1\n",
       "29004     1\n",
       "128853    0\n",
       "32980     1\n",
       "13179     1\n",
       "91816     0\n",
       "137542    0\n",
       "144864    0\n",
       "13084     1\n",
       "130048    0\n",
       "122655    0\n",
       "58058     1\n",
       "34543     1\n",
       "48924     1\n",
       "20481     1\n",
       "110547    0\n",
       "6571      1\n",
       "68806     1\n",
       "107435    0\n",
       "158457    0\n",
       "161460    0\n",
       "113063    0\n",
       "27962     1\n",
       "46364     1\n",
       "148501    0\n",
       "117005    0\n",
       "106440    0\n",
       "         ..\n",
       "38965     1\n",
       "104455    0\n",
       "38417     1\n",
       "28422     1\n",
       "112780    0\n",
       "2264      1\n",
       "45423     1\n",
       "56501     1\n",
       "142459    0\n",
       "91983     0\n",
       "58786     1\n",
       "22228     1\n",
       "47056     1\n",
       "161145    0\n",
       "110580    0\n",
       "140692    0\n",
       "29775     1\n",
       "88498     0\n",
       "101187    0\n",
       "15651     1\n",
       "33430     1\n",
       "67720     1\n",
       "60597     1\n",
       "87990     0\n",
       "54092     1\n",
       "11642     1\n",
       "121651    0\n",
       "15428     1\n",
       "12655     1\n",
       "46995     1\n",
       "Name: sePostulo, Length: 5000, dtype: int64"
      ]
     },
     "execution_count": 33,
     "metadata": {},
     "output_type": "execute_result"
    }
   ],
   "source": [
    "pepeY.sample(5000)"
   ]
  },
  {
   "cell_type": "code",
   "execution_count": 34,
   "metadata": {},
   "outputs": [
    {
     "name": "stderr",
     "output_type": "stream",
     "text": [
      "/usr/local/lib/python3.5/dist-packages/sklearn/cross_validation.py:41: DeprecationWarning: This module was deprecated in version 0.18 in favor of the model_selection module into which all the refactored classes and functions are moved. Also note that the interface of the new CV iterators are different from that of this module. This module will be removed in 0.20.\n",
      "  \"This module will be removed in 0.20.\", DeprecationWarning)\n",
      "/home/agustin/.local/lib/python3.5/site-packages/ipykernel_launcher.py:3: DeprecationWarning: \n",
      ".ix is deprecated. Please use\n",
      ".loc for label based indexing or\n",
      ".iloc for positional indexing\n",
      "\n",
      "See the documentation here:\n",
      "http://pandas.pydata.org/pandas-docs/stable/indexing.html#ix-indexer-is-deprecated\n",
      "  This is separate from the ipykernel package so we can avoid doing imports until\n"
     ]
    },
    {
     "data": {
      "text/plain": [
       "(113274, 4)"
      ]
     },
     "execution_count": 34,
     "metadata": {},
     "output_type": "execute_result"
    }
   ],
   "source": [
    "#Busco particiones de los datos\n",
    "from sklearn.cross_validation import train_test_split\n",
    "X = np.array(pepe.ix[:,1:5]) \n",
    "y = np.array(pepeY) \n",
    "X_train, X_test, y_train, y_test = train_test_split(X, y, test_size=0.30, random_state=7506)\n",
    "X_train.shape"
   ]
  },
  {
   "cell_type": "code",
   "execution_count": 35,
   "metadata": {},
   "outputs": [
    {
     "name": "stdout",
     "output_type": "stream",
     "text": [
      "Number of observations in the training data: 113274\n",
      "Number of observations in the test data: 48547\n"
     ]
    }
   ],
   "source": [
    "print('Number of observations in the training data:', len(X_train))\n",
    "print('Number of observations in the test data:',len(X_test))"
   ]
  },
  {
   "cell_type": "code",
   "execution_count": 36,
   "metadata": {},
   "outputs": [
    {
     "data": {
      "text/plain": [
       "RandomForestClassifier(bootstrap=True, class_weight=None, criterion='gini',\n",
       "            max_depth=None, max_features='auto', max_leaf_nodes=None,\n",
       "            min_impurity_decrease=0.0, min_impurity_split=None,\n",
       "            min_samples_leaf=1, min_samples_split=2,\n",
       "            min_weight_fraction_leaf=0.0, n_estimators=10, n_jobs=2,\n",
       "            oob_score=False, random_state=None, verbose=0,\n",
       "            warm_start=False)"
      ]
     },
     "execution_count": 36,
     "metadata": {},
     "output_type": "execute_result"
    }
   ],
   "source": [
    "# Create a random forest Classifier. By convention, clf means 'Classifier'\n",
    "from sklearn.ensemble import RandomForestClassifier\n",
    "clf = RandomForestClassifier(n_jobs=2)\n",
    "clf.fit(X_train, y_train)"
   ]
  },
  {
   "cell_type": "code",
   "execution_count": 37,
   "metadata": {},
   "outputs": [
    {
     "data": {
      "text/plain": [
       "array([1, 0, 0, ..., 1, 1, 1])"
      ]
     },
     "execution_count": 37,
     "metadata": {},
     "output_type": "execute_result"
    }
   ],
   "source": [
    "clf.predict(X_test)"
   ]
  },
  {
   "cell_type": "code",
   "execution_count": 38,
   "metadata": {},
   "outputs": [
    {
     "data": {
      "text/plain": [
       "0.8863781490102375"
      ]
     },
     "execution_count": 38,
     "metadata": {},
     "output_type": "execute_result"
    }
   ],
   "source": [
    "clf.score(X_test,y_test)"
   ]
  },
  {
   "cell_type": "code",
   "execution_count": 39,
   "metadata": {},
   "outputs": [
    {
     "data": {
      "text/plain": [
       "0.8877500573829828"
      ]
     },
     "execution_count": 39,
     "metadata": {},
     "output_type": "execute_result"
    }
   ],
   "source": [
    "clf.score(X_train,y_train)"
   ]
  },
  {
   "cell_type": "code",
   "execution_count": 40,
   "metadata": {},
   "outputs": [
    {
     "data": {
      "text/plain": [
       "array([[ 3.,  1., 39.,  2.],\n",
       "       [ 5.,  1., 63.,  1.],\n",
       "       [ 1.,  1., 29.,  2.],\n",
       "       ...,\n",
       "       [ 3.,  1., 21.,  2.],\n",
       "       [ 3.,  1., 31.,  1.],\n",
       "       [ 3.,  1., 26.,  2.]])"
      ]
     },
     "execution_count": 40,
     "metadata": {},
     "output_type": "execute_result"
    }
   ],
   "source": [
    "X_test\n"
   ]
  },
  {
   "cell_type": "code",
   "execution_count": 43,
   "metadata": {},
   "outputs": [],
   "source": []
  },
  {
   "cell_type": "code",
   "execution_count": 41,
   "metadata": {},
   "outputs": [
    {
     "name": "stdout",
     "output_type": "stream",
     "text": [
      "Parameters currently in use:\n",
      "\n",
      "{'bootstrap': True,\n",
      " 'class_weight': None,\n",
      " 'criterion': 'gini',\n",
      " 'max_depth': None,\n",
      " 'max_features': 'auto',\n",
      " 'max_leaf_nodes': None,\n",
      " 'min_impurity_decrease': 0.0,\n",
      " 'min_impurity_split': None,\n",
      " 'min_samples_leaf': 1,\n",
      " 'min_samples_split': 2,\n",
      " 'min_weight_fraction_leaf': 0.0,\n",
      " 'n_estimators': 10,\n",
      " 'n_jobs': 1,\n",
      " 'oob_score': False,\n",
      " 'random_state': 7506,\n",
      " 'verbose': 0,\n",
      " 'warm_start': False}\n"
     ]
    }
   ],
   "source": [
    "from sklearn.ensemble import RandomForestRegressor\n",
    "rf = RandomForestClassifier(random_state = 7506)\n",
    "from pprint import pprint\n",
    "# Look at parameters used by our current forest\n",
    "print('Parameters currently in use:\\n')\n",
    "pprint(rf.get_params())\n"
   ]
  },
  {
   "cell_type": "code",
   "execution_count": 42,
   "metadata": {},
   "outputs": [
    {
     "name": "stdout",
     "output_type": "stream",
     "text": [
      "{'bootstrap': [True, False],\n",
      " 'max_depth': [10, 20, 30, 40, 50, 60, 70, 80, 90, 100, 110, None],\n",
      " 'max_features': ['auto', 'sqrt'],\n",
      " 'min_samples_leaf': [1, 2, 4],\n",
      " 'min_samples_split': [2, 5, 10],\n",
      " 'n_estimators': [200, 400, 600, 800, 1000, 1200, 1400, 1600, 1800, 2000]}\n"
     ]
    }
   ],
   "source": [
    "from sklearn.model_selection import RandomizedSearchCV\n",
    "# Number of trees in random forest\n",
    "n_estimators = [int(x) for x in np.linspace(start = 200, stop = 2000, num = 10)]\n",
    "# Number of features to consider at every split\n",
    "max_features = ['auto', 'sqrt']\n",
    "# Maximum number of levels in tree\n",
    "max_depth = [int(x) for x in np.linspace(10, 110, num = 11)]\n",
    "max_depth.append(None)\n",
    "# Minimum number of samples required to split a node\n",
    "min_samples_split = [2, 5, 10]\n",
    "# Minimum number of samples required at each leaf node\n",
    "min_samples_leaf = [1, 2, 4]\n",
    "# Method of selecting samples for training each tree\n",
    "bootstrap = [True, False]\n",
    "# Create the random grid\n",
    "random_grid = {'n_estimators': n_estimators,\n",
    "               'max_features': max_features,\n",
    "               'max_depth': max_depth,\n",
    "               'min_samples_split': min_samples_split,\n",
    "               'min_samples_leaf': min_samples_leaf,\n",
    "               'bootstrap': bootstrap}\n",
    "pprint(random_grid)"
   ]
  },
  {
   "cell_type": "code",
   "execution_count": 44,
   "metadata": {},
   "outputs": [
    {
     "name": "stdout",
     "output_type": "stream",
     "text": [
      "Fitting 3 folds for each of 10 candidates, totalling 30 fits\n",
      "[CV] n_estimators=800, min_samples_leaf=4, bootstrap=True, min_samples_split=10, max_depth=20, max_features=sqrt \n",
      "[CV] n_estimators=800, min_samples_leaf=4, bootstrap=True, min_samples_split=10, max_depth=20, max_features=sqrt \n",
      "[CV] n_estimators=800, min_samples_leaf=4, bootstrap=True, min_samples_split=10, max_depth=20, max_features=sqrt \n",
      "[CV] n_estimators=2000, min_samples_leaf=2, bootstrap=False, min_samples_split=2, max_depth=30, max_features=auto \n",
      "[CV]  n_estimators=800, min_samples_leaf=4, bootstrap=True, min_samples_split=10, max_depth=20, max_features=sqrt, total=  58.7s\n",
      "[CV] n_estimators=2000, min_samples_leaf=2, bootstrap=False, min_samples_split=2, max_depth=30, max_features=auto \n",
      "[CV]  n_estimators=800, min_samples_leaf=4, bootstrap=True, min_samples_split=10, max_depth=20, max_features=sqrt, total= 1.2min\n",
      "[CV] n_estimators=2000, min_samples_leaf=2, bootstrap=False, min_samples_split=2, max_depth=30, max_features=auto \n",
      "[CV]  n_estimators=800, min_samples_leaf=4, bootstrap=True, min_samples_split=10, max_depth=20, max_features=sqrt, total= 1.2min\n",
      "[CV] n_estimators=1800, min_samples_leaf=1, bootstrap=True, min_samples_split=5, max_depth=None, max_features=auto \n",
      "[CV]  n_estimators=1800, min_samples_leaf=1, bootstrap=True, min_samples_split=5, max_depth=None, max_features=auto, total= 3.4min\n",
      "[CV] n_estimators=1800, min_samples_leaf=1, bootstrap=True, min_samples_split=5, max_depth=None, max_features=auto \n",
      "[CV]  n_estimators=2000, min_samples_leaf=2, bootstrap=False, min_samples_split=2, max_depth=30, max_features=auto, total= 4.8min\n",
      "[CV] n_estimators=1800, min_samples_leaf=1, bootstrap=True, min_samples_split=5, max_depth=None, max_features=auto \n",
      "[CV]  n_estimators=2000, min_samples_leaf=2, bootstrap=False, min_samples_split=2, max_depth=30, max_features=auto, total= 4.8min\n",
      "[CV] n_estimators=800, min_samples_leaf=1, bootstrap=True, min_samples_split=10, max_depth=None, max_features=auto \n",
      "[CV]  n_estimators=2000, min_samples_leaf=2, bootstrap=False, min_samples_split=2, max_depth=30, max_features=auto, total= 4.7min\n",
      "[CV] n_estimators=800, min_samples_leaf=1, bootstrap=True, min_samples_split=10, max_depth=None, max_features=auto \n",
      "[CV]  n_estimators=800, min_samples_leaf=1, bootstrap=True, min_samples_split=10, max_depth=None, max_features=auto, total= 1.6min\n",
      "[CV] n_estimators=800, min_samples_leaf=1, bootstrap=True, min_samples_split=10, max_depth=None, max_features=auto \n",
      "[CV]  n_estimators=800, min_samples_leaf=1, bootstrap=True, min_samples_split=10, max_depth=None, max_features=auto, total= 1.6min\n",
      "[CV] n_estimators=200, min_samples_leaf=2, bootstrap=False, min_samples_split=5, max_depth=None, max_features=auto \n",
      "[CV]  n_estimators=200, min_samples_leaf=2, bootstrap=False, min_samples_split=5, max_depth=None, max_features=auto, total=  30.1s\n",
      "[CV] n_estimators=200, min_samples_leaf=2, bootstrap=False, min_samples_split=5, max_depth=None, max_features=auto \n",
      "[CV]  n_estimators=1800, min_samples_leaf=1, bootstrap=True, min_samples_split=5, max_depth=None, max_features=auto, total= 3.4min\n",
      "[CV] n_estimators=200, min_samples_leaf=2, bootstrap=False, min_samples_split=5, max_depth=None, max_features=auto \n",
      "[CV]  n_estimators=1800, min_samples_leaf=1, bootstrap=True, min_samples_split=5, max_depth=None, max_features=auto, total= 3.3min\n",
      "[CV] n_estimators=1800, min_samples_leaf=1, bootstrap=True, min_samples_split=10, max_depth=50, max_features=sqrt \n",
      "[CV]  n_estimators=200, min_samples_leaf=2, bootstrap=False, min_samples_split=5, max_depth=None, max_features=auto, total=  29.6s\n",
      "[CV] n_estimators=1800, min_samples_leaf=1, bootstrap=True, min_samples_split=10, max_depth=50, max_features=sqrt \n",
      "[CV]  n_estimators=200, min_samples_leaf=2, bootstrap=False, min_samples_split=5, max_depth=None, max_features=auto, total=  31.8s\n",
      "[CV] n_estimators=1800, min_samples_leaf=1, bootstrap=True, min_samples_split=10, max_depth=50, max_features=sqrt \n",
      "[CV]  n_estimators=800, min_samples_leaf=1, bootstrap=True, min_samples_split=10, max_depth=None, max_features=auto, total= 1.3min\n",
      "[CV] n_estimators=400, min_samples_leaf=4, bootstrap=False, min_samples_split=10, max_depth=70, max_features=sqrt \n",
      "[CV]  n_estimators=400, min_samples_leaf=4, bootstrap=False, min_samples_split=10, max_depth=70, max_features=sqrt, total=  41.4s\n",
      "[CV] n_estimators=400, min_samples_leaf=4, bootstrap=False, min_samples_split=10, max_depth=70, max_features=sqrt \n",
      "[CV]  n_estimators=400, min_samples_leaf=4, bootstrap=False, min_samples_split=10, max_depth=70, max_features=sqrt, total=  45.3s\n",
      "[CV] n_estimators=400, min_samples_leaf=4, bootstrap=False, min_samples_split=10, max_depth=70, max_features=sqrt \n",
      "[CV]  n_estimators=1800, min_samples_leaf=1, bootstrap=True, min_samples_split=10, max_depth=50, max_features=sqrt, total= 2.3min\n",
      "[CV] n_estimators=1600, min_samples_leaf=1, bootstrap=True, min_samples_split=10, max_depth=50, max_features=auto \n",
      "[CV]  n_estimators=400, min_samples_leaf=4, bootstrap=False, min_samples_split=10, max_depth=70, max_features=sqrt, total=  32.8s\n",
      "[CV] n_estimators=1600, min_samples_leaf=1, bootstrap=True, min_samples_split=10, max_depth=50, max_features=auto \n",
      "[CV]  n_estimators=1800, min_samples_leaf=1, bootstrap=True, min_samples_split=10, max_depth=50, max_features=sqrt, total= 2.4min\n",
      "[CV] n_estimators=1600, min_samples_leaf=1, bootstrap=True, min_samples_split=10, max_depth=50, max_features=auto \n",
      "[CV]  n_estimators=1800, min_samples_leaf=1, bootstrap=True, min_samples_split=10, max_depth=50, max_features=sqrt, total= 2.3min\n",
      "[CV] n_estimators=1400, min_samples_leaf=1, bootstrap=False, min_samples_split=2, max_depth=30, max_features=auto \n",
      "[CV]  n_estimators=1600, min_samples_leaf=1, bootstrap=True, min_samples_split=10, max_depth=50, max_features=auto, total= 2.7min\n",
      "[CV] n_estimators=1400, min_samples_leaf=1, bootstrap=False, min_samples_split=2, max_depth=30, max_features=auto \n",
      "[CV]  n_estimators=1600, min_samples_leaf=1, bootstrap=True, min_samples_split=10, max_depth=50, max_features=auto, total= 3.3min\n",
      "[CV] n_estimators=1400, min_samples_leaf=1, bootstrap=False, min_samples_split=2, max_depth=30, max_features=auto \n",
      "[CV]  n_estimators=1400, min_samples_leaf=1, bootstrap=False, min_samples_split=2, max_depth=30, max_features=auto, total= 3.1min\n",
      "[CV] n_estimators=2000, min_samples_leaf=4, bootstrap=True, min_samples_split=5, max_depth=110, max_features=sqrt \n",
      "[CV]  n_estimators=1600, min_samples_leaf=1, bootstrap=True, min_samples_split=10, max_depth=50, max_features=auto, total= 3.4min\n",
      "[CV] n_estimators=2000, min_samples_leaf=4, bootstrap=True, min_samples_split=5, max_depth=110, max_features=sqrt \n",
      "[CV]  n_estimators=2000, min_samples_leaf=4, bootstrap=True, min_samples_split=5, max_depth=110, max_features=sqrt, total= 2.8min\n",
      "[CV] n_estimators=2000, min_samples_leaf=4, bootstrap=True, min_samples_split=5, max_depth=110, max_features=sqrt \n",
      "[CV]  n_estimators=2000, min_samples_leaf=4, bootstrap=True, min_samples_split=5, max_depth=110, max_features=sqrt, total= 2.8min\n",
      "[CV]  n_estimators=1400, min_samples_leaf=1, bootstrap=False, min_samples_split=2, max_depth=30, max_features=auto, total= 3.4min\n",
      "[CV]  n_estimators=1400, min_samples_leaf=1, bootstrap=False, min_samples_split=2, max_depth=30, max_features=auto, total= 3.4min\n",
      "[CV]  n_estimators=2000, min_samples_leaf=4, bootstrap=True, min_samples_split=5, max_depth=110, max_features=sqrt, total=  51.7s\n"
     ]
    },
    {
     "name": "stderr",
     "output_type": "stream",
     "text": [
      "[Parallel(n_jobs=-1)]: Done  30 out of  30 | elapsed: 19.1min finished\n"
     ]
    },
    {
     "data": {
      "text/plain": [
       "RandomizedSearchCV(cv=3, error_score='raise',\n",
       "          estimator=RandomForestRegressor(bootstrap=True, criterion='mse', max_depth=None,\n",
       "           max_features='auto', max_leaf_nodes=None,\n",
       "           min_impurity_decrease=0.0, min_impurity_split=None,\n",
       "           min_samples_leaf=1, min_samples_split=2,\n",
       "           min_weight_fraction_leaf=0.0, n_estimators=10, n_jobs=1,\n",
       "           oob_score=False, random_state=None, verbose=0, warm_start=False),\n",
       "          fit_params=None, iid=True, n_iter=10, n_jobs=-1,\n",
       "          param_distributions={'n_estimators': [200, 400, 600, 800, 1000, 1200, 1400, 1600, 1800, 2000], 'min_samples_leaf': [1, 2, 4], 'bootstrap': [True, False], 'min_samples_split': [2, 5, 10], 'max_depth': [10, 20, 30, 40, 50, 60, 70, 80, 90, 100, 110, None], 'max_features': ['auto', 'sqrt']},\n",
       "          pre_dispatch='2*n_jobs', random_state=7506, refit=True,\n",
       "          return_train_score='warn', scoring=None, verbose=2)"
      ]
     },
     "execution_count": 44,
     "metadata": {},
     "output_type": "execute_result"
    }
   ],
   "source": [
    "# Use the random grid to search for best hyperparameters\n",
    "# First create the base model to tune\n",
    "rf = RandomForestRegressor()\n",
    "# Random search of parameters, using 3 fold cross validation, \n",
    "# search across 100 different combinations, and use all available cores\n",
    "rf_random = RandomizedSearchCV(estimator = rf, param_distributions = random_grid, n_iter = 10, cv = 3, verbose=2, random_state=7506, n_jobs = -1)\n",
    "# Fit the random search model\n",
    "rf_random.fit(X_train, y_train)"
   ]
  },
  {
   "cell_type": "code",
   "execution_count": 45,
   "metadata": {},
   "outputs": [
    {
     "data": {
      "text/plain": [
       "{'bootstrap': False,\n",
       " 'max_depth': None,\n",
       " 'max_features': 'auto',\n",
       " 'min_samples_leaf': 2,\n",
       " 'min_samples_split': 5,\n",
       " 'n_estimators': 200}"
      ]
     },
     "execution_count": 45,
     "metadata": {},
     "output_type": "execute_result"
    }
   ],
   "source": [
    "rf_random.best_params_"
   ]
  },
  {
   "cell_type": "code",
   "execution_count": 46,
   "metadata": {},
   "outputs": [
    {
     "name": "stdout",
     "output_type": "stream",
     "text": [
      "Model Performance\n",
      "Average Error: 0.1649 degrees.\n",
      "Accuracy = nan%.\n"
     ]
    },
    {
     "name": "stderr",
     "output_type": "stream",
     "text": [
      "/home/agustin/.local/lib/python3.5/site-packages/ipykernel_launcher.py:4: RuntimeWarning: divide by zero encountered in true_divide\n",
      "  after removing the cwd from sys.path.\n",
      "/home/agustin/.local/lib/python3.5/site-packages/ipykernel_launcher.py:4: RuntimeWarning: invalid value encountered in true_divide\n",
      "  after removing the cwd from sys.path.\n"
     ]
    }
   ],
   "source": [
    "def evaluate(model, test_features, test_labels):\n",
    "    predictions = model.predict(test_features)\n",
    "    errors = abs(predictions - test_labels)\n",
    "    mape = 100 * np.mean(errors / test_labels)\n",
    "    accuracy = 100 - mape\n",
    "    print('Model Performance')\n",
    "    print('Average Error: {:0.4f} degrees.'.format(np.mean(errors)))\n",
    "    print('Accuracy = {:0.2f}%.'.format(accuracy))\n",
    "    \n",
    "    return accuracy\n",
    "\n",
    "base_model = RandomForestRegressor(n_estimators = 10, random_state = 7506)\n",
    "base_model.fit(X_train, y_train)\n",
    "base_accuracy = evaluate(base_model, X_test, y_test)"
   ]
  },
  {
   "cell_type": "code",
   "execution_count": 47,
   "metadata": {},
   "outputs": [
    {
     "data": {
      "text/plain": [
       "RandomForestClassifier(bootstrap=False, class_weight=None, criterion='gini',\n",
       "            max_depth=None, max_features='auto', max_leaf_nodes=None,\n",
       "            min_impurity_decrease=0.0, min_impurity_split=None,\n",
       "            min_samples_leaf=2, min_samples_split=5,\n",
       "            min_weight_fraction_leaf=0.0, n_estimators=200, n_jobs=2,\n",
       "            oob_score=False, random_state=None, verbose=0,\n",
       "            warm_start=False)"
      ]
     },
     "execution_count": 47,
     "metadata": {},
     "output_type": "execute_result"
    }
   ],
   "source": [
    "clf = RandomForestClassifier(n_jobs=2,bootstrap=False,max_depth= None,max_features='auto',min_samples_leaf= 2,min_samples_split= 5,n_estimators= 200)\n",
    "clf.fit(X_train, y_train)"
   ]
  },
  {
   "cell_type": "code",
   "execution_count": 48,
   "metadata": {},
   "outputs": [
    {
     "data": {
      "text/plain": [
       "array([1, 0, 0, ..., 1, 1, 1])"
      ]
     },
     "execution_count": 48,
     "metadata": {},
     "output_type": "execute_result"
    }
   ],
   "source": [
    "clf.predict(X_test)"
   ]
  },
  {
   "cell_type": "code",
   "execution_count": 49,
   "metadata": {},
   "outputs": [
    {
     "data": {
      "text/plain": [
       "0.8863781490102375"
      ]
     },
     "execution_count": 49,
     "metadata": {},
     "output_type": "execute_result"
    }
   ],
   "source": [
    "clf.score(X_test,y_test)"
   ]
  },
  {
   "cell_type": "code",
   "execution_count": null,
   "metadata": {},
   "outputs": [],
   "source": []
  }
 ],
 "metadata": {
  "kernelspec": {
   "display_name": "Python 3",
   "language": "python",
   "name": "python3"
  },
  "language_info": {
   "codemirror_mode": {
    "name": "ipython",
    "version": 3
   },
   "file_extension": ".py",
   "mimetype": "text/x-python",
   "name": "python",
   "nbconvert_exporter": "python",
   "pygments_lexer": "ipython3",
   "version": "3.5.2"
  }
 },
 "nbformat": 4,
 "nbformat_minor": 2
}
