{
 "cells": [
  {
   "cell_type": "code",
   "execution_count": 1,
   "metadata": {},
   "outputs": [],
   "source": [
    "import numpy as np\n",
    "import pandas as pd\n",
    "import seaborn as sb\n",
    "import matplotlib.pyplot as plt\n",
    "%matplotlib inline"
   ]
  },
  {
   "cell_type": "code",
   "execution_count": 5,
   "metadata": {},
   "outputs": [],
   "source": [
    "data_ads_details = pd.read_csv('avisos.csv')"
   ]
  },
  {
   "cell_type": "code",
   "execution_count": 6,
   "metadata": {},
   "outputs": [],
   "source": [
    "data_ads_details.drop(columns=['idpais','titulo'],inplace = True)"
   ]
  },
  {
   "cell_type": "code",
   "execution_count": 9,
   "metadata": {},
   "outputs": [
    {
     "data": {
      "text/plain": [
       "Ventas                                       2464\n",
       "Comercial                                    1407\n",
       "Administración                               1335\n",
       "Producción                                   1237\n",
       "Programación                                  848\n",
       "Contabilidad                                  610\n",
       "Tecnologia / Sistemas                         592\n",
       "Atención al Cliente                           478\n",
       "Mantenimiento                                 455\n",
       "Recursos Humanos                              313\n",
       "Oficios y Profesiones                         312\n",
       "Gastronomia                                   309\n",
       "Soporte Técnico                               299\n",
       "Logística                                     298\n",
       "Almacén / Depósito / Expedición               287\n",
       "Call Center                                   261\n",
       "Marketing                                     244\n",
       "Compras                                       228\n",
       "Administración de Personal                    221\n",
       "Otros                                         212\n",
       "Transporte                                    212\n",
       "Recepcionista                                 209\n",
       "Mantenimiento y Limpieza                      208\n",
       "Finanzas                                      207\n",
       "Telemarketing                                 196\n",
       "Créditos y Cobranzas                          192\n",
       "Tesorería                                     189\n",
       "Desarrollo de Negocios                        173\n",
       "Legal                                         168\n",
       "Seguridad                                     166\n",
       "                                             ... \n",
       "Emergentología                                  3\n",
       "Ingeniería en Petróleo y Petroquímica           3\n",
       "Trabajo social                                  3\n",
       "Topografía                                      3\n",
       "Responsabilidad Social                          2\n",
       "Instrumentación Minera                          2\n",
       "Mercadotecnia Internacional                     2\n",
       "Exploración Minera y Petroquimica               2\n",
       "Bienestar Estudiantil                           2\n",
       "Psicología                                      2\n",
       "Periodismo                                      2\n",
       "Trabajo Social                                  2\n",
       "Arte y Cultura                                  2\n",
       "Kinesiología / terapia ocupacional              2\n",
       "Educación especial                              2\n",
       "Diseño 3D                                       2\n",
       "Traduccion                                      1\n",
       "Fonoaudiología                                  1\n",
       "Farmacia hospitalaria                           1\n",
       "Esterilización                                  1\n",
       "Telefonista                                     1\n",
       "Maternidad                                      1\n",
       "Diagnóstico por imágenes                        1\n",
       "Clínica Médica                                  1\n",
       "Instrumentación quirúrgica                      1\n",
       "Idiomas                                         1\n",
       "Prácticas cardiológicas                         1\n",
       "Odontología                                     1\n",
       "Urbanismo                                       1\n",
       "Cuidados Intensivos Cardiologicos Adultos       1\n",
       "Name: nombre_area, Length: 186, dtype: int64"
      ]
     },
     "execution_count": 9,
     "metadata": {},
     "output_type": "execute_result"
    }
   ],
   "source": [
    "data_ads_details['nombre_area'].value_counts()"
   ]
  },
  {
   "cell_type": "code",
   "execution_count": 7,
   "metadata": {},
   "outputs": [],
   "source": [
    "#Como son demasiadas, por lo pronto las voy a dropear porque se me vuelve imposible mapearlo a mano\n",
    "data_ads_details.drop(columns = ['nombre_area'],inplace = True)"
   ]
  },
  {
   "cell_type": "code",
   "execution_count": 11,
   "metadata": {},
   "outputs": [
    {
     "data": {
      "text/html": [
       "<div>\n",
       "<style scoped>\n",
       "    .dataframe tbody tr th:only-of-type {\n",
       "        vertical-align: middle;\n",
       "    }\n",
       "\n",
       "    .dataframe tbody tr th {\n",
       "        vertical-align: top;\n",
       "    }\n",
       "\n",
       "    .dataframe thead th {\n",
       "        text-align: right;\n",
       "    }\n",
       "</style>\n",
       "<table border=\"1\" class=\"dataframe\">\n",
       "  <thead>\n",
       "    <tr style=\"text-align: right;\">\n",
       "      <th></th>\n",
       "      <th>idaviso</th>\n",
       "      <th>nombre_zona</th>\n",
       "      <th>tipo_de_trabajo</th>\n",
       "      <th>nivel_laboral</th>\n",
       "    </tr>\n",
       "  </thead>\n",
       "  <tbody>\n",
       "    <tr>\n",
       "      <th>0</th>\n",
       "      <td>8725750</td>\n",
       "      <td>Gran Buenos Aires</td>\n",
       "      <td>Full-time</td>\n",
       "      <td>Senior / Semi-Senior</td>\n",
       "    </tr>\n",
       "    <tr>\n",
       "      <th>1</th>\n",
       "      <td>17903700</td>\n",
       "      <td>Gran Buenos Aires</td>\n",
       "      <td>Full-time</td>\n",
       "      <td>Senior / Semi-Senior</td>\n",
       "    </tr>\n",
       "    <tr>\n",
       "      <th>2</th>\n",
       "      <td>1000150677</td>\n",
       "      <td>Capital Federal</td>\n",
       "      <td>Full-time</td>\n",
       "      <td>Senior / Semi-Senior</td>\n",
       "    </tr>\n",
       "    <tr>\n",
       "      <th>3</th>\n",
       "      <td>1000610287</td>\n",
       "      <td>Gran Buenos Aires</td>\n",
       "      <td>Full-time</td>\n",
       "      <td>Senior / Semi-Senior</td>\n",
       "    </tr>\n",
       "    <tr>\n",
       "      <th>4</th>\n",
       "      <td>1000872556</td>\n",
       "      <td>Gran Buenos Aires</td>\n",
       "      <td>Full-time</td>\n",
       "      <td>Senior / Semi-Senior</td>\n",
       "    </tr>\n",
       "  </tbody>\n",
       "</table>\n",
       "</div>"
      ],
      "text/plain": [
       "      idaviso        nombre_zona tipo_de_trabajo         nivel_laboral\n",
       "0     8725750  Gran Buenos Aires       Full-time  Senior / Semi-Senior\n",
       "1    17903700  Gran Buenos Aires       Full-time  Senior / Semi-Senior\n",
       "2  1000150677    Capital Federal       Full-time  Senior / Semi-Senior\n",
       "3  1000610287  Gran Buenos Aires       Full-time  Senior / Semi-Senior\n",
       "4  1000872556  Gran Buenos Aires       Full-time  Senior / Semi-Senior"
      ]
     },
     "execution_count": 11,
     "metadata": {},
     "output_type": "execute_result"
    }
   ],
   "source": [
    "data_ads_details.head()"
   ]
  },
  {
   "cell_type": "code",
   "execution_count": 8,
   "metadata": {},
   "outputs": [
    {
     "name": "stderr",
     "output_type": "stream",
     "text": [
      "/home/olix/.local/lib/python3.5/site-packages/IPython/core/interactiveshell.py:2785: DtypeWarning: Columns (1,2) have mixed types. Specify dtype option on import or set low_memory=False.\n",
      "  interactivity=interactivity, compiler=compiler, result=result)\n"
     ]
    }
   ],
   "source": [
    "postulants = pd.read_csv('postulantes.csv')"
   ]
  },
  {
   "cell_type": "code",
   "execution_count": 9,
   "metadata": {},
   "outputs": [],
   "source": [
    "#el Nombre ya esta codificado con nombre_sort\n",
    "postulants.drop(columns=['nombre'],inplace = True)"
   ]
  },
  {
   "cell_type": "code",
   "execution_count": 16,
   "metadata": {},
   "outputs": [
    {
     "data": {
      "text/html": [
       "<div>\n",
       "<style scoped>\n",
       "    .dataframe tbody tr th:only-of-type {\n",
       "        vertical-align: middle;\n",
       "    }\n",
       "\n",
       "    .dataframe tbody tr th {\n",
       "        vertical-align: top;\n",
       "    }\n",
       "\n",
       "    .dataframe thead th {\n",
       "        text-align: right;\n",
       "    }\n",
       "</style>\n",
       "<table border=\"1\" class=\"dataframe\">\n",
       "  <thead>\n",
       "    <tr style=\"text-align: right;\">\n",
       "      <th></th>\n",
       "      <th>idpostulante</th>\n",
       "      <th>estado</th>\n",
       "      <th>nombre_sort</th>\n",
       "      <th>fechanacimiento</th>\n",
       "      <th>sexo</th>\n",
       "    </tr>\n",
       "  </thead>\n",
       "  <tbody>\n",
       "    <tr>\n",
       "      <th>0</th>\n",
       "      <td>4rP6q15</td>\n",
       "      <td>En Curso</td>\n",
       "      <td>6.0</td>\n",
       "      <td>NaN</td>\n",
       "      <td>NO_DECLARA</td>\n",
       "    </tr>\n",
       "    <tr>\n",
       "      <th>1</th>\n",
       "      <td>akbv6zm</td>\n",
       "      <td>Graduado</td>\n",
       "      <td>6.0</td>\n",
       "      <td>1994-06-11</td>\n",
       "      <td>FEM</td>\n",
       "    </tr>\n",
       "    <tr>\n",
       "      <th>2</th>\n",
       "      <td>EVe2kz</td>\n",
       "      <td>En Curso</td>\n",
       "      <td>6.0</td>\n",
       "      <td>1974-06-28</td>\n",
       "      <td>FEM</td>\n",
       "    </tr>\n",
       "    <tr>\n",
       "      <th>3</th>\n",
       "      <td>xkPqMKa</td>\n",
       "      <td>Graduado</td>\n",
       "      <td>6.0</td>\n",
       "      <td>1969-02-03</td>\n",
       "      <td>MASC</td>\n",
       "    </tr>\n",
       "    <tr>\n",
       "      <th>4</th>\n",
       "      <td>bOj3Mjd</td>\n",
       "      <td>Graduado</td>\n",
       "      <td>6.0</td>\n",
       "      <td>1985-10-18</td>\n",
       "      <td>MASC</td>\n",
       "    </tr>\n",
       "  </tbody>\n",
       "</table>\n",
       "</div>"
      ],
      "text/plain": [
       "  idpostulante    estado  nombre_sort fechanacimiento        sexo\n",
       "0      4rP6q15  En Curso          6.0             NaN  NO_DECLARA\n",
       "1      akbv6zm  Graduado          6.0      1994-06-11         FEM\n",
       "2       EVe2kz  En Curso          6.0      1974-06-28         FEM\n",
       "3      xkPqMKa  Graduado          6.0      1969-02-03        MASC\n",
       "4      bOj3Mjd  Graduado          6.0      1985-10-18        MASC"
      ]
     },
     "execution_count": 16,
     "metadata": {},
     "output_type": "execute_result"
    }
   ],
   "source": [
    "postulants.head()"
   ]
  },
  {
   "cell_type": "code",
   "execution_count": 10,
   "metadata": {},
   "outputs": [],
   "source": [
    "#Ahora me genero un dataframe con la misma cantidad de (idpotulante-idaviso) pero esta vez de NO postulaciones\n",
    "import random\n",
    "\n",
    "def get_random_ids(df_postulants,df_ads):\n",
    "    dic = {'idpostulante':[], 'idaviso':[]}\n",
    "    for i in range (0,3000000):#6268564 numero que deberia ser, lo cambio a uno mas chico para poder trabajar\n",
    "        numero = random.randrange(0,371380)\n",
    "        idpostulante = df_postulants['idpostulante'][numero]\n",
    "        dic['idpostulante'].append(idpostulante)\n",
    "        numero2 = random.randrange(0,19685)\n",
    "        idaviso = df_ads['idaviso'][numero2]\n",
    "        dic['idaviso'].append(idaviso)\n",
    "    dataframe = pd.DataFrame(data=dic)\n",
    "    return dataframe\n",
    "  "
   ]
  },
  {
   "cell_type": "code",
   "execution_count": 11,
   "metadata": {},
   "outputs": [],
   "source": [
    "random_postulant_ad = get_random_ids(postulants,data_ads_details)"
   ]
  },
  {
   "cell_type": "code",
   "execution_count": 19,
   "metadata": {},
   "outputs": [
    {
     "data": {
      "text/html": [
       "<div>\n",
       "<style scoped>\n",
       "    .dataframe tbody tr th:only-of-type {\n",
       "        vertical-align: middle;\n",
       "    }\n",
       "\n",
       "    .dataframe tbody tr th {\n",
       "        vertical-align: top;\n",
       "    }\n",
       "\n",
       "    .dataframe thead th {\n",
       "        text-align: right;\n",
       "    }\n",
       "</style>\n",
       "<table border=\"1\" class=\"dataframe\">\n",
       "  <thead>\n",
       "    <tr style=\"text-align: right;\">\n",
       "      <th></th>\n",
       "      <th>idaviso</th>\n",
       "      <th>idpostulante</th>\n",
       "    </tr>\n",
       "  </thead>\n",
       "  <tbody>\n",
       "    <tr>\n",
       "      <th>0</th>\n",
       "      <td>1112292866</td>\n",
       "      <td>NQWeYM</td>\n",
       "    </tr>\n",
       "    <tr>\n",
       "      <th>1</th>\n",
       "      <td>1112241719</td>\n",
       "      <td>EOzNV0</td>\n",
       "    </tr>\n",
       "    <tr>\n",
       "      <th>2</th>\n",
       "      <td>1112441589</td>\n",
       "      <td>QNrDvB2</td>\n",
       "    </tr>\n",
       "    <tr>\n",
       "      <th>3</th>\n",
       "      <td>1112348691</td>\n",
       "      <td>A3A4AZY</td>\n",
       "    </tr>\n",
       "    <tr>\n",
       "      <th>4</th>\n",
       "      <td>1112448657</td>\n",
       "      <td>OqrMDJB</td>\n",
       "    </tr>\n",
       "  </tbody>\n",
       "</table>\n",
       "</div>"
      ],
      "text/plain": [
       "      idaviso idpostulante\n",
       "0  1112292866       NQWeYM\n",
       "1  1112241719       EOzNV0\n",
       "2  1112441589      QNrDvB2\n",
       "3  1112348691      A3A4AZY\n",
       "4  1112448657      OqrMDJB"
      ]
     },
     "execution_count": 19,
     "metadata": {},
     "output_type": "execute_result"
    }
   ],
   "source": [
    "random_postulant_ad.head()"
   ]
  },
  {
   "cell_type": "code",
   "execution_count": 12,
   "metadata": {},
   "outputs": [],
   "source": [
    "#Mergeo los data frames sobre la informacion de edad y sexo y educacion del postulante del postulante con \n",
    "#la informacion del aviso en que se postulo tambien.\n",
    "random_postulant_ad = random_postulant_ad.merge(postulants,on = 'idpostulante')\n",
    "random_postulant_ad = random_postulant_ad.merge(data_ads_details,on = 'idaviso')"
   ]
  },
  {
   "cell_type": "code",
   "execution_count": 13,
   "metadata": {},
   "outputs": [],
   "source": [
    "random_postulant_ad['se_postulo'] = 0"
   ]
  },
  {
   "cell_type": "code",
   "execution_count": 14,
   "metadata": {},
   "outputs": [
    {
     "data": {
      "text/html": [
       "<div>\n",
       "<style scoped>\n",
       "    .dataframe tbody tr th:only-of-type {\n",
       "        vertical-align: middle;\n",
       "    }\n",
       "\n",
       "    .dataframe tbody tr th {\n",
       "        vertical-align: top;\n",
       "    }\n",
       "\n",
       "    .dataframe thead th {\n",
       "        text-align: right;\n",
       "    }\n",
       "</style>\n",
       "<table border=\"1\" class=\"dataframe\">\n",
       "  <thead>\n",
       "    <tr style=\"text-align: right;\">\n",
       "      <th></th>\n",
       "      <th>idaviso</th>\n",
       "      <th>idpostulante</th>\n",
       "      <th>estado</th>\n",
       "      <th>nombre_sort</th>\n",
       "      <th>fechanacimiento</th>\n",
       "      <th>sexo</th>\n",
       "      <th>nombre_zona</th>\n",
       "      <th>tipo_de_trabajo</th>\n",
       "      <th>nivel_laboral</th>\n",
       "      <th>se_postulo</th>\n",
       "    </tr>\n",
       "  </thead>\n",
       "  <tbody>\n",
       "    <tr>\n",
       "      <th>0</th>\n",
       "      <td>1112235972</td>\n",
       "      <td>dY9WQ0A</td>\n",
       "      <td>En Curso</td>\n",
       "      <td>3.0</td>\n",
       "      <td>1995-06-16</td>\n",
       "      <td>MASC</td>\n",
       "      <td>Gran Buenos Aires</td>\n",
       "      <td>Full-time</td>\n",
       "      <td>Senior / Semi-Senior</td>\n",
       "      <td>0</td>\n",
       "    </tr>\n",
       "    <tr>\n",
       "      <th>1</th>\n",
       "      <td>1112235972</td>\n",
       "      <td>5mqB1zG</td>\n",
       "      <td>NaN</td>\n",
       "      <td>NaN</td>\n",
       "      <td>1971-05-14</td>\n",
       "      <td>FEM</td>\n",
       "      <td>Gran Buenos Aires</td>\n",
       "      <td>Full-time</td>\n",
       "      <td>Senior / Semi-Senior</td>\n",
       "      <td>0</td>\n",
       "    </tr>\n",
       "    <tr>\n",
       "      <th>2</th>\n",
       "      <td>1112235972</td>\n",
       "      <td>mzdqXOO</td>\n",
       "      <td>Graduado</td>\n",
       "      <td>2.0</td>\n",
       "      <td>1992-06-21</td>\n",
       "      <td>FEM</td>\n",
       "      <td>Gran Buenos Aires</td>\n",
       "      <td>Full-time</td>\n",
       "      <td>Senior / Semi-Senior</td>\n",
       "      <td>0</td>\n",
       "    </tr>\n",
       "    <tr>\n",
       "      <th>3</th>\n",
       "      <td>1112235972</td>\n",
       "      <td>X95m5BQ</td>\n",
       "      <td>Graduado</td>\n",
       "      <td>3.0</td>\n",
       "      <td>1988-12-29</td>\n",
       "      <td>FEM</td>\n",
       "      <td>Gran Buenos Aires</td>\n",
       "      <td>Full-time</td>\n",
       "      <td>Senior / Semi-Senior</td>\n",
       "      <td>0</td>\n",
       "    </tr>\n",
       "    <tr>\n",
       "      <th>4</th>\n",
       "      <td>1112235972</td>\n",
       "      <td>BmZPkQv</td>\n",
       "      <td>Abandonado</td>\n",
       "      <td>3.0</td>\n",
       "      <td>1976-10-09</td>\n",
       "      <td>FEM</td>\n",
       "      <td>Gran Buenos Aires</td>\n",
       "      <td>Full-time</td>\n",
       "      <td>Senior / Semi-Senior</td>\n",
       "      <td>0</td>\n",
       "    </tr>\n",
       "  </tbody>\n",
       "</table>\n",
       "</div>"
      ],
      "text/plain": [
       "      idaviso idpostulante      estado  nombre_sort fechanacimiento  sexo  \\\n",
       "0  1112235972      dY9WQ0A    En Curso          3.0      1995-06-16  MASC   \n",
       "1  1112235972      5mqB1zG         NaN          NaN      1971-05-14   FEM   \n",
       "2  1112235972      mzdqXOO    Graduado          2.0      1992-06-21   FEM   \n",
       "3  1112235972      X95m5BQ    Graduado          3.0      1988-12-29   FEM   \n",
       "4  1112235972      BmZPkQv  Abandonado          3.0      1976-10-09   FEM   \n",
       "\n",
       "         nombre_zona tipo_de_trabajo         nivel_laboral  se_postulo  \n",
       "0  Gran Buenos Aires       Full-time  Senior / Semi-Senior           0  \n",
       "1  Gran Buenos Aires       Full-time  Senior / Semi-Senior           0  \n",
       "2  Gran Buenos Aires       Full-time  Senior / Semi-Senior           0  \n",
       "3  Gran Buenos Aires       Full-time  Senior / Semi-Senior           0  \n",
       "4  Gran Buenos Aires       Full-time  Senior / Semi-Senior           0  "
      ]
     },
     "execution_count": 14,
     "metadata": {},
     "output_type": "execute_result"
    }
   ],
   "source": [
    "random_postulant_ad.head()"
   ]
  },
  {
   "cell_type": "code",
   "execution_count": 15,
   "metadata": {},
   "outputs": [],
   "source": [
    "random_postulant_ad.to_csv(\"avisos_no_postulantesReducido3M.csv\",index = False)"
   ]
  },
  {
   "cell_type": "code",
   "execution_count": null,
   "metadata": {},
   "outputs": [],
   "source": []
  }
 ],
 "metadata": {
  "kernelspec": {
   "display_name": "Python 3",
   "language": "python",
   "name": "python3"
  },
  "language_info": {
   "codemirror_mode": {
    "name": "ipython",
    "version": 3
   },
   "file_extension": ".py",
   "mimetype": "text/x-python",
   "name": "python",
   "nbconvert_exporter": "python",
   "pygments_lexer": "ipython3",
   "version": "3.5.2"
  }
 },
 "nbformat": 4,
 "nbformat_minor": 2
}
