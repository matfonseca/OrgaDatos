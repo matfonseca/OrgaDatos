{
 "cells": [
  {
   "cell_type": "code",
<<<<<<< HEAD
   "execution_count": 1,
=======
   "execution_count": 2,
>>>>>>> 81f42a16b4fe4d4904411576ccfe615d60a0c480
   "metadata": {},
   "outputs": [],
   "source": [
    "import pandas as pd\n",
    "import numpy as np\n",
    "import matplotlib.pyplot as plt\n",
    "\n",
    "%matplotlib inline"
   ]
  },
  {
   "cell_type": "code",
<<<<<<< HEAD
   "execution_count": 2,
=======
   "execution_count": 3,
>>>>>>> 81f42a16b4fe4d4904411576ccfe615d60a0c480
   "metadata": {},
   "outputs": [],
   "source": [
    "#Funcion que limpia los datos, quedandose con el nivel de educacion mas alto de casa id de los postulantes.\n",
    "def education_cleaning(df):\n",
    "    education_dic= {'Secundario': 1, 'Universitario':3,'Terciario/Técnico':2, 'Otro':0, 'Posgrado':4, 'Master': 5, 'Doctorado': 6}\n",
    "    df['nombre_sort'] = df['nombre'].map(education_dic)\n",
    "    df = df.sort_values(by='nombre_sort', ascending=False)\n",
    "    df = df.drop_duplicates(subset='idpostulante',keep='first')\n",
    "    return df"
   ]
  },
  {
   "cell_type": "code",
<<<<<<< HEAD
   "execution_count": 3,
=======
   "execution_count": 4,
>>>>>>> 81f42a16b4fe4d4904411576ccfe615d60a0c480
   "metadata": {},
   "outputs": [
    {
     "data": {
      "text/html": [
       "<div>\n",
       "<style scoped>\n",
       "    .dataframe tbody tr th:only-of-type {\n",
       "        vertical-align: middle;\n",
       "    }\n",
       "\n",
       "    .dataframe tbody tr th {\n",
       "        vertical-align: top;\n",
       "    }\n",
       "\n",
       "    .dataframe thead th {\n",
       "        text-align: right;\n",
       "    }\n",
       "</style>\n",
       "<table border=\"1\" class=\"dataframe\">\n",
       "  <thead>\n",
       "    <tr style=\"text-align: right;\">\n",
       "      <th></th>\n",
       "      <th>idpostulante</th>\n",
       "      <th>nombre</th>\n",
       "      <th>estado</th>\n",
       "      <th>nombre_sort</th>\n",
       "    </tr>\n",
       "  </thead>\n",
       "  <tbody>\n",
       "    <tr>\n",
       "      <th>246142</th>\n",
       "      <td>NrN2dL</td>\n",
       "      <td>Doctorado</td>\n",
       "      <td>Graduado</td>\n",
       "      <td>6</td>\n",
       "    </tr>\n",
       "    <tr>\n",
       "      <th>299527</th>\n",
       "      <td>1QkVLxE</td>\n",
       "      <td>Doctorado</td>\n",
       "      <td>Graduado</td>\n",
       "      <td>6</td>\n",
       "    </tr>\n",
       "    <tr>\n",
       "      <th>256379</th>\n",
       "      <td>YqM4dq</td>\n",
       "      <td>Doctorado</td>\n",
       "      <td>Graduado</td>\n",
       "      <td>6</td>\n",
       "    </tr>\n",
       "    <tr>\n",
       "      <th>345390</th>\n",
       "      <td>ZDrxZdb</td>\n",
       "      <td>Doctorado</td>\n",
       "      <td>En Curso</td>\n",
       "      <td>6</td>\n",
       "    </tr>\n",
       "    <tr>\n",
       "      <th>278539</th>\n",
       "      <td>aDY0Z9</td>\n",
       "      <td>Doctorado</td>\n",
       "      <td>Graduado</td>\n",
       "      <td>6</td>\n",
       "    </tr>\n",
       "  </tbody>\n",
       "</table>\n",
       "</div>"
      ],
      "text/plain": [
       "       idpostulante     nombre    estado  nombre_sort\n",
       "246142       NrN2dL  Doctorado  Graduado            6\n",
       "299527      1QkVLxE  Doctorado  Graduado            6\n",
       "256379       YqM4dq  Doctorado  Graduado            6\n",
       "345390      ZDrxZdb  Doctorado  En Curso            6\n",
       "278539       aDY0Z9  Doctorado  Graduado            6"
      ]
     },
<<<<<<< HEAD
     "execution_count": 3,
=======
     "execution_count": 4,
>>>>>>> 81f42a16b4fe4d4904411576ccfe615d60a0c480
     "metadata": {},
     "output_type": "execute_result"
    }
   ],
   "source": [
    "data_postulant_education_test = pd.read_csv('../Data/Desde15Abril/fiuba_1_postulantes_educacion.csv')\n",
    "data_postulant_education_test =education_cleaning(data_postulant_education_test)\n",
    "data_postulant_education_test.head()"
   ]
  },
  {
   "cell_type": "code",
<<<<<<< HEAD
   "execution_count": 4,
=======
   "execution_count": 5,
>>>>>>> 81f42a16b4fe4d4904411576ccfe615d60a0c480
   "metadata": {},
   "outputs": [
    {
     "data": {
      "text/html": [
       "<div>\n",
       "<style scoped>\n",
       "    .dataframe tbody tr th:only-of-type {\n",
       "        vertical-align: middle;\n",
       "    }\n",
       "\n",
       "    .dataframe tbody tr th {\n",
       "        vertical-align: top;\n",
       "    }\n",
       "\n",
       "    .dataframe thead th {\n",
       "        text-align: right;\n",
       "    }\n",
       "</style>\n",
       "<table border=\"1\" class=\"dataframe\">\n",
       "  <thead>\n",
       "    <tr style=\"text-align: right;\">\n",
       "      <th></th>\n",
       "      <th>idpostulante</th>\n",
       "      <th>fechanacimiento</th>\n",
       "      <th>sexo</th>\n",
       "    </tr>\n",
       "  </thead>\n",
       "  <tbody>\n",
       "    <tr>\n",
       "      <th>0</th>\n",
       "      <td>6MM</td>\n",
       "      <td>1985-01-01</td>\n",
       "      <td>MASC</td>\n",
       "    </tr>\n",
       "    <tr>\n",
       "      <th>1</th>\n",
       "      <td>ZX1</td>\n",
       "      <td>NaN</td>\n",
       "      <td>NO_DECLARA</td>\n",
       "    </tr>\n",
       "    <tr>\n",
       "      <th>2</th>\n",
       "      <td>YZP</td>\n",
       "      <td>1961-05-01</td>\n",
       "      <td>MASC</td>\n",
       "    </tr>\n",
       "    <tr>\n",
       "      <th>3</th>\n",
       "      <td>ebE</td>\n",
       "      <td>1952-07-07</td>\n",
       "      <td>MASC</td>\n",
       "    </tr>\n",
       "    <tr>\n",
       "      <th>4</th>\n",
       "      <td>N1x</td>\n",
       "      <td>NaN</td>\n",
       "      <td>NO_DECLARA</td>\n",
       "    </tr>\n",
       "  </tbody>\n",
       "</table>\n",
       "</div>"
      ],
      "text/plain": [
       "  idpostulante fechanacimiento        sexo\n",
       "0          6MM      1985-01-01        MASC\n",
       "1          ZX1             NaN  NO_DECLARA\n",
       "2          YZP      1961-05-01        MASC\n",
       "3          ebE      1952-07-07        MASC\n",
       "4          N1x             NaN  NO_DECLARA"
      ]
     },
<<<<<<< HEAD
     "execution_count": 4,
=======
     "execution_count": 5,
>>>>>>> 81f42a16b4fe4d4904411576ccfe615d60a0c480
     "metadata": {},
     "output_type": "execute_result"
    }
   ],
   "source": [
    "data_postulant_sex_age_test = pd.read_csv('../Data/Desde15Abril/fiuba_2_postulantes_genero_y_edad.csv')\n",
    "data_postulant_sex_age_test.head()"
   ]
  },
  {
   "cell_type": "code",
<<<<<<< HEAD
   "execution_count": 5,
=======
   "execution_count": 6,
>>>>>>> 81f42a16b4fe4d4904411576ccfe615d60a0c480
   "metadata": {},
   "outputs": [
    {
     "data": {
      "text/html": [
       "<div>\n",
       "<style scoped>\n",
       "    .dataframe tbody tr th:only-of-type {\n",
       "        vertical-align: middle;\n",
       "    }\n",
       "\n",
       "    .dataframe tbody tr th {\n",
       "        vertical-align: top;\n",
       "    }\n",
       "\n",
       "    .dataframe thead th {\n",
       "        text-align: right;\n",
       "    }\n",
       "</style>\n",
       "<table border=\"1\" class=\"dataframe\">\n",
       "  <thead>\n",
       "    <tr style=\"text-align: right;\">\n",
       "      <th></th>\n",
       "      <th>idaviso</th>\n",
       "      <th>idpais</th>\n",
       "      <th>titulo</th>\n",
       "      <th>descripcion</th>\n",
       "      <th>nombre_zona</th>\n",
       "      <th>ciudad</th>\n",
       "      <th>mapacalle</th>\n",
       "      <th>tipo_de_trabajo</th>\n",
       "      <th>nivel_laboral</th>\n",
       "      <th>nombre_area</th>\n",
       "      <th>denominacion_empresa</th>\n",
       "    </tr>\n",
       "  </thead>\n",
       "  <tbody>\n",
       "    <tr>\n",
       "      <th>0</th>\n",
       "      <td>1573840</td>\n",
       "      <td>1</td>\n",
       "      <td>VENDEDORA/O</td>\n",
       "      <td>Nuestra Búsqueda se orienta a la incorporación...</td>\n",
       "      <td>Capital Federal</td>\n",
       "      <td>Flores</td>\n",
       "      <td>NaN</td>\n",
       "      <td>Full-time</td>\n",
       "      <td>Otro</td>\n",
       "      <td>Ventas</td>\n",
       "      <td>RIBEIRO SUC. FLORES</td>\n",
       "    </tr>\n",
       "    <tr>\n",
       "      <th>1</th>\n",
       "      <td>1712970</td>\n",
       "      <td>1</td>\n",
       "      <td>INGENIERO DE PRODUCTO</td>\n",
       "      <td>INGENIERO ELECTRICISTA/ELECTRONICO CON CONOCIM...</td>\n",
       "      <td>Capital Federal</td>\n",
       "      <td>NaN</td>\n",
       "      <td>NaN</td>\n",
       "      <td>Full-time</td>\n",
       "      <td>Otro</td>\n",
       "      <td>Otras Ingenierias</td>\n",
       "      <td>Aparatos Electricos Automaticos SA</td>\n",
       "    </tr>\n",
       "    <tr>\n",
       "      <th>2</th>\n",
       "      <td>1719970</td>\n",
       "      <td>1</td>\n",
       "      <td>** Diseñadores/as Gráficos Quark Express **</td>\n",
       "      <td>Diseñadores/as Gráficos Quark Express para Rev...</td>\n",
       "      <td>Capital Federal</td>\n",
       "      <td>NaN</td>\n",
       "      <td>NaN</td>\n",
       "      <td>Full-time</td>\n",
       "      <td>Otro</td>\n",
       "      <td>Diseño</td>\n",
       "      <td>Revista NEX IT Specialist ? Editorial Poulbert</td>\n",
       "    </tr>\n",
       "    <tr>\n",
       "      <th>3</th>\n",
       "      <td>1720060</td>\n",
       "      <td>1</td>\n",
       "      <td>Soporte Tecnico</td>\n",
       "      <td>Estudiante de Sistemas (Lic. en Sistemas de la...</td>\n",
       "      <td>Capital Federal</td>\n",
       "      <td>NaN</td>\n",
       "      <td>NaN</td>\n",
       "      <td>Full-time</td>\n",
       "      <td>Otro</td>\n",
       "      <td>Tecnologia / Sistemas</td>\n",
       "      <td>Tango Software</td>\n",
       "    </tr>\n",
       "    <tr>\n",
       "      <th>4</th>\n",
       "      <td>1720280</td>\n",
       "      <td>1</td>\n",
       "      <td>ADSCRIPTO DE GERENCIA</td>\n",
       "      <td>Importante Organización Académica Empresarial\\...</td>\n",
       "      <td>Buenos Aires (fuera de GBA)</td>\n",
       "      <td>NaN</td>\n",
       "      <td>NaN</td>\n",
       "      <td>Full-time</td>\n",
       "      <td>Otro</td>\n",
       "      <td>Otros</td>\n",
       "      <td>Experis</td>\n",
       "    </tr>\n",
       "  </tbody>\n",
       "</table>\n",
       "</div>"
      ],
      "text/plain": [
       "   idaviso  idpais                                       titulo  \\\n",
       "0  1573840       1                                  VENDEDORA/O   \n",
       "1  1712970       1                        INGENIERO DE PRODUCTO   \n",
       "2  1719970       1  ** Diseñadores/as Gráficos Quark Express **   \n",
       "3  1720060       1                              Soporte Tecnico   \n",
       "4  1720280       1                        ADSCRIPTO DE GERENCIA   \n",
       "\n",
       "                                         descripcion  \\\n",
       "0  Nuestra Búsqueda se orienta a la incorporación...   \n",
       "1  INGENIERO ELECTRICISTA/ELECTRONICO CON CONOCIM...   \n",
       "2  Diseñadores/as Gráficos Quark Express para Rev...   \n",
       "3  Estudiante de Sistemas (Lic. en Sistemas de la...   \n",
       "4  Importante Organización Académica Empresarial\\...   \n",
       "\n",
       "                   nombre_zona  ciudad mapacalle tipo_de_trabajo  \\\n",
       "0              Capital Federal  Flores       NaN       Full-time   \n",
       "1              Capital Federal     NaN       NaN       Full-time   \n",
       "2              Capital Federal     NaN       NaN       Full-time   \n",
       "3              Capital Federal     NaN       NaN       Full-time   \n",
       "4  Buenos Aires (fuera de GBA)     NaN       NaN       Full-time   \n",
       "\n",
       "  nivel_laboral            nombre_area  \\\n",
       "0          Otro                 Ventas   \n",
       "1          Otro      Otras Ingenierias   \n",
       "2          Otro                 Diseño   \n",
       "3          Otro  Tecnologia / Sistemas   \n",
       "4          Otro                  Otros   \n",
       "\n",
       "                             denominacion_empresa  \n",
       "0                             RIBEIRO SUC. FLORES  \n",
       "1              Aparatos Electricos Automaticos SA  \n",
       "2  Revista NEX IT Specialist ? Editorial Poulbert  \n",
       "3                                  Tango Software  \n",
       "4                                         Experis  "
      ]
     },
<<<<<<< HEAD
     "execution_count": 5,
=======
     "execution_count": 6,
>>>>>>> 81f42a16b4fe4d4904411576ccfe615d60a0c480
     "metadata": {},
     "output_type": "execute_result"
    }
   ],
   "source": [
    "data_ads_details_test1 = pd.read_csv('../Data/Desde15Abril/fiuba_6_avisos_detalle.csv')\n",
    "data_ads_details_test1.head()"
   ]
  },
  {
   "cell_type": "code",
<<<<<<< HEAD
   "execution_count": 6,
=======
   "execution_count": 7,
>>>>>>> 81f42a16b4fe4d4904411576ccfe615d60a0c480
   "metadata": {},
   "outputs": [
    {
     "data": {
      "text/html": [
       "<div>\n",
       "<style scoped>\n",
       "    .dataframe tbody tr th:only-of-type {\n",
       "        vertical-align: middle;\n",
       "    }\n",
       "\n",
       "    .dataframe tbody tr th {\n",
       "        vertical-align: top;\n",
       "    }\n",
       "\n",
       "    .dataframe thead th {\n",
       "        text-align: right;\n",
       "    }\n",
       "</style>\n",
       "<table border=\"1\" class=\"dataframe\">\n",
       "  <thead>\n",
       "    <tr style=\"text-align: right;\">\n",
       "      <th></th>\n",
       "      <th>idaviso</th>\n",
       "      <th>idpais</th>\n",
       "      <th>titulo</th>\n",
       "      <th>descripcion</th>\n",
       "      <th>nombre_zona</th>\n",
       "      <th>ciudad</th>\n",
       "      <th>mapacalle</th>\n",
       "      <th>tipo_de_trabajo</th>\n",
       "      <th>nivel_laboral</th>\n",
       "      <th>nombre_area</th>\n",
       "      <th>denominacion_empresa</th>\n",
       "    </tr>\n",
       "  </thead>\n",
       "  <tbody>\n",
       "    <tr>\n",
       "      <th>0</th>\n",
       "      <td>1001284385</td>\n",
       "      <td>1</td>\n",
       "      <td>Dejanos tu CV</td>\n",
       "      <td>&lt;p&gt;&lt;br /&gt;Si est&amp;aacute;s interesado en ser par...</td>\n",
       "      <td>Corrientes</td>\n",
       "      <td>NaN</td>\n",
       "      <td>NaN</td>\n",
       "      <td>Full-time</td>\n",
       "      <td>NaN</td>\n",
       "      <td>Otros</td>\n",
       "      <td>Establecimiento Las Marías</td>\n",
       "    </tr>\n",
       "    <tr>\n",
       "      <th>1</th>\n",
       "      <td>1110092955</td>\n",
       "      <td>1</td>\n",
       "      <td>para línea de producción (ref. 28376)</td>\n",
       "      <td>&lt;p&gt;Empresas vinculadas a la industria automotr...</td>\n",
       "      <td>GBA Oeste</td>\n",
       "      <td>NaN</td>\n",
       "      <td>NaN</td>\n",
       "      <td>Full-time</td>\n",
       "      <td>NaN</td>\n",
       "      <td>Producción</td>\n",
       "      <td>RANDSTAD</td>\n",
       "    </tr>\n",
       "    <tr>\n",
       "      <th>2</th>\n",
       "      <td>1110092958</td>\n",
       "      <td>1</td>\n",
       "      <td>para mantenimiento (ref. 27181)</td>\n",
       "      <td>&lt;p style=\"display: inline !important;\"&gt;Empresa...</td>\n",
       "      <td>GBA Oeste</td>\n",
       "      <td>NaN</td>\n",
       "      <td>NaN</td>\n",
       "      <td>Full-time</td>\n",
       "      <td>NaN</td>\n",
       "      <td>Mantenimiento</td>\n",
       "      <td>RANDSTAD</td>\n",
       "    </tr>\n",
       "    <tr>\n",
       "      <th>3</th>\n",
       "      <td>1110391074</td>\n",
       "      <td>1</td>\n",
       "      <td>Trabajá con nosotros</td>\n",
       "      <td>&lt;p&gt;&lt;strong&gt;Trabaj&amp;aacute; con nosotros&lt;/strong...</td>\n",
       "      <td>Cordoba</td>\n",
       "      <td>NaN</td>\n",
       "      <td>NaN</td>\n",
       "      <td>Full-time</td>\n",
       "      <td>NaN</td>\n",
       "      <td>Ingeniería  Industrial</td>\n",
       "      <td>Coca Cola Andina Argentina</td>\n",
       "    </tr>\n",
       "    <tr>\n",
       "      <th>4</th>\n",
       "      <td>1110669632</td>\n",
       "      <td>1</td>\n",
       "      <td>Técnico de Mantenimiento</td>\n",
       "      <td>&lt;p&gt;Experiencia en f&amp;aacute;bricas cosm&amp;eacute;...</td>\n",
       "      <td>GBA Oeste</td>\n",
       "      <td>NaN</td>\n",
       "      <td>, Lanús</td>\n",
       "      <td>Full-time</td>\n",
       "      <td>NaN</td>\n",
       "      <td>Mantenimiento</td>\n",
       "      <td>PLUMARI S A</td>\n",
       "    </tr>\n",
       "  </tbody>\n",
       "</table>\n",
       "</div>"
      ],
      "text/plain": [
       "      idaviso  idpais                                 titulo  \\\n",
       "0  1001284385       1                          Dejanos tu CV   \n",
       "1  1110092955       1  para línea de producción (ref. 28376)   \n",
       "2  1110092958       1        para mantenimiento (ref. 27181)   \n",
       "3  1110391074       1                   Trabajá con nosotros   \n",
       "4  1110669632       1               Técnico de Mantenimiento   \n",
       "\n",
       "                                         descripcion nombre_zona ciudad  \\\n",
       "0  <p><br />Si est&aacute;s interesado en ser par...  Corrientes    NaN   \n",
       "1  <p>Empresas vinculadas a la industria automotr...   GBA Oeste    NaN   \n",
       "2  <p style=\"display: inline !important;\">Empresa...   GBA Oeste    NaN   \n",
       "3  <p><strong>Trabaj&aacute; con nosotros</strong...     Cordoba    NaN   \n",
       "4  <p>Experiencia en f&aacute;bricas cosm&eacute;...   GBA Oeste    NaN   \n",
       "\n",
       "  mapacalle tipo_de_trabajo nivel_laboral             nombre_area  \\\n",
       "0       NaN       Full-time           NaN                   Otros   \n",
       "1       NaN       Full-time           NaN              Producción   \n",
       "2       NaN       Full-time           NaN           Mantenimiento   \n",
       "3       NaN       Full-time           NaN  Ingeniería  Industrial   \n",
       "4   , Lanús       Full-time           NaN           Mantenimiento   \n",
       "\n",
       "         denominacion_empresa  \n",
       "0  Establecimiento Las Marías  \n",
       "1                    RANDSTAD  \n",
       "2                    RANDSTAD  \n",
       "3  Coca Cola Andina Argentina  \n",
       "4                 PLUMARI S A  "
      ]
     },
<<<<<<< HEAD
     "execution_count": 6,
=======
     "execution_count": 7,
>>>>>>> 81f42a16b4fe4d4904411576ccfe615d60a0c480
     "metadata": {},
     "output_type": "execute_result"
    }
   ],
   "source": [
    "data_ads_details_test2 = pd.read_csv('../Data/Desde15Abril/fiuba_6_avisos_detalle_missing_nivel_laboral.csv')\n",
    "data_ads_details_test2.head()"
   ]
  },
  {
   "cell_type": "code",
   "execution_count": 10,
   "metadata": {},
   "outputs": [
    {
<<<<<<< HEAD
     "data": {
      "text/plain": [
       "id              100000\n",
       "idaviso         100000\n",
       "idpostulante    100000\n",
       "dtype: int64"
      ]
     },
     "execution_count": 10,
     "metadata": {},
     "output_type": "execute_result"
=======
     "ename": "FileNotFoundError",
     "evalue": "File b'../Data/Desde15Abril/test_final_100k.csv' does not exist",
     "output_type": "error",
     "traceback": [
      "\u001b[0;31m---------------------------------------------------------------------------\u001b[0m",
      "\u001b[0;31mFileNotFoundError\u001b[0m                         Traceback (most recent call last)",
      "\u001b[0;32m<ipython-input-10-05fbd40d3ac7>\u001b[0m in \u001b[0;36m<module>\u001b[0;34m()\u001b[0m\n\u001b[0;32m----> 1\u001b[0;31m \u001b[0mids_test\u001b[0m \u001b[0;34m=\u001b[0m \u001b[0mpd\u001b[0m\u001b[0;34m.\u001b[0m\u001b[0mread_csv\u001b[0m\u001b[0;34m(\u001b[0m\u001b[0;34m'../Data/Desde15Abril/test_final_100k.csv'\u001b[0m\u001b[0;34m)\u001b[0m\u001b[0;34m\u001b[0m\u001b[0m\n\u001b[0m\u001b[1;32m      2\u001b[0m \u001b[0mids_test\u001b[0m\u001b[0;34m.\u001b[0m\u001b[0mcount\u001b[0m\u001b[0;34m(\u001b[0m\u001b[0;34m)\u001b[0m\u001b[0;34m\u001b[0m\u001b[0m\n",
      "\u001b[0;32m/usr/local/lib/python3.5/dist-packages/pandas/io/parsers.py\u001b[0m in \u001b[0;36mparser_f\u001b[0;34m(filepath_or_buffer, sep, delimiter, header, names, index_col, usecols, squeeze, prefix, mangle_dupe_cols, dtype, engine, converters, true_values, false_values, skipinitialspace, skiprows, nrows, na_values, keep_default_na, na_filter, verbose, skip_blank_lines, parse_dates, infer_datetime_format, keep_date_col, date_parser, dayfirst, iterator, chunksize, compression, thousands, decimal, lineterminator, quotechar, quoting, escapechar, comment, encoding, dialect, tupleize_cols, error_bad_lines, warn_bad_lines, skipfooter, skip_footer, doublequote, delim_whitespace, as_recarray, compact_ints, use_unsigned, low_memory, buffer_lines, memory_map, float_precision)\u001b[0m\n\u001b[1;32m    707\u001b[0m                     skip_blank_lines=skip_blank_lines)\n\u001b[1;32m    708\u001b[0m \u001b[0;34m\u001b[0m\u001b[0m\n\u001b[0;32m--> 709\u001b[0;31m         \u001b[0;32mreturn\u001b[0m \u001b[0m_read\u001b[0m\u001b[0;34m(\u001b[0m\u001b[0mfilepath_or_buffer\u001b[0m\u001b[0;34m,\u001b[0m \u001b[0mkwds\u001b[0m\u001b[0;34m)\u001b[0m\u001b[0;34m\u001b[0m\u001b[0m\n\u001b[0m\u001b[1;32m    710\u001b[0m \u001b[0;34m\u001b[0m\u001b[0m\n\u001b[1;32m    711\u001b[0m     \u001b[0mparser_f\u001b[0m\u001b[0;34m.\u001b[0m\u001b[0m__name__\u001b[0m \u001b[0;34m=\u001b[0m \u001b[0mname\u001b[0m\u001b[0;34m\u001b[0m\u001b[0m\n",
      "\u001b[0;32m/usr/local/lib/python3.5/dist-packages/pandas/io/parsers.py\u001b[0m in \u001b[0;36m_read\u001b[0;34m(filepath_or_buffer, kwds)\u001b[0m\n\u001b[1;32m    447\u001b[0m \u001b[0;34m\u001b[0m\u001b[0m\n\u001b[1;32m    448\u001b[0m     \u001b[0;31m# Create the parser.\u001b[0m\u001b[0;34m\u001b[0m\u001b[0;34m\u001b[0m\u001b[0m\n\u001b[0;32m--> 449\u001b[0;31m     \u001b[0mparser\u001b[0m \u001b[0;34m=\u001b[0m \u001b[0mTextFileReader\u001b[0m\u001b[0;34m(\u001b[0m\u001b[0mfilepath_or_buffer\u001b[0m\u001b[0;34m,\u001b[0m \u001b[0;34m**\u001b[0m\u001b[0mkwds\u001b[0m\u001b[0;34m)\u001b[0m\u001b[0;34m\u001b[0m\u001b[0m\n\u001b[0m\u001b[1;32m    450\u001b[0m \u001b[0;34m\u001b[0m\u001b[0m\n\u001b[1;32m    451\u001b[0m     \u001b[0;32mif\u001b[0m \u001b[0mchunksize\u001b[0m \u001b[0;32mor\u001b[0m \u001b[0miterator\u001b[0m\u001b[0;34m:\u001b[0m\u001b[0;34m\u001b[0m\u001b[0m\n",
      "\u001b[0;32m/usr/local/lib/python3.5/dist-packages/pandas/io/parsers.py\u001b[0m in \u001b[0;36m__init__\u001b[0;34m(self, f, engine, **kwds)\u001b[0m\n\u001b[1;32m    816\u001b[0m             \u001b[0mself\u001b[0m\u001b[0;34m.\u001b[0m\u001b[0moptions\u001b[0m\u001b[0;34m[\u001b[0m\u001b[0;34m'has_index_names'\u001b[0m\u001b[0;34m]\u001b[0m \u001b[0;34m=\u001b[0m \u001b[0mkwds\u001b[0m\u001b[0;34m[\u001b[0m\u001b[0;34m'has_index_names'\u001b[0m\u001b[0;34m]\u001b[0m\u001b[0;34m\u001b[0m\u001b[0m\n\u001b[1;32m    817\u001b[0m \u001b[0;34m\u001b[0m\u001b[0m\n\u001b[0;32m--> 818\u001b[0;31m         \u001b[0mself\u001b[0m\u001b[0;34m.\u001b[0m\u001b[0m_make_engine\u001b[0m\u001b[0;34m(\u001b[0m\u001b[0mself\u001b[0m\u001b[0;34m.\u001b[0m\u001b[0mengine\u001b[0m\u001b[0;34m)\u001b[0m\u001b[0;34m\u001b[0m\u001b[0m\n\u001b[0m\u001b[1;32m    819\u001b[0m \u001b[0;34m\u001b[0m\u001b[0m\n\u001b[1;32m    820\u001b[0m     \u001b[0;32mdef\u001b[0m \u001b[0mclose\u001b[0m\u001b[0;34m(\u001b[0m\u001b[0mself\u001b[0m\u001b[0;34m)\u001b[0m\u001b[0;34m:\u001b[0m\u001b[0;34m\u001b[0m\u001b[0m\n",
      "\u001b[0;32m/usr/local/lib/python3.5/dist-packages/pandas/io/parsers.py\u001b[0m in \u001b[0;36m_make_engine\u001b[0;34m(self, engine)\u001b[0m\n\u001b[1;32m   1047\u001b[0m     \u001b[0;32mdef\u001b[0m \u001b[0m_make_engine\u001b[0m\u001b[0;34m(\u001b[0m\u001b[0mself\u001b[0m\u001b[0;34m,\u001b[0m \u001b[0mengine\u001b[0m\u001b[0;34m=\u001b[0m\u001b[0;34m'c'\u001b[0m\u001b[0;34m)\u001b[0m\u001b[0;34m:\u001b[0m\u001b[0;34m\u001b[0m\u001b[0m\n\u001b[1;32m   1048\u001b[0m         \u001b[0;32mif\u001b[0m \u001b[0mengine\u001b[0m \u001b[0;34m==\u001b[0m \u001b[0;34m'c'\u001b[0m\u001b[0;34m:\u001b[0m\u001b[0;34m\u001b[0m\u001b[0m\n\u001b[0;32m-> 1049\u001b[0;31m             \u001b[0mself\u001b[0m\u001b[0;34m.\u001b[0m\u001b[0m_engine\u001b[0m \u001b[0;34m=\u001b[0m \u001b[0mCParserWrapper\u001b[0m\u001b[0;34m(\u001b[0m\u001b[0mself\u001b[0m\u001b[0;34m.\u001b[0m\u001b[0mf\u001b[0m\u001b[0;34m,\u001b[0m \u001b[0;34m**\u001b[0m\u001b[0mself\u001b[0m\u001b[0;34m.\u001b[0m\u001b[0moptions\u001b[0m\u001b[0;34m)\u001b[0m\u001b[0;34m\u001b[0m\u001b[0m\n\u001b[0m\u001b[1;32m   1050\u001b[0m         \u001b[0;32melse\u001b[0m\u001b[0;34m:\u001b[0m\u001b[0;34m\u001b[0m\u001b[0m\n\u001b[1;32m   1051\u001b[0m             \u001b[0;32mif\u001b[0m \u001b[0mengine\u001b[0m \u001b[0;34m==\u001b[0m \u001b[0;34m'python'\u001b[0m\u001b[0;34m:\u001b[0m\u001b[0;34m\u001b[0m\u001b[0m\n",
      "\u001b[0;32m/usr/local/lib/python3.5/dist-packages/pandas/io/parsers.py\u001b[0m in \u001b[0;36m__init__\u001b[0;34m(self, src, **kwds)\u001b[0m\n\u001b[1;32m   1693\u001b[0m         \u001b[0mkwds\u001b[0m\u001b[0;34m[\u001b[0m\u001b[0;34m'allow_leading_cols'\u001b[0m\u001b[0;34m]\u001b[0m \u001b[0;34m=\u001b[0m \u001b[0mself\u001b[0m\u001b[0;34m.\u001b[0m\u001b[0mindex_col\u001b[0m \u001b[0;32mis\u001b[0m \u001b[0;32mnot\u001b[0m \u001b[0;32mFalse\u001b[0m\u001b[0;34m\u001b[0m\u001b[0m\n\u001b[1;32m   1694\u001b[0m \u001b[0;34m\u001b[0m\u001b[0m\n\u001b[0;32m-> 1695\u001b[0;31m         \u001b[0mself\u001b[0m\u001b[0;34m.\u001b[0m\u001b[0m_reader\u001b[0m \u001b[0;34m=\u001b[0m \u001b[0mparsers\u001b[0m\u001b[0;34m.\u001b[0m\u001b[0mTextReader\u001b[0m\u001b[0;34m(\u001b[0m\u001b[0msrc\u001b[0m\u001b[0;34m,\u001b[0m \u001b[0;34m**\u001b[0m\u001b[0mkwds\u001b[0m\u001b[0;34m)\u001b[0m\u001b[0;34m\u001b[0m\u001b[0m\n\u001b[0m\u001b[1;32m   1696\u001b[0m \u001b[0;34m\u001b[0m\u001b[0m\n\u001b[1;32m   1697\u001b[0m         \u001b[0;31m# XXX\u001b[0m\u001b[0;34m\u001b[0m\u001b[0;34m\u001b[0m\u001b[0m\n",
      "\u001b[0;32mpandas/_libs/parsers.pyx\u001b[0m in \u001b[0;36mpandas._libs.parsers.TextReader.__cinit__\u001b[0;34m()\u001b[0m\n",
      "\u001b[0;32mpandas/_libs/parsers.pyx\u001b[0m in \u001b[0;36mpandas._libs.parsers.TextReader._setup_parser_source\u001b[0;34m()\u001b[0m\n",
      "\u001b[0;31mFileNotFoundError\u001b[0m: File b'../Data/Desde15Abril/test_final_100k.csv' does not exist"
     ]
>>>>>>> 81f42a16b4fe4d4904411576ccfe615d60a0c480
    }
   ],
   "source": [
    "ids_test = pd.read_csv('../Data/Desde15Abril/test_final_100k.csv')\n",
    "ids_test.count()"
   ]
  },
  {
   "cell_type": "code",
<<<<<<< HEAD
   "execution_count": 11,
=======
   "execution_count": 9,
>>>>>>> 81f42a16b4fe4d4904411576ccfe615d60a0c480
   "metadata": {},
   "outputs": [
    {
     "data": {
      "text/html": [
       "<div>\n",
       "<style scoped>\n",
       "    .dataframe tbody tr th:only-of-type {\n",
       "        vertical-align: middle;\n",
       "    }\n",
       "\n",
       "    .dataframe tbody tr th {\n",
       "        vertical-align: top;\n",
       "    }\n",
       "\n",
       "    .dataframe thead th {\n",
       "        text-align: right;\n",
       "    }\n",
       "</style>\n",
       "<table border=\"1\" class=\"dataframe\">\n",
       "  <thead>\n",
       "    <tr style=\"text-align: right;\">\n",
       "      <th></th>\n",
       "      <th>idaviso</th>\n",
       "      <th>idpais</th>\n",
       "      <th>titulo</th>\n",
       "      <th>descripcion</th>\n",
       "      <th>nombre_zona</th>\n",
       "      <th>ciudad</th>\n",
       "      <th>mapacalle</th>\n",
       "      <th>tipo_de_trabajo</th>\n",
       "      <th>nivel_laboral</th>\n",
       "      <th>nombre_area</th>\n",
       "      <th>denominacion_empresa</th>\n",
       "    </tr>\n",
       "  </thead>\n",
       "  <tbody>\n",
       "    <tr>\n",
       "      <th>0</th>\n",
       "      <td>1573840</td>\n",
       "      <td>1</td>\n",
       "      <td>VENDEDORA/O</td>\n",
       "      <td>Nuestra Búsqueda se orienta a la incorporación...</td>\n",
       "      <td>Capital Federal</td>\n",
       "      <td>Flores</td>\n",
       "      <td>NaN</td>\n",
       "      <td>Full-time</td>\n",
       "      <td>Otro</td>\n",
       "      <td>Ventas</td>\n",
       "      <td>RIBEIRO SUC. FLORES</td>\n",
       "    </tr>\n",
       "    <tr>\n",
       "      <th>1</th>\n",
       "      <td>1712970</td>\n",
       "      <td>1</td>\n",
       "      <td>INGENIERO DE PRODUCTO</td>\n",
       "      <td>INGENIERO ELECTRICISTA/ELECTRONICO CON CONOCIM...</td>\n",
       "      <td>Capital Federal</td>\n",
       "      <td>NaN</td>\n",
       "      <td>NaN</td>\n",
       "      <td>Full-time</td>\n",
       "      <td>Otro</td>\n",
       "      <td>Otras Ingenierias</td>\n",
       "      <td>Aparatos Electricos Automaticos SA</td>\n",
       "    </tr>\n",
       "    <tr>\n",
       "      <th>2</th>\n",
       "      <td>1719970</td>\n",
       "      <td>1</td>\n",
       "      <td>** Diseñadores/as Gráficos Quark Express **</td>\n",
       "      <td>Diseñadores/as Gráficos Quark Express para Rev...</td>\n",
       "      <td>Capital Federal</td>\n",
       "      <td>NaN</td>\n",
       "      <td>NaN</td>\n",
       "      <td>Full-time</td>\n",
       "      <td>Otro</td>\n",
       "      <td>Diseño</td>\n",
       "      <td>Revista NEX IT Specialist ? Editorial Poulbert</td>\n",
       "    </tr>\n",
       "    <tr>\n",
       "      <th>3</th>\n",
       "      <td>1720060</td>\n",
       "      <td>1</td>\n",
       "      <td>Soporte Tecnico</td>\n",
       "      <td>Estudiante de Sistemas (Lic. en Sistemas de la...</td>\n",
       "      <td>Capital Federal</td>\n",
       "      <td>NaN</td>\n",
       "      <td>NaN</td>\n",
       "      <td>Full-time</td>\n",
       "      <td>Otro</td>\n",
       "      <td>Tecnologia / Sistemas</td>\n",
       "      <td>Tango Software</td>\n",
       "    </tr>\n",
       "    <tr>\n",
       "      <th>4</th>\n",
       "      <td>1720280</td>\n",
       "      <td>1</td>\n",
       "      <td>ADSCRIPTO DE GERENCIA</td>\n",
       "      <td>Importante Organización Académica Empresarial\\...</td>\n",
       "      <td>Buenos Aires (fuera de GBA)</td>\n",
       "      <td>NaN</td>\n",
       "      <td>NaN</td>\n",
       "      <td>Full-time</td>\n",
       "      <td>Otro</td>\n",
       "      <td>Otros</td>\n",
       "      <td>Experis</td>\n",
       "    </tr>\n",
       "  </tbody>\n",
       "</table>\n",
       "</div>"
      ],
      "text/plain": [
       "   idaviso  idpais                                       titulo  \\\n",
       "0  1573840       1                                  VENDEDORA/O   \n",
       "1  1712970       1                        INGENIERO DE PRODUCTO   \n",
       "2  1719970       1  ** Diseñadores/as Gráficos Quark Express **   \n",
       "3  1720060       1                              Soporte Tecnico   \n",
       "4  1720280       1                        ADSCRIPTO DE GERENCIA   \n",
       "\n",
       "                                         descripcion  \\\n",
       "0  Nuestra Búsqueda se orienta a la incorporación...   \n",
       "1  INGENIERO ELECTRICISTA/ELECTRONICO CON CONOCIM...   \n",
       "2  Diseñadores/as Gráficos Quark Express para Rev...   \n",
       "3  Estudiante de Sistemas (Lic. en Sistemas de la...   \n",
       "4  Importante Organización Académica Empresarial\\...   \n",
       "\n",
       "                   nombre_zona  ciudad mapacalle tipo_de_trabajo  \\\n",
       "0              Capital Federal  Flores       NaN       Full-time   \n",
       "1              Capital Federal     NaN       NaN       Full-time   \n",
       "2              Capital Federal     NaN       NaN       Full-time   \n",
       "3              Capital Federal     NaN       NaN       Full-time   \n",
       "4  Buenos Aires (fuera de GBA)     NaN       NaN       Full-time   \n",
       "\n",
       "  nivel_laboral            nombre_area  \\\n",
       "0          Otro                 Ventas   \n",
       "1          Otro      Otras Ingenierias   \n",
       "2          Otro                 Diseño   \n",
       "3          Otro  Tecnologia / Sistemas   \n",
       "4          Otro                  Otros   \n",
       "\n",
       "                             denominacion_empresa  \n",
       "0                             RIBEIRO SUC. FLORES  \n",
       "1              Aparatos Electricos Automaticos SA  \n",
       "2  Revista NEX IT Specialist ? Editorial Poulbert  \n",
       "3                                  Tango Software  \n",
       "4                                         Experis  "
      ]
     },
<<<<<<< HEAD
     "execution_count": 11,
=======
     "execution_count": 9,
>>>>>>> 81f42a16b4fe4d4904411576ccfe615d60a0c480
     "metadata": {},
     "output_type": "execute_result"
    }
   ],
   "source": [
    "#Uno los datos faltantes con los detalles de los avisos\n",
    "frames_details = [data_ads_details_test1,data_ads_details_test2]\n",
    "data_ads_details_test = pd.concat(frames_details, ignore_index = True)\n",
    "data_ads_details_test.drop_duplicates(inplace = True, keep = 'first')\n",
<<<<<<< HEAD
=======
    "#data_ads_details_test.drop(['Unnamed: 11','Unnamed: 12','Unnamed: 13'],1,inplace=True)\n",
>>>>>>> 81f42a16b4fe4d4904411576ccfe615d60a0c480
    "data_ads_details_test.reset_index(drop=True, inplace = True)\n",
    "data_ads_details_test.head()"
   ]
  },
  {
   "cell_type": "code",
<<<<<<< HEAD
   "execution_count": 13,
=======
   "execution_count": 10,
>>>>>>> 81f42a16b4fe4d4904411576ccfe615d60a0c480
   "metadata": {},
   "outputs": [
    {
     "name": "stderr",
     "output_type": "stream",
     "text": [
      "/home/agustin/.local/lib/python3.5/site-packages/IPython/core/interactiveshell.py:2728: DtypeWarning: Columns (1,2) have mixed types. Specify dtype option on import or set low_memory=False.\n",
      "  interactivity=interactivity, compiler=compiler, result=result)\n"
     ]
    }
   ],
   "source": [
<<<<<<< HEAD
    "merge_postulants_info = pd.read_csv('../DataAnalysis/postulantes.csv')"
=======
    "merge_postulants_info = pd.read_csv('postulantes.csv')"
>>>>>>> 81f42a16b4fe4d4904411576ccfe615d60a0c480
   ]
  },
  {
   "cell_type": "code",
<<<<<<< HEAD
   "execution_count": 14,
=======
   "execution_count": 11,
>>>>>>> 81f42a16b4fe4d4904411576ccfe615d60a0c480
   "metadata": {},
   "outputs": [],
   "source": [
    "#Mergeo los data frames sobre la informacion de edad y sexo y educacion del postulante del postulante con \n",
    "# Y lo paso a un csv\n",
    "\n",
    "merge_postulants_info_test = data_postulant_education_test.merge(data_postulant_sex_age_test,on = 'idpostulante', how = 'right')\n",
    "#merge_postulants_info.to_csv(\"postulantes.csv\", index=False)"
   ]
  },
  {
   "cell_type": "code",
<<<<<<< HEAD
   "execution_count": 15,
=======
   "execution_count": 12,
>>>>>>> 81f42a16b4fe4d4904411576ccfe615d60a0c480
   "metadata": {},
   "outputs": [
    {
     "data": {
      "text/plain": [
       "idpostulante       281385\n",
       "nombre             253688\n",
       "estado             253688\n",
       "nombre_sort        253688\n",
       "fechanacimiento    268482\n",
       "sexo               281385\n",
       "dtype: int64"
      ]
     },
<<<<<<< HEAD
     "execution_count": 15,
=======
     "execution_count": 12,
>>>>>>> 81f42a16b4fe4d4904411576ccfe615d60a0c480
     "metadata": {},
     "output_type": "execute_result"
    }
   ],
   "source": [
    "merge_postulants_info_test.count()"
   ]
  },
  {
   "cell_type": "code",
<<<<<<< HEAD
   "execution_count": 16,
=======
   "execution_count": 13,
>>>>>>> 81f42a16b4fe4d4904411576ccfe615d60a0c480
   "metadata": {},
   "outputs": [
    {
     "data": {
      "text/plain": [
       "idpostulante       504407\n",
       "nombre             447121\n",
       "estado             447121\n",
       "nombre_sort        447121\n",
       "fechanacimiento    477724\n",
       "sexo               504407\n",
       "dtype: int64"
      ]
     },
<<<<<<< HEAD
     "execution_count": 16,
=======
     "execution_count": 13,
>>>>>>> 81f42a16b4fe4d4904411576ccfe615d60a0c480
     "metadata": {},
     "output_type": "execute_result"
    }
   ],
   "source": [
    "frames_postulants = [merge_postulants_info,merge_postulants_info_test]\n",
    "merge_postulants_total = pd.concat(frames_postulants)\n",
    "merge_postulants_total.drop_duplicates(inplace = True, keep = 'first',subset = 'idpostulante')\n",
    "merge_postulants_total.count()"
   ]
  },
  {
   "cell_type": "code",
<<<<<<< HEAD
   "execution_count": 17,
=======
   "execution_count": 16,
>>>>>>> 81f42a16b4fe4d4904411576ccfe615d60a0c480
   "metadata": {},
   "outputs": [
    {
     "data": {
      "text/plain": [
       "id                 100000\n",
       "idaviso            100000\n",
       "idpostulante       100000\n",
       "nombre              94266\n",
       "estado              94266\n",
       "nombre_sort         94266\n",
       "fechanacimiento     97043\n",
       "sexo               100000\n",
       "dtype: int64"
      ]
     },
<<<<<<< HEAD
     "execution_count": 17,
=======
     "execution_count": 16,
>>>>>>> 81f42a16b4fe4d4904411576ccfe615d60a0c480
     "metadata": {},
     "output_type": "execute_result"
    }
   ],
   "source": [
    "merge_postulants_test = ids_test.merge(merge_postulants_total, how = 'left', on = 'idpostulante')\n",
    "merge_postulants_test.drop_duplicates(inplace = True, keep = 'first')\n",
    "merge_postulants_test.count()"
   ]
  },
  {
   "cell_type": "code",
<<<<<<< HEAD
   "execution_count": 18,
=======
   "execution_count": 17,
>>>>>>> 81f42a16b4fe4d4904411576ccfe615d60a0c480
   "metadata": {},
   "outputs": [
    {
     "data": {
      "text/plain": [
       "id                      100000\n",
       "idaviso                 100000\n",
       "idpostulante            100000\n",
       "nombre                   94266\n",
       "estado                   94266\n",
       "nombre_sort              94266\n",
       "fechanacimiento          97043\n",
       "sexo                    100000\n",
       "idpais                   99988\n",
       "titulo                   99988\n",
       "descripcion              99988\n",
       "nombre_zona              99988\n",
       "ciudad                     802\n",
       "mapacalle                10730\n",
       "tipo_de_trabajo          99988\n",
       "nivel_laboral            95557\n",
       "nombre_area              99988\n",
       "denominacion_empresa     99976\n",
       "dtype: int64"
      ]
     },
<<<<<<< HEAD
     "execution_count": 18,
=======
     "execution_count": 17,
>>>>>>> 81f42a16b4fe4d4904411576ccfe615d60a0c480
     "metadata": {},
     "output_type": "execute_result"
    }
   ],
   "source": [
    "# Mergeo los datos de los postulantes con los avisos y lo paso a un csv\n",
    "merge_postulants_ads_test = merge_postulants_test.merge(data_ads_details_test,on = 'idaviso',how = 'left')\n",
    "merge_postulants_ads_test.count()"
   ]
  },
  {
   "cell_type": "code",
   "execution_count": null,
   "metadata": {},
   "outputs": [],
   "source": [
    "#merge_postulants_ads_test['se_postulo'] es lo que tenemos que predecir"
   ]
  },
  {
   "cell_type": "code",
   "execution_count": 18,
   "metadata": {},
   "outputs": [],
   "source": [
    "merge_postulants_ads_test.to_csv(\"100k_info_predecir.csv\", index=False)"
   ]
  },
  {
   "cell_type": "code",
   "execution_count": null,
   "metadata": {},
   "outputs": [],
   "source": []
  }
 ],
 "metadata": {
  "kernelspec": {
   "display_name": "Python 3",
   "language": "python",
   "name": "python3"
  },
  "language_info": {
   "codemirror_mode": {
    "name": "ipython",
    "version": 3
   },
   "file_extension": ".py",
   "mimetype": "text/x-python",
   "name": "python",
   "nbconvert_exporter": "python",
   "pygments_lexer": "ipython3",
   "version": "3.5.2"
  }
 },
 "nbformat": 4,
 "nbformat_minor": 2
}
